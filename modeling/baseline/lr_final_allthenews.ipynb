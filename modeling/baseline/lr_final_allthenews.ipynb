{
 "cells": [
  {
   "cell_type": "markdown",
   "metadata": {},
   "source": [
    "### Baseline Text Classification Model for All the News Dataset\n",
    "Goal: Predict the classification of news articles based on their section labels. For our baseline model, we will start with a dataset of 25K articles distributed across five categories: business, sports, technology, healthcare, and movies."
   ]
  },
  {
   "cell_type": "markdown",
   "metadata": {},
   "source": [
    "### Import librarires"
   ]
  },
  {
   "cell_type": "code",
   "execution_count": 1,
   "metadata": {},
   "outputs": [
    {
     "name": "stderr",
     "output_type": "stream",
     "text": [
      "[nltk_data] Downloading package stopwords to\n",
      "[nltk_data]     /Users/curtispond/nltk_data...\n",
      "[nltk_data]   Package stopwords is already up-to-date!\n",
      "[nltk_data] Downloading package wordnet to\n",
      "[nltk_data]     /Users/curtispond/nltk_data...\n",
      "[nltk_data]   Package wordnet is already up-to-date!\n"
     ]
    }
   ],
   "source": [
    "import pandas as pd\n",
    "import matplotlib.pyplot as plt\n",
    "import numpy as np\n",
    "import seaborn as sns\n",
    "import nltk\n",
    "import re\n",
    "from nltk.corpus import stopwords\n",
    "nltk.download('stopwords')\n",
    "from nltk.stem import WordNetLemmatizer\n",
    "nltk.download('wordnet')\n",
    "from nltk.stem import PorterStemmer\n",
    "from sklearn.feature_extraction.text import CountVectorizer\n",
    "from sklearn.feature_extraction.text import TfidfVectorizer\n",
    "from sklearn.model_selection import train_test_split\n",
    "from sklearn.metrics import accuracy_score, confusion_matrix, classification_report\n",
    "from sklearn.naive_bayes import MultinomialNB\n",
    "from sklearn.linear_model import LogisticRegression\n",
    "from sklearn.svm import SVC, LinearSVC\n",
    "from sklearn.ensemble import RandomForestClassifier\n",
    "from sklearn.tree import DecisionTreeClassifier\n",
    "from sklearn.neighbors import KNeighborsClassifier\n",
    "from sklearn.metrics import make_scorer, roc_auc_score, roc_curve, auc\n",
    "import spacy\n",
    "from sklearn.metrics import f1_score\n",
    "import sklearn"
   ]
  },
  {
   "cell_type": "code",
   "execution_count": 2,
   "metadata": {},
   "outputs": [
    {
     "name": "stdout",
     "output_type": "stream",
     "text": [
      "1.1.1\n"
     ]
    }
   ],
   "source": [
    "#Print the version of Sklearn\n",
    "print(sklearn.__version__)"
   ]
  },
  {
   "cell_type": "markdown",
   "metadata": {},
   "source": [
    "### Load and inspect the data"
   ]
  },
  {
   "cell_type": "code",
   "execution_count": 3,
   "metadata": {},
   "outputs": [
    {
     "name": "stdout",
     "output_type": "stream",
     "text": [
      "<class 'pandas.core.frame.DataFrame'>\n",
      "RangeIndex: 100000 entries, 0 to 99999\n",
      "Data columns (total 11 columns):\n",
      " #   Column          Non-Null Count   Dtype \n",
      "---  ------          --------------   ----- \n",
      " 0   date            100000 non-null  object\n",
      " 1   year            100000 non-null  int64 \n",
      " 2   month           100000 non-null  object\n",
      " 3   day             100000 non-null  int64 \n",
      " 4   title           100000 non-null  object\n",
      " 5   article         100000 non-null  object\n",
      " 6   section         100000 non-null  object\n",
      " 7   publication     100000 non-null  object\n",
      " 8   word_count      100000 non-null  int64 \n",
      " 9   char_count      100000 non-null  int64 \n",
      " 10  sentence_count  100000 non-null  int64 \n",
      "dtypes: int64(5), object(6)\n",
      "memory usage: 8.4+ MB\n"
     ]
    }
   ],
   "source": [
    "df = pd.read_csv('./data/all-the-news-100k.csv')\n",
    "df.info()"
   ]
  },
  {
   "cell_type": "code",
   "execution_count": 4,
   "metadata": {},
   "outputs": [],
   "source": [
    "# Convert the date column to datetime\n",
    "df['date'] = pd.to_datetime(df['date'])"
   ]
  },
  {
   "cell_type": "code",
   "execution_count": 5,
   "metadata": {},
   "outputs": [
    {
     "data": {
      "text/html": [
       "<div>\n",
       "<style scoped>\n",
       "    .dataframe tbody tr th:only-of-type {\n",
       "        vertical-align: middle;\n",
       "    }\n",
       "\n",
       "    .dataframe tbody tr th {\n",
       "        vertical-align: top;\n",
       "    }\n",
       "\n",
       "    .dataframe thead th {\n",
       "        text-align: right;\n",
       "    }\n",
       "</style>\n",
       "<table border=\"1\" class=\"dataframe\">\n",
       "  <thead>\n",
       "    <tr style=\"text-align: right;\">\n",
       "      <th></th>\n",
       "      <th>date</th>\n",
       "      <th>year</th>\n",
       "      <th>month</th>\n",
       "      <th>day</th>\n",
       "      <th>title</th>\n",
       "      <th>article</th>\n",
       "      <th>section</th>\n",
       "      <th>publication</th>\n",
       "      <th>word_count</th>\n",
       "      <th>char_count</th>\n",
       "      <th>sentence_count</th>\n",
       "    </tr>\n",
       "  </thead>\n",
       "  <tbody>\n",
       "    <tr>\n",
       "      <th>0</th>\n",
       "      <td>2019-06-17 00:00:00</td>\n",
       "      <td>2019</td>\n",
       "      <td>Jun</td>\n",
       "      <td>17</td>\n",
       "      <td>ECB's Coeure: If we decide to cut rates, we'd ...</td>\n",
       "      <td>BERLIN, June 17 (Reuters) - ECB board member B...</td>\n",
       "      <td>financials</td>\n",
       "      <td>Reuters</td>\n",
       "      <td>133</td>\n",
       "      <td>654</td>\n",
       "      <td>4</td>\n",
       "    </tr>\n",
       "    <tr>\n",
       "      <th>1</th>\n",
       "      <td>2018-05-02 17:09:00</td>\n",
       "      <td>2018</td>\n",
       "      <td>May</td>\n",
       "      <td>2</td>\n",
       "      <td>You Can Trick Your Brain Into Being More Focused</td>\n",
       "      <td>If only every day could be like this. You can’...</td>\n",
       "      <td>healthcare</td>\n",
       "      <td>Vice</td>\n",
       "      <td>1810</td>\n",
       "      <td>8506</td>\n",
       "      <td>84</td>\n",
       "    </tr>\n",
       "    <tr>\n",
       "      <th>2</th>\n",
       "      <td>2019-06-23 00:00:00</td>\n",
       "      <td>2019</td>\n",
       "      <td>Jun</td>\n",
       "      <td>23</td>\n",
       "      <td>Hudson's Bay's chairman's buyout bid pits reta...</td>\n",
       "      <td>(Reuters) - The success of Hudson’s Bay Co Exe...</td>\n",
       "      <td>business</td>\n",
       "      <td>Reuters</td>\n",
       "      <td>890</td>\n",
       "      <td>4428</td>\n",
       "      <td>33</td>\n",
       "    </tr>\n",
       "    <tr>\n",
       "      <th>3</th>\n",
       "      <td>2018-12-28 00:00:00</td>\n",
       "      <td>2018</td>\n",
       "      <td>Dec</td>\n",
       "      <td>28</td>\n",
       "      <td>Wells Fargo to pay $575 million in settlement ...</td>\n",
       "      <td>NEW YORK (Reuters) - Wells Fargo &amp; Co (WFC.N) ...</td>\n",
       "      <td>business</td>\n",
       "      <td>Reuters</td>\n",
       "      <td>405</td>\n",
       "      <td>2007</td>\n",
       "      <td>13</td>\n",
       "    </tr>\n",
       "    <tr>\n",
       "      <th>4</th>\n",
       "      <td>2019-05-21 00:00:00</td>\n",
       "      <td>2019</td>\n",
       "      <td>May</td>\n",
       "      <td>21</td>\n",
       "      <td>Factbox: Investments by automakers in the U.S....</td>\n",
       "      <td>(Reuters) - Major automakers have announced a ...</td>\n",
       "      <td>business</td>\n",
       "      <td>Reuters</td>\n",
       "      <td>954</td>\n",
       "      <td>4849</td>\n",
       "      <td>42</td>\n",
       "    </tr>\n",
       "  </tbody>\n",
       "</table>\n",
       "</div>"
      ],
      "text/plain": [
       "                 date  year month  day  \\\n",
       "0 2019-06-17 00:00:00  2019   Jun   17   \n",
       "1 2018-05-02 17:09:00  2018   May    2   \n",
       "2 2019-06-23 00:00:00  2019   Jun   23   \n",
       "3 2018-12-28 00:00:00  2018   Dec   28   \n",
       "4 2019-05-21 00:00:00  2019   May   21   \n",
       "\n",
       "                                               title  \\\n",
       "0  ECB's Coeure: If we decide to cut rates, we'd ...   \n",
       "1   You Can Trick Your Brain Into Being More Focused   \n",
       "2  Hudson's Bay's chairman's buyout bid pits reta...   \n",
       "3  Wells Fargo to pay $575 million in settlement ...   \n",
       "4  Factbox: Investments by automakers in the U.S....   \n",
       "\n",
       "                                             article     section publication  \\\n",
       "0  BERLIN, June 17 (Reuters) - ECB board member B...  financials     Reuters   \n",
       "1  If only every day could be like this. You can’...  healthcare        Vice   \n",
       "2  (Reuters) - The success of Hudson’s Bay Co Exe...    business     Reuters   \n",
       "3  NEW YORK (Reuters) - Wells Fargo & Co (WFC.N) ...    business     Reuters   \n",
       "4  (Reuters) - Major automakers have announced a ...    business     Reuters   \n",
       "\n",
       "   word_count  char_count  sentence_count  \n",
       "0         133         654               4  \n",
       "1        1810        8506              84  \n",
       "2         890        4428              33  \n",
       "3         405        2007              13  \n",
       "4         954        4849              42  "
      ]
     },
     "execution_count": 5,
     "metadata": {},
     "output_type": "execute_result"
    }
   ],
   "source": [
    "df.head()"
   ]
  },
  {
   "cell_type": "code",
   "execution_count": 6,
   "metadata": {},
   "outputs": [
    {
     "data": {
      "text/plain": [
       "date              0\n",
       "year              0\n",
       "month             0\n",
       "day               0\n",
       "title             0\n",
       "article           0\n",
       "section           0\n",
       "publication       0\n",
       "word_count        0\n",
       "char_count        0\n",
       "sentence_count    0\n",
       "dtype: int64"
      ]
     },
     "execution_count": 6,
     "metadata": {},
     "output_type": "execute_result"
    }
   ],
   "source": [
    "# How many null values are there in each column?\n",
    "df.isnull().sum()"
   ]
  },
  {
   "cell_type": "code",
   "execution_count": 7,
   "metadata": {},
   "outputs": [
    {
     "data": {
      "text/plain": [
       "<AxesSubplot:title={'center':'Artile Count by Section'}>"
      ]
     },
     "execution_count": 7,
     "metadata": {},
     "output_type": "execute_result"
    },
    {
     "data": {
      "image/png": "[encoded data removed]",
      "text/plain": [
       "<Figure size 720x504 with 1 Axes>"
      ]
     },
     "metadata": {
      "needs_background": "light"
     },
     "output_type": "display_data"
    }
   ],
   "source": [
    "# Show the number of articles in each section\n",
    "df['section'].value_counts()[:20].plot(kind='bar', figsize=(10,7), title='Artile Count by Section')"
   ]
  },
  {
   "cell_type": "code",
   "execution_count": 8,
   "metadata": {},
   "outputs": [
    {
     "data": {
      "text/html": [
       "<div>\n",
       "<style scoped>\n",
       "    .dataframe tbody tr th:only-of-type {\n",
       "        vertical-align: middle;\n",
       "    }\n",
       "\n",
       "    .dataframe tbody tr th {\n",
       "        vertical-align: top;\n",
       "    }\n",
       "\n",
       "    .dataframe thead th {\n",
       "        text-align: right;\n",
       "    }\n",
       "</style>\n",
       "<table border=\"1\" class=\"dataframe\">\n",
       "  <thead>\n",
       "    <tr style=\"text-align: right;\">\n",
       "      <th></th>\n",
       "      <th>date</th>\n",
       "      <th>year</th>\n",
       "      <th>month</th>\n",
       "      <th>day</th>\n",
       "      <th>title</th>\n",
       "      <th>article</th>\n",
       "      <th>section</th>\n",
       "      <th>publication</th>\n",
       "      <th>word_count</th>\n",
       "      <th>char_count</th>\n",
       "      <th>sentence_count</th>\n",
       "    </tr>\n",
       "  </thead>\n",
       "  <tbody>\n",
       "    <tr>\n",
       "      <th>0</th>\n",
       "      <td>2019-06-17 00:00:00</td>\n",
       "      <td>2019</td>\n",
       "      <td>Jun</td>\n",
       "      <td>17</td>\n",
       "      <td>ECB's Coeure: If we decide to cut rates, we'd ...</td>\n",
       "      <td>BERLIN, June 17 (Reuters) - ECB board member B...</td>\n",
       "      <td>other</td>\n",
       "      <td>Reuters</td>\n",
       "      <td>133</td>\n",
       "      <td>654</td>\n",
       "      <td>4</td>\n",
       "    </tr>\n",
       "    <tr>\n",
       "      <th>1</th>\n",
       "      <td>2018-05-02 17:09:00</td>\n",
       "      <td>2018</td>\n",
       "      <td>May</td>\n",
       "      <td>2</td>\n",
       "      <td>You Can Trick Your Brain Into Being More Focused</td>\n",
       "      <td>If only every day could be like this. You can’...</td>\n",
       "      <td>healthcare</td>\n",
       "      <td>Vice</td>\n",
       "      <td>1810</td>\n",
       "      <td>8506</td>\n",
       "      <td>84</td>\n",
       "    </tr>\n",
       "    <tr>\n",
       "      <th>2</th>\n",
       "      <td>2019-06-23 00:00:00</td>\n",
       "      <td>2019</td>\n",
       "      <td>Jun</td>\n",
       "      <td>23</td>\n",
       "      <td>Hudson's Bay's chairman's buyout bid pits reta...</td>\n",
       "      <td>(Reuters) - The success of Hudson’s Bay Co Exe...</td>\n",
       "      <td>other</td>\n",
       "      <td>Reuters</td>\n",
       "      <td>890</td>\n",
       "      <td>4428</td>\n",
       "      <td>33</td>\n",
       "    </tr>\n",
       "    <tr>\n",
       "      <th>3</th>\n",
       "      <td>2018-12-28 00:00:00</td>\n",
       "      <td>2018</td>\n",
       "      <td>Dec</td>\n",
       "      <td>28</td>\n",
       "      <td>Wells Fargo to pay $575 million in settlement ...</td>\n",
       "      <td>NEW YORK (Reuters) - Wells Fargo &amp; Co (WFC.N) ...</td>\n",
       "      <td>other</td>\n",
       "      <td>Reuters</td>\n",
       "      <td>405</td>\n",
       "      <td>2007</td>\n",
       "      <td>13</td>\n",
       "    </tr>\n",
       "    <tr>\n",
       "      <th>4</th>\n",
       "      <td>2019-05-21 00:00:00</td>\n",
       "      <td>2019</td>\n",
       "      <td>May</td>\n",
       "      <td>21</td>\n",
       "      <td>Factbox: Investments by automakers in the U.S....</td>\n",
       "      <td>(Reuters) - Major automakers have announced a ...</td>\n",
       "      <td>other</td>\n",
       "      <td>Reuters</td>\n",
       "      <td>954</td>\n",
       "      <td>4849</td>\n",
       "      <td>42</td>\n",
       "    </tr>\n",
       "  </tbody>\n",
       "</table>\n",
       "</div>"
      ],
      "text/plain": [
       "                 date  year month  day  \\\n",
       "0 2019-06-17 00:00:00  2019   Jun   17   \n",
       "1 2018-05-02 17:09:00  2018   May    2   \n",
       "2 2019-06-23 00:00:00  2019   Jun   23   \n",
       "3 2018-12-28 00:00:00  2018   Dec   28   \n",
       "4 2019-05-21 00:00:00  2019   May   21   \n",
       "\n",
       "                                               title  \\\n",
       "0  ECB's Coeure: If we decide to cut rates, we'd ...   \n",
       "1   You Can Trick Your Brain Into Being More Focused   \n",
       "2  Hudson's Bay's chairman's buyout bid pits reta...   \n",
       "3  Wells Fargo to pay $575 million in settlement ...   \n",
       "4  Factbox: Investments by automakers in the U.S....   \n",
       "\n",
       "                                             article     section publication  \\\n",
       "0  BERLIN, June 17 (Reuters) - ECB board member B...       other     Reuters   \n",
       "1  If only every day could be like this. You can’...  healthcare        Vice   \n",
       "2  (Reuters) - The success of Hudson’s Bay Co Exe...       other     Reuters   \n",
       "3  NEW YORK (Reuters) - Wells Fargo & Co (WFC.N) ...       other     Reuters   \n",
       "4  (Reuters) - Major automakers have announced a ...       other     Reuters   \n",
       "\n",
       "   word_count  char_count  sentence_count  \n",
       "0         133         654               4  \n",
       "1        1810        8506              84  \n",
       "2         890        4428              33  \n",
       "3         405        2007              13  \n",
       "4         954        4849              42  "
      ]
     },
     "execution_count": 8,
     "metadata": {},
     "output_type": "execute_result"
    }
   ],
   "source": [
    "# Rename financials, business, and sports to other\n",
    "df['section'] = df['section'].replace(['financials', 'business', 'sports'], 'other')\n",
    "df.head()"
   ]
  },
  {
   "cell_type": "code",
   "execution_count": 9,
   "metadata": {},
   "outputs": [
    {
     "data": {
      "text/plain": [
       "<AxesSubplot:title={'center':'Article Count by Section'}>"
      ]
     },
     "execution_count": 9,
     "metadata": {},
     "output_type": "execute_result"
    },
    {
     "data": {
      "image/png": "[encoded data removed]",
      "text/plain": [
       "<Figure size 720x504 with 1 Axes>"
      ]
     },
     "metadata": {
      "needs_background": "light"
     },
     "output_type": "display_data"
    }
   ],
   "source": [
    "# Show the number of articles in each section\n",
    "df['section'].value_counts()[:20].plot(kind='bar', figsize=(10,7), title='Article Count by Section')"
   ]
  },
  {
   "cell_type": "code",
   "execution_count": 10,
   "metadata": {},
   "outputs": [
    {
     "data": {
      "text/html": [
       "<div>\n",
       "<style scoped>\n",
       "    .dataframe tbody tr th:only-of-type {\n",
       "        vertical-align: middle;\n",
       "    }\n",
       "\n",
       "    .dataframe tbody tr th {\n",
       "        vertical-align: top;\n",
       "    }\n",
       "\n",
       "    .dataframe thead th {\n",
       "        text-align: right;\n",
       "    }\n",
       "</style>\n",
       "<table border=\"1\" class=\"dataframe\">\n",
       "  <thead>\n",
       "    <tr style=\"text-align: right;\">\n",
       "      <th></th>\n",
       "      <th>date</th>\n",
       "      <th>year</th>\n",
       "      <th>month</th>\n",
       "      <th>day</th>\n",
       "      <th>title</th>\n",
       "      <th>article</th>\n",
       "      <th>section</th>\n",
       "      <th>publication</th>\n",
       "      <th>word_count</th>\n",
       "      <th>char_count</th>\n",
       "      <th>sentence_count</th>\n",
       "    </tr>\n",
       "  </thead>\n",
       "  <tbody>\n",
       "    <tr>\n",
       "      <th>1</th>\n",
       "      <td>2018-05-02 17:09:00</td>\n",
       "      <td>2018</td>\n",
       "      <td>May</td>\n",
       "      <td>2</td>\n",
       "      <td>You Can Trick Your Brain Into Being More Focused</td>\n",
       "      <td>If only every day could be like this. You can’...</td>\n",
       "      <td>healthcare</td>\n",
       "      <td>Vice</td>\n",
       "      <td>1810</td>\n",
       "      <td>8506</td>\n",
       "      <td>84</td>\n",
       "    </tr>\n",
       "    <tr>\n",
       "      <th>3</th>\n",
       "      <td>2018-12-28 00:00:00</td>\n",
       "      <td>2018</td>\n",
       "      <td>Dec</td>\n",
       "      <td>28</td>\n",
       "      <td>Wells Fargo to pay $575 million in settlement ...</td>\n",
       "      <td>NEW YORK (Reuters) - Wells Fargo &amp; Co (WFC.N) ...</td>\n",
       "      <td>other</td>\n",
       "      <td>Reuters</td>\n",
       "      <td>405</td>\n",
       "      <td>2007</td>\n",
       "      <td>13</td>\n",
       "    </tr>\n",
       "    <tr>\n",
       "      <th>5</th>\n",
       "      <td>2019-02-05 00:00:00</td>\n",
       "      <td>2019</td>\n",
       "      <td>Feb</td>\n",
       "      <td>5</td>\n",
       "      <td>Exclusive: Britain's financial heartland unbow...</td>\n",
       "      <td>LONDON (Reuters) - Britain’s financial service...</td>\n",
       "      <td>other</td>\n",
       "      <td>Reuters</td>\n",
       "      <td>1074</td>\n",
       "      <td>4999</td>\n",
       "      <td>40</td>\n",
       "    </tr>\n",
       "    <tr>\n",
       "      <th>6</th>\n",
       "      <td>2016-12-18 16:40:00</td>\n",
       "      <td>2016</td>\n",
       "      <td>Dec</td>\n",
       "      <td>18</td>\n",
       "      <td>Nebraska Is Probably Regretting Letting Go of ...</td>\n",
       "      <td>Just over two years ago, Nebraska fired head c...</td>\n",
       "      <td>other</td>\n",
       "      <td>Vice</td>\n",
       "      <td>476</td>\n",
       "      <td>2206</td>\n",
       "      <td>21</td>\n",
       "    </tr>\n",
       "    <tr>\n",
       "      <th>12</th>\n",
       "      <td>2019-06-20 00:00:00</td>\n",
       "      <td>2019</td>\n",
       "      <td>Jun</td>\n",
       "      <td>20</td>\n",
       "      <td>Hungary has no evidence of Huawei threat, plan...</td>\n",
       "      <td>BUDAPEST (Reuters) - Hungary has no evidence t...</td>\n",
       "      <td>technology</td>\n",
       "      <td>Reuters</td>\n",
       "      <td>613</td>\n",
       "      <td>3139</td>\n",
       "      <td>24</td>\n",
       "    </tr>\n",
       "  </tbody>\n",
       "</table>\n",
       "</div>"
      ],
      "text/plain": [
       "                  date  year month  day  \\\n",
       "1  2018-05-02 17:09:00  2018   May    2   \n",
       "3  2018-12-28 00:00:00  2018   Dec   28   \n",
       "5  2019-02-05 00:00:00  2019   Feb    5   \n",
       "6  2016-12-18 16:40:00  2016   Dec   18   \n",
       "12 2019-06-20 00:00:00  2019   Jun   20   \n",
       "\n",
       "                                                title  \\\n",
       "1    You Can Trick Your Brain Into Being More Focused   \n",
       "3   Wells Fargo to pay $575 million in settlement ...   \n",
       "5   Exclusive: Britain's financial heartland unbow...   \n",
       "6   Nebraska Is Probably Regretting Letting Go of ...   \n",
       "12  Hungary has no evidence of Huawei threat, plan...   \n",
       "\n",
       "                                              article     section publication  \\\n",
       "1   If only every day could be like this. You can’...  healthcare        Vice   \n",
       "3   NEW YORK (Reuters) - Wells Fargo & Co (WFC.N) ...       other     Reuters   \n",
       "5   LONDON (Reuters) - Britain’s financial service...       other     Reuters   \n",
       "6   Just over two years ago, Nebraska fired head c...       other        Vice   \n",
       "12  BUDAPEST (Reuters) - Hungary has no evidence t...  technology     Reuters   \n",
       "\n",
       "    word_count  char_count  sentence_count  \n",
       "1         1810        8506              84  \n",
       "3          405        2007              13  \n",
       "5         1074        4999              40  \n",
       "6          476        2206              21  \n",
       "12         613        3139              24  "
      ]
     },
     "execution_count": 10,
     "metadata": {},
     "output_type": "execute_result"
    }
   ],
   "source": [
    "# Drop random sample of 40000 articles from other section\n",
    "df = df.drop(df[df['section'] == 'other'].sample(40000).index)\n",
    "df.head()"
   ]
  },
  {
   "cell_type": "code",
   "execution_count": 11,
   "metadata": {},
   "outputs": [
    {
     "data": {
      "text/plain": [
       "(60000, 11)"
      ]
     },
     "execution_count": 11,
     "metadata": {},
     "output_type": "execute_result"
    }
   ],
   "source": [
    "df.shape"
   ]
  },
  {
   "cell_type": "code",
   "execution_count": 12,
   "metadata": {},
   "outputs": [
    {
     "data": {
      "text/plain": [
       "<AxesSubplot:title={'center':'Number of articles in each section'}>"
      ]
     },
     "execution_count": 12,
     "metadata": {},
     "output_type": "execute_result"
    },
    {
     "data": {
      "image/png": "[encoded data removed]",
      "text/plain": [
       "<Figure size 720x504 with 1 Axes>"
      ]
     },
     "metadata": {
      "needs_background": "light"
     },
     "output_type": "display_data"
    }
   ],
   "source": [
    "# Show the number of articles in each section\n",
    "df['section'].value_counts()[:20].plot(kind='bar', figsize=(10,7), title='Number of articles in each section')"
   ]
  },
  {
   "cell_type": "markdown",
   "metadata": {},
   "source": [
    "### Text Classification process for baseline model"
   ]
  },
  {
   "cell_type": "markdown",
   "metadata": {},
   "source": [
    "1. Ensure the dataset is as balanced as possible (already done in dataset preparation)\n",
    "2. Process the data (remove stop words, punctuation, etc.)\n",
    "3. Create a Bag of Words feature to turn text into numbers\n",
    "3. Create training and test set\n",
    "4. Run some models and predictions"
   ]
  },
  {
   "cell_type": "markdown",
   "metadata": {},
   "source": [
    "### Prepare data for modeling on df dataset"
   ]
  },
  {
   "cell_type": "code",
   "execution_count": 13,
   "metadata": {},
   "outputs": [
    {
     "name": "stdout",
     "output_type": "stream",
     "text": [
      "['healthcare' 'other' 'technology']\n"
     ]
    }
   ],
   "source": [
    "#Convert the section column into categorical values\n",
    "target_section = df['section'].unique()\n",
    "print(target_section)"
   ]
  },
  {
   "cell_type": "code",
   "execution_count": 14,
   "metadata": {},
   "outputs": [
    {
     "data": {
      "text/html": [
       "<div>\n",
       "<style scoped>\n",
       "    .dataframe tbody tr th:only-of-type {\n",
       "        vertical-align: middle;\n",
       "    }\n",
       "\n",
       "    .dataframe tbody tr th {\n",
       "        vertical-align: top;\n",
       "    }\n",
       "\n",
       "    .dataframe thead th {\n",
       "        text-align: right;\n",
       "    }\n",
       "</style>\n",
       "<table border=\"1\" class=\"dataframe\">\n",
       "  <thead>\n",
       "    <tr style=\"text-align: right;\">\n",
       "      <th></th>\n",
       "      <th>date</th>\n",
       "      <th>year</th>\n",
       "      <th>month</th>\n",
       "      <th>day</th>\n",
       "      <th>title</th>\n",
       "      <th>article</th>\n",
       "      <th>section</th>\n",
       "      <th>publication</th>\n",
       "      <th>word_count</th>\n",
       "      <th>char_count</th>\n",
       "      <th>sentence_count</th>\n",
       "      <th>sectionId</th>\n",
       "    </tr>\n",
       "  </thead>\n",
       "  <tbody>\n",
       "    <tr>\n",
       "      <th>1</th>\n",
       "      <td>2018-05-02 17:09:00</td>\n",
       "      <td>2018</td>\n",
       "      <td>May</td>\n",
       "      <td>2</td>\n",
       "      <td>You Can Trick Your Brain Into Being More Focused</td>\n",
       "      <td>If only every day could be like this. You can’...</td>\n",
       "      <td>healthcare</td>\n",
       "      <td>Vice</td>\n",
       "      <td>1810</td>\n",
       "      <td>8506</td>\n",
       "      <td>84</td>\n",
       "      <td>0</td>\n",
       "    </tr>\n",
       "    <tr>\n",
       "      <th>3</th>\n",
       "      <td>2018-12-28 00:00:00</td>\n",
       "      <td>2018</td>\n",
       "      <td>Dec</td>\n",
       "      <td>28</td>\n",
       "      <td>Wells Fargo to pay $575 million in settlement ...</td>\n",
       "      <td>NEW YORK (Reuters) - Wells Fargo &amp; Co (WFC.N) ...</td>\n",
       "      <td>other</td>\n",
       "      <td>Reuters</td>\n",
       "      <td>405</td>\n",
       "      <td>2007</td>\n",
       "      <td>13</td>\n",
       "      <td>1</td>\n",
       "    </tr>\n",
       "    <tr>\n",
       "      <th>5</th>\n",
       "      <td>2019-02-05 00:00:00</td>\n",
       "      <td>2019</td>\n",
       "      <td>Feb</td>\n",
       "      <td>5</td>\n",
       "      <td>Exclusive: Britain's financial heartland unbow...</td>\n",
       "      <td>LONDON (Reuters) - Britain’s financial service...</td>\n",
       "      <td>other</td>\n",
       "      <td>Reuters</td>\n",
       "      <td>1074</td>\n",
       "      <td>4999</td>\n",
       "      <td>40</td>\n",
       "      <td>1</td>\n",
       "    </tr>\n",
       "    <tr>\n",
       "      <th>6</th>\n",
       "      <td>2016-12-18 16:40:00</td>\n",
       "      <td>2016</td>\n",
       "      <td>Dec</td>\n",
       "      <td>18</td>\n",
       "      <td>Nebraska Is Probably Regretting Letting Go of ...</td>\n",
       "      <td>Just over two years ago, Nebraska fired head c...</td>\n",
       "      <td>other</td>\n",
       "      <td>Vice</td>\n",
       "      <td>476</td>\n",
       "      <td>2206</td>\n",
       "      <td>21</td>\n",
       "      <td>1</td>\n",
       "    </tr>\n",
       "    <tr>\n",
       "      <th>12</th>\n",
       "      <td>2019-06-20 00:00:00</td>\n",
       "      <td>2019</td>\n",
       "      <td>Jun</td>\n",
       "      <td>20</td>\n",
       "      <td>Hungary has no evidence of Huawei threat, plan...</td>\n",
       "      <td>BUDAPEST (Reuters) - Hungary has no evidence t...</td>\n",
       "      <td>technology</td>\n",
       "      <td>Reuters</td>\n",
       "      <td>613</td>\n",
       "      <td>3139</td>\n",
       "      <td>24</td>\n",
       "      <td>2</td>\n",
       "    </tr>\n",
       "  </tbody>\n",
       "</table>\n",
       "</div>"
      ],
      "text/plain": [
       "                  date  year month  day  \\\n",
       "1  2018-05-02 17:09:00  2018   May    2   \n",
       "3  2018-12-28 00:00:00  2018   Dec   28   \n",
       "5  2019-02-05 00:00:00  2019   Feb    5   \n",
       "6  2016-12-18 16:40:00  2016   Dec   18   \n",
       "12 2019-06-20 00:00:00  2019   Jun   20   \n",
       "\n",
       "                                                title  \\\n",
       "1    You Can Trick Your Brain Into Being More Focused   \n",
       "3   Wells Fargo to pay $575 million in settlement ...   \n",
       "5   Exclusive: Britain's financial heartland unbow...   \n",
       "6   Nebraska Is Probably Regretting Letting Go of ...   \n",
       "12  Hungary has no evidence of Huawei threat, plan...   \n",
       "\n",
       "                                              article     section publication  \\\n",
       "1   If only every day could be like this. You can’...  healthcare        Vice   \n",
       "3   NEW YORK (Reuters) - Wells Fargo & Co (WFC.N) ...       other     Reuters   \n",
       "5   LONDON (Reuters) - Britain’s financial service...       other     Reuters   \n",
       "6   Just over two years ago, Nebraska fired head c...       other        Vice   \n",
       "12  BUDAPEST (Reuters) - Hungary has no evidence t...  technology     Reuters   \n",
       "\n",
       "    word_count  char_count  sentence_count  sectionId  \n",
       "1         1810        8506              84          0  \n",
       "3          405        2007              13          1  \n",
       "5         1074        4999              40          1  \n",
       "6          476        2206              21          1  \n",
       "12         613        3139              24          2  "
      ]
     },
     "execution_count": 14,
     "metadata": {},
     "output_type": "execute_result"
    }
   ],
   "source": [
    "# Convert the section column into numerical values\n",
    "df['sectionId'] = df['section'].factorize()[0]\n",
    "df.head()"
   ]
  },
  {
   "cell_type": "code",
   "execution_count": 15,
   "metadata": {},
   "outputs": [
    {
     "data": {
      "text/html": [
       "<div>\n",
       "<style scoped>\n",
       "    .dataframe tbody tr th:only-of-type {\n",
       "        vertical-align: middle;\n",
       "    }\n",
       "\n",
       "    .dataframe tbody tr th {\n",
       "        vertical-align: top;\n",
       "    }\n",
       "\n",
       "    .dataframe thead th {\n",
       "        text-align: right;\n",
       "    }\n",
       "</style>\n",
       "<table border=\"1\" class=\"dataframe\">\n",
       "  <thead>\n",
       "    <tr style=\"text-align: right;\">\n",
       "      <th></th>\n",
       "      <th>section</th>\n",
       "      <th>sectionId</th>\n",
       "    </tr>\n",
       "  </thead>\n",
       "  <tbody>\n",
       "    <tr>\n",
       "      <th>1</th>\n",
       "      <td>healthcare</td>\n",
       "      <td>0</td>\n",
       "    </tr>\n",
       "    <tr>\n",
       "      <th>3</th>\n",
       "      <td>other</td>\n",
       "      <td>1</td>\n",
       "    </tr>\n",
       "    <tr>\n",
       "      <th>12</th>\n",
       "      <td>technology</td>\n",
       "      <td>2</td>\n",
       "    </tr>\n",
       "  </tbody>\n",
       "</table>\n",
       "</div>"
      ],
      "text/plain": [
       "       section  sectionId\n",
       "1   healthcare          0\n",
       "3        other          1\n",
       "12  technology          2"
      ]
     },
     "execution_count": 15,
     "metadata": {},
     "output_type": "execute_result"
    }
   ],
   "source": [
    "# Show the category's name and id\n",
    "category_id_df = df[['section', 'sectionId']].drop_duplicates().sort_values('sectionId')\n",
    "category_id_df"
   ]
  },
  {
   "cell_type": "code",
   "execution_count": 16,
   "metadata": {},
   "outputs": [
    {
     "data": {
      "text/plain": [
       "<AxesSubplot:title={'center':'Target Sections and their Corresponding Ids'}, xlabel='section,sectionId'>"
      ]
     },
     "execution_count": 16,
     "metadata": {},
     "output_type": "execute_result"
    },
    {
     "data": {
      "image/png": "[encoded data removed]",
      "text/plain": [
       "<Figure size 720x504 with 1 Axes>"
      ]
     },
     "metadata": {
      "needs_background": "light"
     },
     "output_type": "display_data"
    }
   ],
   "source": [
    "# Visualize the number of articles in each section\n",
    "df.groupby('section').sectionId.value_counts().plot(kind='bar', \\\n",
    "    color= [\"green\", \"orange\", \"blue\", \"yellow\", \"brown\"], figsize=(10,7), title='Target Sections and their Corresponding Ids')"
   ]
  },
  {
   "cell_type": "markdown",
   "metadata": {},
   "source": [
    "### Clean the article text"
   ]
  },
  {
   "cell_type": "code",
   "execution_count": 17,
   "metadata": {},
   "outputs": [],
   "source": [
    "# Use NLTK to remove stopwords\n",
    "stop = stopwords.words('english')\n",
    "\n",
    "df['clean_article'] = df['article'].map(lambda x: ' '.join([word for word in x.split() if word not in (stop)]))"
   ]
  },
  {
   "cell_type": "code",
   "execution_count": 18,
   "metadata": {},
   "outputs": [],
   "source": [
    "import re\n",
    "import string\n",
    "def process_text(text):\n",
    "    text = str(text).lower()\n",
    "    text = re.sub(\n",
    "        f\"[{re.escape(string.punctuation)}]\", \" \", text\n",
    "    )\n",
    "    text = \" \".join(text.split())\n",
    "    return text\n",
    "\n",
    "df['text'] = df['clean_article'].apply(process_text)"
   ]
  },
  {
   "cell_type": "code",
   "execution_count": 19,
   "metadata": {},
   "outputs": [
    {
     "data": {
      "text/html": [
       "<div>\n",
       "<style scoped>\n",
       "    .dataframe tbody tr th:only-of-type {\n",
       "        vertical-align: middle;\n",
       "    }\n",
       "\n",
       "    .dataframe tbody tr th {\n",
       "        vertical-align: top;\n",
       "    }\n",
       "\n",
       "    .dataframe thead th {\n",
       "        text-align: right;\n",
       "    }\n",
       "</style>\n",
       "<table border=\"1\" class=\"dataframe\">\n",
       "  <thead>\n",
       "    <tr style=\"text-align: right;\">\n",
       "      <th></th>\n",
       "      <th>date</th>\n",
       "      <th>year</th>\n",
       "      <th>month</th>\n",
       "      <th>day</th>\n",
       "      <th>title</th>\n",
       "      <th>article</th>\n",
       "      <th>section</th>\n",
       "      <th>publication</th>\n",
       "      <th>word_count</th>\n",
       "      <th>char_count</th>\n",
       "      <th>sentence_count</th>\n",
       "      <th>sectionId</th>\n",
       "      <th>clean_article</th>\n",
       "      <th>text</th>\n",
       "    </tr>\n",
       "  </thead>\n",
       "  <tbody>\n",
       "    <tr>\n",
       "      <th>1</th>\n",
       "      <td>2018-05-02 17:09:00</td>\n",
       "      <td>2018</td>\n",
       "      <td>May</td>\n",
       "      <td>2</td>\n",
       "      <td>You Can Trick Your Brain Into Being More Focused</td>\n",
       "      <td>If only every day could be like this. You can’...</td>\n",
       "      <td>healthcare</td>\n",
       "      <td>Vice</td>\n",
       "      <td>1810</td>\n",
       "      <td>8506</td>\n",
       "      <td>84</td>\n",
       "      <td>0</td>\n",
       "      <td>If every day could like this. You can’t put fi...</td>\n",
       "      <td>if every day could like this you can’t put fin...</td>\n",
       "    </tr>\n",
       "    <tr>\n",
       "      <th>3</th>\n",
       "      <td>2018-12-28 00:00:00</td>\n",
       "      <td>2018</td>\n",
       "      <td>Dec</td>\n",
       "      <td>28</td>\n",
       "      <td>Wells Fargo to pay $575 million in settlement ...</td>\n",
       "      <td>NEW YORK (Reuters) - Wells Fargo &amp; Co (WFC.N) ...</td>\n",
       "      <td>other</td>\n",
       "      <td>Reuters</td>\n",
       "      <td>405</td>\n",
       "      <td>2007</td>\n",
       "      <td>13</td>\n",
       "      <td>1</td>\n",
       "      <td>NEW YORK (Reuters) - Wells Fargo &amp; Co (WFC.N) ...</td>\n",
       "      <td>new york reuters wells fargo co wfc n pay 575 ...</td>\n",
       "    </tr>\n",
       "    <tr>\n",
       "      <th>5</th>\n",
       "      <td>2019-02-05 00:00:00</td>\n",
       "      <td>2019</td>\n",
       "      <td>Feb</td>\n",
       "      <td>5</td>\n",
       "      <td>Exclusive: Britain's financial heartland unbow...</td>\n",
       "      <td>LONDON (Reuters) - Britain’s financial service...</td>\n",
       "      <td>other</td>\n",
       "      <td>Reuters</td>\n",
       "      <td>1074</td>\n",
       "      <td>4999</td>\n",
       "      <td>40</td>\n",
       "      <td>1</td>\n",
       "      <td>LONDON (Reuters) - Britain’s financial service...</td>\n",
       "      <td>london reuters britain’s financial services in...</td>\n",
       "    </tr>\n",
       "    <tr>\n",
       "      <th>6</th>\n",
       "      <td>2016-12-18 16:40:00</td>\n",
       "      <td>2016</td>\n",
       "      <td>Dec</td>\n",
       "      <td>18</td>\n",
       "      <td>Nebraska Is Probably Regretting Letting Go of ...</td>\n",
       "      <td>Just over two years ago, Nebraska fired head c...</td>\n",
       "      <td>other</td>\n",
       "      <td>Vice</td>\n",
       "      <td>476</td>\n",
       "      <td>2206</td>\n",
       "      <td>21</td>\n",
       "      <td>1</td>\n",
       "      <td>Just two years ago, Nebraska fired head coach ...</td>\n",
       "      <td>just two years ago nebraska fired head coach b...</td>\n",
       "    </tr>\n",
       "    <tr>\n",
       "      <th>12</th>\n",
       "      <td>2019-06-20 00:00:00</td>\n",
       "      <td>2019</td>\n",
       "      <td>Jun</td>\n",
       "      <td>20</td>\n",
       "      <td>Hungary has no evidence of Huawei threat, plan...</td>\n",
       "      <td>BUDAPEST (Reuters) - Hungary has no evidence t...</td>\n",
       "      <td>technology</td>\n",
       "      <td>Reuters</td>\n",
       "      <td>613</td>\n",
       "      <td>3139</td>\n",
       "      <td>24</td>\n",
       "      <td>2</td>\n",
       "      <td>BUDAPEST (Reuters) - Hungary evidence equipmen...</td>\n",
       "      <td>budapest reuters hungary evidence equipment ch...</td>\n",
       "    </tr>\n",
       "  </tbody>\n",
       "</table>\n",
       "</div>"
      ],
      "text/plain": [
       "                  date  year month  day  \\\n",
       "1  2018-05-02 17:09:00  2018   May    2   \n",
       "3  2018-12-28 00:00:00  2018   Dec   28   \n",
       "5  2019-02-05 00:00:00  2019   Feb    5   \n",
       "6  2016-12-18 16:40:00  2016   Dec   18   \n",
       "12 2019-06-20 00:00:00  2019   Jun   20   \n",
       "\n",
       "                                                title  \\\n",
       "1    You Can Trick Your Brain Into Being More Focused   \n",
       "3   Wells Fargo to pay $575 million in settlement ...   \n",
       "5   Exclusive: Britain's financial heartland unbow...   \n",
       "6   Nebraska Is Probably Regretting Letting Go of ...   \n",
       "12  Hungary has no evidence of Huawei threat, plan...   \n",
       "\n",
       "                                              article     section publication  \\\n",
       "1   If only every day could be like this. You can’...  healthcare        Vice   \n",
       "3   NEW YORK (Reuters) - Wells Fargo & Co (WFC.N) ...       other     Reuters   \n",
       "5   LONDON (Reuters) - Britain’s financial service...       other     Reuters   \n",
       "6   Just over two years ago, Nebraska fired head c...       other        Vice   \n",
       "12  BUDAPEST (Reuters) - Hungary has no evidence t...  technology     Reuters   \n",
       "\n",
       "    word_count  char_count  sentence_count  sectionId  \\\n",
       "1         1810        8506              84          0   \n",
       "3          405        2007              13          1   \n",
       "5         1074        4999              40          1   \n",
       "6          476        2206              21          1   \n",
       "12         613        3139              24          2   \n",
       "\n",
       "                                        clean_article  \\\n",
       "1   If every day could like this. You can’t put fi...   \n",
       "3   NEW YORK (Reuters) - Wells Fargo & Co (WFC.N) ...   \n",
       "5   LONDON (Reuters) - Britain’s financial service...   \n",
       "6   Just two years ago, Nebraska fired head coach ...   \n",
       "12  BUDAPEST (Reuters) - Hungary evidence equipmen...   \n",
       "\n",
       "                                                 text  \n",
       "1   if every day could like this you can’t put fin...  \n",
       "3   new york reuters wells fargo co wfc n pay 575 ...  \n",
       "5   london reuters britain’s financial services in...  \n",
       "6   just two years ago nebraska fired head coach b...  \n",
       "12  budapest reuters hungary evidence equipment ch...  "
      ]
     },
     "execution_count": 19,
     "metadata": {},
     "output_type": "execute_result"
    }
   ],
   "source": [
    "df.head()"
   ]
  },
  {
   "cell_type": "markdown",
   "metadata": {},
   "source": [
    "### Build models and make predictions"
   ]
  },
  {
   "cell_type": "code",
   "execution_count": 20,
   "metadata": {},
   "outputs": [],
   "source": [
    "# Split the data into training and test sets\n",
    "target = df['sectionId']\n",
    "df_train, df_test = train_test_split(df, test_size=0.20, stratify=target)"
   ]
  },
  {
   "cell_type": "code",
   "execution_count": 21,
   "metadata": {},
   "outputs": [],
   "source": [
    "vec = CountVectorizer()\n",
    "\n",
    "X_train = vec.fit_transform(df_train.text)\n",
    "X_test = vec.transform(df_test.text)\n",
    "\n",
    "y_train = df_train.sectionId\n",
    "y_test = df_test.sectionId"
   ]
  },
  {
   "cell_type": "code",
   "execution_count": null,
   "metadata": {},
   "outputs": [],
   "source": [
    "# Create a pickle file for the CountVectorizer\n",
    "import pickle5 as pickle\n",
    "pickle.dump(vec, open('count_vectorizer.pkl', 'wb'))"
   ]
  },
  {
   "cell_type": "code",
   "execution_count": 23,
   "metadata": {},
   "outputs": [
    {
     "name": "stdout",
     "output_type": "stream",
     "text": [
      "3.8.1\n"
     ]
    }
   ],
   "source": [
    "# What version of NLTK\n",
    "import nltk\n",
    "print(nltk.__version__)"
   ]
  },
  {
   "attachments": {},
   "cell_type": "markdown",
   "metadata": {},
   "source": [
    "##### Logistic Regression: F1 - .91%"
   ]
  },
  {
   "cell_type": "code",
   "execution_count": 24,
   "metadata": {},
   "outputs": [
    {
     "name": "stderr",
     "output_type": "stream",
     "text": [
      "/opt/homebrew/Caskroom/miniforge/base/envs/fastai/lib/python3.10/site-packages/sklearn/linear_model/_logistic.py:444: ConvergenceWarning: lbfgs failed to converge (status=1):\n",
      "STOP: TOTAL NO. of ITERATIONS REACHED LIMIT.\n",
      "\n",
      "Increase the number of iterations (max_iter) or scale the data as shown in:\n",
      "    https://scikit-learn.org/stable/modules/preprocessing.html\n",
      "Please also refer to the documentation for alternative solver options:\n",
      "    https://scikit-learn.org/stable/modules/linear_model.html#logistic-regression\n",
      "  n_iter_i = _check_optimize_result(\n"
     ]
    }
   ],
   "source": [
    "# Train a logistic regression model\n",
    "lr = LogisticRegression(random_state=0, solver='lbfgs', multi_class='multinomial').fit(X_train, y_train)"
   ]
  },
  {
   "cell_type": "code",
   "execution_count": 25,
   "metadata": {},
   "outputs": [
    {
     "name": "stderr",
     "output_type": "stream",
     "text": [
      "/opt/homebrew/Caskroom/miniforge/base/envs/fastai/lib/python3.10/site-packages/sklearn/linear_model/_logistic.py:444: ConvergenceWarning: lbfgs failed to converge (status=1):\n",
      "STOP: TOTAL NO. of ITERATIONS REACHED LIMIT.\n",
      "\n",
      "Increase the number of iterations (max_iter) or scale the data as shown in:\n",
      "    https://scikit-learn.org/stable/modules/preprocessing.html\n",
      "Please also refer to the documentation for alternative solver options:\n",
      "    https://scikit-learn.org/stable/modules/linear_model.html#logistic-regression\n",
      "  n_iter_i = _check_optimize_result(\n"
     ]
    },
    {
     "data": {
      "text/html": [
       "<style>#sk-container-id-1 {color: black;background-color: white;}#sk-container-id-1 pre{padding: 0;}#sk-container-id-1 div.sk-toggleable {background-color: white;}#sk-container-id-1 label.sk-toggleable__label {cursor: pointer;display: block;width: 100%;margin-bottom: 0;padding: 0.3em;box-sizing: border-box;text-align: center;}#sk-container-id-1 label.sk-toggleable__label-arrow:before {content: \"▸\";float: left;margin-right: 0.25em;color: #696969;}#sk-container-id-1 label.sk-toggleable__label-arrow:hover:before {color: black;}#sk-container-id-1 div.sk-estimator:hover label.sk-toggleable__label-arrow:before {color: black;}#sk-container-id-1 div.sk-toggleable__content {max-height: 0;max-width: 0;overflow: hidden;text-align: left;background-color: #f0f8ff;}#sk-container-id-1 div.sk-toggleable__content pre {margin: 0.2em;color: black;border-radius: 0.25em;background-color: #f0f8ff;}#sk-container-id-1 input.sk-toggleable__control:checked~div.sk-toggleable__content {max-height: 200px;max-width: 100%;overflow: auto;}#sk-container-id-1 input.sk-toggleable__control:checked~label.sk-toggleable__label-arrow:before {content: \"▾\";}#sk-container-id-1 div.sk-estimator input.sk-toggleable__control:checked~label.sk-toggleable__label {background-color: #d4ebff;}#sk-container-id-1 div.sk-label input.sk-toggleable__control:checked~label.sk-toggleable__label {background-color: #d4ebff;}#sk-container-id-1 input.sk-hidden--visually {border: 0;clip: rect(1px 1px 1px 1px);clip: rect(1px, 1px, 1px, 1px);height: 1px;margin: -1px;overflow: hidden;padding: 0;position: absolute;width: 1px;}#sk-container-id-1 div.sk-estimator {font-family: monospace;background-color: #f0f8ff;border: 1px dotted black;border-radius: 0.25em;box-sizing: border-box;margin-bottom: 0.5em;}#sk-container-id-1 div.sk-estimator:hover {background-color: #d4ebff;}#sk-container-id-1 div.sk-parallel-item::after {content: \"\";width: 100%;border-bottom: 1px solid gray;flex-grow: 1;}#sk-container-id-1 div.sk-label:hover label.sk-toggleable__label {background-color: #d4ebff;}#sk-container-id-1 div.sk-serial::before {content: \"\";position: absolute;border-left: 1px solid gray;box-sizing: border-box;top: 0;bottom: 0;left: 50%;z-index: 0;}#sk-container-id-1 div.sk-serial {display: flex;flex-direction: column;align-items: center;background-color: white;padding-right: 0.2em;padding-left: 0.2em;position: relative;}#sk-container-id-1 div.sk-item {position: relative;z-index: 1;}#sk-container-id-1 div.sk-parallel {display: flex;align-items: stretch;justify-content: center;background-color: white;position: relative;}#sk-container-id-1 div.sk-item::before, #sk-container-id-1 div.sk-parallel-item::before {content: \"\";position: absolute;border-left: 1px solid gray;box-sizing: border-box;top: 0;bottom: 0;left: 50%;z-index: -1;}#sk-container-id-1 div.sk-parallel-item {display: flex;flex-direction: column;z-index: 1;position: relative;background-color: white;}#sk-container-id-1 div.sk-parallel-item:first-child::after {align-self: flex-end;width: 50%;}#sk-container-id-1 div.sk-parallel-item:last-child::after {align-self: flex-start;width: 50%;}#sk-container-id-1 div.sk-parallel-item:only-child::after {width: 0;}#sk-container-id-1 div.sk-dashed-wrapped {border: 1px dashed gray;margin: 0 0.4em 0.5em 0.4em;box-sizing: border-box;padding-bottom: 0.4em;background-color: white;}#sk-container-id-1 div.sk-label label {font-family: monospace;font-weight: bold;display: inline-block;line-height: 1.2em;}#sk-container-id-1 div.sk-label-container {text-align: center;}#sk-container-id-1 div.sk-container {/* jupyter's `normalize.less` sets `[hidden] { display: none; }` but bootstrap.min.css set `[hidden] { display: none !important; }` so we also need the `!important` here to be able to override the default hidden behavior on the sphinx rendered scikit-learn.org. See: https://github.com/scikit-learn/scikit-learn/issues/21755 */display: inline-block !important;position: relative;}#sk-container-id-1 div.sk-text-repr-fallback {display: none;}</style><div id=\"sk-container-id-1\" class=\"sk-top-container\"><div class=\"sk-text-repr-fallback\"><pre>LogisticRegression(multi_class=&#x27;multinomial&#x27;, random_state=0)</pre><b>In a Jupyter environment, please rerun this cell to show the HTML representation or trust the notebook. <br />On GitHub, the HTML representation is unable to render, please try loading this page with nbviewer.org.</b></div><div class=\"sk-container\" hidden><div class=\"sk-item\"><div class=\"sk-estimator sk-toggleable\"><input class=\"sk-toggleable__control sk-hidden--visually\" id=\"sk-estimator-id-1\" type=\"checkbox\" checked><label for=\"sk-estimator-id-1\" class=\"sk-toggleable__label sk-toggleable__label-arrow\">LogisticRegression</label><div class=\"sk-toggleable__content\"><pre>LogisticRegression(multi_class=&#x27;multinomial&#x27;, random_state=0)</pre></div></div></div></div></div>"
      ],
      "text/plain": [
       "LogisticRegression(multi_class='multinomial', random_state=0)"
      ]
     },
     "execution_count": 25,
     "metadata": {},
     "output_type": "execute_result"
    }
   ],
   "source": [
    "# Fit the model\n",
    "lr.fit(X_train, y_train)"
   ]
  },
  {
   "cell_type": "code",
   "execution_count": null,
   "metadata": {},
   "outputs": [],
   "source": [
    "# Pickle the model\n",
    "filename = 'lr_021223.pkl'\n",
    "pickle.dump(lr, open(filename, 'wb'))"
   ]
  },
  {
   "cell_type": "code",
   "execution_count": 26,
   "metadata": {},
   "outputs": [],
   "source": [
    "# Predict the test set results\n",
    "y_pred = lr.predict(X_test)"
   ]
  },
  {
   "cell_type": "code",
   "execution_count": 27,
   "metadata": {},
   "outputs": [
    {
     "name": "stdout",
     "output_type": "stream",
     "text": [
      "Accuracy:  0.9225\n"
     ]
    }
   ],
   "source": [
    "# Evaluate the model\n",
    "print(\"Accuracy: \", accuracy_score(y_test, y_pred))"
   ]
  },
  {
   "cell_type": "code",
   "execution_count": 28,
   "metadata": {},
   "outputs": [
    {
     "name": "stdout",
     "output_type": "stream",
     "text": [
      "              precision    recall  f1-score   support\n",
      "\n",
      "  healthcare       0.94      0.94      0.94      4000\n",
      "       other       0.90      0.89      0.90      4000\n",
      "  technology       0.93      0.93      0.93      4000\n",
      "\n",
      "    accuracy                           0.92     12000\n",
      "   macro avg       0.92      0.92      0.92     12000\n",
      "weighted avg       0.92      0.92      0.92     12000\n",
      "\n"
     ]
    }
   ],
   "source": [
    "# Show precision, recall, and f1-score\n",
    "print(classification_report(y_test, y_pred, target_names=df['section'].unique()))"
   ]
  },
  {
   "cell_type": "code",
   "execution_count": 29,
   "metadata": {},
   "outputs": [
    {
     "name": "stdout",
     "output_type": "stream",
     "text": [
      "F1 score:  0.922412667000533\n"
     ]
    }
   ],
   "source": [
    "# Overall F1 score\n",
    "print(\"F1 score: \", f1_score(y_test, y_pred, average='weighted'))"
   ]
  },
  {
   "attachments": {},
   "cell_type": "markdown",
   "metadata": {},
   "source": [
    "Test sentences\n",
    "\n",
    "0. Other: Sitting across from Jimmy Fallon on “The Tonight Show,” Paris Hilton, wearing a sparkling neon green turtleneck dress and a high ponytail, looked at a picture of a glum cartoon ape and said it “reminds me of me.” The audience laughed. It did not look like her at all.\n",
    "1. Healthcare: Plans are moving forward at the US Department of Health and Human Services to prepare for the end of the nation’s Covid-19 public health emergency declaration in May.\n",
    "2. As Apple looks beyond China to secure crucial supply chains strained by Covid lockdowns and threatened by rising geopolitical tension, India has emerged as an attractive potential alternative to the world’s second largest economy."
   ]
  },
  {
   "cell_type": "code",
   "execution_count": 117,
   "metadata": {},
   "outputs": [],
   "source": [
    "# Input a new article never seen by the model and make predictions using pickled model\n",
    "def predict_new_text(text):\n",
    "    # Load the pickled model\n",
    "    model = 'lr_021223.pkl'\n",
    "    vectorizer = 'vectorizer_021223.pkl'\n",
    "\n",
    "    loaded_model = pickle.load(open(model, 'rb'))\n",
    "    loaded_vec = pickle.load(open(vectorizer, 'rb'))\n",
    "  \n",
    "   \n",
    "    text = process_text(text)\n",
    "    text = loaded_vec.transform([text])\n",
    "    prediction = loaded_model.predict([text])\n",
    "    return prediction"
   ]
  },
  {
   "cell_type": "code",
   "execution_count": 122,
   "metadata": {},
   "outputs": [
    {
     "ename": "ValueError",
     "evalue": "Expected 2D array, got 1D array instead:\narray=[<1x161849 sparse matrix of type '<class 'numpy.int64'>'\n \twith 47 stored elements in Compressed Sparse Row format>].\nReshape your data either using array.reshape(-1, 1) if your data has a single feature or array.reshape(1, -1) if it contains a single sample.",
     "output_type": "error",
     "traceback": [
      "\u001b[0;31m---------------------------------------------------------------------------\u001b[0m",
      "\u001b[0;31mValueError\u001b[0m                                Traceback (most recent call last)",
      "\u001b[1;32m/Users/curtispond/Documents/MLE-10-Capstone/glg-capstone/modeling/baseline/lr_final_allthenews.ipynb Cell 42\u001b[0m in \u001b[0;36m<cell line: 2>\u001b[0;34m()\u001b[0m\n\u001b[1;32m      <a href='vscode-notebook-cell:/Users/curtispond/Documents/MLE-10-Capstone/glg-capstone/modeling/baseline/lr_final_allthenews.ipynb#Y145sZmlsZQ%3D%3D?line=0'>1</a>\u001b[0m \u001b[39m# Predict the section of a new article\u001b[39;00m\n\u001b[0;32m----> <a href='vscode-notebook-cell:/Users/curtispond/Documents/MLE-10-Capstone/glg-capstone/modeling/baseline/lr_final_allthenews.ipynb#Y145sZmlsZQ%3D%3D?line=1'>2</a>\u001b[0m predict_new_text(\u001b[39m\"\u001b[39;49m\u001b[39mThe U.S. economy added 379,000 jobs in January, the Labor Department said Friday, a sharp slowdown from the previous month but still a healthy pace of hiring that should help keep the economy growing. The unemployment rate fell to 4.0\u001b[39;49m\u001b[39m%\u001b[39;49m\u001b[39m, the lowest level since 2000. The jobless rate has fallen steadily since the Great Recession, and the economy has added jobs for 100 straight months. The economy.\u001b[39;49m\u001b[39m\"\u001b[39;49m)\n",
      "\u001b[1;32m/Users/curtispond/Documents/MLE-10-Capstone/glg-capstone/modeling/baseline/lr_final_allthenews.ipynb Cell 42\u001b[0m in \u001b[0;36mpredict_new_text\u001b[0;34m(text)\u001b[0m\n\u001b[1;32m     <a href='vscode-notebook-cell:/Users/curtispond/Documents/MLE-10-Capstone/glg-capstone/modeling/baseline/lr_final_allthenews.ipynb#Y145sZmlsZQ%3D%3D?line=10'>11</a>\u001b[0m text \u001b[39m=\u001b[39m process_text(text)\n\u001b[1;32m     <a href='vscode-notebook-cell:/Users/curtispond/Documents/MLE-10-Capstone/glg-capstone/modeling/baseline/lr_final_allthenews.ipynb#Y145sZmlsZQ%3D%3D?line=11'>12</a>\u001b[0m text \u001b[39m=\u001b[39m loaded_vec\u001b[39m.\u001b[39mtransform([text])\n\u001b[0;32m---> <a href='vscode-notebook-cell:/Users/curtispond/Documents/MLE-10-Capstone/glg-capstone/modeling/baseline/lr_final_allthenews.ipynb#Y145sZmlsZQ%3D%3D?line=12'>13</a>\u001b[0m prediction \u001b[39m=\u001b[39m loaded_model\u001b[39m.\u001b[39;49mpredict([text])\n\u001b[1;32m     <a href='vscode-notebook-cell:/Users/curtispond/Documents/MLE-10-Capstone/glg-capstone/modeling/baseline/lr_final_allthenews.ipynb#Y145sZmlsZQ%3D%3D?line=13'>14</a>\u001b[0m \u001b[39mreturn\u001b[39;00m prediction\n",
      "File \u001b[0;32m/opt/homebrew/Caskroom/miniforge/base/envs/fastai/lib/python3.10/site-packages/sklearn/linear_model/_base.py:447\u001b[0m, in \u001b[0;36mLinearClassifierMixin.predict\u001b[0;34m(self, X)\u001b[0m\n\u001b[1;32m    433\u001b[0m \u001b[39mdef\u001b[39;00m \u001b[39mpredict\u001b[39m(\u001b[39mself\u001b[39m, X):\n\u001b[1;32m    434\u001b[0m     \u001b[39m\"\"\"\u001b[39;00m\n\u001b[1;32m    435\u001b[0m \u001b[39m    Predict class labels for samples in X.\u001b[39;00m\n\u001b[1;32m    436\u001b[0m \n\u001b[0;32m   (...)\u001b[0m\n\u001b[1;32m    445\u001b[0m \u001b[39m        Vector containing the class labels for each sample.\u001b[39;00m\n\u001b[1;32m    446\u001b[0m \u001b[39m    \"\"\"\u001b[39;00m\n\u001b[0;32m--> 447\u001b[0m     scores \u001b[39m=\u001b[39m \u001b[39mself\u001b[39;49m\u001b[39m.\u001b[39;49mdecision_function(X)\n\u001b[1;32m    448\u001b[0m     \u001b[39mif\u001b[39;00m \u001b[39mlen\u001b[39m(scores\u001b[39m.\u001b[39mshape) \u001b[39m==\u001b[39m \u001b[39m1\u001b[39m:\n\u001b[1;32m    449\u001b[0m         indices \u001b[39m=\u001b[39m (scores \u001b[39m>\u001b[39m \u001b[39m0\u001b[39m)\u001b[39m.\u001b[39mastype(\u001b[39mint\u001b[39m)\n",
      "File \u001b[0;32m/opt/homebrew/Caskroom/miniforge/base/envs/fastai/lib/python3.10/site-packages/sklearn/linear_model/_base.py:429\u001b[0m, in \u001b[0;36mLinearClassifierMixin.decision_function\u001b[0;34m(self, X)\u001b[0m\n\u001b[1;32m    409\u001b[0m \u001b[39m\"\"\"\u001b[39;00m\n\u001b[1;32m    410\u001b[0m \u001b[39mPredict confidence scores for samples.\u001b[39;00m\n\u001b[1;32m    411\u001b[0m \n\u001b[0;32m   (...)\u001b[0m\n\u001b[1;32m    425\u001b[0m \u001b[39m    this class would be predicted.\u001b[39;00m\n\u001b[1;32m    426\u001b[0m \u001b[39m\"\"\"\u001b[39;00m\n\u001b[1;32m    427\u001b[0m check_is_fitted(\u001b[39mself\u001b[39m)\n\u001b[0;32m--> 429\u001b[0m X \u001b[39m=\u001b[39m \u001b[39mself\u001b[39;49m\u001b[39m.\u001b[39;49m_validate_data(X, accept_sparse\u001b[39m=\u001b[39;49m\u001b[39m\"\u001b[39;49m\u001b[39mcsr\u001b[39;49m\u001b[39m\"\u001b[39;49m, reset\u001b[39m=\u001b[39;49m\u001b[39mFalse\u001b[39;49;00m)\n\u001b[1;32m    430\u001b[0m scores \u001b[39m=\u001b[39m safe_sparse_dot(X, \u001b[39mself\u001b[39m\u001b[39m.\u001b[39mcoef_\u001b[39m.\u001b[39mT, dense_output\u001b[39m=\u001b[39m\u001b[39mTrue\u001b[39;00m) \u001b[39m+\u001b[39m \u001b[39mself\u001b[39m\u001b[39m.\u001b[39mintercept_\n\u001b[1;32m    431\u001b[0m \u001b[39mreturn\u001b[39;00m scores\u001b[39m.\u001b[39mravel() \u001b[39mif\u001b[39;00m scores\u001b[39m.\u001b[39mshape[\u001b[39m1\u001b[39m] \u001b[39m==\u001b[39m \u001b[39m1\u001b[39m \u001b[39melse\u001b[39;00m scores\n",
      "File \u001b[0;32m/opt/homebrew/Caskroom/miniforge/base/envs/fastai/lib/python3.10/site-packages/sklearn/base.py:577\u001b[0m, in \u001b[0;36mBaseEstimator._validate_data\u001b[0;34m(self, X, y, reset, validate_separately, **check_params)\u001b[0m\n\u001b[1;32m    575\u001b[0m     \u001b[39mraise\u001b[39;00m \u001b[39mValueError\u001b[39;00m(\u001b[39m\"\u001b[39m\u001b[39mValidation should be done on X, y or both.\u001b[39m\u001b[39m\"\u001b[39m)\n\u001b[1;32m    576\u001b[0m \u001b[39melif\u001b[39;00m \u001b[39mnot\u001b[39;00m no_val_X \u001b[39mand\u001b[39;00m no_val_y:\n\u001b[0;32m--> 577\u001b[0m     X \u001b[39m=\u001b[39m check_array(X, input_name\u001b[39m=\u001b[39;49m\u001b[39m\"\u001b[39;49m\u001b[39mX\u001b[39;49m\u001b[39m\"\u001b[39;49m, \u001b[39m*\u001b[39;49m\u001b[39m*\u001b[39;49mcheck_params)\n\u001b[1;32m    578\u001b[0m     out \u001b[39m=\u001b[39m X\n\u001b[1;32m    579\u001b[0m \u001b[39melif\u001b[39;00m no_val_X \u001b[39mand\u001b[39;00m \u001b[39mnot\u001b[39;00m no_val_y:\n",
      "File \u001b[0;32m/opt/homebrew/Caskroom/miniforge/base/envs/fastai/lib/python3.10/site-packages/sklearn/utils/validation.py:879\u001b[0m, in \u001b[0;36mcheck_array\u001b[0;34m(array, accept_sparse, accept_large_sparse, dtype, order, copy, force_all_finite, ensure_2d, allow_nd, ensure_min_samples, ensure_min_features, estimator, input_name)\u001b[0m\n\u001b[1;32m    877\u001b[0m     \u001b[39m# If input is 1D raise error\u001b[39;00m\n\u001b[1;32m    878\u001b[0m     \u001b[39mif\u001b[39;00m array\u001b[39m.\u001b[39mndim \u001b[39m==\u001b[39m \u001b[39m1\u001b[39m:\n\u001b[0;32m--> 879\u001b[0m         \u001b[39mraise\u001b[39;00m \u001b[39mValueError\u001b[39;00m(\n\u001b[1;32m    880\u001b[0m             \u001b[39m\"\u001b[39m\u001b[39mExpected 2D array, got 1D array instead:\u001b[39m\u001b[39m\\n\u001b[39;00m\u001b[39marray=\u001b[39m\u001b[39m{}\u001b[39;00m\u001b[39m.\u001b[39m\u001b[39m\\n\u001b[39;00m\u001b[39m\"\u001b[39m\n\u001b[1;32m    881\u001b[0m             \u001b[39m\"\u001b[39m\u001b[39mReshape your data either using array.reshape(-1, 1) if \u001b[39m\u001b[39m\"\u001b[39m\n\u001b[1;32m    882\u001b[0m             \u001b[39m\"\u001b[39m\u001b[39myour data has a single feature or array.reshape(1, -1) \u001b[39m\u001b[39m\"\u001b[39m\n\u001b[1;32m    883\u001b[0m             \u001b[39m\"\u001b[39m\u001b[39mif it contains a single sample.\u001b[39m\u001b[39m\"\u001b[39m\u001b[39m.\u001b[39mformat(array)\n\u001b[1;32m    884\u001b[0m         )\n\u001b[1;32m    886\u001b[0m \u001b[39mif\u001b[39;00m dtype_numeric \u001b[39mand\u001b[39;00m array\u001b[39m.\u001b[39mdtype\u001b[39m.\u001b[39mkind \u001b[39min\u001b[39;00m \u001b[39m\"\u001b[39m\u001b[39mUSV\u001b[39m\u001b[39m\"\u001b[39m:\n\u001b[1;32m    887\u001b[0m     \u001b[39mraise\u001b[39;00m \u001b[39mValueError\u001b[39;00m(\n\u001b[1;32m    888\u001b[0m         \u001b[39m\"\u001b[39m\u001b[39mdtype=\u001b[39m\u001b[39m'\u001b[39m\u001b[39mnumeric\u001b[39m\u001b[39m'\u001b[39m\u001b[39m is not compatible with arrays of bytes/strings.\u001b[39m\u001b[39m\"\u001b[39m\n\u001b[1;32m    889\u001b[0m         \u001b[39m\"\u001b[39m\u001b[39mConvert your data to numeric values explicitly instead.\u001b[39m\u001b[39m\"\u001b[39m\n\u001b[1;32m    890\u001b[0m     )\n",
      "\u001b[0;31mValueError\u001b[0m: Expected 2D array, got 1D array instead:\narray=[<1x161849 sparse matrix of type '<class 'numpy.int64'>'\n \twith 47 stored elements in Compressed Sparse Row format>].\nReshape your data either using array.reshape(-1, 1) if your data has a single feature or array.reshape(1, -1) if it contains a single sample."
     ]
    }
   ],
   "source": [
    "# Predict the section of a new article\n",
    "predict_new_text(\"The U.S. economy added 379,000 jobs in January, the Labor Department said Friday, a sharp slowdown from the previous month but still a healthy pace of hiring that should help keep the economy growing. The unemployment rate fell to 4.0%, the lowest level since 2000. The jobless rate has fallen steadily since the Great Recession, and the economy has added jobs for 100 straight months. The economy.\")"
   ]
  }
 ],
 "metadata": {
  "kernelspec": {
   "display_name": "fastai",
   "language": "python",
   "name": "python3"
  },
  "language_info": {
   "codemirror_mode": {
    "name": "ipython",
    "version": 3
   },
   "file_extension": ".py",
   "mimetype": "text/x-python",
   "name": "python",
   "nbconvert_exporter": "python",
   "pygments_lexer": "ipython3",
   "version": "3.10.4"
  },
  "orig_nbformat": 4,
  "vscode": {
   "interpreter": {
    "hash": "4b6371f9b180b180e3c0fc2dc539c52593b72b3e75aed3593bd0a5845eb81bd2"
   }
  }
 },
 "nbformat": 4,
 "nbformat_minor": 2
}
