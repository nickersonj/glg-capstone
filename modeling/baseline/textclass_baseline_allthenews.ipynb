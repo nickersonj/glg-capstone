{
 "cells": [
  {
   "cell_type": "markdown",
   "metadata": {},
   "source": [
    "### Baseline Text Classification Model for All the News Dataset\n",
    "Goal: Predict the classification of news articles based on their section labels. For our baseline model, we will start with a dataset of 25K articles distributed across five categories: business, sports, technology, healthcare, and movies."
   ]
  },
  {
   "cell_type": "markdown",
   "metadata": {},
   "source": [
    "### Import librarires"
   ]
  },
  {
   "cell_type": "code",
   "execution_count": 1,
   "metadata": {},
   "outputs": [
    {
     "name": "stderr",
     "output_type": "stream",
     "text": [
      "[nltk_data] Downloading package stopwords to\n",
      "[nltk_data]     /Users/curtispond/nltk_data...\n",
      "[nltk_data]   Package stopwords is already up-to-date!\n",
      "[nltk_data] Downloading package wordnet to\n",
      "[nltk_data]     /Users/curtispond/nltk_data...\n",
      "[nltk_data]   Package wordnet is already up-to-date!\n"
     ]
    }
   ],
   "source": [
    "import pandas as pd\n",
    "import matplotlib.pyplot as plt\n",
    "import numpy as np\n",
    "import seaborn as sns\n",
    "import nltk\n",
    "import re\n",
    "from nltk.corpus import stopwords\n",
    "nltk.download('stopwords')\n",
    "from nltk.stem import WordNetLemmatizer\n",
    "nltk.download('wordnet')\n",
    "from nltk.stem import PorterStemmer\n",
    "from sklearn.feature_extraction.text import CountVectorizer\n",
    "from sklearn.feature_extraction.text import TfidfVectorizer\n",
    "from sklearn.model_selection import train_test_split\n",
    "from sklearn.metrics import accuracy_score, confusion_matrix, classification_report\n",
    "from sklearn.naive_bayes import MultinomialNB\n",
    "from sklearn.linear_model import LogisticRegression\n",
    "from sklearn.svm import SVC, LinearSVC\n",
    "from sklearn.ensemble import RandomForestClassifier\n",
    "from sklearn.tree import DecisionTreeClassifier\n",
    "from sklearn.neighbors import KNeighborsClassifier\n",
    "from sklearn.metrics import make_scorer, roc_auc_score, roc_curve, auc\n",
    "import spacy\n",
    "from sklearn.metrics import f1_score"
   ]
  },
  {
   "cell_type": "markdown",
   "metadata": {},
   "source": [
    "### Load and inspect the data"
   ]
  },
  {
   "cell_type": "markdown",
   "metadata": {},
   "source": [
    "We start with a smaller dataset created from ~100k articles. The data has already been preprocessed:\n",
    "1. Dropped the author and url columns\n",
    "2. Removed rows where article = NaN\n",
    "3. Removed rows where section = NaN\n",
    "4. Normalized section names by combining similar sections (i.e., Tech News into Technology, Health into Healthcare)\n",
    "5. Reduced dataset to sections with labels: technology, healthcare, business, movies, sports"
   ]
  },
  {
   "cell_type": "code",
   "execution_count": 2,
   "metadata": {},
   "outputs": [
    {
     "name": "stdout",
     "output_type": "stream",
     "text": [
      "<class 'pandas.core.frame.DataFrame'>\n",
      "RangeIndex: 25000 entries, 0 to 24999\n",
      "Data columns (total 8 columns):\n",
      " #   Column       Non-Null Count  Dtype  \n",
      "---  ------       --------------  -----  \n",
      " 0   date         25000 non-null  object \n",
      " 1   year         25000 non-null  int64  \n",
      " 2   month        25000 non-null  float64\n",
      " 3   day          25000 non-null  int64  \n",
      " 4   title        25000 non-null  object \n",
      " 5   article      25000 non-null  object \n",
      " 6   section      25000 non-null  object \n",
      " 7   publication  25000 non-null  object \n",
      "dtypes: float64(1), int64(2), object(5)\n",
      "memory usage: 1.5+ MB\n"
     ]
    }
   ],
   "source": [
    "df = pd.read_csv('./data/all-the-news-25k.csv')\n",
    "df.info()"
   ]
  },
  {
   "cell_type": "code",
   "execution_count": 3,
   "metadata": {},
   "outputs": [],
   "source": [
    "# Convert the date column to datetime\n",
    "df['date'] = pd.to_datetime(df['date'])"
   ]
  },
  {
   "cell_type": "code",
   "execution_count": 4,
   "metadata": {},
   "outputs": [
    {
     "data": {
      "text/html": [
       "<div>\n",
       "<style scoped>\n",
       "    .dataframe tbody tr th:only-of-type {\n",
       "        vertical-align: middle;\n",
       "    }\n",
       "\n",
       "    .dataframe tbody tr th {\n",
       "        vertical-align: top;\n",
       "    }\n",
       "\n",
       "    .dataframe thead th {\n",
       "        text-align: right;\n",
       "    }\n",
       "</style>\n",
       "<table border=\"1\" class=\"dataframe\">\n",
       "  <thead>\n",
       "    <tr style=\"text-align: right;\">\n",
       "      <th></th>\n",
       "      <th>date</th>\n",
       "      <th>year</th>\n",
       "      <th>month</th>\n",
       "      <th>day</th>\n",
       "      <th>title</th>\n",
       "      <th>article</th>\n",
       "      <th>section</th>\n",
       "      <th>publication</th>\n",
       "    </tr>\n",
       "  </thead>\n",
       "  <tbody>\n",
       "    <tr>\n",
       "      <th>0</th>\n",
       "      <td>2018-05-02 17:09:00</td>\n",
       "      <td>2018</td>\n",
       "      <td>5.0</td>\n",
       "      <td>2</td>\n",
       "      <td>You Can Trick Your Brain Into Being More Focused</td>\n",
       "      <td>If only every day could be like this. You can’...</td>\n",
       "      <td>healthcare</td>\n",
       "      <td>Vice</td>\n",
       "    </tr>\n",
       "    <tr>\n",
       "      <th>1</th>\n",
       "      <td>2019-06-23 00:00:00</td>\n",
       "      <td>2019</td>\n",
       "      <td>6.0</td>\n",
       "      <td>23</td>\n",
       "      <td>Hudson's Bay's chairman's buyout bid pits reta...</td>\n",
       "      <td>(Reuters) - The success of Hudson’s Bay Co Exe...</td>\n",
       "      <td>business</td>\n",
       "      <td>Reuters</td>\n",
       "    </tr>\n",
       "    <tr>\n",
       "      <th>2</th>\n",
       "      <td>2018-12-28 00:00:00</td>\n",
       "      <td>2018</td>\n",
       "      <td>12.0</td>\n",
       "      <td>28</td>\n",
       "      <td>Wells Fargo to pay $575 million in settlement ...</td>\n",
       "      <td>NEW YORK (Reuters) - Wells Fargo &amp; Co (WFC.N) ...</td>\n",
       "      <td>business</td>\n",
       "      <td>Reuters</td>\n",
       "    </tr>\n",
       "    <tr>\n",
       "      <th>3</th>\n",
       "      <td>2019-05-21 00:00:00</td>\n",
       "      <td>2019</td>\n",
       "      <td>5.0</td>\n",
       "      <td>21</td>\n",
       "      <td>Factbox: Investments by automakers in the U.S....</td>\n",
       "      <td>(Reuters) - Major automakers have announced a ...</td>\n",
       "      <td>business</td>\n",
       "      <td>Reuters</td>\n",
       "    </tr>\n",
       "    <tr>\n",
       "      <th>4</th>\n",
       "      <td>2019-02-05 00:00:00</td>\n",
       "      <td>2019</td>\n",
       "      <td>2.0</td>\n",
       "      <td>5</td>\n",
       "      <td>Exclusive: Britain's financial heartland unbow...</td>\n",
       "      <td>LONDON (Reuters) - Britain’s financial service...</td>\n",
       "      <td>business</td>\n",
       "      <td>Reuters</td>\n",
       "    </tr>\n",
       "  </tbody>\n",
       "</table>\n",
       "</div>"
      ],
      "text/plain": [
       "                 date  year  month  day  \\\n",
       "0 2018-05-02 17:09:00  2018    5.0    2   \n",
       "1 2019-06-23 00:00:00  2019    6.0   23   \n",
       "2 2018-12-28 00:00:00  2018   12.0   28   \n",
       "3 2019-05-21 00:00:00  2019    5.0   21   \n",
       "4 2019-02-05 00:00:00  2019    2.0    5   \n",
       "\n",
       "                                               title  \\\n",
       "0   You Can Trick Your Brain Into Being More Focused   \n",
       "1  Hudson's Bay's chairman's buyout bid pits reta...   \n",
       "2  Wells Fargo to pay $575 million in settlement ...   \n",
       "3  Factbox: Investments by automakers in the U.S....   \n",
       "4  Exclusive: Britain's financial heartland unbow...   \n",
       "\n",
       "                                             article     section publication  \n",
       "0  If only every day could be like this. You can’...  healthcare        Vice  \n",
       "1  (Reuters) - The success of Hudson’s Bay Co Exe...    business     Reuters  \n",
       "2  NEW YORK (Reuters) - Wells Fargo & Co (WFC.N) ...    business     Reuters  \n",
       "3  (Reuters) - Major automakers have announced a ...    business     Reuters  \n",
       "4  LONDON (Reuters) - Britain’s financial service...    business     Reuters  "
      ]
     },
     "execution_count": 4,
     "metadata": {},
     "output_type": "execute_result"
    }
   ],
   "source": [
    "df.head()"
   ]
  },
  {
   "cell_type": "code",
   "execution_count": 5,
   "metadata": {},
   "outputs": [
    {
     "data": {
      "text/plain": [
       "date           0\n",
       "year           0\n",
       "month          0\n",
       "day            0\n",
       "title          0\n",
       "article        0\n",
       "section        0\n",
       "publication    0\n",
       "dtype: int64"
      ]
     },
     "execution_count": 5,
     "metadata": {},
     "output_type": "execute_result"
    }
   ],
   "source": [
    "# How many null values are there in each column?\n",
    "df.isnull().sum()"
   ]
  },
  {
   "cell_type": "code",
   "execution_count": 6,
   "metadata": {},
   "outputs": [
    {
     "data": {
      "text/plain": [
       "<AxesSubplot: title={'center': 'Top 20 Article Sections in 25K Sample'}>"
      ]
     },
     "execution_count": 6,
     "metadata": {},
     "output_type": "execute_result"
    },
    {
     "data": {
      "image/png": "[encoded data removed]",
      "text/plain": [
       "<Figure size 1000x700 with 1 Axes>"
      ]
     },
     "metadata": {},
     "output_type": "display_data"
    }
   ],
   "source": [
    "# Show the number of articles in each section\n",
    "df['section'].value_counts()[:20].plot(kind='bar', figsize=(10,7), title='Top 20 Article Sections in 25K Sample')"
   ]
  },
  {
   "cell_type": "markdown",
   "metadata": {},
   "source": [
    "### Text Classification process for baseline model"
   ]
  },
  {
   "cell_type": "markdown",
   "metadata": {},
   "source": [
    "1. Ensure the dataset is as balanced as possible (already done in dataset preparation)\n",
    "2. Process the data (remove stop words, punctuation, etc.)\n",
    "3. Create a Bag of Words feature to turn text into numbers\n",
    "3. Create training and test set\n",
    "4. Run some models and predictions"
   ]
  },
  {
   "cell_type": "markdown",
   "metadata": {},
   "source": [
    "### Prepare data for modeling on df dataset"
   ]
  },
  {
   "cell_type": "code",
   "execution_count": 7,
   "metadata": {},
   "outputs": [
    {
     "name": "stdout",
     "output_type": "stream",
     "text": [
      "['healthcare' 'business' 'sports' 'technology' 'movies']\n"
     ]
    }
   ],
   "source": [
    "#Convert the section column into categorical values\n",
    "target_section = df['section'].unique()\n",
    "print(target_section)"
   ]
  },
  {
   "cell_type": "code",
   "execution_count": 8,
   "metadata": {},
   "outputs": [
    {
     "data": {
      "text/html": [
       "<div>\n",
       "<style scoped>\n",
       "    .dataframe tbody tr th:only-of-type {\n",
       "        vertical-align: middle;\n",
       "    }\n",
       "\n",
       "    .dataframe tbody tr th {\n",
       "        vertical-align: top;\n",
       "    }\n",
       "\n",
       "    .dataframe thead th {\n",
       "        text-align: right;\n",
       "    }\n",
       "</style>\n",
       "<table border=\"1\" class=\"dataframe\">\n",
       "  <thead>\n",
       "    <tr style=\"text-align: right;\">\n",
       "      <th></th>\n",
       "      <th>date</th>\n",
       "      <th>year</th>\n",
       "      <th>month</th>\n",
       "      <th>day</th>\n",
       "      <th>title</th>\n",
       "      <th>article</th>\n",
       "      <th>section</th>\n",
       "      <th>publication</th>\n",
       "      <th>sectionId</th>\n",
       "    </tr>\n",
       "  </thead>\n",
       "  <tbody>\n",
       "    <tr>\n",
       "      <th>0</th>\n",
       "      <td>2018-05-02 17:09:00</td>\n",
       "      <td>2018</td>\n",
       "      <td>5.0</td>\n",
       "      <td>2</td>\n",
       "      <td>You Can Trick Your Brain Into Being More Focused</td>\n",
       "      <td>If only every day could be like this. You can’...</td>\n",
       "      <td>healthcare</td>\n",
       "      <td>Vice</td>\n",
       "      <td>0</td>\n",
       "    </tr>\n",
       "    <tr>\n",
       "      <th>1</th>\n",
       "      <td>2019-06-23 00:00:00</td>\n",
       "      <td>2019</td>\n",
       "      <td>6.0</td>\n",
       "      <td>23</td>\n",
       "      <td>Hudson's Bay's chairman's buyout bid pits reta...</td>\n",
       "      <td>(Reuters) - The success of Hudson’s Bay Co Exe...</td>\n",
       "      <td>business</td>\n",
       "      <td>Reuters</td>\n",
       "      <td>1</td>\n",
       "    </tr>\n",
       "    <tr>\n",
       "      <th>2</th>\n",
       "      <td>2018-12-28 00:00:00</td>\n",
       "      <td>2018</td>\n",
       "      <td>12.0</td>\n",
       "      <td>28</td>\n",
       "      <td>Wells Fargo to pay $575 million in settlement ...</td>\n",
       "      <td>NEW YORK (Reuters) - Wells Fargo &amp; Co (WFC.N) ...</td>\n",
       "      <td>business</td>\n",
       "      <td>Reuters</td>\n",
       "      <td>1</td>\n",
       "    </tr>\n",
       "    <tr>\n",
       "      <th>3</th>\n",
       "      <td>2019-05-21 00:00:00</td>\n",
       "      <td>2019</td>\n",
       "      <td>5.0</td>\n",
       "      <td>21</td>\n",
       "      <td>Factbox: Investments by automakers in the U.S....</td>\n",
       "      <td>(Reuters) - Major automakers have announced a ...</td>\n",
       "      <td>business</td>\n",
       "      <td>Reuters</td>\n",
       "      <td>1</td>\n",
       "    </tr>\n",
       "    <tr>\n",
       "      <th>4</th>\n",
       "      <td>2019-02-05 00:00:00</td>\n",
       "      <td>2019</td>\n",
       "      <td>2.0</td>\n",
       "      <td>5</td>\n",
       "      <td>Exclusive: Britain's financial heartland unbow...</td>\n",
       "      <td>LONDON (Reuters) - Britain’s financial service...</td>\n",
       "      <td>business</td>\n",
       "      <td>Reuters</td>\n",
       "      <td>1</td>\n",
       "    </tr>\n",
       "  </tbody>\n",
       "</table>\n",
       "</div>"
      ],
      "text/plain": [
       "                 date  year  month  day  \\\n",
       "0 2018-05-02 17:09:00  2018    5.0    2   \n",
       "1 2019-06-23 00:00:00  2019    6.0   23   \n",
       "2 2018-12-28 00:00:00  2018   12.0   28   \n",
       "3 2019-05-21 00:00:00  2019    5.0   21   \n",
       "4 2019-02-05 00:00:00  2019    2.0    5   \n",
       "\n",
       "                                               title  \\\n",
       "0   You Can Trick Your Brain Into Being More Focused   \n",
       "1  Hudson's Bay's chairman's buyout bid pits reta...   \n",
       "2  Wells Fargo to pay $575 million in settlement ...   \n",
       "3  Factbox: Investments by automakers in the U.S....   \n",
       "4  Exclusive: Britain's financial heartland unbow...   \n",
       "\n",
       "                                             article     section publication  \\\n",
       "0  If only every day could be like this. You can’...  healthcare        Vice   \n",
       "1  (Reuters) - The success of Hudson’s Bay Co Exe...    business     Reuters   \n",
       "2  NEW YORK (Reuters) - Wells Fargo & Co (WFC.N) ...    business     Reuters   \n",
       "3  (Reuters) - Major automakers have announced a ...    business     Reuters   \n",
       "4  LONDON (Reuters) - Britain’s financial service...    business     Reuters   \n",
       "\n",
       "   sectionId  \n",
       "0          0  \n",
       "1          1  \n",
       "2          1  \n",
       "3          1  \n",
       "4          1  "
      ]
     },
     "execution_count": 8,
     "metadata": {},
     "output_type": "execute_result"
    }
   ],
   "source": [
    "# Convert the section column into numerical values\n",
    "df['sectionId'] = df['section'].factorize()[0]\n",
    "df.head()"
   ]
  },
  {
   "cell_type": "code",
   "execution_count": 9,
   "metadata": {},
   "outputs": [
    {
     "data": {
      "text/html": [
       "<div>\n",
       "<style scoped>\n",
       "    .dataframe tbody tr th:only-of-type {\n",
       "        vertical-align: middle;\n",
       "    }\n",
       "\n",
       "    .dataframe tbody tr th {\n",
       "        vertical-align: top;\n",
       "    }\n",
       "\n",
       "    .dataframe thead th {\n",
       "        text-align: right;\n",
       "    }\n",
       "</style>\n",
       "<table border=\"1\" class=\"dataframe\">\n",
       "  <thead>\n",
       "    <tr style=\"text-align: right;\">\n",
       "      <th></th>\n",
       "      <th>section</th>\n",
       "      <th>sectionId</th>\n",
       "    </tr>\n",
       "  </thead>\n",
       "  <tbody>\n",
       "    <tr>\n",
       "      <th>0</th>\n",
       "      <td>healthcare</td>\n",
       "      <td>0</td>\n",
       "    </tr>\n",
       "    <tr>\n",
       "      <th>1</th>\n",
       "      <td>business</td>\n",
       "      <td>1</td>\n",
       "    </tr>\n",
       "    <tr>\n",
       "      <th>5</th>\n",
       "      <td>sports</td>\n",
       "      <td>2</td>\n",
       "    </tr>\n",
       "    <tr>\n",
       "      <th>11</th>\n",
       "      <td>technology</td>\n",
       "      <td>3</td>\n",
       "    </tr>\n",
       "    <tr>\n",
       "      <th>20000</th>\n",
       "      <td>movies</td>\n",
       "      <td>4</td>\n",
       "    </tr>\n",
       "  </tbody>\n",
       "</table>\n",
       "</div>"
      ],
      "text/plain": [
       "          section  sectionId\n",
       "0      healthcare          0\n",
       "1        business          1\n",
       "5          sports          2\n",
       "11     technology          3\n",
       "20000      movies          4"
      ]
     },
     "execution_count": 9,
     "metadata": {},
     "output_type": "execute_result"
    }
   ],
   "source": [
    "# Show the category's name and id\n",
    "category_id_df = df[['section', 'sectionId']].drop_duplicates().sort_values('sectionId')\n",
    "category_id_df"
   ]
  },
  {
   "cell_type": "code",
   "execution_count": 10,
   "metadata": {},
   "outputs": [
    {
     "data": {
      "text/plain": [
       "<AxesSubplot: title={'center': 'Target Sections and their Corresponding Ids'}, xlabel='section,sectionId'>"
      ]
     },
     "execution_count": 10,
     "metadata": {},
     "output_type": "execute_result"
    },
    {
     "data": {
      "image/png": "[encoded data removed]",
      "text/plain": [
       "<Figure size 1000x700 with 1 Axes>"
      ]
     },
     "metadata": {},
     "output_type": "display_data"
    }
   ],
   "source": [
    "# Visualize the number of articles in each section\n",
    "df.groupby('section').sectionId.value_counts().plot(kind='bar', \\\n",
    "    color= [\"green\", \"orange\", \"blue\", \"yellow\", \"brown\"], figsize=(10,7), title='Target Sections and their Corresponding Ids')"
   ]
  },
  {
   "cell_type": "markdown",
   "metadata": {},
   "source": [
    "### Clean the article text"
   ]
  },
  {
   "cell_type": "code",
   "execution_count": 11,
   "metadata": {},
   "outputs": [],
   "source": [
    "# Use NLTK to remove stopwords\n",
    "stop = stopwords.words('english')\n",
    "\n",
    "df['clean_article'] = df['article'].map(lambda x: ' '.join([word for word in x.split() if word not in (stop)]))"
   ]
  },
  {
   "cell_type": "code",
   "execution_count": 12,
   "metadata": {},
   "outputs": [],
   "source": [
    "import re\n",
    "import string\n",
    "def process_text(text):\n",
    "    text = str(text).lower()\n",
    "    text = re.sub(\n",
    "        f\"[{re.escape(string.punctuation)}]\", \" \", text\n",
    "    )\n",
    "    text = \" \".join(text.split())\n",
    "    return text\n",
    "\n",
    "df['text'] = df['clean_article'].apply(process_text)"
   ]
  },
  {
   "cell_type": "code",
   "execution_count": 13,
   "metadata": {},
   "outputs": [
    {
     "data": {
      "text/html": [
       "<div>\n",
       "<style scoped>\n",
       "    .dataframe tbody tr th:only-of-type {\n",
       "        vertical-align: middle;\n",
       "    }\n",
       "\n",
       "    .dataframe tbody tr th {\n",
       "        vertical-align: top;\n",
       "    }\n",
       "\n",
       "    .dataframe thead th {\n",
       "        text-align: right;\n",
       "    }\n",
       "</style>\n",
       "<table border=\"1\" class=\"dataframe\">\n",
       "  <thead>\n",
       "    <tr style=\"text-align: right;\">\n",
       "      <th></th>\n",
       "      <th>date</th>\n",
       "      <th>year</th>\n",
       "      <th>month</th>\n",
       "      <th>day</th>\n",
       "      <th>title</th>\n",
       "      <th>article</th>\n",
       "      <th>section</th>\n",
       "      <th>publication</th>\n",
       "      <th>sectionId</th>\n",
       "      <th>clean_article</th>\n",
       "      <th>text</th>\n",
       "    </tr>\n",
       "  </thead>\n",
       "  <tbody>\n",
       "    <tr>\n",
       "      <th>0</th>\n",
       "      <td>2018-05-02 17:09:00</td>\n",
       "      <td>2018</td>\n",
       "      <td>5.0</td>\n",
       "      <td>2</td>\n",
       "      <td>You Can Trick Your Brain Into Being More Focused</td>\n",
       "      <td>If only every day could be like this. You can’...</td>\n",
       "      <td>healthcare</td>\n",
       "      <td>Vice</td>\n",
       "      <td>0</td>\n",
       "      <td>If every day could like this. You can’t put fi...</td>\n",
       "      <td>if every day could like this you can’t put fin...</td>\n",
       "    </tr>\n",
       "    <tr>\n",
       "      <th>1</th>\n",
       "      <td>2019-06-23 00:00:00</td>\n",
       "      <td>2019</td>\n",
       "      <td>6.0</td>\n",
       "      <td>23</td>\n",
       "      <td>Hudson's Bay's chairman's buyout bid pits reta...</td>\n",
       "      <td>(Reuters) - The success of Hudson’s Bay Co Exe...</td>\n",
       "      <td>business</td>\n",
       "      <td>Reuters</td>\n",
       "      <td>1</td>\n",
       "      <td>(Reuters) - The success Hudson’s Bay Co Execut...</td>\n",
       "      <td>reuters the success hudson’s bay co executive ...</td>\n",
       "    </tr>\n",
       "    <tr>\n",
       "      <th>2</th>\n",
       "      <td>2018-12-28 00:00:00</td>\n",
       "      <td>2018</td>\n",
       "      <td>12.0</td>\n",
       "      <td>28</td>\n",
       "      <td>Wells Fargo to pay $575 million in settlement ...</td>\n",
       "      <td>NEW YORK (Reuters) - Wells Fargo &amp; Co (WFC.N) ...</td>\n",
       "      <td>business</td>\n",
       "      <td>Reuters</td>\n",
       "      <td>1</td>\n",
       "      <td>NEW YORK (Reuters) - Wells Fargo &amp; Co (WFC.N) ...</td>\n",
       "      <td>new york reuters wells fargo co wfc n pay 575 ...</td>\n",
       "    </tr>\n",
       "    <tr>\n",
       "      <th>3</th>\n",
       "      <td>2019-05-21 00:00:00</td>\n",
       "      <td>2019</td>\n",
       "      <td>5.0</td>\n",
       "      <td>21</td>\n",
       "      <td>Factbox: Investments by automakers in the U.S....</td>\n",
       "      <td>(Reuters) - Major automakers have announced a ...</td>\n",
       "      <td>business</td>\n",
       "      <td>Reuters</td>\n",
       "      <td>1</td>\n",
       "      <td>(Reuters) - Major automakers announced slew in...</td>\n",
       "      <td>reuters major automakers announced slew invest...</td>\n",
       "    </tr>\n",
       "    <tr>\n",
       "      <th>4</th>\n",
       "      <td>2019-02-05 00:00:00</td>\n",
       "      <td>2019</td>\n",
       "      <td>2.0</td>\n",
       "      <td>5</td>\n",
       "      <td>Exclusive: Britain's financial heartland unbow...</td>\n",
       "      <td>LONDON (Reuters) - Britain’s financial service...</td>\n",
       "      <td>business</td>\n",
       "      <td>Reuters</td>\n",
       "      <td>1</td>\n",
       "      <td>LONDON (Reuters) - Britain’s financial service...</td>\n",
       "      <td>london reuters britain’s financial services in...</td>\n",
       "    </tr>\n",
       "  </tbody>\n",
       "</table>\n",
       "</div>"
      ],
      "text/plain": [
       "                 date  year  month  day  \\\n",
       "0 2018-05-02 17:09:00  2018    5.0    2   \n",
       "1 2019-06-23 00:00:00  2019    6.0   23   \n",
       "2 2018-12-28 00:00:00  2018   12.0   28   \n",
       "3 2019-05-21 00:00:00  2019    5.0   21   \n",
       "4 2019-02-05 00:00:00  2019    2.0    5   \n",
       "\n",
       "                                               title  \\\n",
       "0   You Can Trick Your Brain Into Being More Focused   \n",
       "1  Hudson's Bay's chairman's buyout bid pits reta...   \n",
       "2  Wells Fargo to pay $575 million in settlement ...   \n",
       "3  Factbox: Investments by automakers in the U.S....   \n",
       "4  Exclusive: Britain's financial heartland unbow...   \n",
       "\n",
       "                                             article     section publication  \\\n",
       "0  If only every day could be like this. You can’...  healthcare        Vice   \n",
       "1  (Reuters) - The success of Hudson’s Bay Co Exe...    business     Reuters   \n",
       "2  NEW YORK (Reuters) - Wells Fargo & Co (WFC.N) ...    business     Reuters   \n",
       "3  (Reuters) - Major automakers have announced a ...    business     Reuters   \n",
       "4  LONDON (Reuters) - Britain’s financial service...    business     Reuters   \n",
       "\n",
       "   sectionId                                      clean_article  \\\n",
       "0          0  If every day could like this. You can’t put fi...   \n",
       "1          1  (Reuters) - The success Hudson’s Bay Co Execut...   \n",
       "2          1  NEW YORK (Reuters) - Wells Fargo & Co (WFC.N) ...   \n",
       "3          1  (Reuters) - Major automakers announced slew in...   \n",
       "4          1  LONDON (Reuters) - Britain’s financial service...   \n",
       "\n",
       "                                                text  \n",
       "0  if every day could like this you can’t put fin...  \n",
       "1  reuters the success hudson’s bay co executive ...  \n",
       "2  new york reuters wells fargo co wfc n pay 575 ...  \n",
       "3  reuters major automakers announced slew invest...  \n",
       "4  london reuters britain’s financial services in...  "
      ]
     },
     "execution_count": 13,
     "metadata": {},
     "output_type": "execute_result"
    }
   ],
   "source": [
    "df.head()"
   ]
  },
  {
   "cell_type": "markdown",
   "metadata": {},
   "source": [
    "### Build models and make predictions"
   ]
  },
  {
   "cell_type": "code",
   "execution_count": 14,
   "metadata": {},
   "outputs": [],
   "source": [
    "# Split the data into training and test sets\n",
    "target = df['sectionId']\n",
    "df_train, df_test = train_test_split(df, test_size=0.20, stratify=target)"
   ]
  },
  {
   "cell_type": "code",
   "execution_count": 15,
   "metadata": {},
   "outputs": [],
   "source": [
    "vec = CountVectorizer(\n",
    "    max_features=10000\n",
    ")\n",
    "\n",
    "X_train = vec.fit_transform(df_train.text)\n",
    "X_test = vec.transform(df_test.text)\n",
    "\n",
    "y_train = df_train.sectionId\n",
    "y_test = df_test.sectionId"
   ]
  },
  {
   "cell_type": "markdown",
   "metadata": {},
   "source": [
    "##### Naive Bayes Model: F1 - .906%"
   ]
  },
  {
   "cell_type": "code",
   "execution_count": 16,
   "metadata": {},
   "outputs": [],
   "source": [
    "# Train the model\n",
    "nb = MultinomialNB().fit(X_train, y_train)"
   ]
  },
  {
   "cell_type": "code",
   "execution_count": 17,
   "metadata": {},
   "outputs": [],
   "source": [
    "# Predict the test set results\n",
    "y_pred = nb.predict(X_test)"
   ]
  },
  {
   "cell_type": "code",
   "execution_count": 18,
   "metadata": {},
   "outputs": [
    {
     "name": "stdout",
     "output_type": "stream",
     "text": [
      "Accuracy:  0.9054\n"
     ]
    }
   ],
   "source": [
    "# Evaluate the model\n",
    "print(\"Accuracy: \", accuracy_score(y_test, y_pred))\n"
   ]
  },
  {
   "cell_type": "code",
   "execution_count": 19,
   "metadata": {},
   "outputs": [
    {
     "name": "stdout",
     "output_type": "stream",
     "text": [
      "              precision    recall  f1-score   support\n",
      "\n",
      "  healthcare       0.96      0.83      0.89      1000\n",
      "    business       0.75      0.93      0.83      1000\n",
      "      sports       0.98      0.96      0.97      1000\n",
      "  technology       0.91      0.80      0.85      1000\n",
      "      movies       0.98      1.00      0.99      1000\n",
      "\n",
      "    accuracy                           0.91      5000\n",
      "   macro avg       0.92      0.91      0.91      5000\n",
      "weighted avg       0.92      0.91      0.91      5000\n",
      "\n"
     ]
    }
   ],
   "source": [
    "# Show precision, recall, and f1-score\n",
    "print(classification_report(y_test, y_pred, target_names=df['section'].unique()))\n"
   ]
  },
  {
   "cell_type": "code",
   "execution_count": 20,
   "metadata": {},
   "outputs": [
    {
     "name": "stdout",
     "output_type": "stream",
     "text": [
      "F1 score:  0.9065439285095243\n"
     ]
    }
   ],
   "source": [
    "# Overall F1 score\n",
    "print(\"F1 score: \", f1_score(y_test, y_pred, average='weighted'))"
   ]
  },
  {
   "cell_type": "markdown",
   "metadata": {},
   "source": [
    "##### Logistic Regression: F1 - .948%"
   ]
  },
  {
   "cell_type": "code",
   "execution_count": 21,
   "metadata": {},
   "outputs": [
    {
     "name": "stderr",
     "output_type": "stream",
     "text": [
      "/opt/homebrew/Caskroom/miniforge/base/envs/mle-week04/lib/python3.9/site-packages/sklearn/linear_model/_logistic.py:814: ConvergenceWarning: lbfgs failed to converge (status=1):\n",
      "STOP: TOTAL NO. of ITERATIONS REACHED LIMIT.\n",
      "\n",
      "Increase the number of iterations (max_iter) or scale the data as shown in:\n",
      "    https://scikit-learn.org/stable/modules/preprocessing.html\n",
      "Please also refer to the documentation for alternative solver options:\n",
      "    https://scikit-learn.org/stable/modules/linear_model.html#logistic-regression\n",
      "  n_iter_i = _check_optimize_result(\n"
     ]
    }
   ],
   "source": [
    "# Train a logistic regression model\n",
    "lr = LogisticRegression(random_state=0, solver='lbfgs', multi_class='multinomial').fit(X_train, y_train)"
   ]
  },
  {
   "cell_type": "code",
   "execution_count": 22,
   "metadata": {},
   "outputs": [
    {
     "name": "stderr",
     "output_type": "stream",
     "text": [
      "/opt/homebrew/Caskroom/miniforge/base/envs/mle-week04/lib/python3.9/site-packages/sklearn/linear_model/_logistic.py:814: ConvergenceWarning: lbfgs failed to converge (status=1):\n",
      "STOP: TOTAL NO. of ITERATIONS REACHED LIMIT.\n",
      "\n",
      "Increase the number of iterations (max_iter) or scale the data as shown in:\n",
      "    https://scikit-learn.org/stable/modules/preprocessing.html\n",
      "Please also refer to the documentation for alternative solver options:\n",
      "    https://scikit-learn.org/stable/modules/linear_model.html#logistic-regression\n",
      "  n_iter_i = _check_optimize_result(\n"
     ]
    },
    {
     "data": {
      "text/plain": [
       "LogisticRegression(multi_class='multinomial', random_state=0)"
      ]
     },
     "execution_count": 22,
     "metadata": {},
     "output_type": "execute_result"
    }
   ],
   "source": [
    "# Fit the model\n",
    "lr.fit(X_train, y_train)"
   ]
  },
  {
   "cell_type": "code",
   "execution_count": 23,
   "metadata": {},
   "outputs": [],
   "source": [
    "# Predict the test set results\n",
    "y_pred = lr.predict(X_test)"
   ]
  },
  {
   "cell_type": "code",
   "execution_count": 24,
   "metadata": {},
   "outputs": [
    {
     "name": "stdout",
     "output_type": "stream",
     "text": [
      "Accuracy:  0.948\n"
     ]
    }
   ],
   "source": [
    "# Evaluate the model\n",
    "print(\"Accuracy: \", accuracy_score(y_test, y_pred))"
   ]
  },
  {
   "cell_type": "code",
   "execution_count": 25,
   "metadata": {},
   "outputs": [
    {
     "name": "stdout",
     "output_type": "stream",
     "text": [
      "              precision    recall  f1-score   support\n",
      "\n",
      "  healthcare       0.97      0.95      0.96      1000\n",
      "    business       0.90      0.93      0.92      1000\n",
      "      sports       0.97      0.97      0.97      1000\n",
      "  technology       0.91      0.90      0.90      1000\n",
      "      movies       0.98      0.99      0.99      1000\n",
      "\n",
      "    accuracy                           0.95      5000\n",
      "   macro avg       0.95      0.95      0.95      5000\n",
      "weighted avg       0.95      0.95      0.95      5000\n",
      "\n"
     ]
    }
   ],
   "source": [
    "# Show precision, recall, and f1-score\n",
    "print(classification_report(y_test, y_pred, target_names=df['section'].unique()))"
   ]
  },
  {
   "cell_type": "code",
   "execution_count": 26,
   "metadata": {},
   "outputs": [
    {
     "name": "stdout",
     "output_type": "stream",
     "text": [
      "F1 score:  0.9480268868951603\n"
     ]
    }
   ],
   "source": [
    "# Overall F1 score\n",
    "print(\"F1 score: \", f1_score(y_test, y_pred, average='weighted'))"
   ]
  },
  {
   "cell_type": "markdown",
   "metadata": {},
   "source": [
    "#### SVM Model: F1 - .944%"
   ]
  },
  {
   "cell_type": "code",
   "execution_count": 27,
   "metadata": {},
   "outputs": [
    {
     "name": "stderr",
     "output_type": "stream",
     "text": [
      "/opt/homebrew/Caskroom/miniforge/base/envs/mle-week04/lib/python3.9/site-packages/sklearn/svm/_base.py:1206: ConvergenceWarning: Liblinear failed to converge, increase the number of iterations.\n",
      "  warnings.warn(\n"
     ]
    }
   ],
   "source": [
    "# Train a Support Vector Machine model\n",
    "svm = LinearSVC().fit(X_train, y_train)"
   ]
  },
  {
   "cell_type": "code",
   "execution_count": 28,
   "metadata": {},
   "outputs": [
    {
     "name": "stderr",
     "output_type": "stream",
     "text": [
      "/opt/homebrew/Caskroom/miniforge/base/envs/mle-week04/lib/python3.9/site-packages/sklearn/svm/_base.py:1206: ConvergenceWarning: Liblinear failed to converge, increase the number of iterations.\n",
      "  warnings.warn(\n"
     ]
    },
    {
     "data": {
      "text/plain": [
       "LinearSVC()"
      ]
     },
     "execution_count": 28,
     "metadata": {},
     "output_type": "execute_result"
    }
   ],
   "source": [
    "# Fit the model\n",
    "svm.fit(X_train, y_train)"
   ]
  },
  {
   "cell_type": "code",
   "execution_count": 29,
   "metadata": {},
   "outputs": [],
   "source": [
    "# Predict the test set results\n",
    "y_pred = svm.predict(X_test)"
   ]
  },
  {
   "cell_type": "code",
   "execution_count": 30,
   "metadata": {},
   "outputs": [
    {
     "name": "stdout",
     "output_type": "stream",
     "text": [
      "Accuracy:  0.944\n",
      "              precision    recall  f1-score   support\n",
      "\n",
      "  healthcare       0.97      0.96      0.96      1000\n",
      "    business       0.90      0.92      0.91      1000\n",
      "      sports       0.97      0.97      0.97      1000\n",
      "  technology       0.90      0.89      0.89      1000\n",
      "      movies       0.98      0.98      0.98      1000\n",
      "\n",
      "    accuracy                           0.94      5000\n",
      "   macro avg       0.94      0.94      0.94      5000\n",
      "weighted avg       0.94      0.94      0.94      5000\n",
      "\n"
     ]
    }
   ],
   "source": [
    "# Evaluate the model and show precision, recall, and f1-score\n",
    "print(\"Accuracy: \", accuracy_score(y_test, y_pred))\n",
    "print(classification_report(y_test, y_pred, target_names=df['section'].unique()))"
   ]
  },
  {
   "cell_type": "code",
   "execution_count": 31,
   "metadata": {},
   "outputs": [
    {
     "name": "stdout",
     "output_type": "stream",
     "text": [
      "F1 score:  0.9440430969147353\n"
     ]
    }
   ],
   "source": [
    "# Overall F1 score\n",
    "print(\"F1 score: \", f1_score(y_test, y_pred, average='weighted'))"
   ]
  },
  {
   "cell_type": "markdown",
   "metadata": {},
   "source": [
    "#### Random Forest - .929%"
   ]
  },
  {
   "cell_type": "code",
   "execution_count": 34,
   "metadata": {},
   "outputs": [],
   "source": [
    "# Train a Random Forest model\n",
    "rf = RandomForestClassifier(n_estimators=100, max_depth=50, random_state=0, criterion='entropy').fit(X_train, y_train)\n"
   ]
  },
  {
   "cell_type": "code",
   "execution_count": 35,
   "metadata": {},
   "outputs": [
    {
     "data": {
      "text/plain": [
       "RandomForestClassifier(criterion='entropy', max_depth=50, random_state=0)"
      ]
     },
     "execution_count": 35,
     "metadata": {},
     "output_type": "execute_result"
    }
   ],
   "source": [
    "# Fit the model\n",
    "rf.fit(X_train, y_train)"
   ]
  },
  {
   "cell_type": "code",
   "execution_count": 36,
   "metadata": {},
   "outputs": [],
   "source": [
    "# Predict the test set results\n",
    "y_pred = rf.predict(X_test)"
   ]
  },
  {
   "cell_type": "code",
   "execution_count": 38,
   "metadata": {},
   "outputs": [
    {
     "name": "stdout",
     "output_type": "stream",
     "text": [
      "Accuracy:  0.9298\n",
      "              precision    recall  f1-score   support\n",
      "\n",
      "  healthcare       0.97      0.93      0.95      1000\n",
      "    business       0.84      0.98      0.90      1000\n",
      "      sports       0.97      0.95      0.96      1000\n",
      "  technology       0.93      0.81      0.86      1000\n",
      "      movies       0.97      0.99      0.98      1000\n",
      "\n",
      "    accuracy                           0.93      5000\n",
      "   macro avg       0.93      0.93      0.93      5000\n",
      "weighted avg       0.93      0.93      0.93      5000\n",
      "\n"
     ]
    }
   ],
   "source": [
    "# Evaluate the model and show precision, recall, and f1-score\n",
    "print(\"Accuracy: \", accuracy_score(y_test, y_pred))\n",
    "print(classification_report(y_test, y_pred, target_names=df['section'].unique()))"
   ]
  },
  {
   "cell_type": "code",
   "execution_count": 39,
   "metadata": {},
   "outputs": [
    {
     "name": "stdout",
     "output_type": "stream",
     "text": [
      "F1 score:  0.9294155184664451\n"
     ]
    }
   ],
   "source": [
    "# Overall F1 score\n",
    "print(\"F1 score: \", f1_score(y_test, y_pred, average='weighted'))"
   ]
  },
  {
   "cell_type": "markdown",
   "metadata": {},
   "source": [
    "#### Decision Tree - .859%"
   ]
  },
  {
   "cell_type": "markdown",
   "metadata": {},
   "source": [
    "### Summary"
   ]
  },
  {
   "cell_type": "markdown",
   "metadata": {},
   "source": [
    "The baseline model relies on a balanced dataset spanning five categories. The categories selected are two that GLG is interested in (`healthcare` and `technology`), two that are completely different (`sports` and `movies`), and one that is wide-ranging (`business`).\n",
    "\n",
    "I started with a smaller dataset of 5K articles in the first pass using the same pipeline in this notebook. The results, however, were pretty dismal. I was unable to break an F1 score of 78 percent. I was also going heavier on the text processing, using stemming and lemmatization. \n",
    "\n",
    "For the final baseline model I continued using NLTK to remove stop words, but went with a much simpler script to clean the data. I also set the max features of the Count Vectorizer object to 10,000, which basically tells the model to use the 10,000 most frequent words across the articles.\n",
    "\n",
    "It appears this combination gave the models a significant boost, as Logistic Regression and SVM now have an F1 score of ~95%.\n",
    "\n",
    "There are still opportunities for data quality improvement. The original corpus is enormous, and I could spend more time in the future carefully curating the section labels so there is even more standardization across the dataset. The original dataset contained 7.5K unique section labels. "
   ]
  }
 ],
 "metadata": {
  "kernelspec": {
   "display_name": "Python 3.9.13 ('mle-week04')",
   "language": "python",
   "name": "python3"
  },
  "language_info": {
   "codemirror_mode": {
    "name": "ipython",
    "version": 3
   },
   "file_extension": ".py",
   "mimetype": "text/x-python",
   "name": "python",
   "nbconvert_exporter": "python",
   "pygments_lexer": "ipython3",
   "version": "3.9.13"
  },
  "orig_nbformat": 4,
  "vscode": {
   "interpreter": {
    "hash": "f3a68452d880a521aeaaecf4758779aa2841daa5f66dd02a7fbc5ea85c6eda89"
   }
  }
 },
 "nbformat": 4,
 "nbformat_minor": 2
}
