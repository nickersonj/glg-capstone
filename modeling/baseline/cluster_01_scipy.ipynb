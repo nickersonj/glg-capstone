{
 "cells": [
  {
   "attachments": {},
   "cell_type": "markdown",
   "metadata": {},
   "source": [
    "This notebook applies scipy's [hierarchical clustering package](https://docs.scipy.org/doc/scipy/reference/cluster.hierarchy.html#) to the `all-the-news-25k.csv` dataset."
   ]
  },
  {
   "attachments": {},
   "cell_type": "markdown",
   "metadata": {},
   "source": [
    "## Setup"
   ]
  },
  {
   "cell_type": "code",
   "execution_count": 58,
   "metadata": {},
   "outputs": [
    {
     "name": "stdout",
     "output_type": "stream",
     "text": [
      "<class 'pandas.core.frame.DataFrame'>\n",
      "RangeIndex: 25000 entries, 0 to 24999\n",
      "Data columns (total 8 columns):\n",
      " #   Column       Non-Null Count  Dtype         \n",
      "---  ------       --------------  -----         \n",
      " 0   date         25000 non-null  datetime64[ns]\n",
      " 1   year         25000 non-null  int64         \n",
      " 2   month        25000 non-null  float64       \n",
      " 3   day          25000 non-null  int64         \n",
      " 4   title        25000 non-null  object        \n",
      " 5   article      25000 non-null  object        \n",
      " 6   section      25000 non-null  object        \n",
      " 7   publication  25000 non-null  object        \n",
      "dtypes: datetime64[ns](1), float64(1), int64(2), object(4)\n",
      "memory usage: 1.5+ MB\n"
     ]
    }
   ],
   "source": [
    "import pandas as pd\n",
    "\n",
    "df = pd.read_csv('data/all-the-news-25K.csv', low_memory=False, parse_dates=['date'])\n",
    "df.info()"
   ]
  },
  {
   "cell_type": "code",
   "execution_count": 2,
   "metadata": {},
   "outputs": [
    {
     "data": {
      "text/html": [
       "<div>\n",
       "<style scoped>\n",
       "    .dataframe tbody tr th:only-of-type {\n",
       "        vertical-align: middle;\n",
       "    }\n",
       "\n",
       "    .dataframe tbody tr th {\n",
       "        vertical-align: top;\n",
       "    }\n",
       "\n",
       "    .dataframe thead th {\n",
       "        text-align: right;\n",
       "    }\n",
       "</style>\n",
       "<table border=\"1\" class=\"dataframe\">\n",
       "  <thead>\n",
       "    <tr style=\"text-align: right;\">\n",
       "      <th></th>\n",
       "      <th>date</th>\n",
       "      <th>year</th>\n",
       "      <th>month</th>\n",
       "      <th>day</th>\n",
       "      <th>title</th>\n",
       "      <th>article</th>\n",
       "      <th>section</th>\n",
       "      <th>publication</th>\n",
       "    </tr>\n",
       "  </thead>\n",
       "  <tbody>\n",
       "    <tr>\n",
       "      <th>3761</th>\n",
       "      <td>2018-07-13 00:00:00</td>\n",
       "      <td>2018</td>\n",
       "      <td>7.0</td>\n",
       "      <td>13</td>\n",
       "      <td>Trade policy uncertainty could bolster U.S. de...</td>\n",
       "      <td>NEW YORK (Reuters) - As the United States ramp...</td>\n",
       "      <td>business</td>\n",
       "      <td>Reuters</td>\n",
       "    </tr>\n",
       "    <tr>\n",
       "      <th>19478</th>\n",
       "      <td>2017-08-03 00:00:00</td>\n",
       "      <td>2017</td>\n",
       "      <td>8.0</td>\n",
       "      <td>3</td>\n",
       "      <td>Facebook Stories are coming to the desktop</td>\n",
       "      <td>Facebook Stories, one of several Facebook-made...</td>\n",
       "      <td>technology</td>\n",
       "      <td>The Verge</td>\n",
       "    </tr>\n",
       "    <tr>\n",
       "      <th>5563</th>\n",
       "      <td>2019-06-26 00:00:00</td>\n",
       "      <td>2019</td>\n",
       "      <td>6.0</td>\n",
       "      <td>26</td>\n",
       "      <td>U.S. extends divestiture deadline for sanction...</td>\n",
       "      <td>WASHINGTON (Reuters) - The U.S. Treasury said ...</td>\n",
       "      <td>business</td>\n",
       "      <td>Reuters</td>\n",
       "    </tr>\n",
       "    <tr>\n",
       "      <th>23093</th>\n",
       "      <td>2018-02-11 15:21:00</td>\n",
       "      <td>2018</td>\n",
       "      <td>2.0</td>\n",
       "      <td>11</td>\n",
       "      <td>Amy Schumer Smooches Chris Fischer in New Photo</td>\n",
       "      <td>Smooch there it is! Amy Schumer and chef Chris...</td>\n",
       "      <td>movies</td>\n",
       "      <td>People</td>\n",
       "    </tr>\n",
       "    <tr>\n",
       "      <th>19682</th>\n",
       "      <td>2017-09-10 00:00:00</td>\n",
       "      <td>2017</td>\n",
       "      <td>9.0</td>\n",
       "      <td>10</td>\n",
       "      <td>AI learns to re-create Super Mario Bros. by wa...</td>\n",
       "      <td>Usually, when we get AI systems to watch video...</td>\n",
       "      <td>technology</td>\n",
       "      <td>The Verge</td>\n",
       "    </tr>\n",
       "  </tbody>\n",
       "</table>\n",
       "</div>"
      ],
      "text/plain": [
       "                     date  year  month  day  \\\n",
       "3761  2018-07-13 00:00:00  2018    7.0   13   \n",
       "19478 2017-08-03 00:00:00  2017    8.0    3   \n",
       "5563  2019-06-26 00:00:00  2019    6.0   26   \n",
       "23093 2018-02-11 15:21:00  2018    2.0   11   \n",
       "19682 2017-09-10 00:00:00  2017    9.0   10   \n",
       "\n",
       "                                                   title  \\\n",
       "3761   Trade policy uncertainty could bolster U.S. de...   \n",
       "19478         Facebook Stories are coming to the desktop   \n",
       "5563   U.S. extends divestiture deadline for sanction...   \n",
       "23093    Amy Schumer Smooches Chris Fischer in New Photo   \n",
       "19682  AI learns to re-create Super Mario Bros. by wa...   \n",
       "\n",
       "                                                 article     section  \\\n",
       "3761   NEW YORK (Reuters) - As the United States ramp...    business   \n",
       "19478  Facebook Stories, one of several Facebook-made...  technology   \n",
       "5563   WASHINGTON (Reuters) - The U.S. Treasury said ...    business   \n",
       "23093  Smooch there it is! Amy Schumer and chef Chris...      movies   \n",
       "19682  Usually, when we get AI systems to watch video...  technology   \n",
       "\n",
       "      publication  \n",
       "3761      Reuters  \n",
       "19478   The Verge  \n",
       "5563      Reuters  \n",
       "23093      People  \n",
       "19682   The Verge  "
      ]
     },
     "execution_count": 2,
     "metadata": {},
     "output_type": "execute_result"
    }
   ],
   "source": [
    "df.sample(5)"
   ]
  },
  {
   "attachments": {},
   "cell_type": "markdown",
   "metadata": {},
   "source": [
    "Use [sklearn.feature_extraction.text.CountVectorizer](https://scikit-learn.org/stable/modules/generated/sklearn.feature_extraction.text.CountVectorizer.html#sklearn.feature_extraction.text.CountVectorizer) to convert to a matrix of token counts:"
   ]
  },
  {
   "cell_type": "code",
   "execution_count": 3,
   "metadata": {},
   "outputs": [
    {
     "data": {
      "text/plain": [
       "(scipy.sparse.csr.csr_matrix, (25000, 1000))"
      ]
     },
     "execution_count": 3,
     "metadata": {},
     "output_type": "execute_result"
    }
   ],
   "source": [
    "from sklearn.feature_extraction.text import CountVectorizer\n",
    "\n",
    "vec = CountVectorizer(max_df=0.95, min_df=2, max_features=1000, stop_words=\"english\")\n",
    "X = vec.fit_transform(df['article'])\n",
    "\n",
    "type(X), X.shape"
   ]
  },
  {
   "attachments": {},
   "cell_type": "markdown",
   "metadata": {},
   "source": [
    "Use [scipy.sparse.csr_matrix.todense](https://docs.scipy.org/doc/scipy/reference/generated/scipy.sparse.csr_matrix.todense.html) to convert from a sparse to dense matrix:"
   ]
  },
  {
   "cell_type": "code",
   "execution_count": 4,
   "metadata": {},
   "outputs": [
    {
     "data": {
      "text/plain": [
       "(numpy.matrix, (25000, 1000))"
      ]
     },
     "execution_count": 4,
     "metadata": {},
     "output_type": "execute_result"
    }
   ],
   "source": [
    "X_dense = X.todense()\n",
    "type(X_dense), X_dense.shape"
   ]
  },
  {
   "attachments": {},
   "cell_type": "markdown",
   "metadata": {},
   "source": [
    "## Hierarchical Clustering"
   ]
  },
  {
   "attachments": {},
   "cell_type": "markdown",
   "metadata": {},
   "source": [
    "Perform hierarchical/agglomerative clustering; see [scipy documentation](https://docs.scipy.org/doc/scipy/reference/generated/scipy.cluster.hierarchy.linkage.html#scipy.cluster.hierarchy.linkage)."
   ]
  },
  {
   "cell_type": "code",
   "execution_count": 5,
   "metadata": {},
   "outputs": [
    {
     "name": "stdout",
     "output_type": "stream",
     "text": [
      "CPU times: user 2min 41s, sys: 1.96 s, total: 2min 43s\n",
      "Wall time: 2min 43s\n"
     ]
    }
   ],
   "source": [
    "%%time\n",
    "\n",
    "from scipy.cluster.hierarchy import linkage, dendrogram\n",
    "\n",
    "Z = linkage(X_dense, method='ward')"
   ]
  },
  {
   "attachments": {},
   "cell_type": "markdown",
   "metadata": {},
   "source": [
    "The cophenetic correlation measures \"how faithfully a dendrogram preserves the pairwise distances between the original unmodeled data points\" — see [Wikipedia](https://en.wikipedia.org/wiki/Cophenetic_correlation). The closer to 1, the better the clustering preserves the original distances."
   ]
  },
  {
   "cell_type": "code",
   "execution_count": 6,
   "metadata": {},
   "outputs": [
    {
     "name": "stdout",
     "output_type": "stream",
     "text": [
      "CPU times: user 2min 26s, sys: 4.56 s, total: 2min 31s\n",
      "Wall time: 2min 31s\n"
     ]
    },
    {
     "data": {
      "text/plain": [
       "0.4974043405964257"
      ]
     },
     "execution_count": 6,
     "metadata": {},
     "output_type": "execute_result"
    }
   ],
   "source": [
    "%%time\n",
    "\n",
    "from scipy.cluster.hierarchy import cophenet\n",
    "from scipy.spatial.distance import pdist\n",
    "\n",
    "c, coph_dists = cophenet(Z, pdist(X_dense))\n",
    "c"
   ]
  },
  {
   "attachments": {},
   "cell_type": "markdown",
   "metadata": {},
   "source": [
    "0.497 isn't great. I'm going to try other linkage methods and metrics."
   ]
  },
  {
   "cell_type": "code",
   "execution_count": 11,
   "metadata": {},
   "outputs": [
    {
     "name": "stdout",
     "output_type": "stream",
     "text": [
      "single method and cityblock metric: 0.9257020466030761\n",
      "CPU times: user 5min 59s, sys: 6.77 s, total: 6min 6s\n",
      "Wall time: 6min 7s\n"
     ]
    }
   ],
   "source": [
    "%%time\n",
    "\n",
    "Z_single_cityblock = linkage(X_dense, method='single', metric='cityblock')\n",
    "c_single_cityblock, _ = cophenet(Z_single_cityblock, pdist(X_dense))\n",
    "print(f\"single method and cityblock metric: {c_single_cityblock}\")"
   ]
  },
  {
   "cell_type": "code",
   "execution_count": 12,
   "metadata": {},
   "outputs": [
    {
     "name": "stdout",
     "output_type": "stream",
     "text": [
      "single method and euclidean metric: 0.9638518034815363\n",
      "CPU times: user 5min 3s, sys: 6.43 s, total: 5min 10s\n",
      "Wall time: 5min 11s\n"
     ]
    }
   ],
   "source": [
    "%%time\n",
    "\n",
    "Z_single_euclidean = linkage(X_dense, method='single', metric='euclidean')\n",
    "c_single_euclidean, _ = cophenet(Z_single_euclidean, pdist(X_dense))\n",
    "print(f\"single method and euclidean metric: {c_single_euclidean}\")"
   ]
  },
  {
   "cell_type": "code",
   "execution_count": 13,
   "metadata": {},
   "outputs": [
    {
     "name": "stdout",
     "output_type": "stream",
     "text": [
      "complete method and euclidean metric: 0.7895273877834017\n",
      "CPU times: user 5min 21s, sys: 7.17 s, total: 5min 28s\n",
      "Wall time: 5min 29s\n"
     ]
    }
   ],
   "source": [
    "%%time\n",
    "\n",
    "Z_complete_euclidean = linkage(X_dense, method='complete', metric='euclidean')\n",
    "c_complete_euclidean, _ = cophenet(Z_complete_euclidean, pdist(X_dense))\n",
    "print(f\"complete method and euclidean metric: {c_complete_euclidean}\")"
   ]
  },
  {
   "attachments": {},
   "cell_type": "markdown",
   "metadata": {},
   "source": [
    "Looks like the `single` method with `euclidean` metric gives us the best cophenetic correlation (0.96) so we'll proceed with that one."
   ]
  },
  {
   "attachments": {},
   "cell_type": "markdown",
   "metadata": {},
   "source": [
    "The `linkage()` function above uses my specified method (`ward`) to calculate the distances of the clusters. It starts off with every data point as a singleton cluster. In each iteration, it will merge the two clusters with the smallest distance.\n",
    "\n",
    "`Z[i]` tells us which clusters were merged in the i-th iteration, with this format: `[index1, index2, distance, sample_count]`.\n",
    "\n",
    "In the first iteration, we see that data samples with indices 13542 and 14851 were merged since they had a distance of 0, creating a cluster with a count of 2:"
   ]
  },
  {
   "cell_type": "code",
   "execution_count": 14,
   "metadata": {},
   "outputs": [
    {
     "data": {
      "text/plain": [
       "array([1.3542e+04, 1.3776e+04, 0.0000e+00, 2.0000e+00])"
      ]
     },
     "execution_count": 14,
     "metadata": {},
     "output_type": "execute_result"
    }
   ],
   "source": [
    "Z_single_euclidean[0]"
   ]
  },
  {
   "attachments": {},
   "cell_type": "markdown",
   "metadata": {},
   "source": [
    "Let's look at the first 20 iterations:"
   ]
  },
  {
   "cell_type": "code",
   "execution_count": 21,
   "metadata": {},
   "outputs": [
    {
     "data": {
      "text/plain": [
       "array([[1.3542e+04, 1.3776e+04, 0.0000e+00, 2.0000e+00],\n",
       "       [1.4618e+04, 2.5000e+04, 0.0000e+00, 3.0000e+00],\n",
       "       [1.4683e+04, 1.4812e+04, 0.0000e+00, 2.0000e+00],\n",
       "       [1.4778e+04, 1.4851e+04, 0.0000e+00, 2.0000e+00],\n",
       "       [9.8790e+03, 1.0968e+04, 0.0000e+00, 2.0000e+00],\n",
       "       [1.4060e+04, 2.5004e+04, 0.0000e+00, 3.0000e+00],\n",
       "       [2.0678e+04, 2.5005e+04, 0.0000e+00, 4.0000e+00],\n",
       "       [1.0979e+04, 1.1671e+04, 0.0000e+00, 2.0000e+00],\n",
       "       [1.7440e+03, 7.9730e+03, 0.0000e+00, 2.0000e+00],\n",
       "       [9.6660e+03, 2.5008e+04, 0.0000e+00, 3.0000e+00],\n",
       "       [9.9080e+03, 2.5009e+04, 0.0000e+00, 4.0000e+00],\n",
       "       [4.7880e+03, 8.6360e+03, 0.0000e+00, 2.0000e+00],\n",
       "       [1.0324e+04, 1.1492e+04, 0.0000e+00, 2.0000e+00],\n",
       "       [5.1260e+03, 7.7710e+03, 0.0000e+00, 2.0000e+00],\n",
       "       [6.6400e+02, 1.8890e+03, 0.0000e+00, 2.0000e+00],\n",
       "       [6.3100e+02, 5.6430e+03, 0.0000e+00, 2.0000e+00],\n",
       "       [1.2190e+03, 9.9390e+03, 0.0000e+00, 2.0000e+00],\n",
       "       [1.0246e+04, 1.2086e+04, 0.0000e+00, 2.0000e+00],\n",
       "       [1.5480e+03, 4.2830e+03, 0.0000e+00, 2.0000e+00],\n",
       "       [5.2790e+03, 1.2085e+04, 0.0000e+00, 2.0000e+00]])"
      ]
     },
     "execution_count": 21,
     "metadata": {},
     "output_type": "execute_result"
    }
   ],
   "source": [
    "Z_single_euclidean[:20]"
   ]
  },
  {
   "attachments": {},
   "cell_type": "markdown",
   "metadata": {},
   "source": [
    "We see that starting in the 2nd iteration, there is a cluster of size 3, which means we merged the cluster from the first iteration with an original sample.\n",
    "\n",
    "In the last 9 iterations, the sample count is 2, so they are all merging original samples only."
   ]
  },
  {
   "attachments": {},
   "cell_type": "markdown",
   "metadata": {},
   "source": [
    "## Dendrogram"
   ]
  },
  {
   "attachments": {},
   "cell_type": "markdown",
   "metadata": {},
   "source": [
    "A dendrogram is a tree visualization to see the order and distances of merges that occur during hierarchical clustering."
   ]
  },
  {
   "cell_type": "code",
   "execution_count": 27,
   "metadata": {},
   "outputs": [
    {
     "data": {
      "image/png": "[encoded data removed]",
      "text/plain": [
       "<Figure size 1100x600 with 1 Axes>"
      ]
     },
     "metadata": {},
     "output_type": "display_data"
    },
    {
     "name": "stdout",
     "output_type": "stream",
     "text": [
      "CPU times: user 1min 6s, sys: 322 ms, total: 1min 6s\n",
      "Wall time: 1min 6s\n"
     ]
    }
   ],
   "source": [
    "%%time\n",
    "\n",
    "import sys\n",
    "import matplotlib.pyplot as plt\n",
    "\n",
    "# Increase recursion limit\n",
    "sys.setrecursionlimit(100000)\n",
    "\n",
    "# Plot dendrogram\n",
    "fig, ax = plt.subplots(figsize=(11, 6))\n",
    "plt.title(\"Hierarchical Clustering Dendrogram (truncated)\")\n",
    "dendrogram(\n",
    "    Z_single_euclidean,\n",
    "    truncate_mode='lastp', # show only the last p merged clusters\n",
    "    p=24, # show only the last p merged clusters\n",
    "    leaf_rotation=90.0,\n",
    "    leaf_font_size=12.0,\n",
    "    show_contracted=True, # to get a distribution impression in truncated branches\n",
    ")\n",
    "plt.xlabel(\"sample index or (cluster size)\")\n",
    "plt.ylabel(\"distance\")\n",
    "plt.show()"
   ]
  },
  {
   "attachments": {},
   "cell_type": "markdown",
   "metadata": {},
   "source": [
    "That doesn't look great; it's just separating every sample from each other instead of clustering them.\n",
    "\n",
    "Let's try the Ward linkage with euclidean metric instead:"
   ]
  },
  {
   "cell_type": "code",
   "execution_count": 28,
   "metadata": {},
   "outputs": [
    {
     "data": {
      "image/png": "[encoded data removed]",
      "text/plain": [
       "<Figure size 1100x600 with 1 Axes>"
      ]
     },
     "metadata": {},
     "output_type": "display_data"
    }
   ],
   "source": [
    "fig, ax = plt.subplots(figsize=(11, 6))\n",
    "plt.title(\"Hierarchical Clustering Dendrogram (truncated)\")\n",
    "dendrogram(\n",
    "    Z,\n",
    "    truncate_mode='lastp', # show only the last p merged clusters\n",
    "    p=24, # show only the last p merged clusters\n",
    "    leaf_rotation=90.0,\n",
    "    leaf_font_size=12.0,\n",
    "    show_contracted=True, # to get a distribution impression in truncated branches\n",
    ")\n",
    "plt.xlabel(\"sample index or (cluster size)\")\n",
    "plt.ylabel(\"distance\")\n",
    "plt.show()"
   ]
  },
  {
   "attachments": {},
   "cell_type": "markdown",
   "metadata": {},
   "source": [
    "That looks better, with a clear hierarchy of clusters."
   ]
  },
  {
   "attachments": {},
   "cell_type": "markdown",
   "metadata": {},
   "source": [
    "## Retrieve Clusters"
   ]
  },
  {
   "attachments": {},
   "cell_type": "markdown",
   "metadata": {},
   "source": [
    "Use [scipy.cluster.hierarchy.fcluster](https://docs.scipy.org/doc/scipy/reference/generated/scipy.cluster.hierarchy.fcluster.html#scipy.cluster.hierarchy.fcluster) to retrieve cluster membership."
   ]
  },
  {
   "cell_type": "code",
   "execution_count": 38,
   "metadata": {},
   "outputs": [
    {
     "data": {
      "text/plain": [
       "array([1, 2, 3, 4, 5], dtype=int32)"
      ]
     },
     "execution_count": 38,
     "metadata": {},
     "output_type": "execute_result"
    }
   ],
   "source": [
    "from scipy.cluster.hierarchy import fcluster\n",
    "import numpy as np\n",
    "\n",
    "# Retrieve clusters based on 5 maximum clusters\n",
    "clusters = fcluster(Z, t=5, criterion='maxclust')\n",
    "\n",
    "# Check how many clusters we have\n",
    "np.unique(clusters)"
   ]
  },
  {
   "attachments": {},
   "cell_type": "markdown",
   "metadata": {},
   "source": [
    "Add cluster membership to the original DataFrame."
   ]
  },
  {
   "cell_type": "code",
   "execution_count": 59,
   "metadata": {},
   "outputs": [],
   "source": [
    "df['cluster'] = clusters"
   ]
  },
  {
   "attachments": {},
   "cell_type": "markdown",
   "metadata": {},
   "source": [
    "## Compare Clusters With 'Section' Column"
   ]
  },
  {
   "cell_type": "code",
   "execution_count": 60,
   "metadata": {},
   "outputs": [
    {
     "data": {
      "text/html": [
       "<div>\n",
       "<style scoped>\n",
       "    .dataframe tbody tr th:only-of-type {\n",
       "        vertical-align: middle;\n",
       "    }\n",
       "\n",
       "    .dataframe tbody tr th {\n",
       "        vertical-align: top;\n",
       "    }\n",
       "\n",
       "    .dataframe thead th {\n",
       "        text-align: right;\n",
       "    }\n",
       "</style>\n",
       "<table border=\"1\" class=\"dataframe\">\n",
       "  <thead>\n",
       "    <tr style=\"text-align: right;\">\n",
       "      <th></th>\n",
       "      <th>date</th>\n",
       "      <th>year</th>\n",
       "      <th>month</th>\n",
       "      <th>day</th>\n",
       "      <th>title</th>\n",
       "      <th>article</th>\n",
       "      <th>section</th>\n",
       "      <th>publication</th>\n",
       "      <th>cluster</th>\n",
       "    </tr>\n",
       "  </thead>\n",
       "  <tbody>\n",
       "    <tr>\n",
       "      <th>21304</th>\n",
       "      <td>2018-07-27 01:12:00</td>\n",
       "      <td>2018</td>\n",
       "      <td>7.0</td>\n",
       "      <td>27</td>\n",
       "      <td>Jonathan Rhys Meyers Says His Wife Is a 'Super...</td>\n",
       "      <td>Jonathan Rhys Meyers is praising his wife afte...</td>\n",
       "      <td>movies</td>\n",
       "      <td>People</td>\n",
       "      <td>4</td>\n",
       "    </tr>\n",
       "    <tr>\n",
       "      <th>7171</th>\n",
       "      <td>2019-06-26 00:00:00</td>\n",
       "      <td>2019</td>\n",
       "      <td>6.0</td>\n",
       "      <td>26</td>\n",
       "      <td>Trump suggests EU out of line in suing U.S. te...</td>\n",
       "      <td>WASHINGTON (Reuters) - U.S. President Donald T...</td>\n",
       "      <td>technology</td>\n",
       "      <td>Reuters</td>\n",
       "      <td>5</td>\n",
       "    </tr>\n",
       "    <tr>\n",
       "      <th>24366</th>\n",
       "      <td>2019-06-17 22:25:00</td>\n",
       "      <td>2019</td>\n",
       "      <td>6.0</td>\n",
       "      <td>17</td>\n",
       "      <td>MTV Movie &amp; TV Awards: Noah Centineo &amp; Lana Co...</td>\n",
       "      <td>Netflix’s heartthrobs are winners! Noah Centin...</td>\n",
       "      <td>movies</td>\n",
       "      <td>People</td>\n",
       "      <td>4</td>\n",
       "    </tr>\n",
       "    <tr>\n",
       "      <th>18904</th>\n",
       "      <td>2017-04-05 00:00:00</td>\n",
       "      <td>2017</td>\n",
       "      <td>4.0</td>\n",
       "      <td>5</td>\n",
       "      <td>Facebook will use photo matching to stop reven...</td>\n",
       "      <td>Facebook unveiled a new system today that it h...</td>\n",
       "      <td>technology</td>\n",
       "      <td>The Verge</td>\n",
       "      <td>5</td>\n",
       "    </tr>\n",
       "    <tr>\n",
       "      <th>21567</th>\n",
       "      <td>2018-03-21 15:04:00</td>\n",
       "      <td>2018</td>\n",
       "      <td>3.0</td>\n",
       "      <td>21</td>\n",
       "      <td>Margot Robbie's Hilarious Reaction to Her Brot...</td>\n",
       "      <td>Margot Robbie had a bit of a shock while promo...</td>\n",
       "      <td>movies</td>\n",
       "      <td>People</td>\n",
       "      <td>4</td>\n",
       "    </tr>\n",
       "  </tbody>\n",
       "</table>\n",
       "</div>"
      ],
      "text/plain": [
       "                     date  year  month  day  \\\n",
       "21304 2018-07-27 01:12:00  2018    7.0   27   \n",
       "7171  2019-06-26 00:00:00  2019    6.0   26   \n",
       "24366 2019-06-17 22:25:00  2019    6.0   17   \n",
       "18904 2017-04-05 00:00:00  2017    4.0    5   \n",
       "21567 2018-03-21 15:04:00  2018    3.0   21   \n",
       "\n",
       "                                                   title  \\\n",
       "21304  Jonathan Rhys Meyers Says His Wife Is a 'Super...   \n",
       "7171   Trump suggests EU out of line in suing U.S. te...   \n",
       "24366  MTV Movie & TV Awards: Noah Centineo & Lana Co...   \n",
       "18904  Facebook will use photo matching to stop reven...   \n",
       "21567  Margot Robbie's Hilarious Reaction to Her Brot...   \n",
       "\n",
       "                                                 article     section  \\\n",
       "21304  Jonathan Rhys Meyers is praising his wife afte...      movies   \n",
       "7171   WASHINGTON (Reuters) - U.S. President Donald T...  technology   \n",
       "24366  Netflix’s heartthrobs are winners! Noah Centin...      movies   \n",
       "18904  Facebook unveiled a new system today that it h...  technology   \n",
       "21567  Margot Robbie had a bit of a shock while promo...      movies   \n",
       "\n",
       "      publication  cluster  \n",
       "21304      People        4  \n",
       "7171      Reuters        5  \n",
       "24366      People        4  \n",
       "18904   The Verge        5  \n",
       "21567      People        4  "
      ]
     },
     "execution_count": 60,
     "metadata": {},
     "output_type": "execute_result"
    }
   ],
   "source": [
    "df.sample(5)"
   ]
  },
  {
   "attachments": {},
   "cell_type": "markdown",
   "metadata": {},
   "source": [
    "Count how many articles from each cluster belong to each `section`:"
   ]
  },
  {
   "cell_type": "code",
   "execution_count": 57,
   "metadata": {},
   "outputs": [
    {
     "data": {
      "text/plain": [
       "2    2879\n",
       "4    1749\n",
       "1     279\n",
       "5      62\n",
       "3      31\n",
       "Name: cluster, dtype: int64"
      ]
     },
     "execution_count": 57,
     "metadata": {},
     "output_type": "execute_result"
    }
   ],
   "source": [
    "df[df['section'] == 'healthcare']['cluster'].value_counts()"
   ]
  },
  {
   "cell_type": "code",
   "execution_count": 61,
   "metadata": {},
   "outputs": [
    {
     "data": {
      "text/plain": [
       "4    4755\n",
       "2     192\n",
       "1      22\n",
       "5      16\n",
       "3      15\n",
       "Name: cluster, dtype: int64"
      ]
     },
     "execution_count": 61,
     "metadata": {},
     "output_type": "execute_result"
    }
   ],
   "source": [
    "df[df['section'] == 'movies']['cluster'].value_counts()"
   ]
  },
  {
   "cell_type": "code",
   "execution_count": 62,
   "metadata": {},
   "outputs": [
    {
     "data": {
      "text/plain": [
       "4    3129\n",
       "5    1731\n",
       "2     128\n",
       "1       9\n",
       "3       3\n",
       "Name: cluster, dtype: int64"
      ]
     },
     "execution_count": 62,
     "metadata": {},
     "output_type": "execute_result"
    }
   ],
   "source": [
    "df[df['section'] == 'technology']['cluster'].value_counts()"
   ]
  },
  {
   "cell_type": "code",
   "execution_count": 63,
   "metadata": {},
   "outputs": [
    {
     "data": {
      "text/plain": [
       "4    3043\n",
       "3    1545\n",
       "2     240\n",
       "1     118\n",
       "5      54\n",
       "Name: cluster, dtype: int64"
      ]
     },
     "execution_count": 63,
     "metadata": {},
     "output_type": "execute_result"
    }
   ],
   "source": [
    "df[df['section'] == 'sports']['cluster'].value_counts()"
   ]
  },
  {
   "cell_type": "code",
   "execution_count": 64,
   "metadata": {},
   "outputs": [
    {
     "data": {
      "text/plain": [
       "5    3808\n",
       "4    1160\n",
       "2      27\n",
       "1       3\n",
       "3       2\n",
       "Name: cluster, dtype: int64"
      ]
     },
     "execution_count": 64,
     "metadata": {},
     "output_type": "execute_result"
    }
   ],
   "source": [
    "df[df['section'] == 'business']['cluster'].value_counts()"
   ]
  },
  {
   "attachments": {},
   "cell_type": "markdown",
   "metadata": {},
   "source": [
    "It looks like:\n",
    "- cluster #1 is small and has weak representation in all of the different sections, maybe articles in this cluster don't really fit with the other section themes\n",
    "- cluster #2 is most strongly correlated with healthcare\n",
    "- cluster #3 is most strongly correlated with sports\n",
    "- cluster #4 is the largest cluster and has strong representation in all of the different sections\n",
    "- cluster #5 is mostly strongly correlated with business and technology"
   ]
  }
 ],
 "metadata": {
  "kernelspec": {
   "display_name": "glgenv",
   "language": "python",
   "name": "python3"
  },
  "language_info": {
   "codemirror_mode": {
    "name": "ipython",
    "version": 3
   },
   "file_extension": ".py",
   "mimetype": "text/x-python",
   "name": "python",
   "nbconvert_exporter": "python",
   "pygments_lexer": "ipython3",
   "version": "3.9.13"
  },
  "orig_nbformat": 4,
  "vscode": {
   "interpreter": {
    "hash": "c96b5ccb8e4a9ea98f0b3574a35d5d8e50bd3d4875c501f7cb288f970955458c"
   }
  }
 },
 "nbformat": 4,
 "nbformat_minor": 2
}
