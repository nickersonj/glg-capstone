{
 "cells": [
  {
   "cell_type": "markdown",
   "metadata": {},
   "source": [
    "### Baseline Text Classification Model for All the News Dataset\n",
    "Goal: Do data prep for baseline text classification"
   ]
  },
  {
   "cell_type": "markdown",
   "metadata": {},
   "source": [
    "#### Import librarires"
   ]
  },
  {
   "cell_type": "code",
   "execution_count": 2,
   "metadata": {},
   "outputs": [
    {
     "name": "stderr",
     "output_type": "stream",
     "text": [
      "[nltk_data] Downloading package stopwords to\n",
      "[nltk_data]     /Users/curtispond/nltk_data...\n",
      "[nltk_data]   Package stopwords is already up-to-date!\n",
      "[nltk_data] Downloading package wordnet to\n",
      "[nltk_data]     /Users/curtispond/nltk_data...\n",
      "[nltk_data]   Package wordnet is already up-to-date!\n"
     ]
    }
   ],
   "source": [
    "import pandas as pd\n",
    "import matplotlib.pyplot as plt\n",
    "import numpy as np\n",
    "import seaborn as sns\n",
    "import nltk\n",
    "import re\n",
    "from nltk.corpus import stopwords\n",
    "nltk.download('stopwords')\n",
    "from nltk.stem import WordNetLemmatizer\n",
    "nltk.download('wordnet')\n",
    "from nltk.stem import PorterStemmer\n",
    "from sklearn.feature_extraction.text import CountVectorizer\n",
    "from sklearn.feature_extraction.text import TfidfVectorizer\n",
    "from sklearn.model_selection import train_test_split\n",
    "from sklearn.metrics import accuracy_score, confusion_matrix, classification_report\n",
    "from sklearn.naive_bayes import MultinomialNB\n",
    "from sklearn.linear_model import LogisticRegression\n",
    "from sklearn.svm import SVC, LinearSVC\n",
    "from sklearn.ensemble import RandomForestClassifier\n",
    "from sklearn.tree import DecisionTreeClassifier\n",
    "from sklearn.neighbors import KNeighborsClassifier\n",
    "from sklearn.metrics import make_scorer, roc_auc_score, roc_curve, auc\n",
    "import spacy\n",
    "from sklearn.metrics import f1_score"
   ]
  },
  {
   "cell_type": "markdown",
   "metadata": {},
   "source": [
    "#### Load and inspect the data"
   ]
  },
  {
   "cell_type": "code",
   "execution_count": 3,
   "metadata": {},
   "outputs": [],
   "source": [
    "# We will load the full data set to start our baseline text classification model\n",
    "df = pd.read_csv('./data/all-the-news-2-1.csv')"
   ]
  },
  {
   "cell_type": "code",
   "execution_count": 4,
   "metadata": {},
   "outputs": [
    {
     "data": {
      "text/html": [
       "<div>\n",
       "<style scoped>\n",
       "    .dataframe tbody tr th:only-of-type {\n",
       "        vertical-align: middle;\n",
       "    }\n",
       "\n",
       "    .dataframe tbody tr th {\n",
       "        vertical-align: top;\n",
       "    }\n",
       "\n",
       "    .dataframe thead th {\n",
       "        text-align: right;\n",
       "    }\n",
       "</style>\n",
       "<table border=\"1\" class=\"dataframe\">\n",
       "  <thead>\n",
       "    <tr style=\"text-align: right;\">\n",
       "      <th></th>\n",
       "      <th>date</th>\n",
       "      <th>year</th>\n",
       "      <th>month</th>\n",
       "      <th>day</th>\n",
       "      <th>author</th>\n",
       "      <th>title</th>\n",
       "      <th>article</th>\n",
       "      <th>url</th>\n",
       "      <th>section</th>\n",
       "      <th>publication</th>\n",
       "    </tr>\n",
       "  </thead>\n",
       "  <tbody>\n",
       "    <tr>\n",
       "      <th>0</th>\n",
       "      <td>2016-12-09 18:31:00</td>\n",
       "      <td>2016</td>\n",
       "      <td>12.0</td>\n",
       "      <td>9</td>\n",
       "      <td>Lee Drutman</td>\n",
       "      <td>We should take concerns about the health of li...</td>\n",
       "      <td>This post is part of Polyarchy, an independent...</td>\n",
       "      <td>https://www.vox.com/polyarchy/2016/12/9/138983...</td>\n",
       "      <td>NaN</td>\n",
       "      <td>Vox</td>\n",
       "    </tr>\n",
       "    <tr>\n",
       "      <th>1</th>\n",
       "      <td>2016-10-07 21:26:46</td>\n",
       "      <td>2016</td>\n",
       "      <td>10.0</td>\n",
       "      <td>7</td>\n",
       "      <td>Scott Davis</td>\n",
       "      <td>Colts GM Ryan Grigson says Andrew Luck's contr...</td>\n",
       "      <td>The Indianapolis Colts made Andrew Luck the h...</td>\n",
       "      <td>https://www.businessinsider.com/colts-gm-ryan-...</td>\n",
       "      <td>NaN</td>\n",
       "      <td>Business Insider</td>\n",
       "    </tr>\n",
       "    <tr>\n",
       "      <th>2</th>\n",
       "      <td>2018-01-26 00:00:00</td>\n",
       "      <td>2018</td>\n",
       "      <td>1.0</td>\n",
       "      <td>26</td>\n",
       "      <td>NaN</td>\n",
       "      <td>Trump denies report he ordered Mueller fired</td>\n",
       "      <td>DAVOS, Switzerland (Reuters) - U.S. President ...</td>\n",
       "      <td>https://www.reuters.com/article/us-davos-meeti...</td>\n",
       "      <td>Davos</td>\n",
       "      <td>Reuters</td>\n",
       "    </tr>\n",
       "    <tr>\n",
       "      <th>3</th>\n",
       "      <td>2019-06-27 00:00:00</td>\n",
       "      <td>2019</td>\n",
       "      <td>6.0</td>\n",
       "      <td>27</td>\n",
       "      <td>NaN</td>\n",
       "      <td>France's Sarkozy reveals his 'Passions' but in...</td>\n",
       "      <td>PARIS (Reuters) - Former French president Nico...</td>\n",
       "      <td>https://www.reuters.com/article/france-politic...</td>\n",
       "      <td>World News</td>\n",
       "      <td>Reuters</td>\n",
       "    </tr>\n",
       "    <tr>\n",
       "      <th>4</th>\n",
       "      <td>2016-01-27 00:00:00</td>\n",
       "      <td>2016</td>\n",
       "      <td>1.0</td>\n",
       "      <td>27</td>\n",
       "      <td>NaN</td>\n",
       "      <td>Paris Hilton: Woman In Black For Uncle Monty's...</td>\n",
       "      <td>Paris Hilton arrived at LAX Wednesday dressed ...</td>\n",
       "      <td>https://www.tmz.com/2016/01/27/paris-hilton-mo...</td>\n",
       "      <td>NaN</td>\n",
       "      <td>TMZ</td>\n",
       "    </tr>\n",
       "    <tr>\n",
       "      <th>5</th>\n",
       "      <td>2019-06-17 00:00:00</td>\n",
       "      <td>2019</td>\n",
       "      <td>6.0</td>\n",
       "      <td>17</td>\n",
       "      <td>NaN</td>\n",
       "      <td>ECB's Coeure: If we decide to cut rates, we'd ...</td>\n",
       "      <td>BERLIN, June 17 (Reuters) - ECB board member B...</td>\n",
       "      <td>https://www.reuters.com/article/ecb-policy-coe...</td>\n",
       "      <td>Financials</td>\n",
       "      <td>Reuters</td>\n",
       "    </tr>\n",
       "    <tr>\n",
       "      <th>6</th>\n",
       "      <td>2019-06-23 00:00:00</td>\n",
       "      <td>2019</td>\n",
       "      <td>6.0</td>\n",
       "      <td>23</td>\n",
       "      <td>NaN</td>\n",
       "      <td>Venezuela detains six military, police officia...</td>\n",
       "      <td>CARACAS (Reuters) - Venezuelan authorities hav...</td>\n",
       "      <td>https://www.reuters.com/article/us-venezuela-p...</td>\n",
       "      <td>World News</td>\n",
       "      <td>Reuters</td>\n",
       "    </tr>\n",
       "    <tr>\n",
       "      <th>7</th>\n",
       "      <td>2018-05-02 17:09:00</td>\n",
       "      <td>2018</td>\n",
       "      <td>5.0</td>\n",
       "      <td>2</td>\n",
       "      <td>Caroline Williams</td>\n",
       "      <td>You Can Trick Your Brain Into Being More Focused</td>\n",
       "      <td>If only every day could be like this. You can’...</td>\n",
       "      <td>https://www.vice.com/en_us/article/9kgp4v/how-...</td>\n",
       "      <td>Health</td>\n",
       "      <td>Vice</td>\n",
       "    </tr>\n",
       "    <tr>\n",
       "      <th>8</th>\n",
       "      <td>2016-05-18 13:00:06</td>\n",
       "      <td>2016</td>\n",
       "      <td>5.0</td>\n",
       "      <td>18</td>\n",
       "      <td>Mark Bergen</td>\n",
       "      <td>How to watch the Google I/O keynote live</td>\n",
       "      <td>Google I/O, the company's big developer confer...</td>\n",
       "      <td>https://www.vox.com/2016/5/18/11697070/how-to-...</td>\n",
       "      <td>NaN</td>\n",
       "      <td>Vox</td>\n",
       "    </tr>\n",
       "    <tr>\n",
       "      <th>9</th>\n",
       "      <td>2017-03-02 00:00:00</td>\n",
       "      <td>2017</td>\n",
       "      <td>3.0</td>\n",
       "      <td>2</td>\n",
       "      <td>Tim Hume</td>\n",
       "      <td>China is dismissing unfavorable media reports ...</td>\n",
       "      <td>China is dismissing unfavorable media reports ...</td>\n",
       "      <td>https://news.vice.com/en_us/article/xwvj7j/chi...</td>\n",
       "      <td>NaN</td>\n",
       "      <td>Vice News</td>\n",
       "    </tr>\n",
       "  </tbody>\n",
       "</table>\n",
       "</div>"
      ],
      "text/plain": [
       "                  date  year  month  day             author  \\\n",
       "0  2016-12-09 18:31:00  2016   12.0    9        Lee Drutman   \n",
       "1  2016-10-07 21:26:46  2016   10.0    7        Scott Davis   \n",
       "2  2018-01-26 00:00:00  2018    1.0   26                NaN   \n",
       "3  2019-06-27 00:00:00  2019    6.0   27                NaN   \n",
       "4  2016-01-27 00:00:00  2016    1.0   27                NaN   \n",
       "5  2019-06-17 00:00:00  2019    6.0   17                NaN   \n",
       "6  2019-06-23 00:00:00  2019    6.0   23                NaN   \n",
       "7  2018-05-02 17:09:00  2018    5.0    2  Caroline Williams   \n",
       "8  2016-05-18 13:00:06  2016    5.0   18        Mark Bergen   \n",
       "9  2017-03-02 00:00:00  2017    3.0    2           Tim Hume   \n",
       "\n",
       "                                               title  \\\n",
       "0  We should take concerns about the health of li...   \n",
       "1  Colts GM Ryan Grigson says Andrew Luck's contr...   \n",
       "2       Trump denies report he ordered Mueller fired   \n",
       "3  France's Sarkozy reveals his 'Passions' but in...   \n",
       "4  Paris Hilton: Woman In Black For Uncle Monty's...   \n",
       "5  ECB's Coeure: If we decide to cut rates, we'd ...   \n",
       "6  Venezuela detains six military, police officia...   \n",
       "7   You Can Trick Your Brain Into Being More Focused   \n",
       "8           How to watch the Google I/O keynote live   \n",
       "9  China is dismissing unfavorable media reports ...   \n",
       "\n",
       "                                             article  \\\n",
       "0  This post is part of Polyarchy, an independent...   \n",
       "1   The Indianapolis Colts made Andrew Luck the h...   \n",
       "2  DAVOS, Switzerland (Reuters) - U.S. President ...   \n",
       "3  PARIS (Reuters) - Former French president Nico...   \n",
       "4  Paris Hilton arrived at LAX Wednesday dressed ...   \n",
       "5  BERLIN, June 17 (Reuters) - ECB board member B...   \n",
       "6  CARACAS (Reuters) - Venezuelan authorities hav...   \n",
       "7  If only every day could be like this. You can’...   \n",
       "8  Google I/O, the company's big developer confer...   \n",
       "9  China is dismissing unfavorable media reports ...   \n",
       "\n",
       "                                                 url     section  \\\n",
       "0  https://www.vox.com/polyarchy/2016/12/9/138983...         NaN   \n",
       "1  https://www.businessinsider.com/colts-gm-ryan-...         NaN   \n",
       "2  https://www.reuters.com/article/us-davos-meeti...       Davos   \n",
       "3  https://www.reuters.com/article/france-politic...  World News   \n",
       "4  https://www.tmz.com/2016/01/27/paris-hilton-mo...         NaN   \n",
       "5  https://www.reuters.com/article/ecb-policy-coe...  Financials   \n",
       "6  https://www.reuters.com/article/us-venezuela-p...  World News   \n",
       "7  https://www.vice.com/en_us/article/9kgp4v/how-...      Health   \n",
       "8  https://www.vox.com/2016/5/18/11697070/how-to-...         NaN   \n",
       "9  https://news.vice.com/en_us/article/xwvj7j/chi...         NaN   \n",
       "\n",
       "        publication  \n",
       "0               Vox  \n",
       "1  Business Insider  \n",
       "2           Reuters  \n",
       "3           Reuters  \n",
       "4               TMZ  \n",
       "5           Reuters  \n",
       "6           Reuters  \n",
       "7              Vice  \n",
       "8               Vox  \n",
       "9         Vice News  "
      ]
     },
     "execution_count": 4,
     "metadata": {},
     "output_type": "execute_result"
    }
   ],
   "source": [
    "df.head(10)"
   ]
  },
  {
   "cell_type": "code",
   "execution_count": 5,
   "metadata": {},
   "outputs": [
    {
     "name": "stdout",
     "output_type": "stream",
     "text": [
      "<class 'pandas.core.frame.DataFrame'>\n",
      "RangeIndex: 2688878 entries, 0 to 2688877\n",
      "Data columns (total 10 columns):\n",
      " #   Column       Dtype  \n",
      "---  ------       -----  \n",
      " 0   date         object \n",
      " 1   year         int64  \n",
      " 2   month        float64\n",
      " 3   day          int64  \n",
      " 4   author       object \n",
      " 5   title        object \n",
      " 6   article      object \n",
      " 7   url          object \n",
      " 8   section      object \n",
      " 9   publication  object \n",
      "dtypes: float64(1), int64(2), object(7)\n",
      "memory usage: 205.1+ MB\n"
     ]
    }
   ],
   "source": [
    "df.info()"
   ]
  },
  {
   "cell_type": "code",
   "execution_count": 6,
   "metadata": {},
   "outputs": [
    {
     "data": {
      "text/plain": [
       "date                 0\n",
       "year                 0\n",
       "month                0\n",
       "day                  0\n",
       "author         1021101\n",
       "title               37\n",
       "article         104713\n",
       "url              12577\n",
       "section         912273\n",
       "publication      12577\n",
       "dtype: int64"
      ]
     },
     "execution_count": 6,
     "metadata": {},
     "output_type": "execute_result"
    }
   ],
   "source": [
    "# Count NaN values in each column\n",
    "df.isnull().sum()"
   ]
  },
  {
   "cell_type": "markdown",
   "metadata": {},
   "source": [
    "We will need to convert data to a proper date data type. There are 100K articles that are null."
   ]
  },
  {
   "cell_type": "code",
   "execution_count": 7,
   "metadata": {},
   "outputs": [
    {
     "data": {
      "text/plain": [
       "<AxesSubplot: title={'center': 'Top 20 Article Sections'}>"
      ]
     },
     "execution_count": 7,
     "metadata": {},
     "output_type": "execute_result"
    },
    {
     "data": {
      "image/png": "[encoded data removed]",
      "text/plain": [
       "<Figure size 1000x700 with 1 Axes>"
      ]
     },
     "metadata": {},
     "output_type": "display_data"
    }
   ],
   "source": [
    "# Show the number of articles in each section\n",
    "df['section'].value_counts()[:20].plot(kind='bar', figsize=(10,7), title='Top 20 Article Sections')"
   ]
  },
  {
   "cell_type": "code",
   "execution_count": 9,
   "metadata": {},
   "outputs": [
    {
     "data": {
      "text/plain": [
       "7509"
      ]
     },
     "execution_count": 9,
     "metadata": {},
     "output_type": "execute_result"
    }
   ],
   "source": [
    "# How many different section are there?\n",
    "df['section'].nunique()"
   ]
  },
  {
   "cell_type": "markdown",
   "metadata": {},
   "source": [
    "#### Preprocess the data\n",
    "1. Drop the author and url columns\n",
    "2. Convert date to correct data type\n",
    "3. Remove rows where article = NaN\n",
    "4. Remove rows where section = NaN"
   ]
  },
  {
   "cell_type": "code",
   "execution_count": 5,
   "metadata": {},
   "outputs": [
    {
     "data": {
      "text/plain": [
       "(2688878, 8)"
      ]
     },
     "execution_count": 5,
     "metadata": {},
     "output_type": "execute_result"
    }
   ],
   "source": [
    "# Drop the author and url columns\n",
    "df.drop(columns=['author', 'url'], inplace=True)\n",
    "df.shape"
   ]
  },
  {
   "cell_type": "code",
   "execution_count": 6,
   "metadata": {},
   "outputs": [
    {
     "name": "stdout",
     "output_type": "stream",
     "text": [
      "<class 'pandas.core.frame.DataFrame'>\n",
      "RangeIndex: 2688878 entries, 0 to 2688877\n",
      "Data columns (total 8 columns):\n",
      " #   Column       Dtype         \n",
      "---  ------       -----         \n",
      " 0   date         datetime64[ns]\n",
      " 1   year         int64         \n",
      " 2   month        float64       \n",
      " 3   day          int64         \n",
      " 4   title        object        \n",
      " 5   article      object        \n",
      " 6   section      object        \n",
      " 7   publication  object        \n",
      "dtypes: datetime64[ns](1), float64(1), int64(2), object(4)\n",
      "memory usage: 164.1+ MB\n"
     ]
    }
   ],
   "source": [
    "# Convert the data column to the datetime format\n",
    "df['date'] = pd.to_datetime(df['date'])\n",
    "df.info()"
   ]
  },
  {
   "cell_type": "code",
   "execution_count": 7,
   "metadata": {},
   "outputs": [],
   "source": [
    "# Remove rows where Article is NaN\n",
    "df.dropna(subset=['article'], inplace=True)"
   ]
  },
  {
   "cell_type": "code",
   "execution_count": 8,
   "metadata": {},
   "outputs": [],
   "source": [
    "# Remove rows where Section is NaN\n",
    "df.dropna(subset=['section'], inplace=True)"
   ]
  },
  {
   "cell_type": "code",
   "execution_count": 9,
   "metadata": {},
   "outputs": [
    {
     "name": "stdout",
     "output_type": "stream",
     "text": [
      "<class 'pandas.core.frame.DataFrame'>\n",
      "Int64Index: 1753411 entries, 2 to 2688818\n",
      "Data columns (total 8 columns):\n",
      " #   Column       Dtype         \n",
      "---  ------       -----         \n",
      " 0   date         datetime64[ns]\n",
      " 1   year         int64         \n",
      " 2   month        float64       \n",
      " 3   day          int64         \n",
      " 4   title        object        \n",
      " 5   article      object        \n",
      " 6   section      object        \n",
      " 7   publication  object        \n",
      "dtypes: datetime64[ns](1), float64(1), int64(2), object(4)\n",
      "memory usage: 120.4+ MB\n"
     ]
    }
   ],
   "source": [
    "df.info()"
   ]
  },
  {
   "cell_type": "code",
   "execution_count": 10,
   "metadata": {},
   "outputs": [
    {
     "data": {
      "text/plain": [
       "date           0\n",
       "year           0\n",
       "month          0\n",
       "day            0\n",
       "title          1\n",
       "article        0\n",
       "section        0\n",
       "publication    0\n",
       "dtype: int64"
      ]
     },
     "execution_count": 10,
     "metadata": {},
     "output_type": "execute_result"
    }
   ],
   "source": [
    "# Count the number of articles and sections with a NaN value\n",
    "df.isnull().sum()\n"
   ]
  },
  {
   "cell_type": "code",
   "execution_count": 11,
   "metadata": {},
   "outputs": [
    {
     "data": {
      "text/plain": [
       "(1753411, 8)"
      ]
     },
     "execution_count": 11,
     "metadata": {},
     "output_type": "execute_result"
    }
   ],
   "source": [
    "df.shape"
   ]
  },
  {
   "cell_type": "code",
   "execution_count": 12,
   "metadata": {},
   "outputs": [
    {
     "data": {
      "text/html": [
       "<div>\n",
       "<style scoped>\n",
       "    .dataframe tbody tr th:only-of-type {\n",
       "        vertical-align: middle;\n",
       "    }\n",
       "\n",
       "    .dataframe tbody tr th {\n",
       "        vertical-align: top;\n",
       "    }\n",
       "\n",
       "    .dataframe thead th {\n",
       "        text-align: right;\n",
       "    }\n",
       "</style>\n",
       "<table border=\"1\" class=\"dataframe\">\n",
       "  <thead>\n",
       "    <tr style=\"text-align: right;\">\n",
       "      <th></th>\n",
       "      <th>date</th>\n",
       "      <th>year</th>\n",
       "      <th>month</th>\n",
       "      <th>day</th>\n",
       "      <th>title</th>\n",
       "      <th>article</th>\n",
       "      <th>section</th>\n",
       "      <th>publication</th>\n",
       "    </tr>\n",
       "  </thead>\n",
       "  <tbody>\n",
       "    <tr>\n",
       "      <th>2</th>\n",
       "      <td>2018-01-26 00:00:00</td>\n",
       "      <td>2018</td>\n",
       "      <td>1.0</td>\n",
       "      <td>26</td>\n",
       "      <td>Trump denies report he ordered Mueller fired</td>\n",
       "      <td>DAVOS, Switzerland (Reuters) - U.S. President ...</td>\n",
       "      <td>Davos</td>\n",
       "      <td>Reuters</td>\n",
       "    </tr>\n",
       "    <tr>\n",
       "      <th>3</th>\n",
       "      <td>2019-06-27 00:00:00</td>\n",
       "      <td>2019</td>\n",
       "      <td>6.0</td>\n",
       "      <td>27</td>\n",
       "      <td>France's Sarkozy reveals his 'Passions' but in...</td>\n",
       "      <td>PARIS (Reuters) - Former French president Nico...</td>\n",
       "      <td>World News</td>\n",
       "      <td>Reuters</td>\n",
       "    </tr>\n",
       "    <tr>\n",
       "      <th>5</th>\n",
       "      <td>2019-06-17 00:00:00</td>\n",
       "      <td>2019</td>\n",
       "      <td>6.0</td>\n",
       "      <td>17</td>\n",
       "      <td>ECB's Coeure: If we decide to cut rates, we'd ...</td>\n",
       "      <td>BERLIN, June 17 (Reuters) - ECB board member B...</td>\n",
       "      <td>Financials</td>\n",
       "      <td>Reuters</td>\n",
       "    </tr>\n",
       "    <tr>\n",
       "      <th>6</th>\n",
       "      <td>2019-06-23 00:00:00</td>\n",
       "      <td>2019</td>\n",
       "      <td>6.0</td>\n",
       "      <td>23</td>\n",
       "      <td>Venezuela detains six military, police officia...</td>\n",
       "      <td>CARACAS (Reuters) - Venezuelan authorities hav...</td>\n",
       "      <td>World News</td>\n",
       "      <td>Reuters</td>\n",
       "    </tr>\n",
       "    <tr>\n",
       "      <th>7</th>\n",
       "      <td>2018-05-02 17:09:00</td>\n",
       "      <td>2018</td>\n",
       "      <td>5.0</td>\n",
       "      <td>2</td>\n",
       "      <td>You Can Trick Your Brain Into Being More Focused</td>\n",
       "      <td>If only every day could be like this. You can’...</td>\n",
       "      <td>Health</td>\n",
       "      <td>Vice</td>\n",
       "    </tr>\n",
       "  </tbody>\n",
       "</table>\n",
       "</div>"
      ],
      "text/plain": [
       "                 date  year  month  day  \\\n",
       "2 2018-01-26 00:00:00  2018    1.0   26   \n",
       "3 2019-06-27 00:00:00  2019    6.0   27   \n",
       "5 2019-06-17 00:00:00  2019    6.0   17   \n",
       "6 2019-06-23 00:00:00  2019    6.0   23   \n",
       "7 2018-05-02 17:09:00  2018    5.0    2   \n",
       "\n",
       "                                               title  \\\n",
       "2       Trump denies report he ordered Mueller fired   \n",
       "3  France's Sarkozy reveals his 'Passions' but in...   \n",
       "5  ECB's Coeure: If we decide to cut rates, we'd ...   \n",
       "6  Venezuela detains six military, police officia...   \n",
       "7   You Can Trick Your Brain Into Being More Focused   \n",
       "\n",
       "                                             article     section publication  \n",
       "2  DAVOS, Switzerland (Reuters) - U.S. President ...       Davos     Reuters  \n",
       "3  PARIS (Reuters) - Former French president Nico...  World News     Reuters  \n",
       "5  BERLIN, June 17 (Reuters) - ECB board member B...  Financials     Reuters  \n",
       "6  CARACAS (Reuters) - Venezuelan authorities hav...  World News     Reuters  \n",
       "7  If only every day could be like this. You can’...      Health        Vice  "
      ]
     },
     "execution_count": 12,
     "metadata": {},
     "output_type": "execute_result"
    }
   ],
   "source": [
    "df.head()"
   ]
  },
  {
   "cell_type": "code",
   "execution_count": 13,
   "metadata": {},
   "outputs": [
    {
     "data": {
      "text/html": [
       "<div>\n",
       "<style scoped>\n",
       "    .dataframe tbody tr th:only-of-type {\n",
       "        vertical-align: middle;\n",
       "    }\n",
       "\n",
       "    .dataframe tbody tr th {\n",
       "        vertical-align: top;\n",
       "    }\n",
       "\n",
       "    .dataframe thead th {\n",
       "        text-align: right;\n",
       "    }\n",
       "</style>\n",
       "<table border=\"1\" class=\"dataframe\">\n",
       "  <thead>\n",
       "    <tr style=\"text-align: right;\">\n",
       "      <th></th>\n",
       "      <th>date</th>\n",
       "      <th>year</th>\n",
       "      <th>month</th>\n",
       "      <th>day</th>\n",
       "      <th>title</th>\n",
       "      <th>article</th>\n",
       "      <th>section</th>\n",
       "      <th>publication</th>\n",
       "    </tr>\n",
       "  </thead>\n",
       "  <tbody>\n",
       "    <tr>\n",
       "      <th>0</th>\n",
       "      <td>2018-01-26 00:00:00</td>\n",
       "      <td>2018</td>\n",
       "      <td>1.0</td>\n",
       "      <td>26</td>\n",
       "      <td>Trump denies report he ordered Mueller fired</td>\n",
       "      <td>DAVOS, Switzerland (Reuters) - U.S. President ...</td>\n",
       "      <td>Davos</td>\n",
       "      <td>Reuters</td>\n",
       "    </tr>\n",
       "    <tr>\n",
       "      <th>1</th>\n",
       "      <td>2019-06-27 00:00:00</td>\n",
       "      <td>2019</td>\n",
       "      <td>6.0</td>\n",
       "      <td>27</td>\n",
       "      <td>France's Sarkozy reveals his 'Passions' but in...</td>\n",
       "      <td>PARIS (Reuters) - Former French president Nico...</td>\n",
       "      <td>World News</td>\n",
       "      <td>Reuters</td>\n",
       "    </tr>\n",
       "    <tr>\n",
       "      <th>2</th>\n",
       "      <td>2019-06-17 00:00:00</td>\n",
       "      <td>2019</td>\n",
       "      <td>6.0</td>\n",
       "      <td>17</td>\n",
       "      <td>ECB's Coeure: If we decide to cut rates, we'd ...</td>\n",
       "      <td>BERLIN, June 17 (Reuters) - ECB board member B...</td>\n",
       "      <td>Financials</td>\n",
       "      <td>Reuters</td>\n",
       "    </tr>\n",
       "    <tr>\n",
       "      <th>3</th>\n",
       "      <td>2019-06-23 00:00:00</td>\n",
       "      <td>2019</td>\n",
       "      <td>6.0</td>\n",
       "      <td>23</td>\n",
       "      <td>Venezuela detains six military, police officia...</td>\n",
       "      <td>CARACAS (Reuters) - Venezuelan authorities hav...</td>\n",
       "      <td>World News</td>\n",
       "      <td>Reuters</td>\n",
       "    </tr>\n",
       "    <tr>\n",
       "      <th>4</th>\n",
       "      <td>2018-05-02 17:09:00</td>\n",
       "      <td>2018</td>\n",
       "      <td>5.0</td>\n",
       "      <td>2</td>\n",
       "      <td>You Can Trick Your Brain Into Being More Focused</td>\n",
       "      <td>If only every day could be like this. You can’...</td>\n",
       "      <td>Health</td>\n",
       "      <td>Vice</td>\n",
       "    </tr>\n",
       "  </tbody>\n",
       "</table>\n",
       "</div>"
      ],
      "text/plain": [
       "                 date  year  month  day  \\\n",
       "0 2018-01-26 00:00:00  2018    1.0   26   \n",
       "1 2019-06-27 00:00:00  2019    6.0   27   \n",
       "2 2019-06-17 00:00:00  2019    6.0   17   \n",
       "3 2019-06-23 00:00:00  2019    6.0   23   \n",
       "4 2018-05-02 17:09:00  2018    5.0    2   \n",
       "\n",
       "                                               title  \\\n",
       "0       Trump denies report he ordered Mueller fired   \n",
       "1  France's Sarkozy reveals his 'Passions' but in...   \n",
       "2  ECB's Coeure: If we decide to cut rates, we'd ...   \n",
       "3  Venezuela detains six military, police officia...   \n",
       "4   You Can Trick Your Brain Into Being More Focused   \n",
       "\n",
       "                                             article     section publication  \n",
       "0  DAVOS, Switzerland (Reuters) - U.S. President ...       Davos     Reuters  \n",
       "1  PARIS (Reuters) - Former French president Nico...  World News     Reuters  \n",
       "2  BERLIN, June 17 (Reuters) - ECB board member B...  Financials     Reuters  \n",
       "3  CARACAS (Reuters) - Venezuelan authorities hav...  World News     Reuters  \n",
       "4  If only every day could be like this. You can’...      Health        Vice  "
      ]
     },
     "execution_count": 13,
     "metadata": {},
     "output_type": "execute_result"
    }
   ],
   "source": [
    "# Reset the index\n",
    "df.reset_index(drop=True, inplace=True)\n",
    "df.head()"
   ]
  },
  {
   "cell_type": "markdown",
   "metadata": {},
   "source": [
    "#### Create a data frame with Business, Entertainment, Sports, Healthcare, and Technology. "
   ]
  },
  {
   "cell_type": "code",
   "execution_count": 14,
   "metadata": {},
   "outputs": [
    {
     "data": {
      "text/plain": [
       "<AxesSubplot: title={'center': 'Top 20 Article Sections in 10K Sample'}>"
      ]
     },
     "execution_count": 14,
     "metadata": {},
     "output_type": "execute_result"
    },
    {
     "data": {
      "image/png": "[encoded data removed]",
      "text/plain": [
       "<Figure size 1000x700 with 1 Axes>"
      ]
     },
     "metadata": {},
     "output_type": "display_data"
    }
   ],
   "source": [
    "df['section'].value_counts()[:20].plot(kind='bar', figsize=(10,7), title='Top 20 Article Sections in 10K Sample')"
   ]
  },
  {
   "cell_type": "code",
   "execution_count": 15,
   "metadata": {},
   "outputs": [],
   "source": [
    "# Normalize the section names using the df_small test set\n",
    "df['section'] = df['section'].str.lower()"
   ]
  },
  {
   "cell_type": "code",
   "execution_count": 16,
   "metadata": {},
   "outputs": [],
   "source": [
    "# Update the section names to be more consistent\n",
    "df['section'] = df['section'].replace('sports news', 'sports')\n",
    "df['section'] = df['section'].replace('business news', 'business')"
   ]
  },
  {
   "cell_type": "code",
   "execution_count": 18,
   "metadata": {},
   "outputs": [
    {
     "data": {
      "text/html": [
       "<div>\n",
       "<style scoped>\n",
       "    .dataframe tbody tr th:only-of-type {\n",
       "        vertical-align: middle;\n",
       "    }\n",
       "\n",
       "    .dataframe tbody tr th {\n",
       "        vertical-align: top;\n",
       "    }\n",
       "\n",
       "    .dataframe thead th {\n",
       "        text-align: right;\n",
       "    }\n",
       "</style>\n",
       "<table border=\"1\" class=\"dataframe\">\n",
       "  <thead>\n",
       "    <tr style=\"text-align: right;\">\n",
       "      <th></th>\n",
       "      <th>date</th>\n",
       "      <th>year</th>\n",
       "      <th>month</th>\n",
       "      <th>day</th>\n",
       "      <th>title</th>\n",
       "      <th>article</th>\n",
       "      <th>section</th>\n",
       "      <th>publication</th>\n",
       "    </tr>\n",
       "  </thead>\n",
       "  <tbody>\n",
       "    <tr>\n",
       "      <th>277148</th>\n",
       "      <td>2018-04-16 11:36:00</td>\n",
       "      <td>2018</td>\n",
       "      <td>4.0</td>\n",
       "      <td>16</td>\n",
       "      <td>Why John Oliver Bought a Jockstrap Worn By Rus...</td>\n",
       "      <td>John Oliver has a special treat in store for t...</td>\n",
       "      <td>movies</td>\n",
       "      <td>People</td>\n",
       "    </tr>\n",
       "    <tr>\n",
       "      <th>277270</th>\n",
       "      <td>2017-12-17 17:02:00</td>\n",
       "      <td>2017</td>\n",
       "      <td>12.0</td>\n",
       "      <td>17</td>\n",
       "      <td>Angelina Jolie Brings Maddox and Shiloh to Mus...</td>\n",
       "      <td>Angelina Jolie had quite a squad for her night...</td>\n",
       "      <td>movies</td>\n",
       "      <td>People</td>\n",
       "    </tr>\n",
       "    <tr>\n",
       "      <th>277287</th>\n",
       "      <td>2019-01-17 13:55:00</td>\n",
       "      <td>2019</td>\n",
       "      <td>1.0</td>\n",
       "      <td>17</td>\n",
       "      <td>Joe Alwyn Says It's 'Normal' to Be Private Abo...</td>\n",
       "      <td>Joe Alwyn isn’t sweating any commentary about ...</td>\n",
       "      <td>movies</td>\n",
       "      <td>People</td>\n",
       "    </tr>\n",
       "    <tr>\n",
       "      <th>277330</th>\n",
       "      <td>2019-01-06 23:37:00</td>\n",
       "      <td>2019</td>\n",
       "      <td>1.0</td>\n",
       "      <td>6</td>\n",
       "      <td>2019 Golden Globes: Rami Malek Wins Best Actor...</td>\n",
       "      <td>Rami Malek thanked a lot of people after winni...</td>\n",
       "      <td>movies</td>\n",
       "      <td>People</td>\n",
       "    </tr>\n",
       "    <tr>\n",
       "      <th>277392</th>\n",
       "      <td>2018-03-02 09:00:00</td>\n",
       "      <td>2018</td>\n",
       "      <td>3.0</td>\n",
       "      <td>2</td>\n",
       "      <td>Why Oprah Winfrey Left Money All Over Her Hote...</td>\n",
       "      <td>Oprah Winfrey had a special surprise for a luc...</td>\n",
       "      <td>movies</td>\n",
       "      <td>People</td>\n",
       "    </tr>\n",
       "    <tr>\n",
       "      <th>...</th>\n",
       "      <td>...</td>\n",
       "      <td>...</td>\n",
       "      <td>...</td>\n",
       "      <td>...</td>\n",
       "      <td>...</td>\n",
       "      <td>...</td>\n",
       "      <td>...</td>\n",
       "      <td>...</td>\n",
       "    </tr>\n",
       "    <tr>\n",
       "      <th>1752254</th>\n",
       "      <td>2020-03-20 08:00:06</td>\n",
       "      <td>2020</td>\n",
       "      <td>3.0</td>\n",
       "      <td>20</td>\n",
       "      <td>‘The Hunt’ Showdown: 7 Months of Training; 7 M...</td>\n",
       "      <td>Betty Gilpin and Hilary Swank worked with stun...</td>\n",
       "      <td>movies</td>\n",
       "      <td>The New York Times</td>\n",
       "    </tr>\n",
       "    <tr>\n",
       "      <th>1752255</th>\n",
       "      <td>2020-03-25 15:17:59</td>\n",
       "      <td>2020</td>\n",
       "      <td>3.0</td>\n",
       "      <td>25</td>\n",
       "      <td>‘The Occupant’ Review: Knock First</td>\n",
       "      <td>Streaming Movie Review A once-successful man b...</td>\n",
       "      <td>movies</td>\n",
       "      <td>The New York Times</td>\n",
       "    </tr>\n",
       "    <tr>\n",
       "      <th>1752257</th>\n",
       "      <td>2020-03-26 08:43:14</td>\n",
       "      <td>2020</td>\n",
       "      <td>3.0</td>\n",
       "      <td>26</td>\n",
       "      <td>‘The Platform’ Review: An Accidentally Timely ...</td>\n",
       "      <td>Streaming Movie Review Netflix’s gnarly class ...</td>\n",
       "      <td>movies</td>\n",
       "      <td>The New York Times</td>\n",
       "    </tr>\n",
       "    <tr>\n",
       "      <th>1752264</th>\n",
       "      <td>2020-03-27 03:01:04</td>\n",
       "      <td>2020</td>\n",
       "      <td>3.0</td>\n",
       "      <td>27</td>\n",
       "      <td>‘Uncorked’ Review: A Fresh Take on the Father-...</td>\n",
       "      <td>Streaming Movie Review A young man seeks to be...</td>\n",
       "      <td>movies</td>\n",
       "      <td>The New York Times</td>\n",
       "    </tr>\n",
       "    <tr>\n",
       "      <th>1752266</th>\n",
       "      <td>2020-03-26 07:00:05</td>\n",
       "      <td>2020</td>\n",
       "      <td>3.0</td>\n",
       "      <td>26</td>\n",
       "      <td>‘Vivarium’ Review: This Is Not Your Beautiful ...</td>\n",
       "      <td>Jesse Eisenberg and Imogen Poots play a young ...</td>\n",
       "      <td>movies</td>\n",
       "      <td>The New York Times</td>\n",
       "    </tr>\n",
       "  </tbody>\n",
       "</table>\n",
       "<p>19936 rows × 8 columns</p>\n",
       "</div>"
      ],
      "text/plain": [
       "                       date  year  month  day  \\\n",
       "277148  2018-04-16 11:36:00  2018    4.0   16   \n",
       "277270  2017-12-17 17:02:00  2017   12.0   17   \n",
       "277287  2019-01-17 13:55:00  2019    1.0   17   \n",
       "277330  2019-01-06 23:37:00  2019    1.0    6   \n",
       "277392  2018-03-02 09:00:00  2018    3.0    2   \n",
       "...                     ...   ...    ...  ...   \n",
       "1752254 2020-03-20 08:00:06  2020    3.0   20   \n",
       "1752255 2020-03-25 15:17:59  2020    3.0   25   \n",
       "1752257 2020-03-26 08:43:14  2020    3.0   26   \n",
       "1752264 2020-03-27 03:01:04  2020    3.0   27   \n",
       "1752266 2020-03-26 07:00:05  2020    3.0   26   \n",
       "\n",
       "                                                     title  \\\n",
       "277148   Why John Oliver Bought a Jockstrap Worn By Rus...   \n",
       "277270   Angelina Jolie Brings Maddox and Shiloh to Mus...   \n",
       "277287   Joe Alwyn Says It's 'Normal' to Be Private Abo...   \n",
       "277330   2019 Golden Globes: Rami Malek Wins Best Actor...   \n",
       "277392   Why Oprah Winfrey Left Money All Over Her Hote...   \n",
       "...                                                    ...   \n",
       "1752254  ‘The Hunt’ Showdown: 7 Months of Training; 7 M...   \n",
       "1752255                 ‘The Occupant’ Review: Knock First   \n",
       "1752257  ‘The Platform’ Review: An Accidentally Timely ...   \n",
       "1752264  ‘Uncorked’ Review: A Fresh Take on the Father-...   \n",
       "1752266  ‘Vivarium’ Review: This Is Not Your Beautiful ...   \n",
       "\n",
       "                                                   article section  \\\n",
       "277148   John Oliver has a special treat in store for t...  movies   \n",
       "277270   Angelina Jolie had quite a squad for her night...  movies   \n",
       "277287   Joe Alwyn isn’t sweating any commentary about ...  movies   \n",
       "277330   Rami Malek thanked a lot of people after winni...  movies   \n",
       "277392   Oprah Winfrey had a special surprise for a luc...  movies   \n",
       "...                                                    ...     ...   \n",
       "1752254  Betty Gilpin and Hilary Swank worked with stun...  movies   \n",
       "1752255  Streaming Movie Review A once-successful man b...  movies   \n",
       "1752257  Streaming Movie Review Netflix’s gnarly class ...  movies   \n",
       "1752264  Streaming Movie Review A young man seeks to be...  movies   \n",
       "1752266  Jesse Eisenberg and Imogen Poots play a young ...  movies   \n",
       "\n",
       "                publication  \n",
       "277148               People  \n",
       "277270               People  \n",
       "277287               People  \n",
       "277330               People  \n",
       "277392               People  \n",
       "...                     ...  \n",
       "1752254  The New York Times  \n",
       "1752255  The New York Times  \n",
       "1752257  The New York Times  \n",
       "1752264  The New York Times  \n",
       "1752266  The New York Times  \n",
       "\n",
       "[19936 rows x 8 columns]"
      ]
     },
     "execution_count": 18,
     "metadata": {},
     "output_type": "execute_result"
    }
   ],
   "source": [
    "# Show  all sections that are like movies\n",
    "df[df['section'].str.contains('movies')]"
   ]
  },
  {
   "cell_type": "code",
   "execution_count": 19,
   "metadata": {},
   "outputs": [
    {
     "data": {
      "text/html": [
       "<div>\n",
       "<style scoped>\n",
       "    .dataframe tbody tr th:only-of-type {\n",
       "        vertical-align: middle;\n",
       "    }\n",
       "\n",
       "    .dataframe tbody tr th {\n",
       "        vertical-align: top;\n",
       "    }\n",
       "\n",
       "    .dataframe thead th {\n",
       "        text-align: right;\n",
       "    }\n",
       "</style>\n",
       "<table border=\"1\" class=\"dataframe\">\n",
       "  <thead>\n",
       "    <tr style=\"text-align: right;\">\n",
       "      <th></th>\n",
       "      <th>date</th>\n",
       "      <th>year</th>\n",
       "      <th>month</th>\n",
       "      <th>day</th>\n",
       "      <th>title</th>\n",
       "      <th>article</th>\n",
       "      <th>section</th>\n",
       "      <th>publication</th>\n",
       "    </tr>\n",
       "  </thead>\n",
       "  <tbody>\n",
       "    <tr>\n",
       "      <th>4</th>\n",
       "      <td>2018-05-02 17:09:00</td>\n",
       "      <td>2018</td>\n",
       "      <td>5.0</td>\n",
       "      <td>2</td>\n",
       "      <td>You Can Trick Your Brain Into Being More Focused</td>\n",
       "      <td>If only every day could be like this. You can’...</td>\n",
       "      <td>health</td>\n",
       "      <td>Vice</td>\n",
       "    </tr>\n",
       "    <tr>\n",
       "      <th>20</th>\n",
       "      <td>2018-10-05 19:35:00</td>\n",
       "      <td>2018</td>\n",
       "      <td>10.0</td>\n",
       "      <td>5</td>\n",
       "      <td>Trash Geyser Spews Garbage In Yellowstone Nati...</td>\n",
       "      <td>Geyser eruptions are known as one of the most...</td>\n",
       "      <td>tech by vice</td>\n",
       "      <td>Vice</td>\n",
       "    </tr>\n",
       "    <tr>\n",
       "      <th>30</th>\n",
       "      <td>2019-06-20 00:00:00</td>\n",
       "      <td>2019</td>\n",
       "      <td>6.0</td>\n",
       "      <td>20</td>\n",
       "      <td>Hungary has no evidence of Huawei threat, plan...</td>\n",
       "      <td>BUDAPEST (Reuters) - Hungary has no evidence t...</td>\n",
       "      <td>technology news</td>\n",
       "      <td>Reuters</td>\n",
       "    </tr>\n",
       "    <tr>\n",
       "      <th>40</th>\n",
       "      <td>2019-06-20 00:00:00</td>\n",
       "      <td>2019</td>\n",
       "      <td>6.0</td>\n",
       "      <td>20</td>\n",
       "      <td>Philippines' Globe Telecoms launches 5G servic...</td>\n",
       "      <td>MANILA (Reuters) - Philippines’ Globe Telecom ...</td>\n",
       "      <td>technology news</td>\n",
       "      <td>Reuters</td>\n",
       "    </tr>\n",
       "    <tr>\n",
       "      <th>49</th>\n",
       "      <td>2017-11-09 21:24:00</td>\n",
       "      <td>2017</td>\n",
       "      <td>11.0</td>\n",
       "      <td>9</td>\n",
       "      <td>Twitter Verification Has Always Been a Mess</td>\n",
       "      <td>Twitter wants to fix its long-broken verifica...</td>\n",
       "      <td>tech by vice</td>\n",
       "      <td>Vice</td>\n",
       "    </tr>\n",
       "    <tr>\n",
       "      <th>...</th>\n",
       "      <td>...</td>\n",
       "      <td>...</td>\n",
       "      <td>...</td>\n",
       "      <td>...</td>\n",
       "      <td>...</td>\n",
       "      <td>...</td>\n",
       "      <td>...</td>\n",
       "      <td>...</td>\n",
       "    </tr>\n",
       "    <tr>\n",
       "      <th>1753388</th>\n",
       "      <td>2020-03-31 00:00:00</td>\n",
       "      <td>2020</td>\n",
       "      <td>3.0</td>\n",
       "      <td>31</td>\n",
       "      <td>Popular livestreaming software Streamlabs OBS ...</td>\n",
       "      <td>Streaming is bigger than ever now that staying...</td>\n",
       "      <td>tech</td>\n",
       "      <td>The Verge</td>\n",
       "    </tr>\n",
       "    <tr>\n",
       "      <th>1753389</th>\n",
       "      <td>2020-03-31 00:00:00</td>\n",
       "      <td>2020</td>\n",
       "      <td>3.0</td>\n",
       "      <td>31</td>\n",
       "      <td>Roku OS 9.3 adds faster performance, Spanish v...</td>\n",
       "      <td>Roku is today announcing the latest software u...</td>\n",
       "      <td>tech</td>\n",
       "      <td>The Verge</td>\n",
       "    </tr>\n",
       "    <tr>\n",
       "      <th>1753390</th>\n",
       "      <td>2020-03-31 00:00:00</td>\n",
       "      <td>2020</td>\n",
       "      <td>3.0</td>\n",
       "      <td>31</td>\n",
       "      <td>The Fitbit Charge 4 is a more powerful fitness...</td>\n",
       "      <td>The first Fitbit after Google announced it int...</td>\n",
       "      <td>tech</td>\n",
       "      <td>The Verge</td>\n",
       "    </tr>\n",
       "    <tr>\n",
       "      <th>1753392</th>\n",
       "      <td>2020-03-31 00:00:00</td>\n",
       "      <td>2020</td>\n",
       "      <td>3.0</td>\n",
       "      <td>31</td>\n",
       "      <td>Intel has its laptop work cut out this year</td>\n",
       "      <td>Even if you would never see yourself buying a ...</td>\n",
       "      <td>tech</td>\n",
       "      <td>The Verge</td>\n",
       "    </tr>\n",
       "    <tr>\n",
       "      <th>1753400</th>\n",
       "      <td>2020-03-31 00:00:00</td>\n",
       "      <td>2020</td>\n",
       "      <td>3.0</td>\n",
       "      <td>31</td>\n",
       "      <td>Zoom isn’t actually end-to-end encrypted</td>\n",
       "      <td>Zoom states on its website and in its security...</td>\n",
       "      <td>tech</td>\n",
       "      <td>The Verge</td>\n",
       "    </tr>\n",
       "  </tbody>\n",
       "</table>\n",
       "<p>129362 rows × 8 columns</p>\n",
       "</div>"
      ],
      "text/plain": [
       "                       date  year  month  day  \\\n",
       "4       2018-05-02 17:09:00  2018    5.0    2   \n",
       "20      2018-10-05 19:35:00  2018   10.0    5   \n",
       "30      2019-06-20 00:00:00  2019    6.0   20   \n",
       "40      2019-06-20 00:00:00  2019    6.0   20   \n",
       "49      2017-11-09 21:24:00  2017   11.0    9   \n",
       "...                     ...   ...    ...  ...   \n",
       "1753388 2020-03-31 00:00:00  2020    3.0   31   \n",
       "1753389 2020-03-31 00:00:00  2020    3.0   31   \n",
       "1753390 2020-03-31 00:00:00  2020    3.0   31   \n",
       "1753392 2020-03-31 00:00:00  2020    3.0   31   \n",
       "1753400 2020-03-31 00:00:00  2020    3.0   31   \n",
       "\n",
       "                                                     title  \\\n",
       "4         You Can Trick Your Brain Into Being More Focused   \n",
       "20       Trash Geyser Spews Garbage In Yellowstone Nati...   \n",
       "30       Hungary has no evidence of Huawei threat, plan...   \n",
       "40       Philippines' Globe Telecoms launches 5G servic...   \n",
       "49             Twitter Verification Has Always Been a Mess   \n",
       "...                                                    ...   \n",
       "1753388  Popular livestreaming software Streamlabs OBS ...   \n",
       "1753389  Roku OS 9.3 adds faster performance, Spanish v...   \n",
       "1753390  The Fitbit Charge 4 is a more powerful fitness...   \n",
       "1753392        Intel has its laptop work cut out this year   \n",
       "1753400           Zoom isn’t actually end-to-end encrypted   \n",
       "\n",
       "                                                   article          section  \\\n",
       "4        If only every day could be like this. You can’...           health   \n",
       "20        Geyser eruptions are known as one of the most...     tech by vice   \n",
       "30       BUDAPEST (Reuters) - Hungary has no evidence t...  technology news   \n",
       "40       MANILA (Reuters) - Philippines’ Globe Telecom ...  technology news   \n",
       "49        Twitter wants to fix its long-broken verifica...     tech by vice   \n",
       "...                                                    ...              ...   \n",
       "1753388  Streaming is bigger than ever now that staying...             tech   \n",
       "1753389  Roku is today announcing the latest software u...             tech   \n",
       "1753390  The first Fitbit after Google announced it int...             tech   \n",
       "1753392  Even if you would never see yourself buying a ...             tech   \n",
       "1753400  Zoom states on its website and in its security...             tech   \n",
       "\n",
       "        publication  \n",
       "4              Vice  \n",
       "20             Vice  \n",
       "30          Reuters  \n",
       "40          Reuters  \n",
       "49             Vice  \n",
       "...             ...  \n",
       "1753388   The Verge  \n",
       "1753389   The Verge  \n",
       "1753390   The Verge  \n",
       "1753392   The Verge  \n",
       "1753400   The Verge  \n",
       "\n",
       "[129362 rows x 8 columns]"
      ]
     },
     "execution_count": 19,
     "metadata": {},
     "output_type": "execute_result"
    }
   ],
   "source": [
    "# Show  all sections that are like healthcare or tech\n",
    "df[df['section'].str.contains('health|tech')]"
   ]
  },
  {
   "cell_type": "code",
   "execution_count": 20,
   "metadata": {},
   "outputs": [],
   "source": [
    "df['section'] = df['section'].replace('health', 'healthcare')\n",
    "df['section'] = df['section'].replace('healthcarecare', 'healthcare')\n",
    "df['section'] = df['section'].replace('hosptial',  'healthcare')\n",
    "df['section'] = df['section'].replace('hospital',  'healthcare')\n",
    "df['section'] = df['section'].replace('medical',  'healthcare')\n",
    "df['section'] = df['section'].replace('medicare',  'healthcare')\n",
    "df['section'] = df['section'].replace('medicaid',  'healthcare')\n",
    "df['section'] = df['section'].replace('medication',  'healthcare')\n",
    "df['section'] = df['section'].replace('medications',  'healthcare')"
   ]
  },
  {
   "cell_type": "code",
   "execution_count": 21,
   "metadata": {},
   "outputs": [],
   "source": [
    "df['section'] = df['section'].replace('tech', 'technology')\n",
    "df['section'] = df['section'].replace('science and technology', 'technology')\n",
    "df['section'] = df['section'].replace('technology news', 'technology')\n",
    "df['section'] = df['section'].replace('technology and science', 'technology')\n",
    "df['section'] = df['section'].replace('technology and innovation', 'technology')\n",
    "df['section'] = df['section'].replace('technology and computing', 'technology')\n",
    "df['section'] = df['section'].replace('technology and engineering', 'technology')"
   ]
  },
  {
   "cell_type": "code",
   "execution_count": 22,
   "metadata": {},
   "outputs": [
    {
     "data": {
      "text/plain": [
       "<AxesSubplot: title={'center': 'Top 20 Article Sections'}>"
      ]
     },
     "execution_count": 22,
     "metadata": {},
     "output_type": "execute_result"
    },
    {
     "data": {
      "image/png": "[encoded data removed]",
      "text/plain": [
       "<Figure size 1000x700 with 1 Axes>"
      ]
     },
     "metadata": {},
     "output_type": "display_data"
    }
   ],
   "source": [
    "df['section'].value_counts()[:20].plot(kind='bar', figsize=(10,7), title='Top 20 Article Sections')"
   ]
  },
  {
   "cell_type": "code",
   "execution_count": 29,
   "metadata": {},
   "outputs": [],
   "source": [
    "df_small = df.groupby('section').head(5000)"
   ]
  },
  {
   "cell_type": "code",
   "execution_count": 30,
   "metadata": {},
   "outputs": [
    {
     "data": {
      "text/plain": [
       "(25000, 8)"
      ]
     },
     "execution_count": 30,
     "metadata": {},
     "output_type": "execute_result"
    }
   ],
   "source": [
    "df_model = df_small[df_small['section'].isin(['business', 'sports', 'technology', 'healthcare', 'movies'])]\n",
    "df_model.shape"
   ]
  },
  {
   "cell_type": "code",
   "execution_count": 31,
   "metadata": {},
   "outputs": [
    {
     "data": {
      "text/html": [
       "<div>\n",
       "<style scoped>\n",
       "    .dataframe tbody tr th:only-of-type {\n",
       "        vertical-align: middle;\n",
       "    }\n",
       "\n",
       "    .dataframe tbody tr th {\n",
       "        vertical-align: top;\n",
       "    }\n",
       "\n",
       "    .dataframe thead th {\n",
       "        text-align: right;\n",
       "    }\n",
       "</style>\n",
       "<table border=\"1\" class=\"dataframe\">\n",
       "  <thead>\n",
       "    <tr style=\"text-align: right;\">\n",
       "      <th></th>\n",
       "      <th>date</th>\n",
       "      <th>year</th>\n",
       "      <th>month</th>\n",
       "      <th>day</th>\n",
       "      <th>title</th>\n",
       "      <th>article</th>\n",
       "      <th>section</th>\n",
       "      <th>publication</th>\n",
       "    </tr>\n",
       "  </thead>\n",
       "  <tbody>\n",
       "    <tr>\n",
       "      <th>4</th>\n",
       "      <td>2018-05-02 17:09:00</td>\n",
       "      <td>2018</td>\n",
       "      <td>5.0</td>\n",
       "      <td>2</td>\n",
       "      <td>You Can Trick Your Brain Into Being More Focused</td>\n",
       "      <td>If only every day could be like this. You can’...</td>\n",
       "      <td>healthcare</td>\n",
       "      <td>Vice</td>\n",
       "    </tr>\n",
       "    <tr>\n",
       "      <th>5</th>\n",
       "      <td>2019-06-23 00:00:00</td>\n",
       "      <td>2019</td>\n",
       "      <td>6.0</td>\n",
       "      <td>23</td>\n",
       "      <td>Hudson's Bay's chairman's buyout bid pits reta...</td>\n",
       "      <td>(Reuters) - The success of Hudson’s Bay Co Exe...</td>\n",
       "      <td>business</td>\n",
       "      <td>Reuters</td>\n",
       "    </tr>\n",
       "    <tr>\n",
       "      <th>9</th>\n",
       "      <td>2018-12-28 00:00:00</td>\n",
       "      <td>2018</td>\n",
       "      <td>12.0</td>\n",
       "      <td>28</td>\n",
       "      <td>Wells Fargo to pay $575 million in settlement ...</td>\n",
       "      <td>NEW YORK (Reuters) - Wells Fargo &amp; Co (WFC.N) ...</td>\n",
       "      <td>business</td>\n",
       "      <td>Reuters</td>\n",
       "    </tr>\n",
       "    <tr>\n",
       "      <th>11</th>\n",
       "      <td>2019-05-21 00:00:00</td>\n",
       "      <td>2019</td>\n",
       "      <td>5.0</td>\n",
       "      <td>21</td>\n",
       "      <td>Factbox: Investments by automakers in the U.S....</td>\n",
       "      <td>(Reuters) - Major automakers have announced a ...</td>\n",
       "      <td>business</td>\n",
       "      <td>Reuters</td>\n",
       "    </tr>\n",
       "    <tr>\n",
       "      <th>12</th>\n",
       "      <td>2019-02-05 00:00:00</td>\n",
       "      <td>2019</td>\n",
       "      <td>2.0</td>\n",
       "      <td>5</td>\n",
       "      <td>Exclusive: Britain's financial heartland unbow...</td>\n",
       "      <td>LONDON (Reuters) - Britain’s financial service...</td>\n",
       "      <td>business</td>\n",
       "      <td>Reuters</td>\n",
       "    </tr>\n",
       "  </tbody>\n",
       "</table>\n",
       "</div>"
      ],
      "text/plain": [
       "                  date  year  month  day  \\\n",
       "4  2018-05-02 17:09:00  2018    5.0    2   \n",
       "5  2019-06-23 00:00:00  2019    6.0   23   \n",
       "9  2018-12-28 00:00:00  2018   12.0   28   \n",
       "11 2019-05-21 00:00:00  2019    5.0   21   \n",
       "12 2019-02-05 00:00:00  2019    2.0    5   \n",
       "\n",
       "                                                title  \\\n",
       "4    You Can Trick Your Brain Into Being More Focused   \n",
       "5   Hudson's Bay's chairman's buyout bid pits reta...   \n",
       "9   Wells Fargo to pay $575 million in settlement ...   \n",
       "11  Factbox: Investments by automakers in the U.S....   \n",
       "12  Exclusive: Britain's financial heartland unbow...   \n",
       "\n",
       "                                              article     section publication  \n",
       "4   If only every day could be like this. You can’...  healthcare        Vice  \n",
       "5   (Reuters) - The success of Hudson’s Bay Co Exe...    business     Reuters  \n",
       "9   NEW YORK (Reuters) - Wells Fargo & Co (WFC.N) ...    business     Reuters  \n",
       "11  (Reuters) - Major automakers have announced a ...    business     Reuters  \n",
       "12  LONDON (Reuters) - Britain’s financial service...    business     Reuters  "
      ]
     },
     "execution_count": 31,
     "metadata": {},
     "output_type": "execute_result"
    }
   ],
   "source": [
    "df_model.head()"
   ]
  },
  {
   "cell_type": "code",
   "execution_count": 32,
   "metadata": {},
   "outputs": [],
   "source": [
    "# Reset the index\n",
    "df_model.reset_index(drop=True, inplace=True)"
   ]
  },
  {
   "cell_type": "code",
   "execution_count": 33,
   "metadata": {},
   "outputs": [
    {
     "data": {
      "text/plain": [
       "<AxesSubplot: title={'center': 'Top 20 Article Sections in 10K Sample'}>"
      ]
     },
     "execution_count": 33,
     "metadata": {},
     "output_type": "execute_result"
    },
    {
     "data": {
      "image/png": "[encoded data removed]",
      "text/plain": [
       "<Figure size 1000x700 with 1 Axes>"
      ]
     },
     "metadata": {},
     "output_type": "display_data"
    }
   ],
   "source": [
    "# Show the number of articles in each section\n",
    "df_model['section'].value_counts()[:20].plot(kind='bar', figsize=(10,7), title='Top 20 Article Sections in 10K Sample')"
   ]
  },
  {
   "cell_type": "code",
   "execution_count": 34,
   "metadata": {},
   "outputs": [],
   "source": [
    "# Save the data to a csv file\n",
    "df_model.to_csv('./data/all-the-news-25K.csv', index=False)"
   ]
  },
  {
   "cell_type": "markdown",
   "metadata": {},
   "source": [
    "That's it for data prep now that we have a 25K data set of the section labels we want to use. The baseline model itself will be in textclass_baseline_allthenews.ipynb"
   ]
  },
  {
   "cell_type": "code",
   "execution_count": null,
   "metadata": {},
   "outputs": [],
   "source": []
  },
  {
   "cell_type": "code",
   "execution_count": null,
   "metadata": {},
   "outputs": [],
   "source": []
  }
 ],
 "metadata": {
  "kernelspec": {
   "display_name": "Python 3.9.13 ('mle-week04')",
   "language": "python",
   "name": "python3"
  },
  "language_info": {
   "codemirror_mode": {
    "name": "ipython",
    "version": 3
   },
   "file_extension": ".py",
   "mimetype": "text/x-python",
   "name": "python",
   "nbconvert_exporter": "python",
   "pygments_lexer": "ipython3",
   "version": "3.9.13"
  },
  "orig_nbformat": 4,
  "vscode": {
   "interpreter": {
    "hash": "f3a68452d880a521aeaaecf4758779aa2841daa5f66dd02a7fbc5ea85c6eda89"
   }
  }
 },
 "nbformat": 4,
 "nbformat_minor": 2
}
