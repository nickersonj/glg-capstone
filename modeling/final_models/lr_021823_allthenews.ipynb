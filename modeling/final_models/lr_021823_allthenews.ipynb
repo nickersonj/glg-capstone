{
 "cells": [
  {
   "cell_type": "markdown",
   "metadata": {},
   "source": [
    "### Baseline Text Classification Model for All the News Dataset\n",
    "Goal: Predict the classification of news articles based on their section labels. For our baseline model, we will start with a dataset of 25K articles distributed across five categories: business, sports, technology, healthcare, and movies."
   ]
  },
  {
   "cell_type": "markdown",
   "metadata": {},
   "source": [
    "### Import librarires"
   ]
  },
  {
   "cell_type": "code",
   "execution_count": 1,
   "metadata": {},
   "outputs": [
    {
     "name": "stderr",
     "output_type": "stream",
     "text": [
      "[nltk_data] Downloading package stopwords to\n",
      "[nltk_data]     /Users/curtispond/nltk_data...\n",
      "[nltk_data]   Package stopwords is already up-to-date!\n",
      "[nltk_data] Downloading package wordnet to\n",
      "[nltk_data]     /Users/curtispond/nltk_data...\n",
      "[nltk_data]   Package wordnet is already up-to-date!\n"
     ]
    }
   ],
   "source": [
    "import pandas as pd\n",
    "import matplotlib.pyplot as plt\n",
    "import numpy as np\n",
    "import seaborn as sns\n",
    "import nltk\n",
    "import re\n",
    "from nltk.corpus import stopwords\n",
    "nltk.download('stopwords')\n",
    "from nltk.stem import WordNetLemmatizer\n",
    "nltk.download('wordnet')\n",
    "from nltk.stem import PorterStemmer\n",
    "from sklearn.feature_extraction.text import CountVectorizer\n",
    "from sklearn.feature_extraction.text import TfidfVectorizer\n",
    "from sklearn.model_selection import train_test_split\n",
    "from sklearn.metrics import accuracy_score, confusion_matrix, classification_report\n",
    "from sklearn.naive_bayes import MultinomialNB\n",
    "from sklearn.linear_model import LogisticRegression\n",
    "from sklearn.svm import SVC, LinearSVC\n",
    "from sklearn.ensemble import RandomForestClassifier\n",
    "from sklearn.tree import DecisionTreeClassifier\n",
    "from sklearn.neighbors import KNeighborsClassifier\n",
    "from sklearn.metrics import make_scorer, roc_auc_score, roc_curve, auc\n",
    "import spacy\n",
    "from sklearn.metrics import f1_score\n",
    "import sklearn"
   ]
  },
  {
   "cell_type": "code",
   "execution_count": 2,
   "metadata": {},
   "outputs": [
    {
     "name": "stdout",
     "output_type": "stream",
     "text": [
      "1.1.1\n"
     ]
    }
   ],
   "source": [
    "#Print the version of Sklearn\n",
    "print(sklearn.__version__)"
   ]
  },
  {
   "cell_type": "markdown",
   "metadata": {},
   "source": [
    "### Load and inspect the data"
   ]
  },
  {
   "cell_type": "code",
   "execution_count": 3,
   "metadata": {},
   "outputs": [
    {
     "name": "stdout",
     "output_type": "stream",
     "text": [
      "<class 'pandas.core.frame.DataFrame'>\n",
      "RangeIndex: 100000 entries, 0 to 99999\n",
      "Data columns (total 11 columns):\n",
      " #   Column          Non-Null Count   Dtype \n",
      "---  ------          --------------   ----- \n",
      " 0   date            100000 non-null  object\n",
      " 1   year            100000 non-null  int64 \n",
      " 2   month           100000 non-null  object\n",
      " 3   day             100000 non-null  int64 \n",
      " 4   title           100000 non-null  object\n",
      " 5   article         100000 non-null  object\n",
      " 6   section         100000 non-null  object\n",
      " 7   publication     100000 non-null  object\n",
      " 8   word_count      100000 non-null  int64 \n",
      " 9   char_count      100000 non-null  int64 \n",
      " 10  sentence_count  100000 non-null  int64 \n",
      "dtypes: int64(5), object(6)\n",
      "memory usage: 8.4+ MB\n"
     ]
    }
   ],
   "source": [
    "df = pd.read_csv('./data/all-the-news-100k.csv')\n",
    "df.info()"
   ]
  },
  {
   "cell_type": "code",
   "execution_count": 4,
   "metadata": {},
   "outputs": [],
   "source": [
    "# Convert the date column to datetime\n",
    "df['date'] = pd.to_datetime(df['date'])"
   ]
  },
  {
   "cell_type": "code",
   "execution_count": 5,
   "metadata": {},
   "outputs": [
    {
     "data": {
      "text/html": [
       "<div>\n",
       "<style scoped>\n",
       "    .dataframe tbody tr th:only-of-type {\n",
       "        vertical-align: middle;\n",
       "    }\n",
       "\n",
       "    .dataframe tbody tr th {\n",
       "        vertical-align: top;\n",
       "    }\n",
       "\n",
       "    .dataframe thead th {\n",
       "        text-align: right;\n",
       "    }\n",
       "</style>\n",
       "<table border=\"1\" class=\"dataframe\">\n",
       "  <thead>\n",
       "    <tr style=\"text-align: right;\">\n",
       "      <th></th>\n",
       "      <th>date</th>\n",
       "      <th>year</th>\n",
       "      <th>month</th>\n",
       "      <th>day</th>\n",
       "      <th>title</th>\n",
       "      <th>article</th>\n",
       "      <th>section</th>\n",
       "      <th>publication</th>\n",
       "      <th>word_count</th>\n",
       "      <th>char_count</th>\n",
       "      <th>sentence_count</th>\n",
       "    </tr>\n",
       "  </thead>\n",
       "  <tbody>\n",
       "    <tr>\n",
       "      <th>0</th>\n",
       "      <td>2019-06-17 00:00:00</td>\n",
       "      <td>2019</td>\n",
       "      <td>Jun</td>\n",
       "      <td>17</td>\n",
       "      <td>ECB's Coeure: If we decide to cut rates, we'd ...</td>\n",
       "      <td>BERLIN, June 17 (Reuters) - ECB board member B...</td>\n",
       "      <td>financials</td>\n",
       "      <td>Reuters</td>\n",
       "      <td>133</td>\n",
       "      <td>654</td>\n",
       "      <td>4</td>\n",
       "    </tr>\n",
       "    <tr>\n",
       "      <th>1</th>\n",
       "      <td>2018-05-02 17:09:00</td>\n",
       "      <td>2018</td>\n",
       "      <td>May</td>\n",
       "      <td>2</td>\n",
       "      <td>You Can Trick Your Brain Into Being More Focused</td>\n",
       "      <td>If only every day could be like this. You can’...</td>\n",
       "      <td>healthcare</td>\n",
       "      <td>Vice</td>\n",
       "      <td>1810</td>\n",
       "      <td>8506</td>\n",
       "      <td>84</td>\n",
       "    </tr>\n",
       "    <tr>\n",
       "      <th>2</th>\n",
       "      <td>2019-06-23 00:00:00</td>\n",
       "      <td>2019</td>\n",
       "      <td>Jun</td>\n",
       "      <td>23</td>\n",
       "      <td>Hudson's Bay's chairman's buyout bid pits reta...</td>\n",
       "      <td>(Reuters) - The success of Hudson’s Bay Co Exe...</td>\n",
       "      <td>business</td>\n",
       "      <td>Reuters</td>\n",
       "      <td>890</td>\n",
       "      <td>4428</td>\n",
       "      <td>33</td>\n",
       "    </tr>\n",
       "    <tr>\n",
       "      <th>3</th>\n",
       "      <td>2018-12-28 00:00:00</td>\n",
       "      <td>2018</td>\n",
       "      <td>Dec</td>\n",
       "      <td>28</td>\n",
       "      <td>Wells Fargo to pay $575 million in settlement ...</td>\n",
       "      <td>NEW YORK (Reuters) - Wells Fargo &amp; Co (WFC.N) ...</td>\n",
       "      <td>business</td>\n",
       "      <td>Reuters</td>\n",
       "      <td>405</td>\n",
       "      <td>2007</td>\n",
       "      <td>13</td>\n",
       "    </tr>\n",
       "    <tr>\n",
       "      <th>4</th>\n",
       "      <td>2019-05-21 00:00:00</td>\n",
       "      <td>2019</td>\n",
       "      <td>May</td>\n",
       "      <td>21</td>\n",
       "      <td>Factbox: Investments by automakers in the U.S....</td>\n",
       "      <td>(Reuters) - Major automakers have announced a ...</td>\n",
       "      <td>business</td>\n",
       "      <td>Reuters</td>\n",
       "      <td>954</td>\n",
       "      <td>4849</td>\n",
       "      <td>42</td>\n",
       "    </tr>\n",
       "  </tbody>\n",
       "</table>\n",
       "</div>"
      ],
      "text/plain": [
       "                 date  year month  day  \\\n",
       "0 2019-06-17 00:00:00  2019   Jun   17   \n",
       "1 2018-05-02 17:09:00  2018   May    2   \n",
       "2 2019-06-23 00:00:00  2019   Jun   23   \n",
       "3 2018-12-28 00:00:00  2018   Dec   28   \n",
       "4 2019-05-21 00:00:00  2019   May   21   \n",
       "\n",
       "                                               title  \\\n",
       "0  ECB's Coeure: If we decide to cut rates, we'd ...   \n",
       "1   You Can Trick Your Brain Into Being More Focused   \n",
       "2  Hudson's Bay's chairman's buyout bid pits reta...   \n",
       "3  Wells Fargo to pay $575 million in settlement ...   \n",
       "4  Factbox: Investments by automakers in the U.S....   \n",
       "\n",
       "                                             article     section publication  \\\n",
       "0  BERLIN, June 17 (Reuters) - ECB board member B...  financials     Reuters   \n",
       "1  If only every day could be like this. You can’...  healthcare        Vice   \n",
       "2  (Reuters) - The success of Hudson’s Bay Co Exe...    business     Reuters   \n",
       "3  NEW YORK (Reuters) - Wells Fargo & Co (WFC.N) ...    business     Reuters   \n",
       "4  (Reuters) - Major automakers have announced a ...    business     Reuters   \n",
       "\n",
       "   word_count  char_count  sentence_count  \n",
       "0         133         654               4  \n",
       "1        1810        8506              84  \n",
       "2         890        4428              33  \n",
       "3         405        2007              13  \n",
       "4         954        4849              42  "
      ]
     },
     "execution_count": 5,
     "metadata": {},
     "output_type": "execute_result"
    }
   ],
   "source": [
    "df.head()"
   ]
  },
  {
   "cell_type": "code",
   "execution_count": 6,
   "metadata": {},
   "outputs": [
    {
     "data": {
      "text/plain": [
       "date              0\n",
       "year              0\n",
       "month             0\n",
       "day               0\n",
       "title             0\n",
       "article           0\n",
       "section           0\n",
       "publication       0\n",
       "word_count        0\n",
       "char_count        0\n",
       "sentence_count    0\n",
       "dtype: int64"
      ]
     },
     "execution_count": 6,
     "metadata": {},
     "output_type": "execute_result"
    }
   ],
   "source": [
    "# How many null values are there in each column?\n",
    "df.isnull().sum()"
   ]
  },
  {
   "cell_type": "code",
   "execution_count": 7,
   "metadata": {},
   "outputs": [
    {
     "data": {
      "text/plain": [
       "<AxesSubplot:title={'center':'Artile Count by Section'}>"
      ]
     },
     "execution_count": 7,
     "metadata": {},
     "output_type": "execute_result"
    },
    {
     "data": {
      "image/png": "[encoded data removed]",
      "text/plain": [
       "<Figure size 720x504 with 1 Axes>"
      ]
     },
     "metadata": {
      "needs_background": "light"
     },
     "output_type": "display_data"
    }
   ],
   "source": [
    "# Show the number of articles in each section\n",
    "df['section'].value_counts()[:20].plot(kind='bar', figsize=(10,7), title='Artile Count by Section')"
   ]
  },
  {
   "cell_type": "code",
   "execution_count": 8,
   "metadata": {},
   "outputs": [
    {
     "data": {
      "text/html": [
       "<div>\n",
       "<style scoped>\n",
       "    .dataframe tbody tr th:only-of-type {\n",
       "        vertical-align: middle;\n",
       "    }\n",
       "\n",
       "    .dataframe tbody tr th {\n",
       "        vertical-align: top;\n",
       "    }\n",
       "\n",
       "    .dataframe thead th {\n",
       "        text-align: right;\n",
       "    }\n",
       "</style>\n",
       "<table border=\"1\" class=\"dataframe\">\n",
       "  <thead>\n",
       "    <tr style=\"text-align: right;\">\n",
       "      <th></th>\n",
       "      <th>date</th>\n",
       "      <th>year</th>\n",
       "      <th>month</th>\n",
       "      <th>day</th>\n",
       "      <th>title</th>\n",
       "      <th>article</th>\n",
       "      <th>section</th>\n",
       "      <th>publication</th>\n",
       "      <th>word_count</th>\n",
       "      <th>char_count</th>\n",
       "      <th>sentence_count</th>\n",
       "    </tr>\n",
       "  </thead>\n",
       "  <tbody>\n",
       "    <tr>\n",
       "      <th>0</th>\n",
       "      <td>2019-06-17 00:00:00</td>\n",
       "      <td>2019</td>\n",
       "      <td>Jun</td>\n",
       "      <td>17</td>\n",
       "      <td>ECB's Coeure: If we decide to cut rates, we'd ...</td>\n",
       "      <td>BERLIN, June 17 (Reuters) - ECB board member B...</td>\n",
       "      <td>other</td>\n",
       "      <td>Reuters</td>\n",
       "      <td>133</td>\n",
       "      <td>654</td>\n",
       "      <td>4</td>\n",
       "    </tr>\n",
       "    <tr>\n",
       "      <th>1</th>\n",
       "      <td>2018-05-02 17:09:00</td>\n",
       "      <td>2018</td>\n",
       "      <td>May</td>\n",
       "      <td>2</td>\n",
       "      <td>You Can Trick Your Brain Into Being More Focused</td>\n",
       "      <td>If only every day could be like this. You can’...</td>\n",
       "      <td>healthcare</td>\n",
       "      <td>Vice</td>\n",
       "      <td>1810</td>\n",
       "      <td>8506</td>\n",
       "      <td>84</td>\n",
       "    </tr>\n",
       "    <tr>\n",
       "      <th>2</th>\n",
       "      <td>2019-06-23 00:00:00</td>\n",
       "      <td>2019</td>\n",
       "      <td>Jun</td>\n",
       "      <td>23</td>\n",
       "      <td>Hudson's Bay's chairman's buyout bid pits reta...</td>\n",
       "      <td>(Reuters) - The success of Hudson’s Bay Co Exe...</td>\n",
       "      <td>other</td>\n",
       "      <td>Reuters</td>\n",
       "      <td>890</td>\n",
       "      <td>4428</td>\n",
       "      <td>33</td>\n",
       "    </tr>\n",
       "    <tr>\n",
       "      <th>3</th>\n",
       "      <td>2018-12-28 00:00:00</td>\n",
       "      <td>2018</td>\n",
       "      <td>Dec</td>\n",
       "      <td>28</td>\n",
       "      <td>Wells Fargo to pay $575 million in settlement ...</td>\n",
       "      <td>NEW YORK (Reuters) - Wells Fargo &amp; Co (WFC.N) ...</td>\n",
       "      <td>other</td>\n",
       "      <td>Reuters</td>\n",
       "      <td>405</td>\n",
       "      <td>2007</td>\n",
       "      <td>13</td>\n",
       "    </tr>\n",
       "    <tr>\n",
       "      <th>4</th>\n",
       "      <td>2019-05-21 00:00:00</td>\n",
       "      <td>2019</td>\n",
       "      <td>May</td>\n",
       "      <td>21</td>\n",
       "      <td>Factbox: Investments by automakers in the U.S....</td>\n",
       "      <td>(Reuters) - Major automakers have announced a ...</td>\n",
       "      <td>other</td>\n",
       "      <td>Reuters</td>\n",
       "      <td>954</td>\n",
       "      <td>4849</td>\n",
       "      <td>42</td>\n",
       "    </tr>\n",
       "  </tbody>\n",
       "</table>\n",
       "</div>"
      ],
      "text/plain": [
       "                 date  year month  day  \\\n",
       "0 2019-06-17 00:00:00  2019   Jun   17   \n",
       "1 2018-05-02 17:09:00  2018   May    2   \n",
       "2 2019-06-23 00:00:00  2019   Jun   23   \n",
       "3 2018-12-28 00:00:00  2018   Dec   28   \n",
       "4 2019-05-21 00:00:00  2019   May   21   \n",
       "\n",
       "                                               title  \\\n",
       "0  ECB's Coeure: If we decide to cut rates, we'd ...   \n",
       "1   You Can Trick Your Brain Into Being More Focused   \n",
       "2  Hudson's Bay's chairman's buyout bid pits reta...   \n",
       "3  Wells Fargo to pay $575 million in settlement ...   \n",
       "4  Factbox: Investments by automakers in the U.S....   \n",
       "\n",
       "                                             article     section publication  \\\n",
       "0  BERLIN, June 17 (Reuters) - ECB board member B...       other     Reuters   \n",
       "1  If only every day could be like this. You can’...  healthcare        Vice   \n",
       "2  (Reuters) - The success of Hudson’s Bay Co Exe...       other     Reuters   \n",
       "3  NEW YORK (Reuters) - Wells Fargo & Co (WFC.N) ...       other     Reuters   \n",
       "4  (Reuters) - Major automakers have announced a ...       other     Reuters   \n",
       "\n",
       "   word_count  char_count  sentence_count  \n",
       "0         133         654               4  \n",
       "1        1810        8506              84  \n",
       "2         890        4428              33  \n",
       "3         405        2007              13  \n",
       "4         954        4849              42  "
      ]
     },
     "execution_count": 8,
     "metadata": {},
     "output_type": "execute_result"
    }
   ],
   "source": [
    "# Rename financials, business, and sports to other\n",
    "df['section'] = df['section'].replace(['financials', 'business', 'sports'], 'other')\n",
    "df.head()"
   ]
  },
  {
   "cell_type": "code",
   "execution_count": 9,
   "metadata": {},
   "outputs": [
    {
     "data": {
      "text/plain": [
       "1        If only every day could be like this. You can’...\n",
       "62       As a psychologist, I often hear stories about ...\n",
       "68        In late March, the Environmental Protection A...\n",
       "70       When Mel Cohen first began injecting estrogen,...\n",
       "72        Five men stand behind a two-way mirror, polic...\n",
       "                               ...                        \n",
       "91343    June 19 (Reuters) - EURONEXT: * FOLLOWING PRIV...\n",
       "91344    Jan 31 (Reuters) - BASTIDE GROUPE: * ANNOUNCES...\n",
       "91345    May 2 (Reuters) - FONET BILGI TEKNOLOJILERI: *...\n",
       "91348    Dec 14 (Reuters) - reMYND: * REMYND-UNDER AGRE...\n",
       "91350    Oct 21 (Reuters) - Guangdong Jiaying Pharmaceu...\n",
       "Name: article, Length: 20000, dtype: object"
      ]
     },
     "execution_count": 9,
     "metadata": {},
     "output_type": "execute_result"
    }
   ],
   "source": [
    "# show an article from the technology section\n",
    "df[df['section'] == 'healthcare']['article']"
   ]
  },
  {
   "cell_type": "code",
   "execution_count": 10,
   "metadata": {},
   "outputs": [
    {
     "data": {
      "text/plain": [
       "\"For the past couple days Donald Trump and his allies have been attempting to twist the arms of Republicans in Congress to vote for the American Health Care Act (AHCA), a piece of legislation that would water down the Obama-era Affordable Care Act (ACA).\\xa0 The AHCA\\xa0is widely hated—Democrats dislike it because it would weaken the ACA, and many conservatives don't think it goes far enough to repeal the current law. So\\xa0Trump has been using a combination of charm and threats to sell the AHCA\\xa0right-wing House members who might not like the bill, but like opposing Trump even less. It's a tough sales pitch even for a master persuader—if 22 Republicans are against the bill\\xa0it will go down, and as of Wednesday afternoon it looked like it was going down big\\xa0league thanks to conservative opposition:\\xa0\\xa0 That tweet is from a spokesperson for the Freedom Caucus, a group of hardline right-wingers who have achieved an outsized amount of power because the Republican leadership needs their votes to pass anything. (They were behind the push that ousted former Speaker John\\xa0Boehner.) \\xa0 If Trump and current\\xa0Speaker Paul Ryan can't win enough votes in the next day or so—it's nut-cutting time—the AHCA may either be withdrawn to go through more revisions, or it may be defeated on the floor of the House on Thursday, when the vote is scheduled. Even if the AHCA passes the House it faces a tougher path in the Senate. But if it couldn't even get out of the House, it will be a huge embarrassment for Ryan, who is guiding\\xa0his first piece of major legislation through the sausage machine of DC. It would also be a sign that Trump—who has put his full support behind the bill—is going to have a harder time bossing around Republican members of Congress than cast members on\\xa0The Apprentice. Follow Harry Cheadle on Twitter.\\xa0\\xa0\\xa0\""
      ]
     },
     "execution_count": 10,
     "metadata": {},
     "output_type": "execute_result"
    }
   ],
   "source": [
    "# Show an article from technology section\n",
    "df[df['section'] == 'healthcare']['article'].iloc[14]"
   ]
  },
  {
   "cell_type": "code",
   "execution_count": 11,
   "metadata": {},
   "outputs": [
    {
     "data": {
      "text/plain": [
       "<AxesSubplot:title={'center':'Article Count by Section'}>"
      ]
     },
     "execution_count": 11,
     "metadata": {},
     "output_type": "execute_result"
    },
    {
     "data": {
      "image/png": "[encoded data removed]",
      "text/plain": [
       "<Figure size 720x504 with 1 Axes>"
      ]
     },
     "metadata": {
      "needs_background": "light"
     },
     "output_type": "display_data"
    }
   ],
   "source": [
    "# Show the number of articles in each section\n",
    "df['section'].value_counts()[:20].plot(kind='bar', figsize=(10,7), title='Article Count by Section')"
   ]
  },
  {
   "cell_type": "code",
   "execution_count": 12,
   "metadata": {},
   "outputs": [
    {
     "data": {
      "text/html": [
       "<div>\n",
       "<style scoped>\n",
       "    .dataframe tbody tr th:only-of-type {\n",
       "        vertical-align: middle;\n",
       "    }\n",
       "\n",
       "    .dataframe tbody tr th {\n",
       "        vertical-align: top;\n",
       "    }\n",
       "\n",
       "    .dataframe thead th {\n",
       "        text-align: right;\n",
       "    }\n",
       "</style>\n",
       "<table border=\"1\" class=\"dataframe\">\n",
       "  <thead>\n",
       "    <tr style=\"text-align: right;\">\n",
       "      <th></th>\n",
       "      <th>date</th>\n",
       "      <th>year</th>\n",
       "      <th>month</th>\n",
       "      <th>day</th>\n",
       "      <th>title</th>\n",
       "      <th>article</th>\n",
       "      <th>section</th>\n",
       "      <th>publication</th>\n",
       "      <th>word_count</th>\n",
       "      <th>char_count</th>\n",
       "      <th>sentence_count</th>\n",
       "    </tr>\n",
       "  </thead>\n",
       "  <tbody>\n",
       "    <tr>\n",
       "      <th>0</th>\n",
       "      <td>2019-06-17 00:00:00</td>\n",
       "      <td>2019</td>\n",
       "      <td>Jun</td>\n",
       "      <td>17</td>\n",
       "      <td>ECB's Coeure: If we decide to cut rates, we'd ...</td>\n",
       "      <td>BERLIN, June 17 (Reuters) - ECB board member B...</td>\n",
       "      <td>other</td>\n",
       "      <td>Reuters</td>\n",
       "      <td>133</td>\n",
       "      <td>654</td>\n",
       "      <td>4</td>\n",
       "    </tr>\n",
       "    <tr>\n",
       "      <th>1</th>\n",
       "      <td>2018-05-02 17:09:00</td>\n",
       "      <td>2018</td>\n",
       "      <td>May</td>\n",
       "      <td>2</td>\n",
       "      <td>You Can Trick Your Brain Into Being More Focused</td>\n",
       "      <td>If only every day could be like this. You can’...</td>\n",
       "      <td>healthcare</td>\n",
       "      <td>Vice</td>\n",
       "      <td>1810</td>\n",
       "      <td>8506</td>\n",
       "      <td>84</td>\n",
       "    </tr>\n",
       "    <tr>\n",
       "      <th>9</th>\n",
       "      <td>2019-06-27 00:00:00</td>\n",
       "      <td>2019</td>\n",
       "      <td>Jun</td>\n",
       "      <td>27</td>\n",
       "      <td>FCC probes whether Sinclair misled agency duri...</td>\n",
       "      <td>WASHINGTON (Reuters) - Shares in Sinclair Broa...</td>\n",
       "      <td>other</td>\n",
       "      <td>Reuters</td>\n",
       "      <td>469</td>\n",
       "      <td>2342</td>\n",
       "      <td>19</td>\n",
       "    </tr>\n",
       "    <tr>\n",
       "      <th>10</th>\n",
       "      <td>2016-08-18 16:45:00</td>\n",
       "      <td>2016</td>\n",
       "      <td>Aug</td>\n",
       "      <td>18</td>\n",
       "      <td>U.S. Relay Team Successfully Appeals DQ After ...</td>\n",
       "      <td>Ryan Lochte hijinks aside, the weirdest thing ...</td>\n",
       "      <td>other</td>\n",
       "      <td>Vice</td>\n",
       "      <td>287</td>\n",
       "      <td>1280</td>\n",
       "      <td>19</td>\n",
       "    </tr>\n",
       "    <tr>\n",
       "      <th>12</th>\n",
       "      <td>2019-06-20 00:00:00</td>\n",
       "      <td>2019</td>\n",
       "      <td>Jun</td>\n",
       "      <td>20</td>\n",
       "      <td>Hungary has no evidence of Huawei threat, plan...</td>\n",
       "      <td>BUDAPEST (Reuters) - Hungary has no evidence t...</td>\n",
       "      <td>technology</td>\n",
       "      <td>Reuters</td>\n",
       "      <td>613</td>\n",
       "      <td>3139</td>\n",
       "      <td>24</td>\n",
       "    </tr>\n",
       "  </tbody>\n",
       "</table>\n",
       "</div>"
      ],
      "text/plain": [
       "                  date  year month  day  \\\n",
       "0  2019-06-17 00:00:00  2019   Jun   17   \n",
       "1  2018-05-02 17:09:00  2018   May    2   \n",
       "9  2019-06-27 00:00:00  2019   Jun   27   \n",
       "10 2016-08-18 16:45:00  2016   Aug   18   \n",
       "12 2019-06-20 00:00:00  2019   Jun   20   \n",
       "\n",
       "                                                title  \\\n",
       "0   ECB's Coeure: If we decide to cut rates, we'd ...   \n",
       "1    You Can Trick Your Brain Into Being More Focused   \n",
       "9   FCC probes whether Sinclair misled agency duri...   \n",
       "10  U.S. Relay Team Successfully Appeals DQ After ...   \n",
       "12  Hungary has no evidence of Huawei threat, plan...   \n",
       "\n",
       "                                              article     section publication  \\\n",
       "0   BERLIN, June 17 (Reuters) - ECB board member B...       other     Reuters   \n",
       "1   If only every day could be like this. You can’...  healthcare        Vice   \n",
       "9   WASHINGTON (Reuters) - Shares in Sinclair Broa...       other     Reuters   \n",
       "10  Ryan Lochte hijinks aside, the weirdest thing ...       other        Vice   \n",
       "12  BUDAPEST (Reuters) - Hungary has no evidence t...  technology     Reuters   \n",
       "\n",
       "    word_count  char_count  sentence_count  \n",
       "0          133         654               4  \n",
       "1         1810        8506              84  \n",
       "9          469        2342              19  \n",
       "10         287        1280              19  \n",
       "12         613        3139              24  "
      ]
     },
     "execution_count": 12,
     "metadata": {},
     "output_type": "execute_result"
    }
   ],
   "source": [
    "# Drop random sample of 40000 articles from other section\n",
    "df = df.drop(df[df['section'] == 'other'].sample(40000).index)\n",
    "df.head()"
   ]
  },
  {
   "cell_type": "code",
   "execution_count": 13,
   "metadata": {},
   "outputs": [
    {
     "data": {
      "text/plain": [
       "(60000, 11)"
      ]
     },
     "execution_count": 13,
     "metadata": {},
     "output_type": "execute_result"
    }
   ],
   "source": [
    "df.shape"
   ]
  },
  {
   "cell_type": "code",
   "execution_count": 14,
   "metadata": {},
   "outputs": [
    {
     "data": {
      "text/plain": [
       "<AxesSubplot:title={'center':'Number of articles in each section'}>"
      ]
     },
     "execution_count": 14,
     "metadata": {},
     "output_type": "execute_result"
    },
    {
     "data": {
      "image/png": "[encoded data removed]",
      "text/plain": [
       "<Figure size 720x504 with 1 Axes>"
      ]
     },
     "metadata": {
      "needs_background": "light"
     },
     "output_type": "display_data"
    }
   ],
   "source": [
    "# Show the number of articles in each section\n",
    "df['section'].value_counts()[:20].plot(kind='bar', figsize=(10,7), title='Number of articles in each section')"
   ]
  },
  {
   "cell_type": "markdown",
   "metadata": {},
   "source": [
    "### Text Classification process for baseline model"
   ]
  },
  {
   "cell_type": "markdown",
   "metadata": {},
   "source": [
    "1. Ensure the dataset is as balanced as possible (already done in dataset preparation)\n",
    "2. Process the data (remove stop words, punctuation, etc.)\n",
    "3. Create a Bag of Words feature to turn text into numbers\n",
    "3. Create training and test set\n",
    "4. Run some models and predictions"
   ]
  },
  {
   "cell_type": "markdown",
   "metadata": {},
   "source": [
    "### Prepare data for modeling on df dataset"
   ]
  },
  {
   "cell_type": "code",
   "execution_count": 15,
   "metadata": {},
   "outputs": [
    {
     "name": "stdout",
     "output_type": "stream",
     "text": [
      "['other' 'healthcare' 'technology']\n"
     ]
    }
   ],
   "source": [
    "#Convert the section column into categorical values\n",
    "target_section = df['section'].unique()\n",
    "print(target_section)"
   ]
  },
  {
   "cell_type": "code",
   "execution_count": 16,
   "metadata": {},
   "outputs": [
    {
     "data": {
      "text/html": [
       "<div>\n",
       "<style scoped>\n",
       "    .dataframe tbody tr th:only-of-type {\n",
       "        vertical-align: middle;\n",
       "    }\n",
       "\n",
       "    .dataframe tbody tr th {\n",
       "        vertical-align: top;\n",
       "    }\n",
       "\n",
       "    .dataframe thead th {\n",
       "        text-align: right;\n",
       "    }\n",
       "</style>\n",
       "<table border=\"1\" class=\"dataframe\">\n",
       "  <thead>\n",
       "    <tr style=\"text-align: right;\">\n",
       "      <th></th>\n",
       "      <th>date</th>\n",
       "      <th>year</th>\n",
       "      <th>month</th>\n",
       "      <th>day</th>\n",
       "      <th>title</th>\n",
       "      <th>article</th>\n",
       "      <th>section</th>\n",
       "      <th>publication</th>\n",
       "      <th>word_count</th>\n",
       "      <th>char_count</th>\n",
       "      <th>sentence_count</th>\n",
       "      <th>sectionId</th>\n",
       "    </tr>\n",
       "  </thead>\n",
       "  <tbody>\n",
       "    <tr>\n",
       "      <th>0</th>\n",
       "      <td>2019-06-17 00:00:00</td>\n",
       "      <td>2019</td>\n",
       "      <td>Jun</td>\n",
       "      <td>17</td>\n",
       "      <td>ECB's Coeure: If we decide to cut rates, we'd ...</td>\n",
       "      <td>BERLIN, June 17 (Reuters) - ECB board member B...</td>\n",
       "      <td>other</td>\n",
       "      <td>Reuters</td>\n",
       "      <td>133</td>\n",
       "      <td>654</td>\n",
       "      <td>4</td>\n",
       "      <td>0</td>\n",
       "    </tr>\n",
       "    <tr>\n",
       "      <th>1</th>\n",
       "      <td>2018-05-02 17:09:00</td>\n",
       "      <td>2018</td>\n",
       "      <td>May</td>\n",
       "      <td>2</td>\n",
       "      <td>You Can Trick Your Brain Into Being More Focused</td>\n",
       "      <td>If only every day could be like this. You can’...</td>\n",
       "      <td>healthcare</td>\n",
       "      <td>Vice</td>\n",
       "      <td>1810</td>\n",
       "      <td>8506</td>\n",
       "      <td>84</td>\n",
       "      <td>1</td>\n",
       "    </tr>\n",
       "    <tr>\n",
       "      <th>9</th>\n",
       "      <td>2019-06-27 00:00:00</td>\n",
       "      <td>2019</td>\n",
       "      <td>Jun</td>\n",
       "      <td>27</td>\n",
       "      <td>FCC probes whether Sinclair misled agency duri...</td>\n",
       "      <td>WASHINGTON (Reuters) - Shares in Sinclair Broa...</td>\n",
       "      <td>other</td>\n",
       "      <td>Reuters</td>\n",
       "      <td>469</td>\n",
       "      <td>2342</td>\n",
       "      <td>19</td>\n",
       "      <td>0</td>\n",
       "    </tr>\n",
       "    <tr>\n",
       "      <th>10</th>\n",
       "      <td>2016-08-18 16:45:00</td>\n",
       "      <td>2016</td>\n",
       "      <td>Aug</td>\n",
       "      <td>18</td>\n",
       "      <td>U.S. Relay Team Successfully Appeals DQ After ...</td>\n",
       "      <td>Ryan Lochte hijinks aside, the weirdest thing ...</td>\n",
       "      <td>other</td>\n",
       "      <td>Vice</td>\n",
       "      <td>287</td>\n",
       "      <td>1280</td>\n",
       "      <td>19</td>\n",
       "      <td>0</td>\n",
       "    </tr>\n",
       "    <tr>\n",
       "      <th>12</th>\n",
       "      <td>2019-06-20 00:00:00</td>\n",
       "      <td>2019</td>\n",
       "      <td>Jun</td>\n",
       "      <td>20</td>\n",
       "      <td>Hungary has no evidence of Huawei threat, plan...</td>\n",
       "      <td>BUDAPEST (Reuters) - Hungary has no evidence t...</td>\n",
       "      <td>technology</td>\n",
       "      <td>Reuters</td>\n",
       "      <td>613</td>\n",
       "      <td>3139</td>\n",
       "      <td>24</td>\n",
       "      <td>2</td>\n",
       "    </tr>\n",
       "  </tbody>\n",
       "</table>\n",
       "</div>"
      ],
      "text/plain": [
       "                  date  year month  day  \\\n",
       "0  2019-06-17 00:00:00  2019   Jun   17   \n",
       "1  2018-05-02 17:09:00  2018   May    2   \n",
       "9  2019-06-27 00:00:00  2019   Jun   27   \n",
       "10 2016-08-18 16:45:00  2016   Aug   18   \n",
       "12 2019-06-20 00:00:00  2019   Jun   20   \n",
       "\n",
       "                                                title  \\\n",
       "0   ECB's Coeure: If we decide to cut rates, we'd ...   \n",
       "1    You Can Trick Your Brain Into Being More Focused   \n",
       "9   FCC probes whether Sinclair misled agency duri...   \n",
       "10  U.S. Relay Team Successfully Appeals DQ After ...   \n",
       "12  Hungary has no evidence of Huawei threat, plan...   \n",
       "\n",
       "                                              article     section publication  \\\n",
       "0   BERLIN, June 17 (Reuters) - ECB board member B...       other     Reuters   \n",
       "1   If only every day could be like this. You can’...  healthcare        Vice   \n",
       "9   WASHINGTON (Reuters) - Shares in Sinclair Broa...       other     Reuters   \n",
       "10  Ryan Lochte hijinks aside, the weirdest thing ...       other        Vice   \n",
       "12  BUDAPEST (Reuters) - Hungary has no evidence t...  technology     Reuters   \n",
       "\n",
       "    word_count  char_count  sentence_count  sectionId  \n",
       "0          133         654               4          0  \n",
       "1         1810        8506              84          1  \n",
       "9          469        2342              19          0  \n",
       "10         287        1280              19          0  \n",
       "12         613        3139              24          2  "
      ]
     },
     "execution_count": 16,
     "metadata": {},
     "output_type": "execute_result"
    }
   ],
   "source": [
    "# Convert the section column into numerical values\n",
    "df['sectionId'] = df['section'].factorize()[0]\n",
    "df.head()"
   ]
  },
  {
   "cell_type": "code",
   "execution_count": 17,
   "metadata": {},
   "outputs": [
    {
     "data": {
      "text/html": [
       "<div>\n",
       "<style scoped>\n",
       "    .dataframe tbody tr th:only-of-type {\n",
       "        vertical-align: middle;\n",
       "    }\n",
       "\n",
       "    .dataframe tbody tr th {\n",
       "        vertical-align: top;\n",
       "    }\n",
       "\n",
       "    .dataframe thead th {\n",
       "        text-align: right;\n",
       "    }\n",
       "</style>\n",
       "<table border=\"1\" class=\"dataframe\">\n",
       "  <thead>\n",
       "    <tr style=\"text-align: right;\">\n",
       "      <th></th>\n",
       "      <th>section</th>\n",
       "      <th>sectionId</th>\n",
       "    </tr>\n",
       "  </thead>\n",
       "  <tbody>\n",
       "    <tr>\n",
       "      <th>0</th>\n",
       "      <td>other</td>\n",
       "      <td>0</td>\n",
       "    </tr>\n",
       "    <tr>\n",
       "      <th>1</th>\n",
       "      <td>healthcare</td>\n",
       "      <td>1</td>\n",
       "    </tr>\n",
       "    <tr>\n",
       "      <th>12</th>\n",
       "      <td>technology</td>\n",
       "      <td>2</td>\n",
       "    </tr>\n",
       "  </tbody>\n",
       "</table>\n",
       "</div>"
      ],
      "text/plain": [
       "       section  sectionId\n",
       "0        other          0\n",
       "1   healthcare          1\n",
       "12  technology          2"
      ]
     },
     "execution_count": 17,
     "metadata": {},
     "output_type": "execute_result"
    }
   ],
   "source": [
    "# Show the category's name and id\n",
    "category_id_df = df[['section', 'sectionId']].drop_duplicates().sort_values('sectionId')\n",
    "category_id_df"
   ]
  },
  {
   "cell_type": "code",
   "execution_count": 18,
   "metadata": {},
   "outputs": [
    {
     "data": {
      "text/html": [
       "<div>\n",
       "<style scoped>\n",
       "    .dataframe tbody tr th:only-of-type {\n",
       "        vertical-align: middle;\n",
       "    }\n",
       "\n",
       "    .dataframe tbody tr th {\n",
       "        vertical-align: top;\n",
       "    }\n",
       "\n",
       "    .dataframe thead th {\n",
       "        text-align: right;\n",
       "    }\n",
       "</style>\n",
       "<table border=\"1\" class=\"dataframe\">\n",
       "  <thead>\n",
       "    <tr style=\"text-align: right;\">\n",
       "      <th></th>\n",
       "      <th>date</th>\n",
       "      <th>year</th>\n",
       "      <th>month</th>\n",
       "      <th>day</th>\n",
       "      <th>title</th>\n",
       "      <th>article</th>\n",
       "      <th>section</th>\n",
       "      <th>publication</th>\n",
       "      <th>word_count</th>\n",
       "      <th>char_count</th>\n",
       "      <th>sentence_count</th>\n",
       "      <th>sectionId</th>\n",
       "    </tr>\n",
       "  </thead>\n",
       "  <tbody>\n",
       "    <tr>\n",
       "      <th>12</th>\n",
       "      <td>2019-06-20</td>\n",
       "      <td>2019</td>\n",
       "      <td>Jun</td>\n",
       "      <td>20</td>\n",
       "      <td>Hungary has no evidence of Huawei threat, plan...</td>\n",
       "      <td>BUDAPEST (Reuters) - Hungary has no evidence t...</td>\n",
       "      <td>technology</td>\n",
       "      <td>Reuters</td>\n",
       "      <td>613</td>\n",
       "      <td>3139</td>\n",
       "      <td>24</td>\n",
       "      <td>2</td>\n",
       "    </tr>\n",
       "  </tbody>\n",
       "</table>\n",
       "</div>"
      ],
      "text/plain": [
       "         date  year month  day  \\\n",
       "12 2019-06-20  2019   Jun   20   \n",
       "\n",
       "                                                title  \\\n",
       "12  Hungary has no evidence of Huawei threat, plan...   \n",
       "\n",
       "                                              article     section publication  \\\n",
       "12  BUDAPEST (Reuters) - Hungary has no evidence t...  technology     Reuters   \n",
       "\n",
       "    word_count  char_count  sentence_count  sectionId  \n",
       "12         613        3139              24          2  "
      ]
     },
     "execution_count": 18,
     "metadata": {},
     "output_type": "execute_result"
    }
   ],
   "source": [
    "# Show a technology article\n",
    "df[df['section'] == 'technology'].head(1)\n"
   ]
  },
  {
   "cell_type": "code",
   "execution_count": 19,
   "metadata": {},
   "outputs": [
    {
     "data": {
      "text/plain": [
       "<AxesSubplot:title={'center':'Target Sections and their Corresponding Ids'}, xlabel='section,sectionId'>"
      ]
     },
     "execution_count": 19,
     "metadata": {},
     "output_type": "execute_result"
    },
    {
     "data": {
      "image/png": "[encoded data removed]",
      "text/plain": [
       "<Figure size 720x504 with 1 Axes>"
      ]
     },
     "metadata": {
      "needs_background": "light"
     },
     "output_type": "display_data"
    }
   ],
   "source": [
    "# Visualize the number of articles in each section\n",
    "df.groupby('section').sectionId.value_counts().plot(kind='bar', \\\n",
    "    color= [\"green\", \"orange\", \"blue\", \"yellow\", \"brown\"], figsize=(10,7), title='Target Sections and their Corresponding Ids')"
   ]
  },
  {
   "cell_type": "markdown",
   "metadata": {},
   "source": [
    "### Clean the article text"
   ]
  },
  {
   "cell_type": "code",
   "execution_count": 20,
   "metadata": {},
   "outputs": [],
   "source": [
    "# Use NLTK to remove stopwords\n",
    "stop = stopwords.words('english')\n",
    "\n",
    "df['clean_article'] = df['article'].map(lambda x: ' '.join([word for word in x.split() if word not in (stop)]))"
   ]
  },
  {
   "cell_type": "code",
   "execution_count": 21,
   "metadata": {},
   "outputs": [],
   "source": [
    "import re\n",
    "import string\n",
    "def process_text(text):\n",
    "    text = str(text).lower()\n",
    "    text = re.sub(\n",
    "        f\"[{re.escape(string.punctuation)}]\", \" \", text\n",
    "    )\n",
    "    text = \" \".join(text.split())\n",
    "    return text\n",
    "\n",
    "df['text'] = df['clean_article'].apply(process_text)"
   ]
  },
  {
   "cell_type": "code",
   "execution_count": 22,
   "metadata": {},
   "outputs": [
    {
     "data": {
      "text/html": [
       "<div>\n",
       "<style scoped>\n",
       "    .dataframe tbody tr th:only-of-type {\n",
       "        vertical-align: middle;\n",
       "    }\n",
       "\n",
       "    .dataframe tbody tr th {\n",
       "        vertical-align: top;\n",
       "    }\n",
       "\n",
       "    .dataframe thead th {\n",
       "        text-align: right;\n",
       "    }\n",
       "</style>\n",
       "<table border=\"1\" class=\"dataframe\">\n",
       "  <thead>\n",
       "    <tr style=\"text-align: right;\">\n",
       "      <th></th>\n",
       "      <th>date</th>\n",
       "      <th>year</th>\n",
       "      <th>month</th>\n",
       "      <th>day</th>\n",
       "      <th>title</th>\n",
       "      <th>article</th>\n",
       "      <th>section</th>\n",
       "      <th>publication</th>\n",
       "      <th>word_count</th>\n",
       "      <th>char_count</th>\n",
       "      <th>sentence_count</th>\n",
       "      <th>sectionId</th>\n",
       "      <th>clean_article</th>\n",
       "      <th>text</th>\n",
       "    </tr>\n",
       "  </thead>\n",
       "  <tbody>\n",
       "    <tr>\n",
       "      <th>0</th>\n",
       "      <td>2019-06-17 00:00:00</td>\n",
       "      <td>2019</td>\n",
       "      <td>Jun</td>\n",
       "      <td>17</td>\n",
       "      <td>ECB's Coeure: If we decide to cut rates, we'd ...</td>\n",
       "      <td>BERLIN, June 17 (Reuters) - ECB board member B...</td>\n",
       "      <td>other</td>\n",
       "      <td>Reuters</td>\n",
       "      <td>133</td>\n",
       "      <td>654</td>\n",
       "      <td>4</td>\n",
       "      <td>0</td>\n",
       "      <td>BERLIN, June 17 (Reuters) - ECB board member B...</td>\n",
       "      <td>berlin june 17 reuters ecb board member benoit...</td>\n",
       "    </tr>\n",
       "    <tr>\n",
       "      <th>1</th>\n",
       "      <td>2018-05-02 17:09:00</td>\n",
       "      <td>2018</td>\n",
       "      <td>May</td>\n",
       "      <td>2</td>\n",
       "      <td>You Can Trick Your Brain Into Being More Focused</td>\n",
       "      <td>If only every day could be like this. You can’...</td>\n",
       "      <td>healthcare</td>\n",
       "      <td>Vice</td>\n",
       "      <td>1810</td>\n",
       "      <td>8506</td>\n",
       "      <td>84</td>\n",
       "      <td>1</td>\n",
       "      <td>If every day could like this. You can’t put fi...</td>\n",
       "      <td>if every day could like this you can’t put fin...</td>\n",
       "    </tr>\n",
       "    <tr>\n",
       "      <th>9</th>\n",
       "      <td>2019-06-27 00:00:00</td>\n",
       "      <td>2019</td>\n",
       "      <td>Jun</td>\n",
       "      <td>27</td>\n",
       "      <td>FCC probes whether Sinclair misled agency duri...</td>\n",
       "      <td>WASHINGTON (Reuters) - Shares in Sinclair Broa...</td>\n",
       "      <td>other</td>\n",
       "      <td>Reuters</td>\n",
       "      <td>469</td>\n",
       "      <td>2342</td>\n",
       "      <td>19</td>\n",
       "      <td>0</td>\n",
       "      <td>WASHINGTON (Reuters) - Shares Sinclair Broadca...</td>\n",
       "      <td>washington reuters shares sinclair broadcast g...</td>\n",
       "    </tr>\n",
       "    <tr>\n",
       "      <th>10</th>\n",
       "      <td>2016-08-18 16:45:00</td>\n",
       "      <td>2016</td>\n",
       "      <td>Aug</td>\n",
       "      <td>18</td>\n",
       "      <td>U.S. Relay Team Successfully Appeals DQ After ...</td>\n",
       "      <td>Ryan Lochte hijinks aside, the weirdest thing ...</td>\n",
       "      <td>other</td>\n",
       "      <td>Vice</td>\n",
       "      <td>287</td>\n",
       "      <td>1280</td>\n",
       "      <td>19</td>\n",
       "      <td>0</td>\n",
       "      <td>Ryan Lochte hijinks aside, weirdest thing happ...</td>\n",
       "      <td>ryan lochte hijinks aside weirdest thing happe...</td>\n",
       "    </tr>\n",
       "    <tr>\n",
       "      <th>12</th>\n",
       "      <td>2019-06-20 00:00:00</td>\n",
       "      <td>2019</td>\n",
       "      <td>Jun</td>\n",
       "      <td>20</td>\n",
       "      <td>Hungary has no evidence of Huawei threat, plan...</td>\n",
       "      <td>BUDAPEST (Reuters) - Hungary has no evidence t...</td>\n",
       "      <td>technology</td>\n",
       "      <td>Reuters</td>\n",
       "      <td>613</td>\n",
       "      <td>3139</td>\n",
       "      <td>24</td>\n",
       "      <td>2</td>\n",
       "      <td>BUDAPEST (Reuters) - Hungary evidence equipmen...</td>\n",
       "      <td>budapest reuters hungary evidence equipment ch...</td>\n",
       "    </tr>\n",
       "  </tbody>\n",
       "</table>\n",
       "</div>"
      ],
      "text/plain": [
       "                  date  year month  day  \\\n",
       "0  2019-06-17 00:00:00  2019   Jun   17   \n",
       "1  2018-05-02 17:09:00  2018   May    2   \n",
       "9  2019-06-27 00:00:00  2019   Jun   27   \n",
       "10 2016-08-18 16:45:00  2016   Aug   18   \n",
       "12 2019-06-20 00:00:00  2019   Jun   20   \n",
       "\n",
       "                                                title  \\\n",
       "0   ECB's Coeure: If we decide to cut rates, we'd ...   \n",
       "1    You Can Trick Your Brain Into Being More Focused   \n",
       "9   FCC probes whether Sinclair misled agency duri...   \n",
       "10  U.S. Relay Team Successfully Appeals DQ After ...   \n",
       "12  Hungary has no evidence of Huawei threat, plan...   \n",
       "\n",
       "                                              article     section publication  \\\n",
       "0   BERLIN, June 17 (Reuters) - ECB board member B...       other     Reuters   \n",
       "1   If only every day could be like this. You can’...  healthcare        Vice   \n",
       "9   WASHINGTON (Reuters) - Shares in Sinclair Broa...       other     Reuters   \n",
       "10  Ryan Lochte hijinks aside, the weirdest thing ...       other        Vice   \n",
       "12  BUDAPEST (Reuters) - Hungary has no evidence t...  technology     Reuters   \n",
       "\n",
       "    word_count  char_count  sentence_count  sectionId  \\\n",
       "0          133         654               4          0   \n",
       "1         1810        8506              84          1   \n",
       "9          469        2342              19          0   \n",
       "10         287        1280              19          0   \n",
       "12         613        3139              24          2   \n",
       "\n",
       "                                        clean_article  \\\n",
       "0   BERLIN, June 17 (Reuters) - ECB board member B...   \n",
       "1   If every day could like this. You can’t put fi...   \n",
       "9   WASHINGTON (Reuters) - Shares Sinclair Broadca...   \n",
       "10  Ryan Lochte hijinks aside, weirdest thing happ...   \n",
       "12  BUDAPEST (Reuters) - Hungary evidence equipmen...   \n",
       "\n",
       "                                                 text  \n",
       "0   berlin june 17 reuters ecb board member benoit...  \n",
       "1   if every day could like this you can’t put fin...  \n",
       "9   washington reuters shares sinclair broadcast g...  \n",
       "10  ryan lochte hijinks aside weirdest thing happe...  \n",
       "12  budapest reuters hungary evidence equipment ch...  "
      ]
     },
     "execution_count": 22,
     "metadata": {},
     "output_type": "execute_result"
    }
   ],
   "source": [
    "df.head()"
   ]
  },
  {
   "cell_type": "code",
   "execution_count": 23,
   "metadata": {},
   "outputs": [
    {
     "data": {
      "text/plain": [
       "'brussels reuters u s tech giant international business machines corp set secure unconditional eu approval 34 billion bid software company red hat people familiar matter said wednesday ibm seeking expand subscription based software offerings via deal biggest date counter slowing software sales waning demand mainframe servers it would also help catch amazon alphabet inc microsoft fast growing cloud computing business the european commission scheduled decide deal june 27 ibm declined comment founded 1993 red hat specializes linux operating systems popular type open source software alternative proprietary software made microsoft u s regulatory authorities gave green light deal last month without demanding concessions reporting foo yun chee editing alissa de carbonnel elaine hardcastle'"
      ]
     },
     "execution_count": 23,
     "metadata": {},
     "output_type": "execute_result"
    }
   ],
   "source": [
    "# Show a technology article\n",
    "df[df['section'] == 'technology']['text'].iloc[33]"
   ]
  },
  {
   "cell_type": "markdown",
   "metadata": {},
   "source": [
    "### Build models and make predictions"
   ]
  },
  {
   "cell_type": "code",
   "execution_count": 24,
   "metadata": {},
   "outputs": [],
   "source": [
    "# Split the data into training and test sets\n",
    "target = df['sectionId']\n",
    "df_train, df_test = train_test_split(df, test_size=0.20, stratify=target)"
   ]
  },
  {
   "cell_type": "code",
   "execution_count": 25,
   "metadata": {},
   "outputs": [],
   "source": [
    "vec = CountVectorizer()\n",
    "\n",
    "X_train = vec.fit_transform(df_train.text)\n",
    "X_test = vec.transform(df_test.text)\n",
    "\n",
    "y_train = df_train.sectionId\n",
    "y_test = df_test.sectionId"
   ]
  },
  {
   "cell_type": "code",
   "execution_count": null,
   "metadata": {},
   "outputs": [],
   "source": [
    "# Create a pickle file for the CountVectorizer\n",
    "import pickle5 as pickle\n",
    "pickle.dump(vec, open('vectorizer_021823.pkl', 'wb'))"
   ]
  },
  {
   "cell_type": "code",
   "execution_count": 26,
   "metadata": {},
   "outputs": [
    {
     "name": "stdout",
     "output_type": "stream",
     "text": [
      "3.8.1\n"
     ]
    }
   ],
   "source": [
    "# What version of NLTK\n",
    "import nltk\n",
    "print(nltk.__version__)"
   ]
  },
  {
   "attachments": {},
   "cell_type": "markdown",
   "metadata": {},
   "source": [
    "##### Logistic Regression: F1 - .92%"
   ]
  },
  {
   "cell_type": "code",
   "execution_count": 27,
   "metadata": {},
   "outputs": [
    {
     "name": "stderr",
     "output_type": "stream",
     "text": [
      "/opt/homebrew/Caskroom/miniforge/base/envs/fastai/lib/python3.10/site-packages/sklearn/linear_model/_logistic.py:444: ConvergenceWarning: lbfgs failed to converge (status=1):\n",
      "STOP: TOTAL NO. of ITERATIONS REACHED LIMIT.\n",
      "\n",
      "Increase the number of iterations (max_iter) or scale the data as shown in:\n",
      "    https://scikit-learn.org/stable/modules/preprocessing.html\n",
      "Please also refer to the documentation for alternative solver options:\n",
      "    https://scikit-learn.org/stable/modules/linear_model.html#logistic-regression\n",
      "  n_iter_i = _check_optimize_result(\n"
     ]
    }
   ],
   "source": [
    "# Train a logistic regression model\n",
    "lr = LogisticRegression(random_state=0, solver='lbfgs', multi_class='multinomial').fit(X_train, y_train)"
   ]
  },
  {
   "cell_type": "code",
   "execution_count": null,
   "metadata": {},
   "outputs": [],
   "source": [
    "# Pickle the model\n",
    "pickle.dump(lr, open('lr_021823.pkl', 'wb'))"
   ]
  },
  {
   "cell_type": "code",
   "execution_count": 28,
   "metadata": {},
   "outputs": [],
   "source": [
    "# Predict the test set results\n",
    "y_pred = lr.predict(X_test)"
   ]
  },
  {
   "cell_type": "code",
   "execution_count": 29,
   "metadata": {},
   "outputs": [
    {
     "name": "stdout",
     "output_type": "stream",
     "text": [
      "Accuracy:  0.9215\n"
     ]
    }
   ],
   "source": [
    "# Evaluate the model\n",
    "print(\"Accuracy: \", accuracy_score(y_test, y_pred))"
   ]
  },
  {
   "cell_type": "code",
   "execution_count": 30,
   "metadata": {},
   "outputs": [
    {
     "name": "stdout",
     "output_type": "stream",
     "text": [
      "              precision    recall  f1-score   support\n",
      "\n",
      "       other       0.90      0.89      0.90      4000\n",
      "  healthcare       0.94      0.94      0.94      4000\n",
      "  technology       0.92      0.93      0.92      4000\n",
      "\n",
      "    accuracy                           0.92     12000\n",
      "   macro avg       0.92      0.92      0.92     12000\n",
      "weighted avg       0.92      0.92      0.92     12000\n",
      "\n"
     ]
    }
   ],
   "source": [
    "# Show precision, recall, and f1-score\n",
    "print(classification_report(y_test, y_pred, target_names=df['section'].unique()))"
   ]
  },
  {
   "cell_type": "code",
   "execution_count": 31,
   "metadata": {},
   "outputs": [
    {
     "name": "stdout",
     "output_type": "stream",
     "text": [
      "F1 score:  0.9214406721754084\n"
     ]
    }
   ],
   "source": [
    "# Overall F1 score\n",
    "print(\"F1 score: \", f1_score(y_test, y_pred, average='weighted'))"
   ]
  },
  {
   "attachments": {},
   "cell_type": "markdown",
   "metadata": {},
   "source": [
    "Test sentences\n",
    "\n",
    "0. Other: Sitting across from Jimmy Fallon on “The Tonight Show,” Paris Hilton, wearing a sparkling neon green turtleneck dress and a high ponytail, looked at a picture of a glum cartoon ape and said it “reminds me of me.” The audience laughed. It did not look like her at all.\n",
    "1. Healthcare: Plans are moving forward at the US Department of Health and Human Services to prepare for the end of the nation’s Covid-19 public health emergency declaration in May.\n",
    "2. As Apple looks beyond China to secure crucial supply chains strained by Covid lockdowns and threatened by rising geopolitical tension, India has emerged as an attractive potential alternative to the world’s second largest economy."
   ]
  }
 ],
 "metadata": {
  "kernelspec": {
   "display_name": "fastai",
   "language": "python",
   "name": "python3"
  },
  "language_info": {
   "codemirror_mode": {
    "name": "ipython",
    "version": 3
   },
   "file_extension": ".py",
   "mimetype": "text/x-python",
   "name": "python",
   "nbconvert_exporter": "python",
   "pygments_lexer": "ipython3",
   "version": "3.10.4"
  },
  "orig_nbformat": 4,
  "vscode": {
   "interpreter": {
    "hash": "4b6371f9b180b180e3c0fc2dc539c52593b72b3e75aed3593bd0a5845eb81bd2"
   }
  }
 },
 "nbformat": 4,
 "nbformat_minor": 2
}
