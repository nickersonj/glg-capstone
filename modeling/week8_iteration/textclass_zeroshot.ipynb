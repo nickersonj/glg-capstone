{
 "cells": [
  {
   "attachments": {},
   "cell_type": "markdown",
   "metadata": {},
   "source": [
    "This notebook explores zero-shot text classification using the Hugging Face Transformers pipeline on the `all-the-news-25k.csv` dataset."
   ]
  },
  {
   "attachments": {},
   "cell_type": "markdown",
   "metadata": {},
   "source": [
    "## Setup"
   ]
  },
  {
   "cell_type": "code",
   "execution_count": 21,
   "metadata": {},
   "outputs": [
    {
     "name": "stdout",
     "output_type": "stream",
     "text": [
      "<class 'pandas.core.frame.DataFrame'>\n",
      "RangeIndex: 25000 entries, 0 to 24999\n",
      "Data columns (total 8 columns):\n",
      " #   Column       Non-Null Count  Dtype         \n",
      "---  ------       --------------  -----         \n",
      " 0   date         25000 non-null  datetime64[ns]\n",
      " 1   year         25000 non-null  int64         \n",
      " 2   month        25000 non-null  float64       \n",
      " 3   day          25000 non-null  int64         \n",
      " 4   title        25000 non-null  object        \n",
      " 5   article      25000 non-null  object        \n",
      " 6   section      25000 non-null  object        \n",
      " 7   publication  25000 non-null  object        \n",
      "dtypes: datetime64[ns](1), float64(1), int64(2), object(4)\n",
      "memory usage: 1.5+ MB\n"
     ]
    }
   ],
   "source": [
    "import pandas as pd\n",
    "\n",
    "df = pd.read_csv('../baseline/data/all-the-news-25K.csv', low_memory=False, parse_dates=['date'])\n",
    "df.info()"
   ]
  },
  {
   "cell_type": "code",
   "execution_count": 22,
   "metadata": {},
   "outputs": [
    {
     "data": {
      "text/html": [
       "<div>\n",
       "<style scoped>\n",
       "    .dataframe tbody tr th:only-of-type {\n",
       "        vertical-align: middle;\n",
       "    }\n",
       "\n",
       "    .dataframe tbody tr th {\n",
       "        vertical-align: top;\n",
       "    }\n",
       "\n",
       "    .dataframe thead th {\n",
       "        text-align: right;\n",
       "    }\n",
       "</style>\n",
       "<table border=\"1\" class=\"dataframe\">\n",
       "  <thead>\n",
       "    <tr style=\"text-align: right;\">\n",
       "      <th></th>\n",
       "      <th>date</th>\n",
       "      <th>year</th>\n",
       "      <th>month</th>\n",
       "      <th>day</th>\n",
       "      <th>title</th>\n",
       "      <th>article</th>\n",
       "      <th>section</th>\n",
       "      <th>publication</th>\n",
       "    </tr>\n",
       "  </thead>\n",
       "  <tbody>\n",
       "    <tr>\n",
       "      <th>9888</th>\n",
       "      <td>2019-06-12 00:00:00</td>\n",
       "      <td>2019</td>\n",
       "      <td>6.0</td>\n",
       "      <td>12</td>\n",
       "      <td>Agent Paul to Celtics: Davis won't sign</td>\n",
       "      <td>Agent Rich Paul warned the Boston Celtics: Tra...</td>\n",
       "      <td>sports</td>\n",
       "      <td>Reuters</td>\n",
       "    </tr>\n",
       "    <tr>\n",
       "      <th>6739</th>\n",
       "      <td>2016-06-28 15:43:00</td>\n",
       "      <td>2016</td>\n",
       "      <td>6.0</td>\n",
       "      <td>28</td>\n",
       "      <td>Can Lolo Jones Run It Back to the Rio Olympics?</td>\n",
       "      <td>Lolo Jones in slow motion is a rare sight. But...</td>\n",
       "      <td>sports</td>\n",
       "      <td>Vice</td>\n",
       "    </tr>\n",
       "    <tr>\n",
       "      <th>6990</th>\n",
       "      <td>2019-06-22 00:00:00</td>\n",
       "      <td>2019</td>\n",
       "      <td>6.0</td>\n",
       "      <td>22</td>\n",
       "      <td>Velodyne Lidar hires bankers for an IPO: Busin...</td>\n",
       "      <td>(Reuters) - Autonomous vehicle technology comp...</td>\n",
       "      <td>business</td>\n",
       "      <td>Reuters</td>\n",
       "    </tr>\n",
       "    <tr>\n",
       "      <th>20862</th>\n",
       "      <td>2018-06-09 10:00:00</td>\n",
       "      <td>2018</td>\n",
       "      <td>6.0</td>\n",
       "      <td>9</td>\n",
       "      <td>5 Things We Learned About Mister Rogers from N...</td>\n",
       "      <td>Long before the cacophony of today’s TV with i...</td>\n",
       "      <td>movies</td>\n",
       "      <td>People</td>\n",
       "    </tr>\n",
       "    <tr>\n",
       "      <th>4097</th>\n",
       "      <td>2018-04-04 00:00:00</td>\n",
       "      <td>2018</td>\n",
       "      <td>4.0</td>\n",
       "      <td>4</td>\n",
       "      <td>White House says hopes China changes trade pra...</td>\n",
       "      <td>WASHINGTON (Reuters) - The White House said on...</td>\n",
       "      <td>business</td>\n",
       "      <td>Reuters</td>\n",
       "    </tr>\n",
       "  </tbody>\n",
       "</table>\n",
       "</div>"
      ],
      "text/plain": [
       "                     date  year  month  day  \\\n",
       "9888  2019-06-12 00:00:00  2019    6.0   12   \n",
       "6739  2016-06-28 15:43:00  2016    6.0   28   \n",
       "6990  2019-06-22 00:00:00  2019    6.0   22   \n",
       "20862 2018-06-09 10:00:00  2018    6.0    9   \n",
       "4097  2018-04-04 00:00:00  2018    4.0    4   \n",
       "\n",
       "                                                   title  \\\n",
       "9888             Agent Paul to Celtics: Davis won't sign   \n",
       "6739     Can Lolo Jones Run It Back to the Rio Olympics?   \n",
       "6990   Velodyne Lidar hires bankers for an IPO: Busin...   \n",
       "20862  5 Things We Learned About Mister Rogers from N...   \n",
       "4097   White House says hopes China changes trade pra...   \n",
       "\n",
       "                                                 article   section publication  \n",
       "9888   Agent Rich Paul warned the Boston Celtics: Tra...    sports     Reuters  \n",
       "6739   Lolo Jones in slow motion is a rare sight. But...    sports        Vice  \n",
       "6990   (Reuters) - Autonomous vehicle technology comp...  business     Reuters  \n",
       "20862  Long before the cacophony of today’s TV with i...    movies      People  \n",
       "4097   WASHINGTON (Reuters) - The White House said on...  business     Reuters  "
      ]
     },
     "execution_count": 22,
     "metadata": {},
     "output_type": "execute_result"
    }
   ],
   "source": [
    "df.sample(5)"
   ]
  },
  {
   "attachments": {},
   "cell_type": "markdown",
   "metadata": {},
   "source": [
    "Truncate each article to 500 characters (~100 words) as well as 1000 characters (~200 words):"
   ]
  },
  {
   "cell_type": "code",
   "execution_count": 23,
   "metadata": {},
   "outputs": [],
   "source": [
    "df['article_trunc500'] = df['article'].apply(lambda x: x[:500] if len(x) > 500 else x)\n",
    "df['article_trunc1000'] = df['article'].apply(lambda x: x[:1000] if len(x) > 1000 else x)"
   ]
  },
  {
   "attachments": {},
   "cell_type": "markdown",
   "metadata": {},
   "source": [
    "Pick a random sample of 1000 articles to evaluate using zero-shot classification. Convert to a list:"
   ]
  },
  {
   "cell_type": "code",
   "execution_count": 25,
   "metadata": {},
   "outputs": [],
   "source": [
    "df_sample = df.sample(n=1000, random_state=42)\n",
    "\n",
    "articles_trunc500 = df_sample['article_trunc500'].values.tolist()\n",
    "articles_trunc1000 = df_sample['article_trunc1000'].values.tolist()"
   ]
  },
  {
   "attachments": {},
   "cell_type": "markdown",
   "metadata": {},
   "source": [
    "## Zero-Shot Classification"
   ]
  },
  {
   "attachments": {},
   "cell_type": "markdown",
   "metadata": {},
   "source": [
    "Use Hugging Face Transformers [pipeline](https://huggingface.co/docs/transformers/v4.24.0/en/main_classes/pipelines):"
   ]
  },
  {
   "cell_type": "code",
   "execution_count": 28,
   "metadata": {},
   "outputs": [
    {
     "name": "stderr",
     "output_type": "stream",
     "text": [
      "No model was supplied, defaulted to facebook/bart-large-mnli and revision c626438 (https://huggingface.co/facebook/bart-large-mnli).\n",
      "Using a pipeline without specifying a model name and revision in production is not recommended.\n"
     ]
    },
    {
     "name": "stdout",
     "output_type": "stream",
     "text": [
      "CPU times: user 7h 56min 18s, sys: 13min 59s, total: 8h 10min 18s\n",
      "Wall time: 1h 1min 48s\n"
     ]
    }
   ],
   "source": [
    "%%time\n",
    "\n",
    "from transformers import pipeline\n",
    "classifier = pipeline(\"zero-shot-classification\")\n",
    "sections = [\"technology\", \"healthcare\", \"movies\", \"business\", \"sports\"]\n",
    "\n",
    "results_trunc500 = classifier(articles_trunc500, candidate_labels=sections)\n",
    "results_trunc1000 = classifier(articles_trunc1000, candidate_labels=sections)"
   ]
  },
  {
   "attachments": {},
   "cell_type": "markdown",
   "metadata": {},
   "source": [
    "Convert classifier results to predictions:"
   ]
  },
  {
   "cell_type": "code",
   "execution_count": 44,
   "metadata": {},
   "outputs": [],
   "source": [
    "# Go through each list\n",
    "pred_trun500, pred_trun1000 = [], []\n",
    "for d500, d1000 in zip(results_trunc500, results_trunc1000):\n",
    "    # Get label of maximum probability\n",
    "    pred_trun500.append(d500['labels'][0])\n",
    "    pred_trun1000.append(d1000['labels'][0])"
   ]
  },
  {
   "cell_type": "code",
   "execution_count": 56,
   "metadata": {},
   "outputs": [
    {
     "data": {
      "text/html": [
       "<div>\n",
       "<style scoped>\n",
       "    .dataframe tbody tr th:only-of-type {\n",
       "        vertical-align: middle;\n",
       "    }\n",
       "\n",
       "    .dataframe tbody tr th {\n",
       "        vertical-align: top;\n",
       "    }\n",
       "\n",
       "    .dataframe thead th {\n",
       "        text-align: right;\n",
       "    }\n",
       "</style>\n",
       "<table border=\"1\" class=\"dataframe\">\n",
       "  <thead>\n",
       "    <tr style=\"text-align: right;\">\n",
       "      <th></th>\n",
       "      <th>date</th>\n",
       "      <th>year</th>\n",
       "      <th>month</th>\n",
       "      <th>day</th>\n",
       "      <th>title</th>\n",
       "      <th>article</th>\n",
       "      <th>section</th>\n",
       "      <th>publication</th>\n",
       "      <th>article_trunc500</th>\n",
       "      <th>article_trunc1000</th>\n",
       "      <th>pred_trun500</th>\n",
       "      <th>pred_trun1000</th>\n",
       "      <th>section_num</th>\n",
       "    </tr>\n",
       "  </thead>\n",
       "  <tbody>\n",
       "    <tr>\n",
       "      <th>21589</th>\n",
       "      <td>2018-10-16 01:30:00</td>\n",
       "      <td>2018</td>\n",
       "      <td>10.0</td>\n",
       "      <td>16</td>\n",
       "      <td>Chris Evans Slams Piers Morgan for Dad-Shaming...</td>\n",
       "      <td>There will be no-dad shaming on Chris Evans’ w...</td>\n",
       "      <td>movies</td>\n",
       "      <td>People</td>\n",
       "      <td>There will be no-dad shaming on Chris Evans’ w...</td>\n",
       "      <td>There will be no-dad shaming on Chris Evans’ w...</td>\n",
       "      <td>movies</td>\n",
       "      <td>business</td>\n",
       "      <td>2</td>\n",
       "    </tr>\n",
       "    <tr>\n",
       "      <th>11448</th>\n",
       "      <td>2017-10-01 00:00:00</td>\n",
       "      <td>2017</td>\n",
       "      <td>10.0</td>\n",
       "      <td>1</td>\n",
       "      <td>Three Miami Dolphins players defy Trump order ...</td>\n",
       "      <td>LONDON (Reuters) - Three Miami Dolphins player...</td>\n",
       "      <td>sports</td>\n",
       "      <td>Reuters</td>\n",
       "      <td>LONDON (Reuters) - Three Miami Dolphins player...</td>\n",
       "      <td>LONDON (Reuters) - Three Miami Dolphins player...</td>\n",
       "      <td>sports</td>\n",
       "      <td>sports</td>\n",
       "      <td>4</td>\n",
       "    </tr>\n",
       "    <tr>\n",
       "      <th>10422</th>\n",
       "      <td>2018-11-19 15:35:00</td>\n",
       "      <td>2018</td>\n",
       "      <td>11.0</td>\n",
       "      <td>19</td>\n",
       "      <td>Late Night Twitter Sessions Are Bad for NBA Sh...</td>\n",
       "      <td>Sometimes that thing you think is bad for you,...</td>\n",
       "      <td>sports</td>\n",
       "      <td>Vice</td>\n",
       "      <td>Sometimes that thing you think is bad for you,...</td>\n",
       "      <td>Sometimes that thing you think is bad for you,...</td>\n",
       "      <td>sports</td>\n",
       "      <td>sports</td>\n",
       "      <td>4</td>\n",
       "    </tr>\n",
       "  </tbody>\n",
       "</table>\n",
       "</div>"
      ],
      "text/plain": [
       "                     date  year  month  day  \\\n",
       "21589 2018-10-16 01:30:00  2018   10.0   16   \n",
       "11448 2017-10-01 00:00:00  2017   10.0    1   \n",
       "10422 2018-11-19 15:35:00  2018   11.0   19   \n",
       "\n",
       "                                                   title  \\\n",
       "21589  Chris Evans Slams Piers Morgan for Dad-Shaming...   \n",
       "11448  Three Miami Dolphins players defy Trump order ...   \n",
       "10422  Late Night Twitter Sessions Are Bad for NBA Sh...   \n",
       "\n",
       "                                                 article section publication  \\\n",
       "21589  There will be no-dad shaming on Chris Evans’ w...  movies      People   \n",
       "11448  LONDON (Reuters) - Three Miami Dolphins player...  sports     Reuters   \n",
       "10422  Sometimes that thing you think is bad for you,...  sports        Vice   \n",
       "\n",
       "                                        article_trunc500  \\\n",
       "21589  There will be no-dad shaming on Chris Evans’ w...   \n",
       "11448  LONDON (Reuters) - Three Miami Dolphins player...   \n",
       "10422  Sometimes that thing you think is bad for you,...   \n",
       "\n",
       "                                       article_trunc1000 pred_trun500  \\\n",
       "21589  There will be no-dad shaming on Chris Evans’ w...       movies   \n",
       "11448  LONDON (Reuters) - Three Miami Dolphins player...       sports   \n",
       "10422  Sometimes that thing you think is bad for you,...       sports   \n",
       "\n",
       "      pred_trun1000  section_num  \n",
       "21589      business            2  \n",
       "11448        sports            4  \n",
       "10422        sports            4  "
      ]
     },
     "execution_count": 56,
     "metadata": {},
     "output_type": "execute_result"
    }
   ],
   "source": [
    "df_sample['pred_trun500'] = pred_trun500\n",
    "df_sample['pred_trun1000'] = pred_trun1000\n",
    "\n",
    "df_sample.sample(3)"
   ]
  },
  {
   "attachments": {},
   "cell_type": "markdown",
   "metadata": {},
   "source": [
    "## Results"
   ]
  },
  {
   "attachments": {},
   "cell_type": "markdown",
   "metadata": {},
   "source": [
    "Convert `section` labels to integers:"
   ]
  },
  {
   "cell_type": "code",
   "execution_count": 57,
   "metadata": {},
   "outputs": [
    {
     "data": {
      "text/html": [
       "<div>\n",
       "<style scoped>\n",
       "    .dataframe tbody tr th:only-of-type {\n",
       "        vertical-align: middle;\n",
       "    }\n",
       "\n",
       "    .dataframe tbody tr th {\n",
       "        vertical-align: top;\n",
       "    }\n",
       "\n",
       "    .dataframe thead th {\n",
       "        text-align: right;\n",
       "    }\n",
       "</style>\n",
       "<table border=\"1\" class=\"dataframe\">\n",
       "  <thead>\n",
       "    <tr style=\"text-align: right;\">\n",
       "      <th></th>\n",
       "      <th>date</th>\n",
       "      <th>year</th>\n",
       "      <th>month</th>\n",
       "      <th>day</th>\n",
       "      <th>title</th>\n",
       "      <th>article</th>\n",
       "      <th>section</th>\n",
       "      <th>publication</th>\n",
       "      <th>article_trunc500</th>\n",
       "      <th>article_trunc1000</th>\n",
       "      <th>pred_trun500</th>\n",
       "      <th>pred_trun1000</th>\n",
       "      <th>section_num</th>\n",
       "    </tr>\n",
       "  </thead>\n",
       "  <tbody>\n",
       "    <tr>\n",
       "      <th>3169</th>\n",
       "      <td>2016-07-12 20:07:00</td>\n",
       "      <td>2016</td>\n",
       "      <td>7.0</td>\n",
       "      <td>12</td>\n",
       "      <td>Watch Lightning Strike Inside the Carolina Pan...</td>\n",
       "      <td>On Monday evening, a rain storm hit Charlotte ...</td>\n",
       "      <td>sports</td>\n",
       "      <td>Vice</td>\n",
       "      <td>On Monday evening, a rain storm hit Charlotte ...</td>\n",
       "      <td>On Monday evening, a rain storm hit Charlotte ...</td>\n",
       "      <td>4</td>\n",
       "      <td>4</td>\n",
       "      <td>4</td>\n",
       "    </tr>\n",
       "    <tr>\n",
       "      <th>18746</th>\n",
       "      <td>2017-03-06 00:00:00</td>\n",
       "      <td>2017</td>\n",
       "      <td>3.0</td>\n",
       "      <td>6</td>\n",
       "      <td>The Moar is the electric bike Michael Bay woul...</td>\n",
       "      <td>The Moar is a new bike launching through an In...</td>\n",
       "      <td>technology</td>\n",
       "      <td>The Verge</td>\n",
       "      <td>The Moar is a new bike launching through an In...</td>\n",
       "      <td>The Moar is a new bike launching through an In...</td>\n",
       "      <td>4</td>\n",
       "      <td>0</td>\n",
       "      <td>0</td>\n",
       "    </tr>\n",
       "    <tr>\n",
       "      <th>20198</th>\n",
       "      <td>2019-04-04 15:44:00</td>\n",
       "      <td>2019</td>\n",
       "      <td>4.0</td>\n",
       "      <td>4</td>\n",
       "      <td>Jeff Bezos's Ex-Wife MacKenzie Lands $36 Billi...</td>\n",
       "      <td>Jeff Bezos and his ex-wife MacKenzie have fina...</td>\n",
       "      <td>movies</td>\n",
       "      <td>People</td>\n",
       "      <td>Jeff Bezos and his ex-wife MacKenzie have fina...</td>\n",
       "      <td>Jeff Bezos and his ex-wife MacKenzie have fina...</td>\n",
       "      <td>3</td>\n",
       "      <td>3</td>\n",
       "      <td>2</td>\n",
       "    </tr>\n",
       "  </tbody>\n",
       "</table>\n",
       "</div>"
      ],
      "text/plain": [
       "                     date  year  month  day  \\\n",
       "3169  2016-07-12 20:07:00  2016    7.0   12   \n",
       "18746 2017-03-06 00:00:00  2017    3.0    6   \n",
       "20198 2019-04-04 15:44:00  2019    4.0    4   \n",
       "\n",
       "                                                   title  \\\n",
       "3169   Watch Lightning Strike Inside the Carolina Pan...   \n",
       "18746  The Moar is the electric bike Michael Bay woul...   \n",
       "20198  Jeff Bezos's Ex-Wife MacKenzie Lands $36 Billi...   \n",
       "\n",
       "                                                 article     section  \\\n",
       "3169   On Monday evening, a rain storm hit Charlotte ...      sports   \n",
       "18746  The Moar is a new bike launching through an In...  technology   \n",
       "20198  Jeff Bezos and his ex-wife MacKenzie have fina...      movies   \n",
       "\n",
       "      publication                                   article_trunc500  \\\n",
       "3169         Vice  On Monday evening, a rain storm hit Charlotte ...   \n",
       "18746   The Verge  The Moar is a new bike launching through an In...   \n",
       "20198      People  Jeff Bezos and his ex-wife MacKenzie have fina...   \n",
       "\n",
       "                                       article_trunc1000  pred_trun500  \\\n",
       "3169   On Monday evening, a rain storm hit Charlotte ...             4   \n",
       "18746  The Moar is a new bike launching through an In...             4   \n",
       "20198  Jeff Bezos and his ex-wife MacKenzie have fina...             3   \n",
       "\n",
       "       pred_trun1000  section_num  \n",
       "3169               4            4  \n",
       "18746              0            0  \n",
       "20198              3            2  "
      ]
     },
     "execution_count": 57,
     "metadata": {},
     "output_type": "execute_result"
    }
   ],
   "source": [
    "mapping_dict = {\"technology\": 0, \"healthcare\": 1, \"movies\": 2, \"business\": 3, \"sports\": 4}\n",
    "\n",
    "df_sample['section_num'] = df_sample['section'].map(mapping_dict)\n",
    "df_sample['pred_trun500'] = df_sample['pred_trun500'].map(mapping_dict)\n",
    "df_sample['pred_trun1000'] = df_sample['pred_trun1000'].map(mapping_dict)\n",
    "\n",
    "df_sample.sample(3)"
   ]
  },
  {
   "attachments": {},
   "cell_type": "markdown",
   "metadata": {},
   "source": [
    "Run evaluation metrics to determine performance"
   ]
  },
  {
   "cell_type": "code",
   "execution_count": 63,
   "metadata": {},
   "outputs": [
    {
     "name": "stdout",
     "output_type": "stream",
     "text": [
      "\n",
      "articles truncated to 500 chars:\n",
      "               precision    recall  f1-score   support\n",
      "\n",
      "  technology       0.64      0.75      0.69       190\n",
      "  healthcare       0.81      0.33      0.46       193\n",
      "      movies       0.91      0.48      0.63       199\n",
      "    business       0.44      0.87      0.59       197\n",
      "      sports       0.91      0.85      0.88       221\n",
      "\n",
      "    accuracy                           0.66      1000\n",
      "   macro avg       0.74      0.66      0.65      1000\n",
      "weighted avg       0.75      0.66      0.66      1000\n",
      "\n",
      "\n",
      "articles truncated to 1000 chars:\n",
      "               precision    recall  f1-score   support\n",
      "\n",
      "  technology       0.67      0.74      0.70       190\n",
      "  healthcare       0.78      0.37      0.50       193\n",
      "      movies       0.92      0.43      0.59       199\n",
      "    business       0.44      0.88      0.58       197\n",
      "      sports       0.92      0.86      0.89       221\n",
      "\n",
      "    accuracy                           0.66      1000\n",
      "   macro avg       0.75      0.66      0.65      1000\n",
      "weighted avg       0.75      0.66      0.66      1000\n",
      "\n"
     ]
    }
   ],
   "source": [
    "from sklearn.metrics import classification_report\n",
    "\n",
    "print('\\narticles truncated to 500 chars:\\n', classification_report(df_sample['section_num'].values, df_sample['pred_trun500'].values, target_names=sections))\n",
    "print('\\narticles truncated to 1000 chars:\\n', classification_report(df_sample['section_num'].values, df_sample['pred_trun1000'].values, target_names=sections))"
   ]
  },
  {
   "attachments": {},
   "cell_type": "markdown",
   "metadata": {},
   "source": [
    "Interesting to note:\n",
    "- Not much of a difference in the weighted avg f1-score between articles truncated at 500 and 1000 characters\n",
    "- An f1-score of 0.66 is much worse than Curtis's baseline result of 0.95 using logistic regression!\n",
    "- `sports` scores significantly higher than other categories"
   ]
  }
 ],
 "metadata": {
  "kernelspec": {
   "display_name": "glgenv",
   "language": "python",
   "name": "python3"
  },
  "language_info": {
   "codemirror_mode": {
    "name": "ipython",
    "version": 3
   },
   "file_extension": ".py",
   "mimetype": "text/x-python",
   "name": "python",
   "nbconvert_exporter": "python",
   "pygments_lexer": "ipython3",
   "version": "3.9.13"
  },
  "orig_nbformat": 4,
  "vscode": {
   "interpreter": {
    "hash": "c96b5ccb8e4a9ea98f0b3574a35d5d8e50bd3d4875c501f7cb288f970955458c"
   }
  }
 },
 "nbformat": 4,
 "nbformat_minor": 2
}
