{
 "cells": [
  {
   "cell_type": "markdown",
   "metadata": {},
   "source": [
    "## Objectives: Exploratory Data Analysis (EDA) for Components' All the News 2.0 Dataset"
   ]
  },
  {
   "cell_type": "markdown",
   "metadata": {},
   "source": [
    "The major challenge of this dataset is the size of the CSV file: 2.7M news articles and essays that comprise ~ 8 GB of data after the dataset is unzipped. The most memory intensive feature of the data is the 'article' column, where data is stored as a string. \n",
    "\n",
    "I was able to set up my machine to run PySpark after I installed a new Java runtime, Zulu. Apparently this Java runtime plays nicely with PySpark on Mac. I used the SDKMAN project to easily install the needed software. \n",
    "\n",
    "After initializing a Spark session, I was able to load the full dataset in less than six seconds! However, the shape of the data was an unexpected 3.8M rows/10 columns. I was expecting to see one row for each article, or 2.7M rows. A closer inspection of the data frame showed that some column data was being shifted to the right and dropping to form a new row.\n",
    "\n",
    "I was able to make some improvements on the data loader by passing these arguments to `spark.read.csv`: \n",
    "```\n",
    "df = spark.read.csv('./data/all-the-news-2-1.csv', header=True,  multiLine=True, mode=\"DROPMALFORMED\", inferSchema=True)\n",
    "```\n",
    "This eliminated about 300K rows, but I no longer felt confident about the quality of the data. \n",
    "\n",
    "I then switched to Pandas as an alternative to Spark, though I know Pandas requires all data to be in memory for processing and visualization. \n",
    "\n",
    "I decided to use a couple of default parallel computing libraries: `multiprocessing` and `joblib` to reduce data processing time. \n"
   ]
  },
  {
   "cell_type": "markdown",
   "metadata": {},
   "source": [
    "### Load core libraries"
   ]
  },
  {
   "cell_type": "code",
   "execution_count": 3,
   "metadata": {},
   "outputs": [],
   "source": [
    "import os\n",
    "import pandas as pd\n",
    "import matplotlib.pyplot as plt\n",
    "import multiprocessing as mp\n",
    "from joblib import Parallel, delayed\n",
    "from tqdm.notebook import tqdm\n"
   ]
  },
  {
   "cell_type": "markdown",
   "metadata": {},
   "source": [
    "### Get data from Components website (Data Lineage)"
   ]
  },
  {
   "cell_type": "markdown",
   "metadata": {},
   "source": [
    "This is a large file! All files have been downloaded locally for purposes of EDA, but will not be uploaded to Github in order to stay within file size limits. Github blocks files larger than 100MB unless they are tracked in Git Large File Storage (Git LFS). Still, the max file size limit for GitHub Free is 2GB. More information can be found on the [GitHub Docs wesbite](https://docs.github.com/en/repositories/working-with-files/managing-large-files/about-git-large-file-storage)."
   ]
  },
  {
   "cell_type": "markdown",
   "metadata": {},
   "source": [
    "From the [Components website](https://components.one/datasets/all-the-news-2-news-articles-dataset/):\n",
    "\n",
    "This dataset contains 2,688,878 news articles and essays from 27 American publications, spanning January 1, 2016 to April 2, 2020. It is an expanded edition of the original All the News dataset on Kaggle, which was compiled in early 2017. While the original dataset contains more than 100,000 articles, the new dataset's greater size and breadth makes it more broadly applicable for both training language models and studying a wider selection of media.\n",
    "\n",
    "Publications were scraped with Python according to the publications' sitemaps, with a few exceptions (like Vox) involving RSS feeds. The last day of scraping was on April 2, 2020."
   ]
  },
  {
   "cell_type": "code",
   "execution_count": null,
   "metadata": {},
   "outputs": [],
   "source": [
    "# Get data the data and unzip it\n",
    "\n",
    "%%sh\n",
    "wget https://www.dropbox.com/s/cn2utnr5ipathhh/all-the-news-2-1.zip?dl=0\n",
    "mv all-the-news-2-1.zip?dl=0 all-the-news-2-1.zip\n",
    "unzip all-the-news-2-1.zip\n",
    "ls -lh"
   ]
  },
  {
   "cell_type": "code",
   "execution_count": 1,
   "metadata": {},
   "outputs": [
    {
     "name": "stdout",
     "output_type": "stream",
     "text": [
      "File Size in Gigabytes: 8.761188341\n"
     ]
    }
   ],
   "source": [
    "\"\"\"\n",
    "Check the file size of the full dataset. I have put the unzipped file into a \n",
    "folder called \"data\" in the same directory as this notebook. \n",
    "\"\"\"\n",
    "\n",
    "print(f'File Size in Gigabytes: {os.path.getsize(\"./data/all-the-news-2-1.csv\") / 1e9}')"
   ]
  },
  {
   "cell_type": "markdown",
   "metadata": {},
   "source": [
    "The full CSV file is nearly 9GB. "
   ]
  },
  {
   "cell_type": "markdown",
   "metadata": {},
   "source": [
    "### Chunk files for initial inspection"
   ]
  },
  {
   "cell_type": "code",
   "execution_count": 2,
   "metadata": {},
   "outputs": [],
   "source": [
    "# This code will create multiple csv files, at 500K rows each\n",
    "\n",
    "SOURCE_PATH = \"./data/all-the-news-2-1.csv\"\n",
    "\n",
    "for i, chunk in enumerate(pd.read_csv(SOURCE_PATH, chunksize=500000)):\n",
    "    chunk.to_csv(f\"./data/all-the-news-2-1-{i}.csv\", index=False)"
   ]
  },
  {
   "cell_type": "code",
   "execution_count": 4,
   "metadata": {},
   "outputs": [
    {
     "data": {
      "text/html": [
       "<div>\n",
       "<style scoped>\n",
       "    .dataframe tbody tr th:only-of-type {\n",
       "        vertical-align: middle;\n",
       "    }\n",
       "\n",
       "    .dataframe tbody tr th {\n",
       "        vertical-align: top;\n",
       "    }\n",
       "\n",
       "    .dataframe thead th {\n",
       "        text-align: right;\n",
       "    }\n",
       "</style>\n",
       "<table border=\"1\" class=\"dataframe\">\n",
       "  <thead>\n",
       "    <tr style=\"text-align: right;\">\n",
       "      <th></th>\n",
       "      <th>date</th>\n",
       "      <th>year</th>\n",
       "      <th>month</th>\n",
       "      <th>day</th>\n",
       "      <th>author</th>\n",
       "      <th>title</th>\n",
       "      <th>article</th>\n",
       "      <th>url</th>\n",
       "      <th>section</th>\n",
       "      <th>publication</th>\n",
       "    </tr>\n",
       "  </thead>\n",
       "  <tbody>\n",
       "    <tr>\n",
       "      <th>0</th>\n",
       "      <td>2016-12-09 18:31:00</td>\n",
       "      <td>2016</td>\n",
       "      <td>12.0</td>\n",
       "      <td>9</td>\n",
       "      <td>Lee Drutman</td>\n",
       "      <td>We should take concerns about the health of li...</td>\n",
       "      <td>This post is part of Polyarchy, an independent...</td>\n",
       "      <td>https://www.vox.com/polyarchy/2016/12/9/138983...</td>\n",
       "      <td>NaN</td>\n",
       "      <td>Vox</td>\n",
       "    </tr>\n",
       "    <tr>\n",
       "      <th>1</th>\n",
       "      <td>2016-10-07 21:26:46</td>\n",
       "      <td>2016</td>\n",
       "      <td>10.0</td>\n",
       "      <td>7</td>\n",
       "      <td>Scott Davis</td>\n",
       "      <td>Colts GM Ryan Grigson says Andrew Luck's contr...</td>\n",
       "      <td>The Indianapolis Colts made Andrew Luck the h...</td>\n",
       "      <td>https://www.businessinsider.com/colts-gm-ryan-...</td>\n",
       "      <td>NaN</td>\n",
       "      <td>Business Insider</td>\n",
       "    </tr>\n",
       "    <tr>\n",
       "      <th>2</th>\n",
       "      <td>2018-01-26 00:00:00</td>\n",
       "      <td>2018</td>\n",
       "      <td>1.0</td>\n",
       "      <td>26</td>\n",
       "      <td>NaN</td>\n",
       "      <td>Trump denies report he ordered Mueller fired</td>\n",
       "      <td>DAVOS, Switzerland (Reuters) - U.S. President ...</td>\n",
       "      <td>https://www.reuters.com/article/us-davos-meeti...</td>\n",
       "      <td>Davos</td>\n",
       "      <td>Reuters</td>\n",
       "    </tr>\n",
       "    <tr>\n",
       "      <th>3</th>\n",
       "      <td>2019-06-27 00:00:00</td>\n",
       "      <td>2019</td>\n",
       "      <td>6.0</td>\n",
       "      <td>27</td>\n",
       "      <td>NaN</td>\n",
       "      <td>France's Sarkozy reveals his 'Passions' but in...</td>\n",
       "      <td>PARIS (Reuters) - Former French president Nico...</td>\n",
       "      <td>https://www.reuters.com/article/france-politic...</td>\n",
       "      <td>World News</td>\n",
       "      <td>Reuters</td>\n",
       "    </tr>\n",
       "    <tr>\n",
       "      <th>4</th>\n",
       "      <td>2016-01-27 00:00:00</td>\n",
       "      <td>2016</td>\n",
       "      <td>1.0</td>\n",
       "      <td>27</td>\n",
       "      <td>NaN</td>\n",
       "      <td>Paris Hilton: Woman In Black For Uncle Monty's...</td>\n",
       "      <td>Paris Hilton arrived at LAX Wednesday dressed ...</td>\n",
       "      <td>https://www.tmz.com/2016/01/27/paris-hilton-mo...</td>\n",
       "      <td>NaN</td>\n",
       "      <td>TMZ</td>\n",
       "    </tr>\n",
       "  </tbody>\n",
       "</table>\n",
       "</div>"
      ],
      "text/plain": [
       "                  date  year  month  day       author  \\\n",
       "0  2016-12-09 18:31:00  2016   12.0    9  Lee Drutman   \n",
       "1  2016-10-07 21:26:46  2016   10.0    7  Scott Davis   \n",
       "2  2018-01-26 00:00:00  2018    1.0   26          NaN   \n",
       "3  2019-06-27 00:00:00  2019    6.0   27          NaN   \n",
       "4  2016-01-27 00:00:00  2016    1.0   27          NaN   \n",
       "\n",
       "                                               title  \\\n",
       "0  We should take concerns about the health of li...   \n",
       "1  Colts GM Ryan Grigson says Andrew Luck's contr...   \n",
       "2       Trump denies report he ordered Mueller fired   \n",
       "3  France's Sarkozy reveals his 'Passions' but in...   \n",
       "4  Paris Hilton: Woman In Black For Uncle Monty's...   \n",
       "\n",
       "                                             article  \\\n",
       "0  This post is part of Polyarchy, an independent...   \n",
       "1   The Indianapolis Colts made Andrew Luck the h...   \n",
       "2  DAVOS, Switzerland (Reuters) - U.S. President ...   \n",
       "3  PARIS (Reuters) - Former French president Nico...   \n",
       "4  Paris Hilton arrived at LAX Wednesday dressed ...   \n",
       "\n",
       "                                                 url     section  \\\n",
       "0  https://www.vox.com/polyarchy/2016/12/9/138983...         NaN   \n",
       "1  https://www.businessinsider.com/colts-gm-ryan-...         NaN   \n",
       "2  https://www.reuters.com/article/us-davos-meeti...       Davos   \n",
       "3  https://www.reuters.com/article/france-politic...  World News   \n",
       "4  https://www.tmz.com/2016/01/27/paris-hilton-mo...         NaN   \n",
       "\n",
       "        publication  \n",
       "0               Vox  \n",
       "1  Business Insider  \n",
       "2           Reuters  \n",
       "3           Reuters  \n",
       "4               TMZ  "
      ]
     },
     "execution_count": 4,
     "metadata": {},
     "output_type": "execute_result"
    }
   ],
   "source": [
    "# Load the first CSV file and inspect the data\n",
    "\n",
    "df_0 = pd.read_csv(\"./data/all-the-news-2-1-0.csv\")\n",
    "df_0.head(5)"
   ]
  },
  {
   "cell_type": "code",
   "execution_count": 5,
   "metadata": {},
   "outputs": [
    {
     "data": {
      "text/plain": [
       "(500000, 10)"
      ]
     },
     "execution_count": 5,
     "metadata": {},
     "output_type": "execute_result"
    }
   ],
   "source": [
    "df_0.shape"
   ]
  },
  {
   "cell_type": "code",
   "execution_count": 6,
   "metadata": {},
   "outputs": [
    {
     "name": "stdout",
     "output_type": "stream",
     "text": [
      "<class 'pandas.core.frame.DataFrame'>\n",
      "RangeIndex: 500000 entries, 0 to 499999\n",
      "Data columns (total 10 columns):\n",
      " #   Column       Non-Null Count   Dtype  \n",
      "---  ------       --------------   -----  \n",
      " 0   date         500000 non-null  object \n",
      " 1   year         500000 non-null  int64  \n",
      " 2   month        500000 non-null  float64\n",
      " 3   day          500000 non-null  int64  \n",
      " 4   author       379206 non-null  object \n",
      " 5   title        500000 non-null  object \n",
      " 6   article      497385 non-null  object \n",
      " 7   url          500000 non-null  object \n",
      " 8   section      213313 non-null  object \n",
      " 9   publication  500000 non-null  object \n",
      "dtypes: float64(1), int64(2), object(7)\n",
      "memory usage: 38.1+ MB\n"
     ]
    }
   ],
   "source": [
    "df_0.info()"
   ]
  },
  {
   "cell_type": "markdown",
   "metadata": {},
   "source": [
    "The date is a non-datetime object, which we can convert to help with additonal temporal analysis. Also, we should convert the month to its actual label. "
   ]
  },
  {
   "cell_type": "markdown",
   "metadata": {},
   "source": [
    "There are multiple goals in the GLG Capstone project:\n",
    "1. Named Entity Recognition for short text paragraphs geared towards identification of topics that imply technological or healthcare terms.\n",
    "2. Unsupervised clustering of time-stamped topics.\n",
    "3. Hierarchical clustering of topics or temporal sequence learning for identified topics.\n",
    "\n",
    "Based on our Capstone goals, we can likely drop `author`, `title` and `url.` The remaining columns can likely support some aspect of our project. We can save these columns in a separate dataframe in case we need them in the future.\n"
   ]
  },
  {
   "cell_type": "code",
   "execution_count": 7,
   "metadata": {},
   "outputs": [
    {
     "name": "stdout",
     "output_type": "stream",
     "text": [
      "LONDON (Reuters) - Doing things one at a time in drug development is not a luxury that GlaxoSmithKline can afford any longer, the head of pharmaceuticals at Britain’s largest drugmaker told Reuters.  Luke Miels, who joined GSK in September 2017 after a contract dispute with his former employer AstraZeneca, said picking the most promising projects and developing them quickly now takes precedence over spreading the risk of failure.  “In the past, 10 programs were chosen, a budget for eight was allocated. Usually what happened was that time was the trade off that was made,” he said in an interview.   “Now what we do is we pick five or six programs, and concentrate investment there.”   GSK, like rivals, was in the habit of testing new drugs first on patients who had run out of other treatment options. If successful, it would try patients at an earlier stage of their disease, replacing older, established treatments.   In today’s market, where rivals in the United States and China catch up fast if a new class of drug shows promise, GSK has to run costly drug tests on humans in several settings at the same time, even if it means dropping other drug candidates.  “Rather than do things sequentially, you do them in parallel, or as close to parallel as possible,” Miels said.  GSK, which is battling to return to profit growth, has taken this approach for instance with an experimental drug that for now goes by the code name of GSK’916 against multiple myeloma, a common and incurable type of blood cancer.  Likewise, GSK doubled down on its quest to bring a drug known as GSK’165 to market as a rheumatoid arthritis treatment, even after initial results in a mid-stage drug trial did not show a clear enough reading.  “This drug has very interesting effects on pain. That could potentially reduce the use of opioids and pain meds,” Miels said.  More trials will be run to make the pain argument more clearly, he added.  GSK expects a decline of 5%-9% in adjusted earnings per share this year, excluding exchange rate moves, as it suffers from generic competition to its inhalable lung drug Advair and pressure from rival Gilead in HIV treatments.  Miels said a tougher stance on drug prices by U.S. lawmakers and medical insurers was one of the reasons for the need for speed in bringing drugs to market - to try to remain ahead of competitors for as long as possible.   At the same time, rapid growth in the Chinese market was spurring a more sophisticated healthcare system there, with local biotech groups quick to catch up with Western pioneers in drug development, producing similar drugs for their home market.    Reporting by Ludwig Burger; Editing by Mark Potter\n"
     ]
    }
   ],
   "source": [
    "# Take a look at a single article\n",
    "\n",
    "print(df_0['article'][121000])"
   ]
  },
  {
   "cell_type": "markdown",
   "metadata": {},
   "source": [
    "GLG said in their project proposal that \"effort(s) can be limited to mining a single paragraph of text from these articles only.\" It's not clear from this single example if extracting the first paragraph is possible, or if it even provides the value that GLG is expecting. News articles are typically written in one-sentence style paragraphs. It might be possible to capture multiple sentences or a number of characters instead."
   ]
  },
  {
   "cell_type": "code",
   "execution_count": 8,
   "metadata": {},
   "outputs": [
    {
     "name": "stdout",
     "output_type": "stream",
     "text": [
      "File Size in Gigabytes: 1.696574773\n"
     ]
    }
   ],
   "source": [
    "#Check the new file size of the new csv\n",
    "\n",
    "print(f'File Size in Gigabytes: {os.path.getsize(\"./data/all-the-news-2-1-0.csv\") / 1e9}')"
   ]
  },
  {
   "cell_type": "markdown",
   "metadata": {},
   "source": [
    "Chunking the original CSV file into six files of ~500K rows each makes it much less memory intensive to load and manipulate data for purposes of EDA. The first chunked CSV file comes in under 1.7GB. However, it would be great to load the full dataset to inspect the data all at once."
   ]
  },
  {
   "cell_type": "markdown",
   "metadata": {},
   "source": [
    "### Load full dataset"
   ]
  },
  {
   "cell_type": "markdown",
   "metadata": {},
   "source": [
    "The [multiprocessing module](https://docs.python.org/3/library/multiprocessing.html) comes out-of-the-box with Python. The module provides process-based data parallelism. The API provids a simple means to increase our CPU for data processing."
   ]
  },
  {
   "cell_type": "code",
   "execution_count": 9,
   "metadata": {},
   "outputs": [],
   "source": [
    "# Create workers by doubling our CPU count\n",
    "\n",
    "n_workers = 2 * mp.cpu_count()"
   ]
  },
  {
   "cell_type": "code",
   "execution_count": 10,
   "metadata": {},
   "outputs": [
    {
     "name": "stdout",
     "output_type": "stream",
     "text": [
      "20 workers are available\n"
     ]
    }
   ],
   "source": [
    "# How many workers do we have?\n",
    "\n",
    "print(f\"{n_workers} workers are available\")"
   ]
  },
  {
   "cell_type": "code",
   "execution_count": 11,
   "metadata": {},
   "outputs": [
    {
     "name": "stdout",
     "output_type": "stream",
     "text": [
      "CPU times: user 1min 5s, sys: 2min 10s, total: 3min 15s\n",
      "Wall time: 12min 48s\n"
     ]
    },
    {
     "data": {
      "text/html": [
       "<div>\n",
       "<style scoped>\n",
       "    .dataframe tbody tr th:only-of-type {\n",
       "        vertical-align: middle;\n",
       "    }\n",
       "\n",
       "    .dataframe tbody tr th {\n",
       "        vertical-align: top;\n",
       "    }\n",
       "\n",
       "    .dataframe thead th {\n",
       "        text-align: right;\n",
       "    }\n",
       "</style>\n",
       "<table border=\"1\" class=\"dataframe\">\n",
       "  <thead>\n",
       "    <tr style=\"text-align: right;\">\n",
       "      <th></th>\n",
       "      <th>date</th>\n",
       "      <th>year</th>\n",
       "      <th>month</th>\n",
       "      <th>day</th>\n",
       "      <th>author</th>\n",
       "      <th>title</th>\n",
       "      <th>article</th>\n",
       "      <th>url</th>\n",
       "      <th>section</th>\n",
       "      <th>publication</th>\n",
       "    </tr>\n",
       "  </thead>\n",
       "  <tbody>\n",
       "    <tr>\n",
       "      <th>0</th>\n",
       "      <td>2016-12-09 18:31:00</td>\n",
       "      <td>2016</td>\n",
       "      <td>12.0</td>\n",
       "      <td>9</td>\n",
       "      <td>Lee Drutman</td>\n",
       "      <td>We should take concerns about the health of li...</td>\n",
       "      <td>This post is part of Polyarchy, an independent...</td>\n",
       "      <td>https://www.vox.com/polyarchy/2016/12/9/138983...</td>\n",
       "      <td>NaN</td>\n",
       "      <td>Vox</td>\n",
       "    </tr>\n",
       "    <tr>\n",
       "      <th>1</th>\n",
       "      <td>2016-10-07 21:26:46</td>\n",
       "      <td>2016</td>\n",
       "      <td>10.0</td>\n",
       "      <td>7</td>\n",
       "      <td>Scott Davis</td>\n",
       "      <td>Colts GM Ryan Grigson says Andrew Luck's contr...</td>\n",
       "      <td>The Indianapolis Colts made Andrew Luck the h...</td>\n",
       "      <td>https://www.businessinsider.com/colts-gm-ryan-...</td>\n",
       "      <td>NaN</td>\n",
       "      <td>Business Insider</td>\n",
       "    </tr>\n",
       "    <tr>\n",
       "      <th>2</th>\n",
       "      <td>2018-01-26 00:00:00</td>\n",
       "      <td>2018</td>\n",
       "      <td>1.0</td>\n",
       "      <td>26</td>\n",
       "      <td>NaN</td>\n",
       "      <td>Trump denies report he ordered Mueller fired</td>\n",
       "      <td>DAVOS, Switzerland (Reuters) - U.S. President ...</td>\n",
       "      <td>https://www.reuters.com/article/us-davos-meeti...</td>\n",
       "      <td>Davos</td>\n",
       "      <td>Reuters</td>\n",
       "    </tr>\n",
       "    <tr>\n",
       "      <th>3</th>\n",
       "      <td>2019-06-27 00:00:00</td>\n",
       "      <td>2019</td>\n",
       "      <td>6.0</td>\n",
       "      <td>27</td>\n",
       "      <td>NaN</td>\n",
       "      <td>France's Sarkozy reveals his 'Passions' but in...</td>\n",
       "      <td>PARIS (Reuters) - Former French president Nico...</td>\n",
       "      <td>https://www.reuters.com/article/france-politic...</td>\n",
       "      <td>World News</td>\n",
       "      <td>Reuters</td>\n",
       "    </tr>\n",
       "    <tr>\n",
       "      <th>4</th>\n",
       "      <td>2016-01-27 00:00:00</td>\n",
       "      <td>2016</td>\n",
       "      <td>1.0</td>\n",
       "      <td>27</td>\n",
       "      <td>NaN</td>\n",
       "      <td>Paris Hilton: Woman In Black For Uncle Monty's...</td>\n",
       "      <td>Paris Hilton arrived at LAX Wednesday dressed ...</td>\n",
       "      <td>https://www.tmz.com/2016/01/27/paris-hilton-mo...</td>\n",
       "      <td>NaN</td>\n",
       "      <td>TMZ</td>\n",
       "    </tr>\n",
       "  </tbody>\n",
       "</table>\n",
       "</div>"
      ],
      "text/plain": [
       "                  date  year  month  day       author  \\\n",
       "0  2016-12-09 18:31:00  2016   12.0    9  Lee Drutman   \n",
       "1  2016-10-07 21:26:46  2016   10.0    7  Scott Davis   \n",
       "2  2018-01-26 00:00:00  2018    1.0   26          NaN   \n",
       "3  2019-06-27 00:00:00  2019    6.0   27          NaN   \n",
       "4  2016-01-27 00:00:00  2016    1.0   27          NaN   \n",
       "\n",
       "                                               title  \\\n",
       "0  We should take concerns about the health of li...   \n",
       "1  Colts GM Ryan Grigson says Andrew Luck's contr...   \n",
       "2       Trump denies report he ordered Mueller fired   \n",
       "3  France's Sarkozy reveals his 'Passions' but in...   \n",
       "4  Paris Hilton: Woman In Black For Uncle Monty's...   \n",
       "\n",
       "                                             article  \\\n",
       "0  This post is part of Polyarchy, an independent...   \n",
       "1   The Indianapolis Colts made Andrew Luck the h...   \n",
       "2  DAVOS, Switzerland (Reuters) - U.S. President ...   \n",
       "3  PARIS (Reuters) - Former French president Nico...   \n",
       "4  Paris Hilton arrived at LAX Wednesday dressed ...   \n",
       "\n",
       "                                                 url     section  \\\n",
       "0  https://www.vox.com/polyarchy/2016/12/9/138983...         NaN   \n",
       "1  https://www.businessinsider.com/colts-gm-ryan-...         NaN   \n",
       "2  https://www.reuters.com/article/us-davos-meeti...       Davos   \n",
       "3  https://www.reuters.com/article/france-politic...  World News   \n",
       "4  https://www.tmz.com/2016/01/27/paris-hilton-mo...         NaN   \n",
       "\n",
       "        publication  \n",
       "0               Vox  \n",
       "1  Business Insider  \n",
       "2           Reuters  \n",
       "3           Reuters  \n",
       "4               TMZ  "
      ]
     },
     "execution_count": 11,
     "metadata": {},
     "output_type": "execute_result"
    }
   ],
   "source": [
    "%%time\n",
    "\n",
    "# Load the full dataset into a dataframe and output the time it takes to load\n",
    "\n",
    "df = pd.read_csv(\"./data/all-the-news-2-1.csv\", on_bad_lines='warn', low_memory=False)\n",
    "df.head(5)"
   ]
  },
  {
   "cell_type": "markdown",
   "metadata": {},
   "source": [
    "The full data frame loads in about 13 minutes. Not blazingly fast by any means, but not bad if you're able to take a break for a cup of tea."
   ]
  },
  {
   "cell_type": "code",
   "execution_count": 12,
   "metadata": {},
   "outputs": [
    {
     "name": "stdout",
     "output_type": "stream",
     "text": [
      "The dataset has 2688878 rows and 10 columns\n"
     ]
    }
   ],
   "source": [
    "#Count the number of rows and columns in the dataframe\n",
    "\n",
    "rows = len(df.axes[0])\n",
    "cols = len(df.axes[1])\n",
    "\n",
    "print(f'The dataset has {rows} rows and {cols} columns')"
   ]
  },
  {
   "cell_type": "code",
   "execution_count": 13,
   "metadata": {},
   "outputs": [
    {
     "name": "stdout",
     "output_type": "stream",
     "text": [
      "<class 'pandas.core.frame.DataFrame'>\n",
      "RangeIndex: 2688878 entries, 0 to 2688877\n",
      "Data columns (total 10 columns):\n",
      " #   Column       Dtype  \n",
      "---  ------       -----  \n",
      " 0   date         object \n",
      " 1   year         int64  \n",
      " 2   month        float64\n",
      " 3   day          int64  \n",
      " 4   author       object \n",
      " 5   title        object \n",
      " 6   article      object \n",
      " 7   url          object \n",
      " 8   section      object \n",
      " 9   publication  object \n",
      "dtypes: float64(1), int64(2), object(7)\n",
      "memory usage: 205.1+ MB\n"
     ]
    }
   ],
   "source": [
    "df.info()"
   ]
  },
  {
   "cell_type": "markdown",
   "metadata": {},
   "source": [
    "The full dataframe consumes about a quarter of a gigabyte's worth of memorty (205 Megabytes)."
   ]
  },
  {
   "cell_type": "code",
   "execution_count": 14,
   "metadata": {},
   "outputs": [
    {
     "name": "stdout",
     "output_type": "stream",
     "text": [
      "date            0.000000\n",
      "year            0.000000\n",
      "month           0.000000\n",
      "day             0.000000\n",
      "author         37.974984\n",
      "title           0.001376\n",
      "article         3.894301\n",
      "url             0.467742\n",
      "section        33.927646\n",
      "publication     0.467742\n",
      "dtype: float64\n"
     ]
    }
   ],
   "source": [
    "# Check the percentage of missing values\n",
    "\n",
    "percent_missing = df.isnull().sum() * 100 / len(df)\n",
    "print(percent_missing)"
   ]
  },
  {
   "cell_type": "markdown",
   "metadata": {},
   "source": [
    "Thirty-four percent of the `Section` data is missing. This data could possibly be used as labels for clustering analysis later on. We are also missing almost four percent of the article data. It's possible these articles have titles, but without the actual text they are likely of no value to us.\n",
    "\n",
    "Now we'll convert the date column to a datetime object, and assign labels to the months."
   ]
  },
  {
   "cell_type": "code",
   "execution_count": 15,
   "metadata": {},
   "outputs": [],
   "source": [
    "# Convert the date column to a datetime object\n",
    "df['date'] = pd.to_datetime(df['date'])"
   ]
  },
  {
   "cell_type": "code",
   "execution_count": 16,
   "metadata": {},
   "outputs": [
    {
     "name": "stdout",
     "output_type": "stream",
     "text": [
      "<class 'pandas.core.frame.DataFrame'>\n",
      "RangeIndex: 2688878 entries, 0 to 2688877\n",
      "Data columns (total 10 columns):\n",
      " #   Column       Dtype         \n",
      "---  ------       -----         \n",
      " 0   date         datetime64[ns]\n",
      " 1   year         int64         \n",
      " 2   month        float64       \n",
      " 3   day          int64         \n",
      " 4   author       object        \n",
      " 5   title        object        \n",
      " 6   article      object        \n",
      " 7   url          object        \n",
      " 8   section      object        \n",
      " 9   publication  object        \n",
      "dtypes: datetime64[ns](1), float64(1), int64(2), object(6)\n",
      "memory usage: 205.1+ MB\n"
     ]
    }
   ],
   "source": [
    "df.info()"
   ]
  },
  {
   "cell_type": "code",
   "execution_count": 17,
   "metadata": {},
   "outputs": [
    {
     "data": {
      "text/html": [
       "<div>\n",
       "<style scoped>\n",
       "    .dataframe tbody tr th:only-of-type {\n",
       "        vertical-align: middle;\n",
       "    }\n",
       "\n",
       "    .dataframe tbody tr th {\n",
       "        vertical-align: top;\n",
       "    }\n",
       "\n",
       "    .dataframe thead th {\n",
       "        text-align: right;\n",
       "    }\n",
       "</style>\n",
       "<table border=\"1\" class=\"dataframe\">\n",
       "  <thead>\n",
       "    <tr style=\"text-align: right;\">\n",
       "      <th></th>\n",
       "      <th>date</th>\n",
       "      <th>year</th>\n",
       "      <th>month</th>\n",
       "      <th>day</th>\n",
       "      <th>author</th>\n",
       "      <th>title</th>\n",
       "      <th>article</th>\n",
       "      <th>url</th>\n",
       "      <th>section</th>\n",
       "      <th>publication</th>\n",
       "    </tr>\n",
       "  </thead>\n",
       "  <tbody>\n",
       "    <tr>\n",
       "      <th>0</th>\n",
       "      <td>2016-12-09 18:31:00</td>\n",
       "      <td>2016</td>\n",
       "      <td>Dec</td>\n",
       "      <td>9</td>\n",
       "      <td>Lee Drutman</td>\n",
       "      <td>We should take concerns about the health of li...</td>\n",
       "      <td>This post is part of Polyarchy, an independent...</td>\n",
       "      <td>https://www.vox.com/polyarchy/2016/12/9/138983...</td>\n",
       "      <td>NaN</td>\n",
       "      <td>Vox</td>\n",
       "    </tr>\n",
       "    <tr>\n",
       "      <th>1</th>\n",
       "      <td>2016-10-07 21:26:46</td>\n",
       "      <td>2016</td>\n",
       "      <td>Oct</td>\n",
       "      <td>7</td>\n",
       "      <td>Scott Davis</td>\n",
       "      <td>Colts GM Ryan Grigson says Andrew Luck's contr...</td>\n",
       "      <td>The Indianapolis Colts made Andrew Luck the h...</td>\n",
       "      <td>https://www.businessinsider.com/colts-gm-ryan-...</td>\n",
       "      <td>NaN</td>\n",
       "      <td>Business Insider</td>\n",
       "    </tr>\n",
       "    <tr>\n",
       "      <th>2</th>\n",
       "      <td>2018-01-26 00:00:00</td>\n",
       "      <td>2018</td>\n",
       "      <td>Jan</td>\n",
       "      <td>26</td>\n",
       "      <td>NaN</td>\n",
       "      <td>Trump denies report he ordered Mueller fired</td>\n",
       "      <td>DAVOS, Switzerland (Reuters) - U.S. President ...</td>\n",
       "      <td>https://www.reuters.com/article/us-davos-meeti...</td>\n",
       "      <td>Davos</td>\n",
       "      <td>Reuters</td>\n",
       "    </tr>\n",
       "    <tr>\n",
       "      <th>3</th>\n",
       "      <td>2019-06-27 00:00:00</td>\n",
       "      <td>2019</td>\n",
       "      <td>Jun</td>\n",
       "      <td>27</td>\n",
       "      <td>NaN</td>\n",
       "      <td>France's Sarkozy reveals his 'Passions' but in...</td>\n",
       "      <td>PARIS (Reuters) - Former French president Nico...</td>\n",
       "      <td>https://www.reuters.com/article/france-politic...</td>\n",
       "      <td>World News</td>\n",
       "      <td>Reuters</td>\n",
       "    </tr>\n",
       "    <tr>\n",
       "      <th>4</th>\n",
       "      <td>2016-01-27 00:00:00</td>\n",
       "      <td>2016</td>\n",
       "      <td>Jan</td>\n",
       "      <td>27</td>\n",
       "      <td>NaN</td>\n",
       "      <td>Paris Hilton: Woman In Black For Uncle Monty's...</td>\n",
       "      <td>Paris Hilton arrived at LAX Wednesday dressed ...</td>\n",
       "      <td>https://www.tmz.com/2016/01/27/paris-hilton-mo...</td>\n",
       "      <td>NaN</td>\n",
       "      <td>TMZ</td>\n",
       "    </tr>\n",
       "  </tbody>\n",
       "</table>\n",
       "</div>"
      ],
      "text/plain": [
       "                 date  year month  day       author  \\\n",
       "0 2016-12-09 18:31:00  2016   Dec    9  Lee Drutman   \n",
       "1 2016-10-07 21:26:46  2016   Oct    7  Scott Davis   \n",
       "2 2018-01-26 00:00:00  2018   Jan   26          NaN   \n",
       "3 2019-06-27 00:00:00  2019   Jun   27          NaN   \n",
       "4 2016-01-27 00:00:00  2016   Jan   27          NaN   \n",
       "\n",
       "                                               title  \\\n",
       "0  We should take concerns about the health of li...   \n",
       "1  Colts GM Ryan Grigson says Andrew Luck's contr...   \n",
       "2       Trump denies report he ordered Mueller fired   \n",
       "3  France's Sarkozy reveals his 'Passions' but in...   \n",
       "4  Paris Hilton: Woman In Black For Uncle Monty's...   \n",
       "\n",
       "                                             article  \\\n",
       "0  This post is part of Polyarchy, an independent...   \n",
       "1   The Indianapolis Colts made Andrew Luck the h...   \n",
       "2  DAVOS, Switzerland (Reuters) - U.S. President ...   \n",
       "3  PARIS (Reuters) - Former French president Nico...   \n",
       "4  Paris Hilton arrived at LAX Wednesday dressed ...   \n",
       "\n",
       "                                                 url     section  \\\n",
       "0  https://www.vox.com/polyarchy/2016/12/9/138983...         NaN   \n",
       "1  https://www.businessinsider.com/colts-gm-ryan-...         NaN   \n",
       "2  https://www.reuters.com/article/us-davos-meeti...       Davos   \n",
       "3  https://www.reuters.com/article/france-politic...  World News   \n",
       "4  https://www.tmz.com/2016/01/27/paris-hilton-mo...         NaN   \n",
       "\n",
       "        publication  \n",
       "0               Vox  \n",
       "1  Business Insider  \n",
       "2           Reuters  \n",
       "3           Reuters  \n",
       "4               TMZ  "
      ]
     },
     "execution_count": 17,
     "metadata": {},
     "output_type": "execute_result"
    }
   ],
   "source": [
    "# Convert the numeric month column to its abbreviated string equivalent\n",
    "\n",
    "df['month'] = pd.to_datetime(df['month'], format='%m').dt.month_name().str.slice(stop=3)\n",
    "df.head()"
   ]
  },
  {
   "cell_type": "code",
   "execution_count": 18,
   "metadata": {},
   "outputs": [
    {
     "data": {
      "text/plain": [
       "<AxesSubplot: title={'center': 'Number of Articles per Publication'}>"
      ]
     },
     "execution_count": 18,
     "metadata": {},
     "output_type": "execute_result"
    },
    {
     "data": {
      "image/png": "[encoded data removed]",
      "text/plain": [
       "<Figure size 1000x700 with 1 Axes>"
      ]
     },
     "metadata": {},
     "output_type": "display_data"
    }
   ],
   "source": [
    "# Plot a simple bar chart of the number of articles per publication\n",
    "\n",
    "df.publication.value_counts().plot(kind='bar', figsize=(10,7), title=\"Number of Articles per Publication\")"
   ]
  },
  {
   "cell_type": "markdown",
   "metadata": {},
   "source": [
    "The data is now loaded into a Pandas dataframe and we can see that Reuters accounts for a vast majority of the data. I'm unfamiliar with Refinery 29 and Hyperallergic. GLG states they are interested in the identification of topics that imply `technological` or `healthcare` terms, so Hyperallergic may yield useful results. \n",
    "\n",
    "One more check before we dive into the EDA. Let's see the distribution of years and most popular values in the `section` column."
   ]
  },
  {
   "cell_type": "code",
   "execution_count": 19,
   "metadata": {},
   "outputs": [
    {
     "data": {
      "text/plain": [
       "<AxesSubplot: title={'center': 'Number of Articles Created per Year'}>"
      ]
     },
     "execution_count": 19,
     "metadata": {},
     "output_type": "execute_result"
    },
    {
     "data": {
      "image/png": "[encoded data removed]",
      "text/plain": [
       "<Figure size 1000x700 with 1 Axes>"
      ]
     },
     "metadata": {},
     "output_type": "display_data"
    }
   ],
   "source": [
    "# Another simple bar chart of the number of articles per year\n",
    "\n",
    "df.year.value_counts().sort_index(axis=0).plot(kind='bar', figsize=(10,7), title = 'Number of Articles Created per Year')"
   ]
  },
  {
   "cell_type": "code",
   "execution_count": 20,
   "metadata": {},
   "outputs": [
    {
     "data": {
      "text/plain": [
       "<AxesSubplot: title={'center': 'Top 20 Article Sections'}>"
      ]
     },
     "execution_count": 20,
     "metadata": {},
     "output_type": "execute_result"
    },
    {
     "data": {
      "image/png": "[encoded data removed]",
      "text/plain": [
       "<Figure size 1000x700 with 1 Axes>"
      ]
     },
     "metadata": {},
     "output_type": "display_data"
    }
   ],
   "source": [
    "df['section'].value_counts()[:20].plot(kind='bar', figsize=(10,7), title='Top 20 Article Sections')"
   ]
  },
  {
   "cell_type": "code",
   "execution_count": 21,
   "metadata": {},
   "outputs": [
    {
     "data": {
      "text/plain": [
       "<AxesSubplot: title={'center': 'Number of Articles Created per Month'}>"
      ]
     },
     "execution_count": 21,
     "metadata": {},
     "output_type": "execute_result"
    },
    {
     "data": {
      "image/png": "[encoded data removed]",
      "text/plain": [
       "<Figure size 1000x700 with 1 Axes>"
      ]
     },
     "metadata": {},
     "output_type": "display_data"
    }
   ],
   "source": [
    "# Plot a simple bar chart of the most popular months for articles\n",
    "\n",
    "df.month.value_counts().plot(kind='bar', figsize=(10,7), title='Number of Articles Created per Month')"
   ]
  },
  {
   "cell_type": "markdown",
   "metadata": {},
   "source": [
    "A large amount of the articles are already classified as `technology` and `healthcare`. From 10,000 feet, it appears this dataset  will provide us several options for usage.\n",
    "\n",
    "Now, we need to define our strategy for splitting our training and test set, and what additional analysis we want to perform to better understand our data."
   ]
  },
  {
   "cell_type": "markdown",
   "metadata": {},
   "source": [
    "### EDA Part 1: Data Preparation"
   ]
  },
  {
   "cell_type": "markdown",
   "metadata": {},
   "source": [
    "The problem we still face is that our dataframe is 2.7M rows and heavy with `string` data. This next phase of exploring the data should consist of analyzing text statistics in the article columns (word and sentence count, word frequency, sentence length, average word length, etc.). \n",
    "\n",
    "To perform text analysis, we will use a combination of [Spacy](https://spacy.io/) and [NLTK](https://www.nltk.org/). Using these libraries effectively (i.e., with performance at the forefront) may require reducing the amount of data we're working with.\n",
    "\n",
    "As mentioned previously, we can drop a few irrelevant columns (`author`, `title`, `url`). We will also drop all rows that do not have text in the `article` column. This will squeeze out even more memory. Next, we can split our dataset into a training and test set, just to be sure that we're not leaking any data for future modeling tasks. This may save even more memory.\n",
    "\n",
    "Another approach is to sample our training set to pull out a sample dataset for analysis. There is enough data to make this quite easy to do.\n"
   ]
  },
  {
   "cell_type": "code",
   "execution_count": 22,
   "metadata": {},
   "outputs": [
    {
     "data": {
      "text/plain": [
       "date           21511024\n",
       "year           21511024\n",
       "month          21511024\n",
       "day            21511024\n",
       "author         21511024\n",
       "title          21511024\n",
       "article        21511024\n",
       "url            21511024\n",
       "section        21511024\n",
       "publication    21511024\n",
       "dtype: int64"
      ]
     },
     "execution_count": 22,
     "metadata": {},
     "output_type": "execute_result"
    }
   ],
   "source": [
    "# Check the allocation of memory for the dataframe\n",
    "\n",
    "df.memory_usage(index=False)"
   ]
  },
  {
   "cell_type": "code",
   "execution_count": 23,
   "metadata": {},
   "outputs": [
    {
     "data": {
      "text/plain": [
       "(2688878, 7)"
      ]
     },
     "execution_count": 23,
     "metadata": {},
     "output_type": "execute_result"
    }
   ],
   "source": [
    "# Drop the columns we don't need and create a new dataframe\n",
    "\n",
    "drop_cols = [ 'url', 'author', 'title']\n",
    "df_v1 = df.drop(drop_cols, axis=1)\n",
    "df_v1.shape"
   ]
  },
  {
   "cell_type": "code",
   "execution_count": 24,
   "metadata": {},
   "outputs": [
    {
     "name": "stdout",
     "output_type": "stream",
     "text": [
      "<class 'pandas.core.frame.DataFrame'>\n",
      "RangeIndex: 2688878 entries, 0 to 2688877\n",
      "Data columns (total 7 columns):\n",
      " #   Column       Dtype         \n",
      "---  ------       -----         \n",
      " 0   date         datetime64[ns]\n",
      " 1   year         int64         \n",
      " 2   month        object        \n",
      " 3   day          int64         \n",
      " 4   article      object        \n",
      " 5   section      object        \n",
      " 6   publication  object        \n",
      "dtypes: datetime64[ns](1), int64(2), object(4)\n",
      "memory usage: 143.6+ MB\n"
     ]
    }
   ],
   "source": [
    "# Check the memory usage of the new dataframe\n",
    "\n",
    "df_v1.info()"
   ]
  },
  {
   "cell_type": "markdown",
   "metadata": {},
   "source": [
    "The new dataframe is smaller by about ~60 MB. "
   ]
  },
  {
   "cell_type": "code",
   "execution_count": 25,
   "metadata": {},
   "outputs": [
    {
     "data": {
      "text/plain": [
       "date                0\n",
       "year                0\n",
       "month               0\n",
       "day                 0\n",
       "article        104713\n",
       "section        912273\n",
       "publication     12577\n",
       "dtype: int64"
      ]
     },
     "execution_count": 25,
     "metadata": {},
     "output_type": "execute_result"
    }
   ],
   "source": [
    "# Let's take another look at the missing values\n",
    "\n",
    "df_v1.isnull().sum()"
   ]
  },
  {
   "cell_type": "code",
   "execution_count": 26,
   "metadata": {},
   "outputs": [],
   "source": [
    "# Drop the rows where article is missing\n",
    "\n",
    "df_v1 = df_v1.dropna(subset=['article'])"
   ]
  },
  {
   "cell_type": "code",
   "execution_count": 27,
   "metadata": {},
   "outputs": [
    {
     "data": {
      "text/plain": [
       "(2584165, 7)"
      ]
     },
     "execution_count": 27,
     "metadata": {},
     "output_type": "execute_result"
    }
   ],
   "source": [
    "df_v1.shape"
   ]
  },
  {
   "cell_type": "code",
   "execution_count": 28,
   "metadata": {},
   "outputs": [
    {
     "data": {
      "text/plain": [
       "0"
      ]
     },
     "execution_count": 28,
     "metadata": {},
     "output_type": "execute_result"
    }
   ],
   "source": [
    "df_v1['article'].isnull().sum()"
   ]
  },
  {
   "cell_type": "code",
   "execution_count": 29,
   "metadata": {},
   "outputs": [],
   "source": [
    "# Let's load scikit-learn and split the data into training and test sets. \n",
    "\n",
    "from sklearn.model_selection import train_test_split\n",
    "\n",
    "train, test = train_test_split(df_v1, test_size=0.2, random_state=42)"
   ]
  },
  {
   "cell_type": "code",
   "execution_count": 30,
   "metadata": {},
   "outputs": [
    {
     "data": {
      "text/plain": [
       "(2067332, 7)"
      ]
     },
     "execution_count": 30,
     "metadata": {},
     "output_type": "execute_result"
    }
   ],
   "source": [
    "train.shape"
   ]
  },
  {
   "cell_type": "code",
   "execution_count": 31,
   "metadata": {},
   "outputs": [
    {
     "name": "stdout",
     "output_type": "stream",
     "text": [
      "<class 'pandas.core.frame.DataFrame'>\n",
      "Int64Index: 103367 entries, 865261 to 565643\n",
      "Data columns (total 7 columns):\n",
      " #   Column       Non-Null Count   Dtype         \n",
      "---  ------       --------------   -----         \n",
      " 0   date         103367 non-null  datetime64[ns]\n",
      " 1   year         103367 non-null  int64         \n",
      " 2   month        103367 non-null  object        \n",
      " 3   day          103367 non-null  int64         \n",
      " 4   article      103367 non-null  object        \n",
      " 5   section      70208 non-null   object        \n",
      " 6   publication  103367 non-null  object        \n",
      "dtypes: datetime64[ns](1), int64(2), object(4)\n",
      "memory usage: 6.3+ MB\n"
     ]
    }
   ],
   "source": [
    "# We'll use a 5% sample of the training set for purposes of text analytics and EDA\n",
    "\n",
    "eda_train = train.sample(frac=.05, random_state=42)\n",
    "eda_train.info()"
   ]
  },
  {
   "cell_type": "code",
   "execution_count": 32,
   "metadata": {},
   "outputs": [
    {
     "data": {
      "text/plain": [
       "(103367, 7)"
      ]
     },
     "execution_count": 32,
     "metadata": {},
     "output_type": "execute_result"
    }
   ],
   "source": [
    "eda_train.shape"
   ]
  },
  {
   "cell_type": "code",
   "execution_count": 33,
   "metadata": {},
   "outputs": [],
   "source": [
    "# Save a copy of the eda_train dataframe to a csv file in case of future kernel crashes\n",
    "\n",
    "eda_train.to_csv('./data/eda_train.csv', index=False)"
   ]
  },
  {
   "cell_type": "code",
   "execution_count": 34,
   "metadata": {},
   "outputs": [
    {
     "data": {
      "text/plain": [
       "<AxesSubplot: >"
      ]
     },
     "execution_count": 34,
     "metadata": {},
     "output_type": "execute_result"
    },
    {
     "data": {
      "image/png": "[encoded data removed]",
      "text/plain": [
       "<Figure size 1000x700 with 1 Axes>"
      ]
     },
     "metadata": {},
     "output_type": "display_data"
    }
   ],
   "source": [
    "# Run the same plots on the new sample to check the distribution of articles, years and sections\n",
    "\n",
    "eda_train.publication.value_counts().plot(kind='bar', figsize=(10,7))"
   ]
  },
  {
   "cell_type": "code",
   "execution_count": 35,
   "metadata": {},
   "outputs": [
    {
     "data": {
      "text/plain": [
       "<AxesSubplot: >"
      ]
     },
     "execution_count": 35,
     "metadata": {},
     "output_type": "execute_result"
    },
    {
     "data": {
      "image/png": "[encoded data removed]",
      "text/plain": [
       "<Figure size 1000x700 with 1 Axes>"
      ]
     },
     "metadata": {},
     "output_type": "display_data"
    }
   ],
   "source": [
    "eda_train.year.value_counts().plot(kind='bar', figsize=(10,7))"
   ]
  },
  {
   "cell_type": "code",
   "execution_count": 36,
   "metadata": {},
   "outputs": [
    {
     "data": {
      "text/plain": [
       "<AxesSubplot: >"
      ]
     },
     "execution_count": 36,
     "metadata": {},
     "output_type": "execute_result"
    },
    {
     "data": {
      "image/png": "[encoded data removed]",
      "text/plain": [
       "<Figure size 1000x700 with 1 Axes>"
      ]
     },
     "metadata": {},
     "output_type": "display_data"
    }
   ],
   "source": [
    "# Check the distribution of sections\n",
    "\n",
    "eda_train['section'].value_counts()[:20].plot(kind='bar', figsize=(10,7))"
   ]
  },
  {
   "cell_type": "code",
   "execution_count": 37,
   "metadata": {},
   "outputs": [
    {
     "data": {
      "text/plain": [
       "<AxesSubplot: title={'center': 'Number of Articles Created per Month'}>"
      ]
     },
     "execution_count": 37,
     "metadata": {},
     "output_type": "execute_result"
    },
    {
     "data": {
      "image/png": "[encoded data removed]",
      "text/plain": [
       "<Figure size 1000x700 with 1 Axes>"
      ]
     },
     "metadata": {},
     "output_type": "display_data"
    }
   ],
   "source": [
    "eda_train.month.value_counts().plot(kind='bar', figsize=(10,7), title='Number of Articles Created per Month')"
   ]
  },
  {
   "cell_type": "markdown",
   "metadata": {},
   "source": [
    "The sample size of 103K rows appears to be a good representation of the original data distribution."
   ]
  },
  {
   "cell_type": "markdown",
   "metadata": {},
   "source": [
    "In this first step of EDA, we've:\n",
    "1. Analyzed the memory usage of the full dataframe\n",
    "2. Dropped three columns and created a new dataframe with the remaining seven columns\n",
    "3. Dropped all rows where `article` data was missing.\n",
    "4. Split our new dataframe into a training and test set\n",
    "5. Took a sample of the training set and created a dataframe for analyzing text statistics\n",
    "\n",
    "We will now see if our new dataset of 103K rows gives us the ability to run further text analysis."
   ]
  },
  {
   "cell_type": "markdown",
   "metadata": {},
   "source": [
    "### EDA Part 2: Text Analysis"
   ]
  },
  {
   "cell_type": "code",
   "execution_count": 38,
   "metadata": {},
   "outputs": [],
   "source": [
    "import spacy\n",
    "nlp = spacy.load('en_core_web_sm')"
   ]
  },
  {
   "cell_type": "code",
   "execution_count": 39,
   "metadata": {},
   "outputs": [
    {
     "data": {
      "text/html": [
       "<div>\n",
       "<style scoped>\n",
       "    .dataframe tbody tr th:only-of-type {\n",
       "        vertical-align: middle;\n",
       "    }\n",
       "\n",
       "    .dataframe tbody tr th {\n",
       "        vertical-align: top;\n",
       "    }\n",
       "\n",
       "    .dataframe thead th {\n",
       "        text-align: right;\n",
       "    }\n",
       "</style>\n",
       "<table border=\"1\" class=\"dataframe\">\n",
       "  <thead>\n",
       "    <tr style=\"text-align: right;\">\n",
       "      <th></th>\n",
       "      <th>date</th>\n",
       "      <th>year</th>\n",
       "      <th>month</th>\n",
       "      <th>day</th>\n",
       "      <th>article</th>\n",
       "      <th>section</th>\n",
       "      <th>publication</th>\n",
       "    </tr>\n",
       "  </thead>\n",
       "  <tbody>\n",
       "    <tr>\n",
       "      <th>0</th>\n",
       "      <td>2017-11-27 00:00:00</td>\n",
       "      <td>2017</td>\n",
       "      <td>Nov</td>\n",
       "      <td>27</td>\n",
       "      <td>Nov 27 (Reuters) - Scout24 Ag: * BLOCK TRADE -...</td>\n",
       "      <td>IT Services &amp; Consulting</td>\n",
       "      <td>Reuters</td>\n",
       "    </tr>\n",
       "    <tr>\n",
       "      <th>1</th>\n",
       "      <td>2018-08-11 00:00:00</td>\n",
       "      <td>2018</td>\n",
       "      <td>Aug</td>\n",
       "      <td>11</td>\n",
       "      <td>Maryland has placed members of the football su...</td>\n",
       "      <td>Sports News</td>\n",
       "      <td>Reuters</td>\n",
       "    </tr>\n",
       "    <tr>\n",
       "      <th>2</th>\n",
       "      <td>2019-04-11 00:00:00</td>\n",
       "      <td>2019</td>\n",
       "      <td>Apr</td>\n",
       "      <td>11</td>\n",
       "      <td>UBER SAYS CORE PLATFORM ADJUSTED NET REVENUE W...</td>\n",
       "      <td>Wires</td>\n",
       "      <td>CNBC</td>\n",
       "    </tr>\n",
       "    <tr>\n",
       "      <th>3</th>\n",
       "      <td>2018-09-28 00:00:00</td>\n",
       "      <td>2018</td>\n",
       "      <td>Sep</td>\n",
       "      <td>28</td>\n",
       "      <td>NEW DELHI (Reuters) - India’s burgeoning shado...</td>\n",
       "      <td>Business News</td>\n",
       "      <td>Reuters</td>\n",
       "    </tr>\n",
       "    <tr>\n",
       "      <th>4</th>\n",
       "      <td>2017-02-06 00:00:00</td>\n",
       "      <td>2017</td>\n",
       "      <td>Feb</td>\n",
       "      <td>6</td>\n",
       "      <td>Feb 6 (Reuters) - China Child Care Corporation...</td>\n",
       "      <td>Chinese Labor Unrest</td>\n",
       "      <td>Reuters</td>\n",
       "    </tr>\n",
       "  </tbody>\n",
       "</table>\n",
       "</div>"
      ],
      "text/plain": [
       "                  date  year month  day  \\\n",
       "0  2017-11-27 00:00:00  2017   Nov   27   \n",
       "1  2018-08-11 00:00:00  2018   Aug   11   \n",
       "2  2019-04-11 00:00:00  2019   Apr   11   \n",
       "3  2018-09-28 00:00:00  2018   Sep   28   \n",
       "4  2017-02-06 00:00:00  2017   Feb    6   \n",
       "\n",
       "                                             article  \\\n",
       "0  Nov 27 (Reuters) - Scout24 Ag: * BLOCK TRADE -...   \n",
       "1  Maryland has placed members of the football su...   \n",
       "2  UBER SAYS CORE PLATFORM ADJUSTED NET REVENUE W...   \n",
       "3  NEW DELHI (Reuters) - India’s burgeoning shado...   \n",
       "4  Feb 6 (Reuters) - China Child Care Corporation...   \n",
       "\n",
       "                    section publication  \n",
       "0  IT Services & Consulting     Reuters  \n",
       "1               Sports News     Reuters  \n",
       "2                     Wires        CNBC  \n",
       "3             Business News     Reuters  \n",
       "4      Chinese Labor Unrest     Reuters  "
      ]
     },
     "execution_count": 39,
     "metadata": {},
     "output_type": "execute_result"
    }
   ],
   "source": [
    "# Load eda_train into a dataframe\n",
    "eda_train = pd.read_csv('./data/eda_train.csv')\n",
    "eda_train.head()"
   ]
  },
  {
   "cell_type": "code",
   "execution_count": 40,
   "metadata": {},
   "outputs": [],
   "source": [
    "# Count the number of words in each article\n",
    "\n",
    "eda_train['word_count'] = eda_train['article'].apply(lambda x: len(str(x).split(\" \")))"
   ]
  },
  {
   "cell_type": "code",
   "execution_count": 41,
   "metadata": {},
   "outputs": [],
   "source": [
    "# Count the number of characters in each article except spaces\n",
    "\n",
    "eda_train['char_count'] = eda_train['article'].str.len() - eda_train['article'].str.count(\" \")"
   ]
  },
  {
   "cell_type": "code",
   "execution_count": 42,
   "metadata": {},
   "outputs": [
    {
     "data": {
      "text/html": [
       "<div>\n",
       "<style scoped>\n",
       "    .dataframe tbody tr th:only-of-type {\n",
       "        vertical-align: middle;\n",
       "    }\n",
       "\n",
       "    .dataframe tbody tr th {\n",
       "        vertical-align: top;\n",
       "    }\n",
       "\n",
       "    .dataframe thead th {\n",
       "        text-align: right;\n",
       "    }\n",
       "</style>\n",
       "<table border=\"1\" class=\"dataframe\">\n",
       "  <thead>\n",
       "    <tr style=\"text-align: right;\">\n",
       "      <th></th>\n",
       "      <th>date</th>\n",
       "      <th>year</th>\n",
       "      <th>month</th>\n",
       "      <th>day</th>\n",
       "      <th>article</th>\n",
       "      <th>section</th>\n",
       "      <th>publication</th>\n",
       "      <th>word_count</th>\n",
       "      <th>char_count</th>\n",
       "    </tr>\n",
       "  </thead>\n",
       "  <tbody>\n",
       "    <tr>\n",
       "      <th>0</th>\n",
       "      <td>2017-11-27 00:00:00</td>\n",
       "      <td>2017</td>\n",
       "      <td>Nov</td>\n",
       "      <td>27</td>\n",
       "      <td>Nov 27 (Reuters) - Scout24 Ag: * BLOCK TRADE -...</td>\n",
       "      <td>IT Services &amp; Consulting</td>\n",
       "      <td>Reuters</td>\n",
       "      <td>35</td>\n",
       "      <td>171</td>\n",
       "    </tr>\n",
       "    <tr>\n",
       "      <th>1</th>\n",
       "      <td>2018-08-11 00:00:00</td>\n",
       "      <td>2018</td>\n",
       "      <td>Aug</td>\n",
       "      <td>11</td>\n",
       "      <td>Maryland has placed members of the football su...</td>\n",
       "      <td>Sports News</td>\n",
       "      <td>Reuters</td>\n",
       "      <td>498</td>\n",
       "      <td>2593</td>\n",
       "    </tr>\n",
       "    <tr>\n",
       "      <th>2</th>\n",
       "      <td>2019-04-11 00:00:00</td>\n",
       "      <td>2019</td>\n",
       "      <td>Apr</td>\n",
       "      <td>11</td>\n",
       "      <td>UBER SAYS CORE PLATFORM ADJUSTED NET REVENUE W...</td>\n",
       "      <td>Wires</td>\n",
       "      <td>CNBC</td>\n",
       "      <td>19</td>\n",
       "      <td>86</td>\n",
       "    </tr>\n",
       "    <tr>\n",
       "      <th>3</th>\n",
       "      <td>2018-09-28 00:00:00</td>\n",
       "      <td>2018</td>\n",
       "      <td>Sep</td>\n",
       "      <td>28</td>\n",
       "      <td>NEW DELHI (Reuters) - India’s burgeoning shado...</td>\n",
       "      <td>Business News</td>\n",
       "      <td>Reuters</td>\n",
       "      <td>1014</td>\n",
       "      <td>5294</td>\n",
       "    </tr>\n",
       "    <tr>\n",
       "      <th>4</th>\n",
       "      <td>2017-02-06 00:00:00</td>\n",
       "      <td>2017</td>\n",
       "      <td>Feb</td>\n",
       "      <td>6</td>\n",
       "      <td>Feb 6 (Reuters) - China Child Care Corporation...</td>\n",
       "      <td>Chinese Labor Unrest</td>\n",
       "      <td>Reuters</td>\n",
       "      <td>53</td>\n",
       "      <td>300</td>\n",
       "    </tr>\n",
       "  </tbody>\n",
       "</table>\n",
       "</div>"
      ],
      "text/plain": [
       "                  date  year month  day  \\\n",
       "0  2017-11-27 00:00:00  2017   Nov   27   \n",
       "1  2018-08-11 00:00:00  2018   Aug   11   \n",
       "2  2019-04-11 00:00:00  2019   Apr   11   \n",
       "3  2018-09-28 00:00:00  2018   Sep   28   \n",
       "4  2017-02-06 00:00:00  2017   Feb    6   \n",
       "\n",
       "                                             article  \\\n",
       "0  Nov 27 (Reuters) - Scout24 Ag: * BLOCK TRADE -...   \n",
       "1  Maryland has placed members of the football su...   \n",
       "2  UBER SAYS CORE PLATFORM ADJUSTED NET REVENUE W...   \n",
       "3  NEW DELHI (Reuters) - India’s burgeoning shado...   \n",
       "4  Feb 6 (Reuters) - China Child Care Corporation...   \n",
       "\n",
       "                    section publication  word_count  char_count  \n",
       "0  IT Services & Consulting     Reuters          35         171  \n",
       "1               Sports News     Reuters         498        2593  \n",
       "2                     Wires        CNBC          19          86  \n",
       "3             Business News     Reuters        1014        5294  \n",
       "4      Chinese Labor Unrest     Reuters          53         300  "
      ]
     },
     "execution_count": 42,
     "metadata": {},
     "output_type": "execute_result"
    }
   ],
   "source": [
    "eda_train.head()"
   ]
  },
  {
   "cell_type": "code",
   "execution_count": 49,
   "metadata": {},
   "outputs": [
    {
     "data": {
      "text/html": [
       "<div>\n",
       "<style scoped>\n",
       "    .dataframe tbody tr th:only-of-type {\n",
       "        vertical-align: middle;\n",
       "    }\n",
       "\n",
       "    .dataframe tbody tr th {\n",
       "        vertical-align: top;\n",
       "    }\n",
       "\n",
       "    .dataframe thead th {\n",
       "        text-align: right;\n",
       "    }\n",
       "</style>\n",
       "<table border=\"1\" class=\"dataframe\">\n",
       "  <thead>\n",
       "    <tr style=\"text-align: right;\">\n",
       "      <th></th>\n",
       "      <th>date</th>\n",
       "      <th>year</th>\n",
       "      <th>month</th>\n",
       "      <th>day</th>\n",
       "      <th>article</th>\n",
       "      <th>section</th>\n",
       "      <th>publication</th>\n",
       "      <th>word_count</th>\n",
       "      <th>char_count</th>\n",
       "    </tr>\n",
       "  </thead>\n",
       "  <tbody>\n",
       "    <tr>\n",
       "      <th>156</th>\n",
       "      <td>2017-08-01 00:00:00</td>\n",
       "      <td>2017</td>\n",
       "      <td>Aug</td>\n",
       "      <td>1</td>\n",
       "      <td>Credit Cheney Orr</td>\n",
       "      <td>in-puerto-rico-love-lingers-for-a-deserted-school</td>\n",
       "      <td>The New York Times</td>\n",
       "      <td>3</td>\n",
       "      <td>15</td>\n",
       "    </tr>\n",
       "    <tr>\n",
       "      <th>833</th>\n",
       "      <td>2017-06-27 00:00:00</td>\n",
       "      <td>2017</td>\n",
       "      <td>Jun</td>\n",
       "      <td>27</td>\n",
       "      <td>WATCH: More from Smarter Faster</td>\n",
       "      <td>NaN</td>\n",
       "      <td>Axios</td>\n",
       "      <td>5</td>\n",
       "      <td>27</td>\n",
       "    </tr>\n",
       "    <tr>\n",
       "      <th>1002</th>\n",
       "      <td>2016-03-21 00:00:00</td>\n",
       "      <td>2016</td>\n",
       "      <td>Mar</td>\n",
       "      <td>21</td>\n",
       "      <td>Credit Cheney Orr</td>\n",
       "      <td>christian-rodriguez-mexico-sierra-madre</td>\n",
       "      <td>The New York Times</td>\n",
       "      <td>3</td>\n",
       "      <td>15</td>\n",
       "    </tr>\n",
       "    <tr>\n",
       "      <th>2271</th>\n",
       "      <td>2016-05-11 00:00:00</td>\n",
       "      <td>2016</td>\n",
       "      <td>May</td>\n",
       "      <td>11</td>\n",
       "      <td>Oops Looks like your browser doesn't support J...</td>\n",
       "      <td>NaN</td>\n",
       "      <td>Buzzfeed News</td>\n",
       "      <td>8</td>\n",
       "      <td>49</td>\n",
       "    </tr>\n",
       "    <tr>\n",
       "      <th>2338</th>\n",
       "      <td>2016-09-27 00:00:00</td>\n",
       "      <td>2016</td>\n",
       "      <td>Sep</td>\n",
       "      <td>27</td>\n",
       "      <td>Oops Looks like your browser doesn't support J...</td>\n",
       "      <td>NaN</td>\n",
       "      <td>Buzzfeed News</td>\n",
       "      <td>8</td>\n",
       "      <td>49</td>\n",
       "    </tr>\n",
       "    <tr>\n",
       "      <th>...</th>\n",
       "      <td>...</td>\n",
       "      <td>...</td>\n",
       "      <td>...</td>\n",
       "      <td>...</td>\n",
       "      <td>...</td>\n",
       "      <td>...</td>\n",
       "      <td>...</td>\n",
       "      <td>...</td>\n",
       "      <td>...</td>\n",
       "    </tr>\n",
       "    <tr>\n",
       "      <th>101129</th>\n",
       "      <td>2018-11-11 00:00:00</td>\n",
       "      <td>2018</td>\n",
       "      <td>Nov</td>\n",
       "      <td>11</td>\n",
       "      <td>Oops Looks like your browser doesn't support J...</td>\n",
       "      <td>NaN</td>\n",
       "      <td>Buzzfeed News</td>\n",
       "      <td>8</td>\n",
       "      <td>49</td>\n",
       "    </tr>\n",
       "    <tr>\n",
       "      <th>101176</th>\n",
       "      <td>2016-06-09 00:00:00</td>\n",
       "      <td>2016</td>\n",
       "      <td>Jun</td>\n",
       "      <td>9</td>\n",
       "      <td>Credit Cheney Orr</td>\n",
       "      <td>emerging-young-photographers-in-the-south-bronx</td>\n",
       "      <td>The New York Times</td>\n",
       "      <td>3</td>\n",
       "      <td>15</td>\n",
       "    </tr>\n",
       "    <tr>\n",
       "      <th>102308</th>\n",
       "      <td>2017-08-24 20:03:00</td>\n",
       "      <td>2017</td>\n",
       "      <td>Aug</td>\n",
       "      <td>24</td>\n",
       "      <td>Check out Benny Montero's Instagram and Faceb...</td>\n",
       "      <td>Comics!</td>\n",
       "      <td>Vice</td>\n",
       "      <td>8</td>\n",
       "      <td>43</td>\n",
       "    </tr>\n",
       "    <tr>\n",
       "      <th>102610</th>\n",
       "      <td>2017-08-11 00:00:00</td>\n",
       "      <td>2017</td>\n",
       "      <td>Aug</td>\n",
       "      <td>11</td>\n",
       "      <td>Oops Looks like your browser doesn't support J...</td>\n",
       "      <td>NaN</td>\n",
       "      <td>Buzzfeed News</td>\n",
       "      <td>8</td>\n",
       "      <td>49</td>\n",
       "    </tr>\n",
       "    <tr>\n",
       "      <th>103017</th>\n",
       "      <td>2016-03-07 00:00:00</td>\n",
       "      <td>2016</td>\n",
       "      <td>Mar</td>\n",
       "      <td>7</td>\n",
       "      <td>irony •\\ˈī-rə-nē also ˈī(-ə)r-nē\\• noun</td>\n",
       "      <td>word-of-the-day-quiz-irony</td>\n",
       "      <td>The New York Times</td>\n",
       "      <td>5</td>\n",
       "      <td>35</td>\n",
       "    </tr>\n",
       "  </tbody>\n",
       "</table>\n",
       "<p>166 rows × 9 columns</p>\n",
       "</div>"
      ],
      "text/plain": [
       "                       date  year month  day  \\\n",
       "156     2017-08-01 00:00:00  2017   Aug    1   \n",
       "833     2017-06-27 00:00:00  2017   Jun   27   \n",
       "1002    2016-03-21 00:00:00  2016   Mar   21   \n",
       "2271    2016-05-11 00:00:00  2016   May   11   \n",
       "2338    2016-09-27 00:00:00  2016   Sep   27   \n",
       "...                     ...   ...   ...  ...   \n",
       "101129  2018-11-11 00:00:00  2018   Nov   11   \n",
       "101176  2016-06-09 00:00:00  2016   Jun    9   \n",
       "102308  2017-08-24 20:03:00  2017   Aug   24   \n",
       "102610  2017-08-11 00:00:00  2017   Aug   11   \n",
       "103017  2016-03-07 00:00:00  2016   Mar    7   \n",
       "\n",
       "                                                  article  \\\n",
       "156                                     Credit Cheney Orr   \n",
       "833                       WATCH: More from Smarter Faster   \n",
       "1002                                    Credit Cheney Orr   \n",
       "2271    Oops Looks like your browser doesn't support J...   \n",
       "2338    Oops Looks like your browser doesn't support J...   \n",
       "...                                                   ...   \n",
       "101129  Oops Looks like your browser doesn't support J...   \n",
       "101176                                  Credit Cheney Orr   \n",
       "102308   Check out Benny Montero's Instagram and Faceb...   \n",
       "102610  Oops Looks like your browser doesn't support J...   \n",
       "103017            irony •\\ˈī-rə-nē also ˈī(-ə)r-nē\\• noun   \n",
       "\n",
       "                                                  section         publication  \\\n",
       "156     in-puerto-rico-love-lingers-for-a-deserted-school  The New York Times   \n",
       "833                                                   NaN               Axios   \n",
       "1002              christian-rodriguez-mexico-sierra-madre  The New York Times   \n",
       "2271                                                  NaN       Buzzfeed News   \n",
       "2338                                                  NaN       Buzzfeed News   \n",
       "...                                                   ...                 ...   \n",
       "101129                                                NaN       Buzzfeed News   \n",
       "101176    emerging-young-photographers-in-the-south-bronx  The New York Times   \n",
       "102308                                            Comics!                Vice   \n",
       "102610                                                NaN       Buzzfeed News   \n",
       "103017                         word-of-the-day-quiz-irony  The New York Times   \n",
       "\n",
       "        word_count  char_count  \n",
       "156              3          15  \n",
       "833              5          27  \n",
       "1002             3          15  \n",
       "2271             8          49  \n",
       "2338             8          49  \n",
       "...            ...         ...  \n",
       "101129           8          49  \n",
       "101176           3          15  \n",
       "102308           8          43  \n",
       "102610           8          49  \n",
       "103017           5          35  \n",
       "\n",
       "[166 rows x 9 columns]"
      ]
     },
     "execution_count": 49,
     "metadata": {},
     "output_type": "execute_result"
    }
   ],
   "source": [
    "# Find one article with less than 50 characters to check the data\n",
    "\n",
    "eda_train[eda_train['char_count'] < 50]"
   ]
  },
  {
   "cell_type": "code",
   "execution_count": 46,
   "metadata": {},
   "outputs": [
    {
     "name": "stdout",
     "output_type": "stream",
     "text": [
      "Credit Cheney Orr\n"
     ]
    }
   ],
   "source": [
    "print(eda_train['article'][156])"
   ]
  },
  {
   "cell_type": "code",
   "execution_count": 51,
   "metadata": {},
   "outputs": [
    {
     "name": "stdout",
     "output_type": "stream",
     "text": [
      "NEW DELHI (Reuters) - India’s burgeoning shadow finance sector is likely to face a shake-up after defaults at one major lender battered the nation’s financial markets in the past week and reinforced worries about credit risk. Industry officials and experts say they expect Indian regulators to cancel the licenses of as many as 1,500 smaller non-banking finance companies because they don’t have adequate capital, and to also make it more difficult for new applicants to get approval. The Reserve Bank of India (RBI), which has been tightening rules for non-banking financial companies (NBFCs), did not respond to requests for comment. Better capitalized and more conservatively run finance firms are likely to swallow up an increasing number of smaller rivals, the experts said. That could make it difficult for many small borrowers to get loans, especially in the countryside where two-thirds of India’s 1.3 billion people live, and put the brakes on a surge in private consumption with a knock-on effect on growth. Infrastructure Financing and Leasing Services Ltd (IL&FS) [ILFS.UL], a major infrastructure financing and construction company, sent shockwaves through the NBFC sector when it defaulted on some of its debt obligations in recent weeks. Then last Friday, a large fund manager sold short-term bonds issued by home loan provider Dewan Housing Finance (DWNH.NS) at a sharp discount, raising fears of wider liquidity problems. “The way things are unfolding, there is certainly cause for concern and the sector could see consolidation,” said Harun Rashid Khan, a former deputy governor at the RBI and now a non-executive chairman at Bandhan Bank Ltd (BANH.NS), formerly a microfinance company specializing in small-value loans. “The whole issue is they have to take care of their asset-liability mismatch,” Khan said in reference to concerns that some of the firms have borrowed short-term when their revenue streams are longer-term. The spotlight has now been turned on thousands of “high-risk” small players dominating lending in villages and towns. The shadow banking sector now comprises more than 11,400 firms with a combined balance-sheet worth 22.1 trillion rupees ($304 billion), and is less strictly regulated than banks. It has been attracting new investors, particularly as the nation’s banks have had to slow their lending as they seek to work through $150 billion of stressed assets. The NBFC loan books have grown at nearly twice the pace of banks, and the cream of them, including IL&FS, had received top credit ratings. Those credit ratings are now being called into question - IL&FS has suffered a series of downgrades in recent months - and there are growing concerns that many of these firms took on excessive credit risk by lending to people with little means of paying them back. There are also growing questions about whether lax regulation has allowed some of these firms to be used for money laundering. Rising borrowing costs, exacerbated by the turmoil in markets in recent days, will lead to a credit crunch in the sector and make it difficult for firms that aren’t well capitalized to survive, according to top investors in the sector. “Smaller NBFCs will face the problem of cost, their quantum of liquidity may not be the same as they are getting now. But medium and large-sized NBFCs should be able to achieve their volume as well as access to funds,” said Rajesh Sharma, owner of Capri Global Capital (CAPG.NS), an NBFC that had a loan book of 12.5 billion rupees ($172 million) in the last fiscal year. He added that in the absence of any financial incentive for NBFCs from the government, those who “can’t manage their portfolio performance will perish”. The RBI has already been cancelling licenses of those who do not have a minimum capital base of 20 million rupees ($275,330). “RBI has issued show-cause notices, given them time and is now in the process of cancelling their registration. Ultimately up to 1,500 should go out,” said Raman Aggarwal, chairman of Finance Industry Development Council, an industry body. At the same time, Aggarwal said the central bank is “flooded” with hundreds of new applications to set up NBFCs. He denied there was any wider asset-liability mismatch in the sector. But bankers and former central bank officials said the scrutiny will be higher for newer players now that “asset-liability mismatches have magnified among existing NBFCs”. Nearly 11,000 of India’s NBFCs are small and medium-sized businesses with an asset base of less than 5 billion rupees. But the top 400, many of which are backed by banks and finance companies, control about 90 percent of the assets under management, Aggarwal said. NBFCs have been differentiating themselves from banks by forming personal relations with customers despite charging up to 2 percentage points higher interest, said Aggarwal. “They know the local market dynamics, they understand the local economics, so you can take a credit call based on the first few minutes of discussion with the borrower,” he said. Unlike banks, NBFCs are “not rigid” and lend to even those borrowers who may never had a bank account, credit history or tangible assets, Aggarwal said. That could include someone buying a motorised rickshaw or setting up a small restaurant. Analysts say the current uncertainty in the market will mean NBFCs with financially strong backers such as LIC Housing Finance Ltd (LICH.NS), Power Finance Corp (PWFC.NS), Rural Electrification Corp RURL.NS, Bajaj Finance (BJFN.NS) and Cholamandalam Investment and Finance (CHLA.NS) will stand out. And there is set to be an acceleration in deals, they said. Over the past two years, IDFC Bank (IDFB.NS) has bought Grama Vidiyal Micro Finance, Kotak Mahindra Bank (KTKM.NS) bought BSS Microfinance, RBL Bank (RATB.NS) took over Swadhaar Finance while IndusInd Bank (INBK.NS) has announced the acquisition of Bharath Financial Inclusion. “There should be some consolidation in the market and regulation,” said S.S. Mundra, a former RBI deputy governor who is now on the board of Indiabulls Housing Finance Ltd (INBF.NS), a home loan provider. “That would be good for the system in the long run.” Reporting by Krishna N. Das and Neha Dasgupta; Additional reporting by Euan Rocha; Editing by Martin Howell and Raju Gopalakrishnan\n"
     ]
    }
   ],
   "source": [
    "# Review the fourth article to check the data\n",
    "\n",
    "print(eda_train['article'][3])"
   ]
  },
  {
   "cell_type": "code",
   "execution_count": 67,
   "metadata": {},
   "outputs": [
    {
     "data": {
      "text/plain": [
       "<AxesSubplot: title={'center': 'Average Word Count per Publication'}, xlabel='publication'>"
      ]
     },
     "execution_count": 67,
     "metadata": {},
     "output_type": "execute_result"
    },
    {
     "data": {
      "image/png": "[encoded data removed]",
      "text/plain": [
       "<Figure size 1000x700 with 1 Axes>"
      ]
     },
     "metadata": {},
     "output_type": "display_data"
    }
   ],
   "source": [
    "# Show the average word count for each publication\n",
    "\n",
    "eda_train.groupby('publication')['word_count'].mean().plot(kind='bar', figsize=(10,7), title='Average Word Count per Publication')\n"
   ]
  },
  {
   "cell_type": "markdown",
   "metadata": {},
   "source": [
    "The New Yorker magazine has the larget average word count, which isn't a surprise. We may want to considere dropping publications with lower word counts, such as TMZ."
   ]
  },
  {
   "cell_type": "markdown",
   "metadata": {},
   "source": [
    "Next, we'll count the number of sentences in each article. We will need to use a more power NLP tool to identify sentence boundries to provide an accurate count."
   ]
  },
  {
   "cell_type": "markdown",
   "metadata": {},
   "source": [
    "#### Count sentences"
   ]
  },
  {
   "cell_type": "code",
   "execution_count": 53,
   "metadata": {},
   "outputs": [],
   "source": [
    "# Use Spacy to count the nuber of sentences in each article\n",
    "\n",
    "text = eda_train['article']\n",
    "eda_train['sentence_count'] = [len(list(doc.sents)) for doc in nlp.pipe(text.astype(str), disable=['ner', 'pos'])]"
   ]
  },
  {
   "cell_type": "code",
   "execution_count": 54,
   "metadata": {},
   "outputs": [
    {
     "data": {
      "text/html": [
       "<div>\n",
       "<style scoped>\n",
       "    .dataframe tbody tr th:only-of-type {\n",
       "        vertical-align: middle;\n",
       "    }\n",
       "\n",
       "    .dataframe tbody tr th {\n",
       "        vertical-align: top;\n",
       "    }\n",
       "\n",
       "    .dataframe thead th {\n",
       "        text-align: right;\n",
       "    }\n",
       "</style>\n",
       "<table border=\"1\" class=\"dataframe\">\n",
       "  <thead>\n",
       "    <tr style=\"text-align: right;\">\n",
       "      <th></th>\n",
       "      <th>date</th>\n",
       "      <th>year</th>\n",
       "      <th>month</th>\n",
       "      <th>day</th>\n",
       "      <th>article</th>\n",
       "      <th>section</th>\n",
       "      <th>publication</th>\n",
       "      <th>word_count</th>\n",
       "      <th>char_count</th>\n",
       "      <th>sentence_count</th>\n",
       "    </tr>\n",
       "  </thead>\n",
       "  <tbody>\n",
       "    <tr>\n",
       "      <th>0</th>\n",
       "      <td>2017-11-27 00:00:00</td>\n",
       "      <td>2017</td>\n",
       "      <td>Nov</td>\n",
       "      <td>27</td>\n",
       "      <td>Nov 27 (Reuters) - Scout24 Ag: * BLOCK TRADE -...</td>\n",
       "      <td>IT Services &amp; Consulting</td>\n",
       "      <td>Reuters</td>\n",
       "      <td>35</td>\n",
       "      <td>171</td>\n",
       "      <td>2</td>\n",
       "    </tr>\n",
       "    <tr>\n",
       "      <th>1</th>\n",
       "      <td>2018-08-11 00:00:00</td>\n",
       "      <td>2018</td>\n",
       "      <td>Aug</td>\n",
       "      <td>11</td>\n",
       "      <td>Maryland has placed members of the football su...</td>\n",
       "      <td>Sports News</td>\n",
       "      <td>Reuters</td>\n",
       "      <td>498</td>\n",
       "      <td>2593</td>\n",
       "      <td>25</td>\n",
       "    </tr>\n",
       "    <tr>\n",
       "      <th>2</th>\n",
       "      <td>2019-04-11 00:00:00</td>\n",
       "      <td>2019</td>\n",
       "      <td>Apr</td>\n",
       "      <td>11</td>\n",
       "      <td>UBER SAYS CORE PLATFORM ADJUSTED NET REVENUE W...</td>\n",
       "      <td>Wires</td>\n",
       "      <td>CNBC</td>\n",
       "      <td>19</td>\n",
       "      <td>86</td>\n",
       "      <td>1</td>\n",
       "    </tr>\n",
       "    <tr>\n",
       "      <th>3</th>\n",
       "      <td>2018-09-28 00:00:00</td>\n",
       "      <td>2018</td>\n",
       "      <td>Sep</td>\n",
       "      <td>28</td>\n",
       "      <td>NEW DELHI (Reuters) - India’s burgeoning shado...</td>\n",
       "      <td>Business News</td>\n",
       "      <td>Reuters</td>\n",
       "      <td>1014</td>\n",
       "      <td>5294</td>\n",
       "      <td>38</td>\n",
       "    </tr>\n",
       "    <tr>\n",
       "      <th>4</th>\n",
       "      <td>2017-02-06 00:00:00</td>\n",
       "      <td>2017</td>\n",
       "      <td>Feb</td>\n",
       "      <td>6</td>\n",
       "      <td>Feb 6 (Reuters) - China Child Care Corporation...</td>\n",
       "      <td>Chinese Labor Unrest</td>\n",
       "      <td>Reuters</td>\n",
       "      <td>53</td>\n",
       "      <td>300</td>\n",
       "      <td>5</td>\n",
       "    </tr>\n",
       "  </tbody>\n",
       "</table>\n",
       "</div>"
      ],
      "text/plain": [
       "                  date  year month  day  \\\n",
       "0  2017-11-27 00:00:00  2017   Nov   27   \n",
       "1  2018-08-11 00:00:00  2018   Aug   11   \n",
       "2  2019-04-11 00:00:00  2019   Apr   11   \n",
       "3  2018-09-28 00:00:00  2018   Sep   28   \n",
       "4  2017-02-06 00:00:00  2017   Feb    6   \n",
       "\n",
       "                                             article  \\\n",
       "0  Nov 27 (Reuters) - Scout24 Ag: * BLOCK TRADE -...   \n",
       "1  Maryland has placed members of the football su...   \n",
       "2  UBER SAYS CORE PLATFORM ADJUSTED NET REVENUE W...   \n",
       "3  NEW DELHI (Reuters) - India’s burgeoning shado...   \n",
       "4  Feb 6 (Reuters) - China Child Care Corporation...   \n",
       "\n",
       "                    section publication  word_count  char_count  \\\n",
       "0  IT Services & Consulting     Reuters          35         171   \n",
       "1               Sports News     Reuters         498        2593   \n",
       "2                     Wires        CNBC          19          86   \n",
       "3             Business News     Reuters        1014        5294   \n",
       "4      Chinese Labor Unrest     Reuters          53         300   \n",
       "\n",
       "   sentence_count  \n",
       "0               2  \n",
       "1              25  \n",
       "2               1  \n",
       "3              38  \n",
       "4               5  "
      ]
     },
     "execution_count": 54,
     "metadata": {},
     "output_type": "execute_result"
    }
   ],
   "source": [
    "eda_train.head()"
   ]
  },
  {
   "cell_type": "markdown",
   "metadata": {},
   "source": [
    "It took almost 45 minutes to count the number of sentences in 103K articles. There is likely a better way to write this code for improved performance, such as disabling `parser` and enabling `senter`. For now, we'll go with what we have. A quick check of a few articles shows that the Spacy sentence count is reflective of the actual number of sentences in each article."
   ]
  },
  {
   "cell_type": "code",
   "execution_count": 58,
   "metadata": {},
   "outputs": [
    {
     "name": "stdout",
     "output_type": "stream",
     "text": [
      "Maryland has placed members of the football support staff on paid administrative leave as the investigation continues into the death of redshirt freshman Jordan McNair, the university announced Friday. A Maryland spokesperson would not name the people who were placed on leave. McNair, the Maryland offensive lineman who died after collapsing during a spring workout, had a body temperature of 106 degrees when taken to a local hospital in May, according to a report from ESPN on Friday. McNair, 19, also struggled to stand straight while running short sprints before his collapse, according to the report. While an official cause of death has not been released, ESPN reported sources said his death was due to heatstroke. The website of a foundation his family started in his memory also says McNair died of heatstroke. He collapsed on May 29 during the outdoor workout and died June 13. The university has hired a former collegiate athletic trainer, Dr. Rod Walters, to investigate whether coaches and team staff followed proper procedures once it became clear that McNair was struggling. It is expected that Walters’ report will be released in mid-September. His family also has hired a legal team to investigate his death. ESPN talked to multiple people who described the practice and what happened to McNair, who is said to have experienced a seizure about 45 minutes into the practice — approximately 5 p.m. — but was not transported to the hospital until much later. Trainers evaluated McNair on site and called for an ambulance. McNair was taken to Cowley Shock Trauma Center in Baltimore. “Our preliminary investigation reveals there is an unexplained one-hour time period when nothing significant was done to avoid the complications of heatstroke,” McNair family attorney Billy Murphy told ESPN . “Although there is some evidence they allegedly tried to cool him down, he should have been iced immediately. He presented at the hospital with a temperature of 106, which means he was not cooled down. “We’re very concerned about the unexplained one hour between the time of the seizure and hyperventilating that was observed by a coach, and what happened in that remaining hour before the EMT people were actually called. This points to an utter disregard of the health of this player, and we are extraordinarily concerned that the coaches did not react appropriately to his injury.” Murphy added that a lawsuit will “likely” be filed. While Maryland officials declined an interview request, they did issue a statement disputing that part of the report. The university statement said no one affiliated had a seizure around 5 p.m. that day. The ESPN story detailed complaints against the Terrapins program under head coach DJ Durkin and strength and conditioning coach Rick Court. The complaints concerned what some described as verbal abuse and humiliation of players by the two men. In a statement, Maryland officials said allegations against Durkin and Court were “troubling and not consistent with our approach to coaching and development” of student-athletes. —Field Level Media\n"
     ]
    }
   ],
   "source": [
    "# Check the data for the fifth article. Does it have 25 sentences? Yes.\n",
    "\n",
    "print(eda_train['article'][1])"
   ]
  },
  {
   "cell_type": "code",
   "execution_count": 61,
   "metadata": {},
   "outputs": [
    {
     "name": "stdout",
     "output_type": "stream",
     "text": [
      "Feb 6 (Reuters) - China Child Care Corporation Ltd * Discloseable Transaction Acquisition Of Convertible Notes * Company and Ever Smart Capital entered into sale and purchase agreement * Company has agreed to acquire convertible notes at a consideration equivalent to principal amount of hk$58.5 million Source text for Eikon: Further company coverage:\n"
     ]
    }
   ],
   "source": [
    "# Check the data on the fifth article. Does it have 5 sentences? No.\n",
    "\n",
    "print(eda_train['article'][4])"
   ]
  },
  {
   "cell_type": "markdown",
   "metadata": {},
   "source": [
    "The quality of sentence count seems to peform better on more structured articles (i.e., longer text). Sentence count could be another feature we use in the future to target higher-quality articles for NER, topic clustering, and temporal analysis."
   ]
  },
  {
   "cell_type": "code",
   "execution_count": 62,
   "metadata": {},
   "outputs": [],
   "source": [
    "# Save the dataframe to a csv file in case of future kernel crashes\n",
    "\n",
    "eda_train.to_csv('./data/eda_train_sentence_count.csv', index=False)"
   ]
  },
  {
   "cell_type": "code",
   "execution_count": 63,
   "metadata": {},
   "outputs": [
    {
     "data": {
      "text/plain": [
       "Text(0.5, 1.0, 'Number of sentences per article')"
      ]
     },
     "execution_count": 63,
     "metadata": {},
     "output_type": "execute_result"
    },
    {
     "data": {
      "image/png": "[encoded data removed]",
      "text/plain": [
       "<Figure size 1000x700 with 1 Axes>"
      ]
     },
     "metadata": {},
     "output_type": "display_data"
    }
   ],
   "source": [
    "fig, ax = plt.subplots(figsize=(10, 7))\n",
    "ax.hist(eda_train['sentence_count'], bins=150)\n",
    "xlab = ax.set_xlabel('Sentence Count')\n",
    "ylab = ax.set_ylabel('Number of Articles')\n",
    "xlim = ax.set_xlim(0, 100)\n",
    "ax.set_title('Number of sentences per article')"
   ]
  },
  {
   "cell_type": "markdown",
   "metadata": {},
   "source": [
    "The majority of articles (70K+) have an average sentence length of 20 or fewer sentences. We can target a body of articles where the sentence count is ~ 20 sentences in future processing on the entire corpus (2.7M articles)."
   ]
  },
  {
   "cell_type": "code",
   "execution_count": 66,
   "metadata": {},
   "outputs": [
    {
     "data": {
      "text/html": [
       "<div>\n",
       "<style scoped>\n",
       "    .dataframe tbody tr th:only-of-type {\n",
       "        vertical-align: middle;\n",
       "    }\n",
       "\n",
       "    .dataframe tbody tr th {\n",
       "        vertical-align: top;\n",
       "    }\n",
       "\n",
       "    .dataframe thead th {\n",
       "        text-align: right;\n",
       "    }\n",
       "</style>\n",
       "<table border=\"1\" class=\"dataframe\">\n",
       "  <thead>\n",
       "    <tr style=\"text-align: right;\">\n",
       "      <th></th>\n",
       "      <th>date</th>\n",
       "      <th>year</th>\n",
       "      <th>month</th>\n",
       "      <th>day</th>\n",
       "      <th>article</th>\n",
       "      <th>section</th>\n",
       "      <th>publication</th>\n",
       "      <th>word_count</th>\n",
       "      <th>char_count</th>\n",
       "      <th>sentence_count</th>\n",
       "      <th>avg_words_per_sentence</th>\n",
       "    </tr>\n",
       "  </thead>\n",
       "  <tbody>\n",
       "    <tr>\n",
       "      <th>0</th>\n",
       "      <td>2017-11-27 00:00:00</td>\n",
       "      <td>2017</td>\n",
       "      <td>Nov</td>\n",
       "      <td>27</td>\n",
       "      <td>Nov 27 (Reuters) - Scout24 Ag: * BLOCK TRADE -...</td>\n",
       "      <td>IT Services &amp; Consulting</td>\n",
       "      <td>Reuters</td>\n",
       "      <td>35</td>\n",
       "      <td>171</td>\n",
       "      <td>2</td>\n",
       "      <td>17.5</td>\n",
       "    </tr>\n",
       "    <tr>\n",
       "      <th>1</th>\n",
       "      <td>2018-08-11 00:00:00</td>\n",
       "      <td>2018</td>\n",
       "      <td>Aug</td>\n",
       "      <td>11</td>\n",
       "      <td>Maryland has placed members of the football su...</td>\n",
       "      <td>Sports News</td>\n",
       "      <td>Reuters</td>\n",
       "      <td>498</td>\n",
       "      <td>2593</td>\n",
       "      <td>25</td>\n",
       "      <td>19.9</td>\n",
       "    </tr>\n",
       "    <tr>\n",
       "      <th>2</th>\n",
       "      <td>2019-04-11 00:00:00</td>\n",
       "      <td>2019</td>\n",
       "      <td>Apr</td>\n",
       "      <td>11</td>\n",
       "      <td>UBER SAYS CORE PLATFORM ADJUSTED NET REVENUE W...</td>\n",
       "      <td>Wires</td>\n",
       "      <td>CNBC</td>\n",
       "      <td>19</td>\n",
       "      <td>86</td>\n",
       "      <td>1</td>\n",
       "      <td>19.0</td>\n",
       "    </tr>\n",
       "    <tr>\n",
       "      <th>3</th>\n",
       "      <td>2018-09-28 00:00:00</td>\n",
       "      <td>2018</td>\n",
       "      <td>Sep</td>\n",
       "      <td>28</td>\n",
       "      <td>NEW DELHI (Reuters) - India’s burgeoning shado...</td>\n",
       "      <td>Business News</td>\n",
       "      <td>Reuters</td>\n",
       "      <td>1014</td>\n",
       "      <td>5294</td>\n",
       "      <td>38</td>\n",
       "      <td>26.7</td>\n",
       "    </tr>\n",
       "    <tr>\n",
       "      <th>4</th>\n",
       "      <td>2017-02-06 00:00:00</td>\n",
       "      <td>2017</td>\n",
       "      <td>Feb</td>\n",
       "      <td>6</td>\n",
       "      <td>Feb 6 (Reuters) - China Child Care Corporation...</td>\n",
       "      <td>Chinese Labor Unrest</td>\n",
       "      <td>Reuters</td>\n",
       "      <td>53</td>\n",
       "      <td>300</td>\n",
       "      <td>5</td>\n",
       "      <td>10.6</td>\n",
       "    </tr>\n",
       "  </tbody>\n",
       "</table>\n",
       "</div>"
      ],
      "text/plain": [
       "                  date  year month  day  \\\n",
       "0  2017-11-27 00:00:00  2017   Nov   27   \n",
       "1  2018-08-11 00:00:00  2018   Aug   11   \n",
       "2  2019-04-11 00:00:00  2019   Apr   11   \n",
       "3  2018-09-28 00:00:00  2018   Sep   28   \n",
       "4  2017-02-06 00:00:00  2017   Feb    6   \n",
       "\n",
       "                                             article  \\\n",
       "0  Nov 27 (Reuters) - Scout24 Ag: * BLOCK TRADE -...   \n",
       "1  Maryland has placed members of the football su...   \n",
       "2  UBER SAYS CORE PLATFORM ADJUSTED NET REVENUE W...   \n",
       "3  NEW DELHI (Reuters) - India’s burgeoning shado...   \n",
       "4  Feb 6 (Reuters) - China Child Care Corporation...   \n",
       "\n",
       "                    section publication  word_count  char_count  \\\n",
       "0  IT Services & Consulting     Reuters          35         171   \n",
       "1               Sports News     Reuters         498        2593   \n",
       "2                     Wires        CNBC          19          86   \n",
       "3             Business News     Reuters        1014        5294   \n",
       "4      Chinese Labor Unrest     Reuters          53         300   \n",
       "\n",
       "   sentence_count  avg_words_per_sentence  \n",
       "0               2                    17.5  \n",
       "1              25                    19.9  \n",
       "2               1                    19.0  \n",
       "3              38                    26.7  \n",
       "4               5                    10.6  "
      ]
     },
     "execution_count": 66,
     "metadata": {},
     "output_type": "execute_result"
    }
   ],
   "source": [
    "# Avg number of words per sentence\n",
    "\n",
    "eda_train['avg_words_per_sentence'] = round(eda_train['word_count'] / eda_train['sentence_count'], 1)\n",
    "eda_train.head()"
   ]
  },
  {
   "cell_type": "markdown",
   "metadata": {},
   "source": [
    "We create another feature, avg_words_per_sentence, in case it helps with targetting certain articles for usage in the future."
   ]
  },
  {
   "cell_type": "code",
   "execution_count": 95,
   "metadata": {},
   "outputs": [
    {
     "name": "stdout",
     "output_type": "stream",
     "text": [
      "The average number of words per article is 496.31\n"
     ]
    }
   ],
   "source": [
    "# Avg word count per article\n",
    "avg_word_count = round(eda_train['word_count'].mean(), 2)\n",
    "print(f'The average number of words per article is {avg_word_count}')"
   ]
  },
  {
   "cell_type": "code",
   "execution_count": 73,
   "metadata": {},
   "outputs": [
    {
     "data": {
      "text/plain": [
       "publication\n",
       "Axios                  232.3\n",
       "Business Insider       788.7\n",
       "Buzzfeed News          834.6\n",
       "CNBC                   466.0\n",
       "CNN                    685.1\n",
       "Economist              796.8\n",
       "Fox News               542.4\n",
       "Gizmodo                556.1\n",
       "Hyperallergic          825.9\n",
       "Mashable               444.5\n",
       "New Republic           822.3\n",
       "New Yorker            1812.9\n",
       "People                 431.1\n",
       "Politico               724.1\n",
       "Refinery 29            483.4\n",
       "Reuters                291.1\n",
       "TMZ                    160.1\n",
       "TechCrunch             558.4\n",
       "The Hill               560.0\n",
       "The New York Times     911.9\n",
       "The Verge              527.5\n",
       "Vice                   807.0\n",
       "Vice News              876.0\n",
       "Vox                   1147.6\n",
       "Washington Post        657.4\n",
       "Wired                  533.4\n",
       "Name: word_count, dtype: float64"
      ]
     },
     "execution_count": 73,
     "metadata": {},
     "output_type": "execute_result"
    }
   ],
   "source": [
    "# Avg number of words per article per publication\n",
    "eda_train.groupby('publication')['word_count'].mean().round(1)"
   ]
  },
  {
   "cell_type": "markdown",
   "metadata": {},
   "source": [
    "#### Remove stop words"
   ]
  },
  {
   "cell_type": "markdown",
   "metadata": {},
   "source": [
    "We will remove stop words, perform tokenization, and then identify some entities using Spacy's NER model."
   ]
  },
  {
   "cell_type": "code",
   "execution_count": 74,
   "metadata": {},
   "outputs": [],
   "source": [
    "# Use NLTK to remove stopwords\n",
    "\n",
    "import nltk\n",
    "from nltk.corpus import stopwords\n",
    "stop_words = stopwords.words('english')\n",
    "eda_train['clean_article'] =  eda_train['article'].astype(str).apply \\\n",
    "        (lambda x: ' '.join([word for word in x.split() if word not in (stop_words)]))"
   ]
  },
  {
   "cell_type": "code",
   "execution_count": 75,
   "metadata": {},
   "outputs": [
    {
     "name": "stdout",
     "output_type": "stream",
     "text": [
      "Maryland placed members football support staff paid administrative leave investigation continues death redshirt freshman Jordan McNair, university announced Friday. A Maryland spokesperson would name people placed leave. McNair, Maryland offensive lineman died collapsing spring workout, body temperature 106 degrees taken local hospital May, according report ESPN Friday. McNair, 19, also struggled stand straight running short sprints collapse, according report. While official cause death released, ESPN reported sources said death due heatstroke. The website foundation family started memory also says McNair died heatstroke. He collapsed May 29 outdoor workout died June 13. The university hired former collegiate athletic trainer, Dr. Rod Walters, investigate whether coaches team staff followed proper procedures became clear McNair struggling. It expected Walters’ report released mid-September. His family also hired legal team investigate death. ESPN talked multiple people described practice happened McNair, said experienced seizure 45 minutes practice — approximately 5 p.m. — transported hospital much later. Trainers evaluated McNair site called ambulance. McNair taken Cowley Shock Trauma Center Baltimore. “Our preliminary investigation reveals unexplained one-hour time period nothing significant done avoid complications heatstroke,” McNair family attorney Billy Murphy told ESPN . “Although evidence allegedly tried cool down, iced immediately. He presented hospital temperature 106, means cooled down. “We’re concerned unexplained one hour time seizure hyperventilating observed coach, happened remaining hour EMT people actually called. This points utter disregard health player, extraordinarily concerned coaches react appropriately injury.” Murphy added lawsuit “likely” filed. While Maryland officials declined interview request, issue statement disputing part report. The university statement said one affiliated seizure around 5 p.m. day. The ESPN story detailed complaints Terrapins program head coach DJ Durkin strength conditioning coach Rick Court. The complaints concerned described verbal abuse humiliation players two men. In statement, Maryland officials said allegations Durkin Court “troubling consistent approach coaching development” student-athletes. —Field Level Media\n"
     ]
    }
   ],
   "source": [
    "# Check a long article to see if the stopwords have been removed\n",
    "\n",
    "print(eda_train['clean_article'][1])"
   ]
  },
  {
   "cell_type": "markdown",
   "metadata": {},
   "source": [
    "Words such as \"the\", \"is\", \"of\", \"and\" etc. have been removed. We'll now create a tokenized list of each article, using the `clean_article` column we just created. Using Spacy NLP tokenizes the text by default, but we'll keep a raw list of tokens in case we want to use them for future analysis."
   ]
  },
  {
   "cell_type": "code",
   "execution_count": 76,
   "metadata": {},
   "outputs": [
    {
     "name": "stderr",
     "output_type": "stream",
     "text": [
      "[nltk_data] Downloading package punkt to\n",
      "[nltk_data]     /Users/curtispond/nltk_data...\n",
      "[nltk_data]   Package punkt is already up-to-date!\n"
     ]
    }
   ],
   "source": [
    "# Tokenize clean_article with NLTK\n",
    "from nltk.tokenize import word_tokenize\n",
    "nltk.download('punkt')\n",
    "\n",
    "eda_train['raw_tokens'] = eda_train['clean_article'].map(lambda x: nltk.word_tokenize(x))"
   ]
  },
  {
   "cell_type": "code",
   "execution_count": 77,
   "metadata": {},
   "outputs": [
    {
     "data": {
      "text/html": [
       "<div>\n",
       "<style scoped>\n",
       "    .dataframe tbody tr th:only-of-type {\n",
       "        vertical-align: middle;\n",
       "    }\n",
       "\n",
       "    .dataframe tbody tr th {\n",
       "        vertical-align: top;\n",
       "    }\n",
       "\n",
       "    .dataframe thead th {\n",
       "        text-align: right;\n",
       "    }\n",
       "</style>\n",
       "<table border=\"1\" class=\"dataframe\">\n",
       "  <thead>\n",
       "    <tr style=\"text-align: right;\">\n",
       "      <th></th>\n",
       "      <th>date</th>\n",
       "      <th>year</th>\n",
       "      <th>month</th>\n",
       "      <th>day</th>\n",
       "      <th>article</th>\n",
       "      <th>section</th>\n",
       "      <th>publication</th>\n",
       "      <th>word_count</th>\n",
       "      <th>char_count</th>\n",
       "      <th>sentence_count</th>\n",
       "      <th>avg_words_per_sentence</th>\n",
       "      <th>clean_article</th>\n",
       "      <th>raw_tokens</th>\n",
       "    </tr>\n",
       "  </thead>\n",
       "  <tbody>\n",
       "    <tr>\n",
       "      <th>0</th>\n",
       "      <td>2017-11-27 00:00:00</td>\n",
       "      <td>2017</td>\n",
       "      <td>Nov</td>\n",
       "      <td>27</td>\n",
       "      <td>Nov 27 (Reuters) - Scout24 Ag: * BLOCK TRADE -...</td>\n",
       "      <td>IT Services &amp; Consulting</td>\n",
       "      <td>Reuters</td>\n",
       "      <td>35</td>\n",
       "      <td>171</td>\n",
       "      <td>2</td>\n",
       "      <td>17.5</td>\n",
       "      <td>Nov 27 (Reuters) - Scout24 Ag: * BLOCK TRADE -...</td>\n",
       "      <td>[Nov, 27, (, Reuters, ), -, Scout24, Ag, :, *,...</td>\n",
       "    </tr>\n",
       "    <tr>\n",
       "      <th>1</th>\n",
       "      <td>2018-08-11 00:00:00</td>\n",
       "      <td>2018</td>\n",
       "      <td>Aug</td>\n",
       "      <td>11</td>\n",
       "      <td>Maryland has placed members of the football su...</td>\n",
       "      <td>Sports News</td>\n",
       "      <td>Reuters</td>\n",
       "      <td>498</td>\n",
       "      <td>2593</td>\n",
       "      <td>25</td>\n",
       "      <td>19.9</td>\n",
       "      <td>Maryland placed members football support staff...</td>\n",
       "      <td>[Maryland, placed, members, football, support,...</td>\n",
       "    </tr>\n",
       "    <tr>\n",
       "      <th>2</th>\n",
       "      <td>2019-04-11 00:00:00</td>\n",
       "      <td>2019</td>\n",
       "      <td>Apr</td>\n",
       "      <td>11</td>\n",
       "      <td>UBER SAYS CORE PLATFORM ADJUSTED NET REVENUE W...</td>\n",
       "      <td>Wires</td>\n",
       "      <td>CNBC</td>\n",
       "      <td>19</td>\n",
       "      <td>86</td>\n",
       "      <td>1</td>\n",
       "      <td>19.0</td>\n",
       "      <td>UBER SAYS CORE PLATFORM ADJUSTED NET REVENUE W...</td>\n",
       "      <td>[UBER, SAYS, CORE, PLATFORM, ADJUSTED, NET, RE...</td>\n",
       "    </tr>\n",
       "    <tr>\n",
       "      <th>3</th>\n",
       "      <td>2018-09-28 00:00:00</td>\n",
       "      <td>2018</td>\n",
       "      <td>Sep</td>\n",
       "      <td>28</td>\n",
       "      <td>NEW DELHI (Reuters) - India’s burgeoning shado...</td>\n",
       "      <td>Business News</td>\n",
       "      <td>Reuters</td>\n",
       "      <td>1014</td>\n",
       "      <td>5294</td>\n",
       "      <td>38</td>\n",
       "      <td>26.7</td>\n",
       "      <td>NEW DELHI (Reuters) - India’s burgeoning shado...</td>\n",
       "      <td>[NEW, DELHI, (, Reuters, ), -, India, ’, s, bu...</td>\n",
       "    </tr>\n",
       "    <tr>\n",
       "      <th>4</th>\n",
       "      <td>2017-02-06 00:00:00</td>\n",
       "      <td>2017</td>\n",
       "      <td>Feb</td>\n",
       "      <td>6</td>\n",
       "      <td>Feb 6 (Reuters) - China Child Care Corporation...</td>\n",
       "      <td>Chinese Labor Unrest</td>\n",
       "      <td>Reuters</td>\n",
       "      <td>53</td>\n",
       "      <td>300</td>\n",
       "      <td>5</td>\n",
       "      <td>10.6</td>\n",
       "      <td>Feb 6 (Reuters) - China Child Care Corporation...</td>\n",
       "      <td>[Feb, 6, (, Reuters, ), -, China, Child, Care,...</td>\n",
       "    </tr>\n",
       "  </tbody>\n",
       "</table>\n",
       "</div>"
      ],
      "text/plain": [
       "                  date  year month  day  \\\n",
       "0  2017-11-27 00:00:00  2017   Nov   27   \n",
       "1  2018-08-11 00:00:00  2018   Aug   11   \n",
       "2  2019-04-11 00:00:00  2019   Apr   11   \n",
       "3  2018-09-28 00:00:00  2018   Sep   28   \n",
       "4  2017-02-06 00:00:00  2017   Feb    6   \n",
       "\n",
       "                                             article  \\\n",
       "0  Nov 27 (Reuters) - Scout24 Ag: * BLOCK TRADE -...   \n",
       "1  Maryland has placed members of the football su...   \n",
       "2  UBER SAYS CORE PLATFORM ADJUSTED NET REVENUE W...   \n",
       "3  NEW DELHI (Reuters) - India’s burgeoning shado...   \n",
       "4  Feb 6 (Reuters) - China Child Care Corporation...   \n",
       "\n",
       "                    section publication  word_count  char_count  \\\n",
       "0  IT Services & Consulting     Reuters          35         171   \n",
       "1               Sports News     Reuters         498        2593   \n",
       "2                     Wires        CNBC          19          86   \n",
       "3             Business News     Reuters        1014        5294   \n",
       "4      Chinese Labor Unrest     Reuters          53         300   \n",
       "\n",
       "   sentence_count  avg_words_per_sentence  \\\n",
       "0               2                    17.5   \n",
       "1              25                    19.9   \n",
       "2               1                    19.0   \n",
       "3              38                    26.7   \n",
       "4               5                    10.6   \n",
       "\n",
       "                                       clean_article  \\\n",
       "0  Nov 27 (Reuters) - Scout24 Ag: * BLOCK TRADE -...   \n",
       "1  Maryland placed members football support staff...   \n",
       "2  UBER SAYS CORE PLATFORM ADJUSTED NET REVENUE W...   \n",
       "3  NEW DELHI (Reuters) - India’s burgeoning shado...   \n",
       "4  Feb 6 (Reuters) - China Child Care Corporation...   \n",
       "\n",
       "                                          raw_tokens  \n",
       "0  [Nov, 27, (, Reuters, ), -, Scout24, Ag, :, *,...  \n",
       "1  [Maryland, placed, members, football, support,...  \n",
       "2  [UBER, SAYS, CORE, PLATFORM, ADJUSTED, NET, RE...  \n",
       "3  [NEW, DELHI, (, Reuters, ), -, India, ’, s, bu...  \n",
       "4  [Feb, 6, (, Reuters, ), -, China, Child, Care,...  "
      ]
     },
     "execution_count": 77,
     "metadata": {},
     "output_type": "execute_result"
    }
   ],
   "source": [
    "eda_train.head()"
   ]
  },
  {
   "cell_type": "markdown",
   "metadata": {},
   "source": [
    "Now we'll use Spacy's NER API to identify entities in a few articles. Spacy has a list of entities it can identify in its documentation. "
   ]
  },
  {
   "cell_type": "code",
   "execution_count": 78,
   "metadata": {},
   "outputs": [
    {
     "name": "stdout",
     "output_type": "stream",
     "text": [
      "Maryland GPE\n",
      "Jordan McNair PERSON\n",
      "Friday DATE\n",
      "Maryland GPE\n",
      "McNair ORG\n",
      "Maryland GPE\n",
      "106 degrees QUANTITY\n",
      "May DATE\n",
      "ESPN ORG\n",
      "Friday DATE\n",
      "McNair ORG\n",
      "19 DATE\n",
      "ESPN ORG\n",
      "McNair PERSON\n",
      "May 29 DATE\n",
      "June 13 DATE\n",
      "Rod Walters PERSON\n",
      "McNair PERSON\n",
      "Walters ORG\n",
      "mid-September DATE\n",
      "ESPN ORG\n",
      "McNair ORG\n",
      "45 minutes TIME\n",
      "approximately 5 p.m. TIME\n",
      "McNair ORG\n",
      "McNair ORG\n",
      "one-hour TIME\n",
      "McNair PERSON\n",
      "Billy Murphy PERSON\n",
      "ESPN ORG\n",
      "106 CARDINAL\n",
      "one hour TIME\n",
      "EMT ORG\n",
      "Murphy PERSON\n",
      "Maryland GPE\n",
      "one CARDINAL\n",
      "around 5 p.m. day TIME\n",
      "ESPN ORG\n",
      "Terrapins ORG\n",
      "DJ Durkin PERSON\n",
      "Rick Court PERSON\n",
      "two CARDINAL\n",
      "Maryland GPE\n",
      "Durkin Court ORG\n"
     ]
    }
   ],
   "source": [
    "# Find NER in the first article using spacy\n",
    "\n",
    "text = eda_train['clean_article'][1]\n",
    "doc = nlp(text)\n",
    "for ent in doc.ents:\n",
    "    print(ent.text, ent.label_)"
   ]
  },
  {
   "cell_type": "markdown",
   "metadata": {},
   "source": [
    "Spacy has identified several entities in our example article, most of which are good quality. McNair comes back as a PERSON and an ORG. We can also visualize the entities in the article by using `displacy.`"
   ]
  },
  {
   "cell_type": "code",
   "execution_count": 88,
   "metadata": {},
   "outputs": [
    {
     "data": {
      "text/html": [
       "<span class=\"tex2jax_ignore\"><div class=\"entities\" style=\"line-height: 2.5; direction: ltr\">\n",
       "<mark class=\"entity\" style=\"background: #feca74; padding: 0.45em 0.6em; margin: 0 0.25em; line-height: 1; border-radius: 0.35em;\">\n",
       "    Maryland\n",
       "    <span style=\"font-size: 0.8em; font-weight: bold; line-height: 1; border-radius: 0.35em; vertical-align: middle; margin-left: 0.5rem\">GPE</span>\n",
       "</mark>\n",
       " placed members football support staff paid administrative leave investigation continues death redshirt freshman \n",
       "<mark class=\"entity\" style=\"background: #aa9cfc; padding: 0.45em 0.6em; margin: 0 0.25em; line-height: 1; border-radius: 0.35em;\">\n",
       "    Jordan McNair\n",
       "    <span style=\"font-size: 0.8em; font-weight: bold; line-height: 1; border-radius: 0.35em; vertical-align: middle; margin-left: 0.5rem\">PERSON</span>\n",
       "</mark>\n",
       ", university announced \n",
       "<mark class=\"entity\" style=\"background: #bfe1d9; padding: 0.45em 0.6em; margin: 0 0.25em; line-height: 1; border-radius: 0.35em;\">\n",
       "    Friday\n",
       "    <span style=\"font-size: 0.8em; font-weight: bold; line-height: 1; border-radius: 0.35em; vertical-align: middle; margin-left: 0.5rem\">DATE</span>\n",
       "</mark>\n",
       ". A \n",
       "<mark class=\"entity\" style=\"background: #feca74; padding: 0.45em 0.6em; margin: 0 0.25em; line-height: 1; border-radius: 0.35em;\">\n",
       "    Maryland\n",
       "    <span style=\"font-size: 0.8em; font-weight: bold; line-height: 1; border-radius: 0.35em; vertical-align: middle; margin-left: 0.5rem\">GPE</span>\n",
       "</mark>\n",
       " spokesperson would name people placed leave. \n",
       "<mark class=\"entity\" style=\"background: #7aecec; padding: 0.45em 0.6em; margin: 0 0.25em; line-height: 1; border-radius: 0.35em;\">\n",
       "    McNair\n",
       "    <span style=\"font-size: 0.8em; font-weight: bold; line-height: 1; border-radius: 0.35em; vertical-align: middle; margin-left: 0.5rem\">ORG</span>\n",
       "</mark>\n",
       ", \n",
       "<mark class=\"entity\" style=\"background: #feca74; padding: 0.45em 0.6em; margin: 0 0.25em; line-height: 1; border-radius: 0.35em;\">\n",
       "    Maryland\n",
       "    <span style=\"font-size: 0.8em; font-weight: bold; line-height: 1; border-radius: 0.35em; vertical-align: middle; margin-left: 0.5rem\">GPE</span>\n",
       "</mark>\n",
       " offensive lineman died collapsing spring workout, body temperature \n",
       "<mark class=\"entity\" style=\"background: #e4e7d2; padding: 0.45em 0.6em; margin: 0 0.25em; line-height: 1; border-radius: 0.35em;\">\n",
       "    106 degrees\n",
       "    <span style=\"font-size: 0.8em; font-weight: bold; line-height: 1; border-radius: 0.35em; vertical-align: middle; margin-left: 0.5rem\">QUANTITY</span>\n",
       "</mark>\n",
       " taken local hospital \n",
       "<mark class=\"entity\" style=\"background: #bfe1d9; padding: 0.45em 0.6em; margin: 0 0.25em; line-height: 1; border-radius: 0.35em;\">\n",
       "    May\n",
       "    <span style=\"font-size: 0.8em; font-weight: bold; line-height: 1; border-radius: 0.35em; vertical-align: middle; margin-left: 0.5rem\">DATE</span>\n",
       "</mark>\n",
       ", according report \n",
       "<mark class=\"entity\" style=\"background: #7aecec; padding: 0.45em 0.6em; margin: 0 0.25em; line-height: 1; border-radius: 0.35em;\">\n",
       "    ESPN\n",
       "    <span style=\"font-size: 0.8em; font-weight: bold; line-height: 1; border-radius: 0.35em; vertical-align: middle; margin-left: 0.5rem\">ORG</span>\n",
       "</mark>\n",
       " \n",
       "<mark class=\"entity\" style=\"background: #bfe1d9; padding: 0.45em 0.6em; margin: 0 0.25em; line-height: 1; border-radius: 0.35em;\">\n",
       "    Friday\n",
       "    <span style=\"font-size: 0.8em; font-weight: bold; line-height: 1; border-radius: 0.35em; vertical-align: middle; margin-left: 0.5rem\">DATE</span>\n",
       "</mark>\n",
       ". \n",
       "<mark class=\"entity\" style=\"background: #7aecec; padding: 0.45em 0.6em; margin: 0 0.25em; line-height: 1; border-radius: 0.35em;\">\n",
       "    McNair\n",
       "    <span style=\"font-size: 0.8em; font-weight: bold; line-height: 1; border-radius: 0.35em; vertical-align: middle; margin-left: 0.5rem\">ORG</span>\n",
       "</mark>\n",
       ", \n",
       "<mark class=\"entity\" style=\"background: #bfe1d9; padding: 0.45em 0.6em; margin: 0 0.25em; line-height: 1; border-radius: 0.35em;\">\n",
       "    19\n",
       "    <span style=\"font-size: 0.8em; font-weight: bold; line-height: 1; border-radius: 0.35em; vertical-align: middle; margin-left: 0.5rem\">DATE</span>\n",
       "</mark>\n",
       ", also struggled stand straight running short sprints collapse, according report. While official cause death released, \n",
       "<mark class=\"entity\" style=\"background: #7aecec; padding: 0.45em 0.6em; margin: 0 0.25em; line-height: 1; border-radius: 0.35em;\">\n",
       "    ESPN\n",
       "    <span style=\"font-size: 0.8em; font-weight: bold; line-height: 1; border-radius: 0.35em; vertical-align: middle; margin-left: 0.5rem\">ORG</span>\n",
       "</mark>\n",
       " reported sources said death due heatstroke. The website foundation family started memory also says \n",
       "<mark class=\"entity\" style=\"background: #aa9cfc; padding: 0.45em 0.6em; margin: 0 0.25em; line-height: 1; border-radius: 0.35em;\">\n",
       "    McNair\n",
       "    <span style=\"font-size: 0.8em; font-weight: bold; line-height: 1; border-radius: 0.35em; vertical-align: middle; margin-left: 0.5rem\">PERSON</span>\n",
       "</mark>\n",
       " died heatstroke. He collapsed \n",
       "<mark class=\"entity\" style=\"background: #bfe1d9; padding: 0.45em 0.6em; margin: 0 0.25em; line-height: 1; border-radius: 0.35em;\">\n",
       "    May 29\n",
       "    <span style=\"font-size: 0.8em; font-weight: bold; line-height: 1; border-radius: 0.35em; vertical-align: middle; margin-left: 0.5rem\">DATE</span>\n",
       "</mark>\n",
       " outdoor workout died \n",
       "<mark class=\"entity\" style=\"background: #bfe1d9; padding: 0.45em 0.6em; margin: 0 0.25em; line-height: 1; border-radius: 0.35em;\">\n",
       "    June 13\n",
       "    <span style=\"font-size: 0.8em; font-weight: bold; line-height: 1; border-radius: 0.35em; vertical-align: middle; margin-left: 0.5rem\">DATE</span>\n",
       "</mark>\n",
       ". The university hired former collegiate athletic trainer, Dr. \n",
       "<mark class=\"entity\" style=\"background: #aa9cfc; padding: 0.45em 0.6em; margin: 0 0.25em; line-height: 1; border-radius: 0.35em;\">\n",
       "    Rod Walters\n",
       "    <span style=\"font-size: 0.8em; font-weight: bold; line-height: 1; border-radius: 0.35em; vertical-align: middle; margin-left: 0.5rem\">PERSON</span>\n",
       "</mark>\n",
       ", investigate whether coaches team staff followed proper procedures became clear \n",
       "<mark class=\"entity\" style=\"background: #aa9cfc; padding: 0.45em 0.6em; margin: 0 0.25em; line-height: 1; border-radius: 0.35em;\">\n",
       "    McNair\n",
       "    <span style=\"font-size: 0.8em; font-weight: bold; line-height: 1; border-radius: 0.35em; vertical-align: middle; margin-left: 0.5rem\">PERSON</span>\n",
       "</mark>\n",
       " struggling. It expected \n",
       "<mark class=\"entity\" style=\"background: #7aecec; padding: 0.45em 0.6em; margin: 0 0.25em; line-height: 1; border-radius: 0.35em;\">\n",
       "    Walters\n",
       "    <span style=\"font-size: 0.8em; font-weight: bold; line-height: 1; border-radius: 0.35em; vertical-align: middle; margin-left: 0.5rem\">ORG</span>\n",
       "</mark>\n",
       "’ report released \n",
       "<mark class=\"entity\" style=\"background: #bfe1d9; padding: 0.45em 0.6em; margin: 0 0.25em; line-height: 1; border-radius: 0.35em;\">\n",
       "    mid-September\n",
       "    <span style=\"font-size: 0.8em; font-weight: bold; line-height: 1; border-radius: 0.35em; vertical-align: middle; margin-left: 0.5rem\">DATE</span>\n",
       "</mark>\n",
       ". His family also hired legal team investigate death. \n",
       "<mark class=\"entity\" style=\"background: #7aecec; padding: 0.45em 0.6em; margin: 0 0.25em; line-height: 1; border-radius: 0.35em;\">\n",
       "    ESPN\n",
       "    <span style=\"font-size: 0.8em; font-weight: bold; line-height: 1; border-radius: 0.35em; vertical-align: middle; margin-left: 0.5rem\">ORG</span>\n",
       "</mark>\n",
       " talked multiple people described practice happened \n",
       "<mark class=\"entity\" style=\"background: #7aecec; padding: 0.45em 0.6em; margin: 0 0.25em; line-height: 1; border-radius: 0.35em;\">\n",
       "    McNair\n",
       "    <span style=\"font-size: 0.8em; font-weight: bold; line-height: 1; border-radius: 0.35em; vertical-align: middle; margin-left: 0.5rem\">ORG</span>\n",
       "</mark>\n",
       ", said experienced seizure \n",
       "<mark class=\"entity\" style=\"background: #bfe1d9; padding: 0.45em 0.6em; margin: 0 0.25em; line-height: 1; border-radius: 0.35em;\">\n",
       "    45 minutes\n",
       "    <span style=\"font-size: 0.8em; font-weight: bold; line-height: 1; border-radius: 0.35em; vertical-align: middle; margin-left: 0.5rem\">TIME</span>\n",
       "</mark>\n",
       " practice — \n",
       "<mark class=\"entity\" style=\"background: #bfe1d9; padding: 0.45em 0.6em; margin: 0 0.25em; line-height: 1; border-radius: 0.35em;\">\n",
       "    approximately 5 p.m.\n",
       "    <span style=\"font-size: 0.8em; font-weight: bold; line-height: 1; border-radius: 0.35em; vertical-align: middle; margin-left: 0.5rem\">TIME</span>\n",
       "</mark>\n",
       " — transported hospital much later. Trainers evaluated \n",
       "<mark class=\"entity\" style=\"background: #7aecec; padding: 0.45em 0.6em; margin: 0 0.25em; line-height: 1; border-radius: 0.35em;\">\n",
       "    McNair\n",
       "    <span style=\"font-size: 0.8em; font-weight: bold; line-height: 1; border-radius: 0.35em; vertical-align: middle; margin-left: 0.5rem\">ORG</span>\n",
       "</mark>\n",
       " site called ambulance. \n",
       "<mark class=\"entity\" style=\"background: #7aecec; padding: 0.45em 0.6em; margin: 0 0.25em; line-height: 1; border-radius: 0.35em;\">\n",
       "    McNair\n",
       "    <span style=\"font-size: 0.8em; font-weight: bold; line-height: 1; border-radius: 0.35em; vertical-align: middle; margin-left: 0.5rem\">ORG</span>\n",
       "</mark>\n",
       " taken Cowley Shock Trauma Center Baltimore. “Our preliminary investigation reveals unexplained \n",
       "<mark class=\"entity\" style=\"background: #bfe1d9; padding: 0.45em 0.6em; margin: 0 0.25em; line-height: 1; border-radius: 0.35em;\">\n",
       "    one-hour\n",
       "    <span style=\"font-size: 0.8em; font-weight: bold; line-height: 1; border-radius: 0.35em; vertical-align: middle; margin-left: 0.5rem\">TIME</span>\n",
       "</mark>\n",
       " time period nothing significant done avoid complications heatstroke,” \n",
       "<mark class=\"entity\" style=\"background: #aa9cfc; padding: 0.45em 0.6em; margin: 0 0.25em; line-height: 1; border-radius: 0.35em;\">\n",
       "    McNair\n",
       "    <span style=\"font-size: 0.8em; font-weight: bold; line-height: 1; border-radius: 0.35em; vertical-align: middle; margin-left: 0.5rem\">PERSON</span>\n",
       "</mark>\n",
       " family attorney \n",
       "<mark class=\"entity\" style=\"background: #aa9cfc; padding: 0.45em 0.6em; margin: 0 0.25em; line-height: 1; border-radius: 0.35em;\">\n",
       "    Billy Murphy\n",
       "    <span style=\"font-size: 0.8em; font-weight: bold; line-height: 1; border-radius: 0.35em; vertical-align: middle; margin-left: 0.5rem\">PERSON</span>\n",
       "</mark>\n",
       " told \n",
       "<mark class=\"entity\" style=\"background: #7aecec; padding: 0.45em 0.6em; margin: 0 0.25em; line-height: 1; border-radius: 0.35em;\">\n",
       "    ESPN\n",
       "    <span style=\"font-size: 0.8em; font-weight: bold; line-height: 1; border-radius: 0.35em; vertical-align: middle; margin-left: 0.5rem\">ORG</span>\n",
       "</mark>\n",
       " . “Although evidence allegedly tried cool down, iced immediately. He presented hospital temperature \n",
       "<mark class=\"entity\" style=\"background: #e4e7d2; padding: 0.45em 0.6em; margin: 0 0.25em; line-height: 1; border-radius: 0.35em;\">\n",
       "    106\n",
       "    <span style=\"font-size: 0.8em; font-weight: bold; line-height: 1; border-radius: 0.35em; vertical-align: middle; margin-left: 0.5rem\">CARDINAL</span>\n",
       "</mark>\n",
       ", means cooled down. “We’re concerned unexplained \n",
       "<mark class=\"entity\" style=\"background: #bfe1d9; padding: 0.45em 0.6em; margin: 0 0.25em; line-height: 1; border-radius: 0.35em;\">\n",
       "    one hour\n",
       "    <span style=\"font-size: 0.8em; font-weight: bold; line-height: 1; border-radius: 0.35em; vertical-align: middle; margin-left: 0.5rem\">TIME</span>\n",
       "</mark>\n",
       " time seizure hyperventilating observed coach, happened remaining hour \n",
       "<mark class=\"entity\" style=\"background: #7aecec; padding: 0.45em 0.6em; margin: 0 0.25em; line-height: 1; border-radius: 0.35em;\">\n",
       "    EMT\n",
       "    <span style=\"font-size: 0.8em; font-weight: bold; line-height: 1; border-radius: 0.35em; vertical-align: middle; margin-left: 0.5rem\">ORG</span>\n",
       "</mark>\n",
       " people actually called. This points utter disregard health player, extraordinarily concerned coaches react appropriately injury.” \n",
       "<mark class=\"entity\" style=\"background: #aa9cfc; padding: 0.45em 0.6em; margin: 0 0.25em; line-height: 1; border-radius: 0.35em;\">\n",
       "    Murphy\n",
       "    <span style=\"font-size: 0.8em; font-weight: bold; line-height: 1; border-radius: 0.35em; vertical-align: middle; margin-left: 0.5rem\">PERSON</span>\n",
       "</mark>\n",
       " added lawsuit “likely” filed. While \n",
       "<mark class=\"entity\" style=\"background: #feca74; padding: 0.45em 0.6em; margin: 0 0.25em; line-height: 1; border-radius: 0.35em;\">\n",
       "    Maryland\n",
       "    <span style=\"font-size: 0.8em; font-weight: bold; line-height: 1; border-radius: 0.35em; vertical-align: middle; margin-left: 0.5rem\">GPE</span>\n",
       "</mark>\n",
       " officials declined interview request, issue statement disputing part report. The university statement said \n",
       "<mark class=\"entity\" style=\"background: #e4e7d2; padding: 0.45em 0.6em; margin: 0 0.25em; line-height: 1; border-radius: 0.35em;\">\n",
       "    one\n",
       "    <span style=\"font-size: 0.8em; font-weight: bold; line-height: 1; border-radius: 0.35em; vertical-align: middle; margin-left: 0.5rem\">CARDINAL</span>\n",
       "</mark>\n",
       " affiliated seizure \n",
       "<mark class=\"entity\" style=\"background: #bfe1d9; padding: 0.45em 0.6em; margin: 0 0.25em; line-height: 1; border-radius: 0.35em;\">\n",
       "    around 5 p.m. day\n",
       "    <span style=\"font-size: 0.8em; font-weight: bold; line-height: 1; border-radius: 0.35em; vertical-align: middle; margin-left: 0.5rem\">TIME</span>\n",
       "</mark>\n",
       ". The \n",
       "<mark class=\"entity\" style=\"background: #7aecec; padding: 0.45em 0.6em; margin: 0 0.25em; line-height: 1; border-radius: 0.35em;\">\n",
       "    ESPN\n",
       "    <span style=\"font-size: 0.8em; font-weight: bold; line-height: 1; border-radius: 0.35em; vertical-align: middle; margin-left: 0.5rem\">ORG</span>\n",
       "</mark>\n",
       " story detailed complaints \n",
       "<mark class=\"entity\" style=\"background: #7aecec; padding: 0.45em 0.6em; margin: 0 0.25em; line-height: 1; border-radius: 0.35em;\">\n",
       "    Terrapins\n",
       "    <span style=\"font-size: 0.8em; font-weight: bold; line-height: 1; border-radius: 0.35em; vertical-align: middle; margin-left: 0.5rem\">ORG</span>\n",
       "</mark>\n",
       " program head coach \n",
       "<mark class=\"entity\" style=\"background: #aa9cfc; padding: 0.45em 0.6em; margin: 0 0.25em; line-height: 1; border-radius: 0.35em;\">\n",
       "    DJ Durkin\n",
       "    <span style=\"font-size: 0.8em; font-weight: bold; line-height: 1; border-radius: 0.35em; vertical-align: middle; margin-left: 0.5rem\">PERSON</span>\n",
       "</mark>\n",
       " strength conditioning coach \n",
       "<mark class=\"entity\" style=\"background: #aa9cfc; padding: 0.45em 0.6em; margin: 0 0.25em; line-height: 1; border-radius: 0.35em;\">\n",
       "    Rick Court\n",
       "    <span style=\"font-size: 0.8em; font-weight: bold; line-height: 1; border-radius: 0.35em; vertical-align: middle; margin-left: 0.5rem\">PERSON</span>\n",
       "</mark>\n",
       ". The complaints concerned described verbal abuse humiliation players \n",
       "<mark class=\"entity\" style=\"background: #e4e7d2; padding: 0.45em 0.6em; margin: 0 0.25em; line-height: 1; border-radius: 0.35em;\">\n",
       "    two\n",
       "    <span style=\"font-size: 0.8em; font-weight: bold; line-height: 1; border-radius: 0.35em; vertical-align: middle; margin-left: 0.5rem\">CARDINAL</span>\n",
       "</mark>\n",
       " men. In statement, \n",
       "<mark class=\"entity\" style=\"background: #feca74; padding: 0.45em 0.6em; margin: 0 0.25em; line-height: 1; border-radius: 0.35em;\">\n",
       "    Maryland\n",
       "    <span style=\"font-size: 0.8em; font-weight: bold; line-height: 1; border-radius: 0.35em; vertical-align: middle; margin-left: 0.5rem\">GPE</span>\n",
       "</mark>\n",
       " officials said allegations \n",
       "<mark class=\"entity\" style=\"background: #7aecec; padding: 0.45em 0.6em; margin: 0 0.25em; line-height: 1; border-radius: 0.35em;\">\n",
       "    Durkin Court\n",
       "    <span style=\"font-size: 0.8em; font-weight: bold; line-height: 1; border-radius: 0.35em; vertical-align: middle; margin-left: 0.5rem\">ORG</span>\n",
       "</mark>\n",
       " “troubling consistent approach coaching development” student-athletes. —Field Level Media</div></span>"
      ],
      "text/plain": [
       "<IPython.core.display.HTML object>"
      ]
     },
     "metadata": {},
     "output_type": "display_data"
    }
   ],
   "source": [
    "# Use displacy to visualize entities in the first article\n",
    "\n",
    "from spacy import displacy\n",
    "displacy.render(doc, style='ent', jupyter=True)"
   ]
  },
  {
   "cell_type": "code",
   "execution_count": 84,
   "metadata": {},
   "outputs": [],
   "source": [
    "# Create a dataframe of 1000 articles to use for NER\n",
    "\n",
    "ner_train = eda_train.sample(n=1000, random_state=42)"
   ]
  },
  {
   "cell_type": "code",
   "execution_count": 85,
   "metadata": {},
   "outputs": [],
   "source": [
    "# Extract the named entities from each article and count the number of each entity\n",
    "\n",
    "ners = ['PERSON', 'NORP', 'FAC', 'ORG', 'GPE', 'LOC', 'PRODUCT', 'EVENT', 'WORK_OF_ART', 'LAW', 'LANGUAGE', 'DATE', 'TIME', 'PERCENT', 'MONEY', 'QUANTITY', 'ORDINAL', 'CARDINAL']\n",
    "\n",
    "ners_small = ['PERSON', 'ORG', 'GPE', 'LOC', 'PRODUCT', 'EVENT', 'DATE', 'TIME']\n",
    "\n",
    "ner_train['ner'] = ner_train['clean_article'].map(lambda desc: dict(Counter ([ent.label_ for ent in nlp(desc).ents])))\n",
    "\n",
    "for ner in ners:\n",
    "    ner_train[ner] = ner_train['ner'].map(lambda x: x.get(ner, 0))"
   ]
  },
  {
   "cell_type": "code",
   "execution_count": 90,
   "metadata": {},
   "outputs": [
    {
     "data": {
      "text/html": [
       "<div>\n",
       "<style scoped>\n",
       "    .dataframe tbody tr th:only-of-type {\n",
       "        vertical-align: middle;\n",
       "    }\n",
       "\n",
       "    .dataframe tbody tr th {\n",
       "        vertical-align: top;\n",
       "    }\n",
       "\n",
       "    .dataframe thead th {\n",
       "        text-align: right;\n",
       "    }\n",
       "</style>\n",
       "<table border=\"1\" class=\"dataframe\">\n",
       "  <thead>\n",
       "    <tr style=\"text-align: right;\">\n",
       "      <th></th>\n",
       "      <th>PERSON</th>\n",
       "      <th>NORP</th>\n",
       "      <th>FAC</th>\n",
       "      <th>ORG</th>\n",
       "      <th>GPE</th>\n",
       "      <th>LOC</th>\n",
       "      <th>PRODUCT</th>\n",
       "      <th>EVENT</th>\n",
       "      <th>WORK_OF_ART</th>\n",
       "      <th>LAW</th>\n",
       "      <th>LANGUAGE</th>\n",
       "      <th>DATE</th>\n",
       "      <th>TIME</th>\n",
       "      <th>PERCENT</th>\n",
       "      <th>MONEY</th>\n",
       "      <th>QUANTITY</th>\n",
       "      <th>ORDINAL</th>\n",
       "      <th>CARDINAL</th>\n",
       "    </tr>\n",
       "    <tr>\n",
       "      <th>publication</th>\n",
       "      <th></th>\n",
       "      <th></th>\n",
       "      <th></th>\n",
       "      <th></th>\n",
       "      <th></th>\n",
       "      <th></th>\n",
       "      <th></th>\n",
       "      <th></th>\n",
       "      <th></th>\n",
       "      <th></th>\n",
       "      <th></th>\n",
       "      <th></th>\n",
       "      <th></th>\n",
       "      <th></th>\n",
       "      <th></th>\n",
       "      <th></th>\n",
       "      <th></th>\n",
       "      <th></th>\n",
       "    </tr>\n",
       "  </thead>\n",
       "  <tbody>\n",
       "    <tr>\n",
       "      <th>Axios</th>\n",
       "      <td>52</td>\n",
       "      <td>19</td>\n",
       "      <td>0</td>\n",
       "      <td>145</td>\n",
       "      <td>51</td>\n",
       "      <td>7</td>\n",
       "      <td>13</td>\n",
       "      <td>3</td>\n",
       "      <td>3</td>\n",
       "      <td>1</td>\n",
       "      <td>0</td>\n",
       "      <td>82</td>\n",
       "      <td>9</td>\n",
       "      <td>15</td>\n",
       "      <td>12</td>\n",
       "      <td>9</td>\n",
       "      <td>7</td>\n",
       "      <td>26</td>\n",
       "    </tr>\n",
       "    <tr>\n",
       "      <th>Business Insider</th>\n",
       "      <td>184</td>\n",
       "      <td>52</td>\n",
       "      <td>7</td>\n",
       "      <td>358</td>\n",
       "      <td>177</td>\n",
       "      <td>13</td>\n",
       "      <td>23</td>\n",
       "      <td>4</td>\n",
       "      <td>20</td>\n",
       "      <td>0</td>\n",
       "      <td>0</td>\n",
       "      <td>184</td>\n",
       "      <td>18</td>\n",
       "      <td>7</td>\n",
       "      <td>81</td>\n",
       "      <td>16</td>\n",
       "      <td>43</td>\n",
       "      <td>124</td>\n",
       "    </tr>\n",
       "    <tr>\n",
       "      <th>Buzzfeed News</th>\n",
       "      <td>97</td>\n",
       "      <td>39</td>\n",
       "      <td>0</td>\n",
       "      <td>139</td>\n",
       "      <td>97</td>\n",
       "      <td>2</td>\n",
       "      <td>10</td>\n",
       "      <td>1</td>\n",
       "      <td>6</td>\n",
       "      <td>1</td>\n",
       "      <td>0</td>\n",
       "      <td>58</td>\n",
       "      <td>6</td>\n",
       "      <td>2</td>\n",
       "      <td>4</td>\n",
       "      <td>2</td>\n",
       "      <td>3</td>\n",
       "      <td>50</td>\n",
       "    </tr>\n",
       "    <tr>\n",
       "      <th>CNBC</th>\n",
       "      <td>610</td>\n",
       "      <td>172</td>\n",
       "      <td>4</td>\n",
       "      <td>1187</td>\n",
       "      <td>563</td>\n",
       "      <td>52</td>\n",
       "      <td>43</td>\n",
       "      <td>7</td>\n",
       "      <td>25</td>\n",
       "      <td>4</td>\n",
       "      <td>0</td>\n",
       "      <td>876</td>\n",
       "      <td>30</td>\n",
       "      <td>241</td>\n",
       "      <td>187</td>\n",
       "      <td>20</td>\n",
       "      <td>40</td>\n",
       "      <td>330</td>\n",
       "    </tr>\n",
       "    <tr>\n",
       "      <th>CNN</th>\n",
       "      <td>702</td>\n",
       "      <td>232</td>\n",
       "      <td>10</td>\n",
       "      <td>960</td>\n",
       "      <td>433</td>\n",
       "      <td>37</td>\n",
       "      <td>22</td>\n",
       "      <td>6</td>\n",
       "      <td>33</td>\n",
       "      <td>3</td>\n",
       "      <td>1</td>\n",
       "      <td>499</td>\n",
       "      <td>49</td>\n",
       "      <td>33</td>\n",
       "      <td>18</td>\n",
       "      <td>11</td>\n",
       "      <td>62</td>\n",
       "      <td>229</td>\n",
       "    </tr>\n",
       "    <tr>\n",
       "      <th>Economist</th>\n",
       "      <td>92</td>\n",
       "      <td>23</td>\n",
       "      <td>1</td>\n",
       "      <td>76</td>\n",
       "      <td>34</td>\n",
       "      <td>2</td>\n",
       "      <td>7</td>\n",
       "      <td>1</td>\n",
       "      <td>3</td>\n",
       "      <td>0</td>\n",
       "      <td>0</td>\n",
       "      <td>52</td>\n",
       "      <td>1</td>\n",
       "      <td>7</td>\n",
       "      <td>8</td>\n",
       "      <td>6</td>\n",
       "      <td>7</td>\n",
       "      <td>47</td>\n",
       "    </tr>\n",
       "    <tr>\n",
       "      <th>Fox News</th>\n",
       "      <td>56</td>\n",
       "      <td>16</td>\n",
       "      <td>1</td>\n",
       "      <td>52</td>\n",
       "      <td>53</td>\n",
       "      <td>6</td>\n",
       "      <td>1</td>\n",
       "      <td>0</td>\n",
       "      <td>3</td>\n",
       "      <td>0</td>\n",
       "      <td>0</td>\n",
       "      <td>45</td>\n",
       "      <td>2</td>\n",
       "      <td>0</td>\n",
       "      <td>2</td>\n",
       "      <td>2</td>\n",
       "      <td>8</td>\n",
       "      <td>22</td>\n",
       "    </tr>\n",
       "    <tr>\n",
       "      <th>Gizmodo</th>\n",
       "      <td>63</td>\n",
       "      <td>10</td>\n",
       "      <td>1</td>\n",
       "      <td>108</td>\n",
       "      <td>46</td>\n",
       "      <td>20</td>\n",
       "      <td>6</td>\n",
       "      <td>0</td>\n",
       "      <td>7</td>\n",
       "      <td>1</td>\n",
       "      <td>0</td>\n",
       "      <td>33</td>\n",
       "      <td>3</td>\n",
       "      <td>6</td>\n",
       "      <td>4</td>\n",
       "      <td>1</td>\n",
       "      <td>9</td>\n",
       "      <td>30</td>\n",
       "    </tr>\n",
       "    <tr>\n",
       "      <th>Hyperallergic</th>\n",
       "      <td>160</td>\n",
       "      <td>65</td>\n",
       "      <td>5</td>\n",
       "      <td>95</td>\n",
       "      <td>54</td>\n",
       "      <td>5</td>\n",
       "      <td>1</td>\n",
       "      <td>9</td>\n",
       "      <td>24</td>\n",
       "      <td>0</td>\n",
       "      <td>3</td>\n",
       "      <td>88</td>\n",
       "      <td>3</td>\n",
       "      <td>1</td>\n",
       "      <td>3</td>\n",
       "      <td>8</td>\n",
       "      <td>9</td>\n",
       "      <td>35</td>\n",
       "    </tr>\n",
       "    <tr>\n",
       "      <th>Mashable</th>\n",
       "      <td>365</td>\n",
       "      <td>20</td>\n",
       "      <td>9</td>\n",
       "      <td>537</td>\n",
       "      <td>104</td>\n",
       "      <td>10</td>\n",
       "      <td>58</td>\n",
       "      <td>10</td>\n",
       "      <td>38</td>\n",
       "      <td>2</td>\n",
       "      <td>2</td>\n",
       "      <td>150</td>\n",
       "      <td>32</td>\n",
       "      <td>25</td>\n",
       "      <td>262</td>\n",
       "      <td>75</td>\n",
       "      <td>34</td>\n",
       "      <td>196</td>\n",
       "    </tr>\n",
       "    <tr>\n",
       "      <th>New Republic</th>\n",
       "      <td>94</td>\n",
       "      <td>5</td>\n",
       "      <td>0</td>\n",
       "      <td>26</td>\n",
       "      <td>11</td>\n",
       "      <td>0</td>\n",
       "      <td>1</td>\n",
       "      <td>2</td>\n",
       "      <td>8</td>\n",
       "      <td>0</td>\n",
       "      <td>1</td>\n",
       "      <td>57</td>\n",
       "      <td>2</td>\n",
       "      <td>0</td>\n",
       "      <td>0</td>\n",
       "      <td>1</td>\n",
       "      <td>8</td>\n",
       "      <td>21</td>\n",
       "    </tr>\n",
       "    <tr>\n",
       "      <th>People</th>\n",
       "      <td>630</td>\n",
       "      <td>20</td>\n",
       "      <td>3</td>\n",
       "      <td>292</td>\n",
       "      <td>90</td>\n",
       "      <td>10</td>\n",
       "      <td>16</td>\n",
       "      <td>4</td>\n",
       "      <td>39</td>\n",
       "      <td>3</td>\n",
       "      <td>0</td>\n",
       "      <td>365</td>\n",
       "      <td>38</td>\n",
       "      <td>13</td>\n",
       "      <td>16</td>\n",
       "      <td>15</td>\n",
       "      <td>44</td>\n",
       "      <td>160</td>\n",
       "    </tr>\n",
       "    <tr>\n",
       "      <th>Politico</th>\n",
       "      <td>235</td>\n",
       "      <td>85</td>\n",
       "      <td>0</td>\n",
       "      <td>271</td>\n",
       "      <td>173</td>\n",
       "      <td>19</td>\n",
       "      <td>4</td>\n",
       "      <td>3</td>\n",
       "      <td>8</td>\n",
       "      <td>1</td>\n",
       "      <td>0</td>\n",
       "      <td>156</td>\n",
       "      <td>6</td>\n",
       "      <td>2</td>\n",
       "      <td>5</td>\n",
       "      <td>2</td>\n",
       "      <td>21</td>\n",
       "      <td>57</td>\n",
       "    </tr>\n",
       "    <tr>\n",
       "      <th>Refinery 29</th>\n",
       "      <td>299</td>\n",
       "      <td>37</td>\n",
       "      <td>6</td>\n",
       "      <td>242</td>\n",
       "      <td>98</td>\n",
       "      <td>10</td>\n",
       "      <td>12</td>\n",
       "      <td>8</td>\n",
       "      <td>22</td>\n",
       "      <td>1</td>\n",
       "      <td>1</td>\n",
       "      <td>214</td>\n",
       "      <td>71</td>\n",
       "      <td>15</td>\n",
       "      <td>53</td>\n",
       "      <td>8</td>\n",
       "      <td>44</td>\n",
       "      <td>105</td>\n",
       "    </tr>\n",
       "    <tr>\n",
       "      <th>Reuters</th>\n",
       "      <td>1679</td>\n",
       "      <td>597</td>\n",
       "      <td>34</td>\n",
       "      <td>2452</td>\n",
       "      <td>1700</td>\n",
       "      <td>136</td>\n",
       "      <td>37</td>\n",
       "      <td>24</td>\n",
       "      <td>24</td>\n",
       "      <td>11</td>\n",
       "      <td>0</td>\n",
       "      <td>2041</td>\n",
       "      <td>92</td>\n",
       "      <td>485</td>\n",
       "      <td>446</td>\n",
       "      <td>113</td>\n",
       "      <td>210</td>\n",
       "      <td>1165</td>\n",
       "    </tr>\n",
       "    <tr>\n",
       "      <th>TMZ</th>\n",
       "      <td>92</td>\n",
       "      <td>4</td>\n",
       "      <td>2</td>\n",
       "      <td>75</td>\n",
       "      <td>26</td>\n",
       "      <td>0</td>\n",
       "      <td>3</td>\n",
       "      <td>2</td>\n",
       "      <td>5</td>\n",
       "      <td>0</td>\n",
       "      <td>1</td>\n",
       "      <td>46</td>\n",
       "      <td>8</td>\n",
       "      <td>1</td>\n",
       "      <td>9</td>\n",
       "      <td>3</td>\n",
       "      <td>3</td>\n",
       "      <td>33</td>\n",
       "    </tr>\n",
       "    <tr>\n",
       "      <th>TechCrunch</th>\n",
       "      <td>178</td>\n",
       "      <td>24</td>\n",
       "      <td>2</td>\n",
       "      <td>307</td>\n",
       "      <td>94</td>\n",
       "      <td>11</td>\n",
       "      <td>17</td>\n",
       "      <td>1</td>\n",
       "      <td>4</td>\n",
       "      <td>0</td>\n",
       "      <td>0</td>\n",
       "      <td>112</td>\n",
       "      <td>9</td>\n",
       "      <td>29</td>\n",
       "      <td>66</td>\n",
       "      <td>5</td>\n",
       "      <td>23</td>\n",
       "      <td>84</td>\n",
       "    </tr>\n",
       "    <tr>\n",
       "      <th>The Hill</th>\n",
       "      <td>1088</td>\n",
       "      <td>561</td>\n",
       "      <td>90</td>\n",
       "      <td>1556</td>\n",
       "      <td>810</td>\n",
       "      <td>38</td>\n",
       "      <td>29</td>\n",
       "      <td>20</td>\n",
       "      <td>41</td>\n",
       "      <td>14</td>\n",
       "      <td>0</td>\n",
       "      <td>735</td>\n",
       "      <td>34</td>\n",
       "      <td>95</td>\n",
       "      <td>79</td>\n",
       "      <td>4</td>\n",
       "      <td>52</td>\n",
       "      <td>487</td>\n",
       "    </tr>\n",
       "    <tr>\n",
       "      <th>The New York Times</th>\n",
       "      <td>2263</td>\n",
       "      <td>667</td>\n",
       "      <td>49</td>\n",
       "      <td>1417</td>\n",
       "      <td>1229</td>\n",
       "      <td>95</td>\n",
       "      <td>44</td>\n",
       "      <td>48</td>\n",
       "      <td>131</td>\n",
       "      <td>11</td>\n",
       "      <td>6</td>\n",
       "      <td>1331</td>\n",
       "      <td>153</td>\n",
       "      <td>95</td>\n",
       "      <td>106</td>\n",
       "      <td>48</td>\n",
       "      <td>162</td>\n",
       "      <td>827</td>\n",
       "    </tr>\n",
       "    <tr>\n",
       "      <th>The Verge</th>\n",
       "      <td>190</td>\n",
       "      <td>13</td>\n",
       "      <td>7</td>\n",
       "      <td>315</td>\n",
       "      <td>76</td>\n",
       "      <td>9</td>\n",
       "      <td>38</td>\n",
       "      <td>1</td>\n",
       "      <td>7</td>\n",
       "      <td>0</td>\n",
       "      <td>0</td>\n",
       "      <td>134</td>\n",
       "      <td>9</td>\n",
       "      <td>0</td>\n",
       "      <td>14</td>\n",
       "      <td>9</td>\n",
       "      <td>29</td>\n",
       "      <td>78</td>\n",
       "    </tr>\n",
       "    <tr>\n",
       "      <th>Vice</th>\n",
       "      <td>357</td>\n",
       "      <td>94</td>\n",
       "      <td>5</td>\n",
       "      <td>405</td>\n",
       "      <td>200</td>\n",
       "      <td>14</td>\n",
       "      <td>11</td>\n",
       "      <td>11</td>\n",
       "      <td>18</td>\n",
       "      <td>1</td>\n",
       "      <td>3</td>\n",
       "      <td>269</td>\n",
       "      <td>41</td>\n",
       "      <td>12</td>\n",
       "      <td>23</td>\n",
       "      <td>3</td>\n",
       "      <td>60</td>\n",
       "      <td>206</td>\n",
       "    </tr>\n",
       "    <tr>\n",
       "      <th>Vice News</th>\n",
       "      <td>74</td>\n",
       "      <td>28</td>\n",
       "      <td>3</td>\n",
       "      <td>115</td>\n",
       "      <td>109</td>\n",
       "      <td>3</td>\n",
       "      <td>3</td>\n",
       "      <td>2</td>\n",
       "      <td>2</td>\n",
       "      <td>0</td>\n",
       "      <td>2</td>\n",
       "      <td>73</td>\n",
       "      <td>11</td>\n",
       "      <td>1</td>\n",
       "      <td>0</td>\n",
       "      <td>3</td>\n",
       "      <td>4</td>\n",
       "      <td>16</td>\n",
       "    </tr>\n",
       "    <tr>\n",
       "      <th>Vox</th>\n",
       "      <td>305</td>\n",
       "      <td>194</td>\n",
       "      <td>11</td>\n",
       "      <td>494</td>\n",
       "      <td>193</td>\n",
       "      <td>20</td>\n",
       "      <td>21</td>\n",
       "      <td>9</td>\n",
       "      <td>15</td>\n",
       "      <td>3</td>\n",
       "      <td>1</td>\n",
       "      <td>343</td>\n",
       "      <td>34</td>\n",
       "      <td>30</td>\n",
       "      <td>38</td>\n",
       "      <td>6</td>\n",
       "      <td>38</td>\n",
       "      <td>186</td>\n",
       "    </tr>\n",
       "    <tr>\n",
       "      <th>Washington Post</th>\n",
       "      <td>1</td>\n",
       "      <td>0</td>\n",
       "      <td>0</td>\n",
       "      <td>6</td>\n",
       "      <td>1</td>\n",
       "      <td>0</td>\n",
       "      <td>0</td>\n",
       "      <td>0</td>\n",
       "      <td>0</td>\n",
       "      <td>0</td>\n",
       "      <td>0</td>\n",
       "      <td>0</td>\n",
       "      <td>0</td>\n",
       "      <td>0</td>\n",
       "      <td>1</td>\n",
       "      <td>0</td>\n",
       "      <td>0</td>\n",
       "      <td>4</td>\n",
       "    </tr>\n",
       "    <tr>\n",
       "      <th>Wired</th>\n",
       "      <td>29</td>\n",
       "      <td>2</td>\n",
       "      <td>0</td>\n",
       "      <td>40</td>\n",
       "      <td>17</td>\n",
       "      <td>2</td>\n",
       "      <td>7</td>\n",
       "      <td>0</td>\n",
       "      <td>1</td>\n",
       "      <td>0</td>\n",
       "      <td>0</td>\n",
       "      <td>19</td>\n",
       "      <td>0</td>\n",
       "      <td>2</td>\n",
       "      <td>3</td>\n",
       "      <td>8</td>\n",
       "      <td>1</td>\n",
       "      <td>21</td>\n",
       "    </tr>\n",
       "  </tbody>\n",
       "</table>\n",
       "</div>"
      ],
      "text/plain": [
       "                    PERSON  NORP  FAC   ORG   GPE  LOC  PRODUCT  EVENT  \\\n",
       "publication                                                              \n",
       "Axios                   52    19    0   145    51    7       13      3   \n",
       "Business Insider       184    52    7   358   177   13       23      4   \n",
       "Buzzfeed News           97    39    0   139    97    2       10      1   \n",
       "CNBC                   610   172    4  1187   563   52       43      7   \n",
       "CNN                    702   232   10   960   433   37       22      6   \n",
       "Economist               92    23    1    76    34    2        7      1   \n",
       "Fox News                56    16    1    52    53    6        1      0   \n",
       "Gizmodo                 63    10    1   108    46   20        6      0   \n",
       "Hyperallergic          160    65    5    95    54    5        1      9   \n",
       "Mashable               365    20    9   537   104   10       58     10   \n",
       "New Republic            94     5    0    26    11    0        1      2   \n",
       "People                 630    20    3   292    90   10       16      4   \n",
       "Politico               235    85    0   271   173   19        4      3   \n",
       "Refinery 29            299    37    6   242    98   10       12      8   \n",
       "Reuters               1679   597   34  2452  1700  136       37     24   \n",
       "TMZ                     92     4    2    75    26    0        3      2   \n",
       "TechCrunch             178    24    2   307    94   11       17      1   \n",
       "The Hill              1088   561   90  1556   810   38       29     20   \n",
       "The New York Times    2263   667   49  1417  1229   95       44     48   \n",
       "The Verge              190    13    7   315    76    9       38      1   \n",
       "Vice                   357    94    5   405   200   14       11     11   \n",
       "Vice News               74    28    3   115   109    3        3      2   \n",
       "Vox                    305   194   11   494   193   20       21      9   \n",
       "Washington Post          1     0    0     6     1    0        0      0   \n",
       "Wired                   29     2    0    40    17    2        7      0   \n",
       "\n",
       "                    WORK_OF_ART  LAW  LANGUAGE  DATE  TIME  PERCENT  MONEY  \\\n",
       "publication                                                                  \n",
       "Axios                         3    1         0    82     9       15     12   \n",
       "Business Insider             20    0         0   184    18        7     81   \n",
       "Buzzfeed News                 6    1         0    58     6        2      4   \n",
       "CNBC                         25    4         0   876    30      241    187   \n",
       "CNN                          33    3         1   499    49       33     18   \n",
       "Economist                     3    0         0    52     1        7      8   \n",
       "Fox News                      3    0         0    45     2        0      2   \n",
       "Gizmodo                       7    1         0    33     3        6      4   \n",
       "Hyperallergic                24    0         3    88     3        1      3   \n",
       "Mashable                     38    2         2   150    32       25    262   \n",
       "New Republic                  8    0         1    57     2        0      0   \n",
       "People                       39    3         0   365    38       13     16   \n",
       "Politico                      8    1         0   156     6        2      5   \n",
       "Refinery 29                  22    1         1   214    71       15     53   \n",
       "Reuters                      24   11         0  2041    92      485    446   \n",
       "TMZ                           5    0         1    46     8        1      9   \n",
       "TechCrunch                    4    0         0   112     9       29     66   \n",
       "The Hill                     41   14         0   735    34       95     79   \n",
       "The New York Times          131   11         6  1331   153       95    106   \n",
       "The Verge                     7    0         0   134     9        0     14   \n",
       "Vice                         18    1         3   269    41       12     23   \n",
       "Vice News                     2    0         2    73    11        1      0   \n",
       "Vox                          15    3         1   343    34       30     38   \n",
       "Washington Post               0    0         0     0     0        0      1   \n",
       "Wired                         1    0         0    19     0        2      3   \n",
       "\n",
       "                    QUANTITY  ORDINAL  CARDINAL  \n",
       "publication                                      \n",
       "Axios                      9        7        26  \n",
       "Business Insider          16       43       124  \n",
       "Buzzfeed News              2        3        50  \n",
       "CNBC                      20       40       330  \n",
       "CNN                       11       62       229  \n",
       "Economist                  6        7        47  \n",
       "Fox News                   2        8        22  \n",
       "Gizmodo                    1        9        30  \n",
       "Hyperallergic              8        9        35  \n",
       "Mashable                  75       34       196  \n",
       "New Republic               1        8        21  \n",
       "People                    15       44       160  \n",
       "Politico                   2       21        57  \n",
       "Refinery 29                8       44       105  \n",
       "Reuters                  113      210      1165  \n",
       "TMZ                        3        3        33  \n",
       "TechCrunch                 5       23        84  \n",
       "The Hill                   4       52       487  \n",
       "The New York Times        48      162       827  \n",
       "The Verge                  9       29        78  \n",
       "Vice                       3       60       206  \n",
       "Vice News                  3        4        16  \n",
       "Vox                        6       38       186  \n",
       "Washington Post            0        0         4  \n",
       "Wired                      8        1        21  "
      ]
     },
     "execution_count": 90,
     "metadata": {},
     "output_type": "execute_result"
    }
   ],
   "source": [
    "# Group the named entities by publication\n",
    "\n",
    "ner_train.groupby('publication')[ners].sum()"
   ]
  },
  {
   "cell_type": "code",
   "execution_count": 91,
   "metadata": {},
   "outputs": [
    {
     "data": {
      "text/html": [
       "<div>\n",
       "<style scoped>\n",
       "    .dataframe tbody tr th:only-of-type {\n",
       "        vertical-align: middle;\n",
       "    }\n",
       "\n",
       "    .dataframe tbody tr th {\n",
       "        vertical-align: top;\n",
       "    }\n",
       "\n",
       "    .dataframe thead th {\n",
       "        text-align: right;\n",
       "    }\n",
       "</style>\n",
       "<table border=\"1\" class=\"dataframe\">\n",
       "  <thead>\n",
       "    <tr style=\"text-align: right;\">\n",
       "      <th></th>\n",
       "      <th>PERSON</th>\n",
       "      <th>ORG</th>\n",
       "      <th>GPE</th>\n",
       "      <th>LOC</th>\n",
       "      <th>PRODUCT</th>\n",
       "      <th>EVENT</th>\n",
       "      <th>DATE</th>\n",
       "      <th>TIME</th>\n",
       "    </tr>\n",
       "    <tr>\n",
       "      <th>publication</th>\n",
       "      <th></th>\n",
       "      <th></th>\n",
       "      <th></th>\n",
       "      <th></th>\n",
       "      <th></th>\n",
       "      <th></th>\n",
       "      <th></th>\n",
       "      <th></th>\n",
       "    </tr>\n",
       "  </thead>\n",
       "  <tbody>\n",
       "    <tr>\n",
       "      <th>Axios</th>\n",
       "      <td>52</td>\n",
       "      <td>145</td>\n",
       "      <td>51</td>\n",
       "      <td>7</td>\n",
       "      <td>13</td>\n",
       "      <td>3</td>\n",
       "      <td>82</td>\n",
       "      <td>9</td>\n",
       "    </tr>\n",
       "    <tr>\n",
       "      <th>Business Insider</th>\n",
       "      <td>184</td>\n",
       "      <td>358</td>\n",
       "      <td>177</td>\n",
       "      <td>13</td>\n",
       "      <td>23</td>\n",
       "      <td>4</td>\n",
       "      <td>184</td>\n",
       "      <td>18</td>\n",
       "    </tr>\n",
       "    <tr>\n",
       "      <th>Buzzfeed News</th>\n",
       "      <td>97</td>\n",
       "      <td>139</td>\n",
       "      <td>97</td>\n",
       "      <td>2</td>\n",
       "      <td>10</td>\n",
       "      <td>1</td>\n",
       "      <td>58</td>\n",
       "      <td>6</td>\n",
       "    </tr>\n",
       "    <tr>\n",
       "      <th>CNBC</th>\n",
       "      <td>610</td>\n",
       "      <td>1187</td>\n",
       "      <td>563</td>\n",
       "      <td>52</td>\n",
       "      <td>43</td>\n",
       "      <td>7</td>\n",
       "      <td>876</td>\n",
       "      <td>30</td>\n",
       "    </tr>\n",
       "    <tr>\n",
       "      <th>CNN</th>\n",
       "      <td>702</td>\n",
       "      <td>960</td>\n",
       "      <td>433</td>\n",
       "      <td>37</td>\n",
       "      <td>22</td>\n",
       "      <td>6</td>\n",
       "      <td>499</td>\n",
       "      <td>49</td>\n",
       "    </tr>\n",
       "    <tr>\n",
       "      <th>Economist</th>\n",
       "      <td>92</td>\n",
       "      <td>76</td>\n",
       "      <td>34</td>\n",
       "      <td>2</td>\n",
       "      <td>7</td>\n",
       "      <td>1</td>\n",
       "      <td>52</td>\n",
       "      <td>1</td>\n",
       "    </tr>\n",
       "    <tr>\n",
       "      <th>Fox News</th>\n",
       "      <td>56</td>\n",
       "      <td>52</td>\n",
       "      <td>53</td>\n",
       "      <td>6</td>\n",
       "      <td>1</td>\n",
       "      <td>0</td>\n",
       "      <td>45</td>\n",
       "      <td>2</td>\n",
       "    </tr>\n",
       "    <tr>\n",
       "      <th>Gizmodo</th>\n",
       "      <td>63</td>\n",
       "      <td>108</td>\n",
       "      <td>46</td>\n",
       "      <td>20</td>\n",
       "      <td>6</td>\n",
       "      <td>0</td>\n",
       "      <td>33</td>\n",
       "      <td>3</td>\n",
       "    </tr>\n",
       "    <tr>\n",
       "      <th>Hyperallergic</th>\n",
       "      <td>160</td>\n",
       "      <td>95</td>\n",
       "      <td>54</td>\n",
       "      <td>5</td>\n",
       "      <td>1</td>\n",
       "      <td>9</td>\n",
       "      <td>88</td>\n",
       "      <td>3</td>\n",
       "    </tr>\n",
       "    <tr>\n",
       "      <th>Mashable</th>\n",
       "      <td>365</td>\n",
       "      <td>537</td>\n",
       "      <td>104</td>\n",
       "      <td>10</td>\n",
       "      <td>58</td>\n",
       "      <td>10</td>\n",
       "      <td>150</td>\n",
       "      <td>32</td>\n",
       "    </tr>\n",
       "    <tr>\n",
       "      <th>New Republic</th>\n",
       "      <td>94</td>\n",
       "      <td>26</td>\n",
       "      <td>11</td>\n",
       "      <td>0</td>\n",
       "      <td>1</td>\n",
       "      <td>2</td>\n",
       "      <td>57</td>\n",
       "      <td>2</td>\n",
       "    </tr>\n",
       "    <tr>\n",
       "      <th>People</th>\n",
       "      <td>630</td>\n",
       "      <td>292</td>\n",
       "      <td>90</td>\n",
       "      <td>10</td>\n",
       "      <td>16</td>\n",
       "      <td>4</td>\n",
       "      <td>365</td>\n",
       "      <td>38</td>\n",
       "    </tr>\n",
       "    <tr>\n",
       "      <th>Politico</th>\n",
       "      <td>235</td>\n",
       "      <td>271</td>\n",
       "      <td>173</td>\n",
       "      <td>19</td>\n",
       "      <td>4</td>\n",
       "      <td>3</td>\n",
       "      <td>156</td>\n",
       "      <td>6</td>\n",
       "    </tr>\n",
       "    <tr>\n",
       "      <th>Refinery 29</th>\n",
       "      <td>299</td>\n",
       "      <td>242</td>\n",
       "      <td>98</td>\n",
       "      <td>10</td>\n",
       "      <td>12</td>\n",
       "      <td>8</td>\n",
       "      <td>214</td>\n",
       "      <td>71</td>\n",
       "    </tr>\n",
       "    <tr>\n",
       "      <th>Reuters</th>\n",
       "      <td>1679</td>\n",
       "      <td>2452</td>\n",
       "      <td>1700</td>\n",
       "      <td>136</td>\n",
       "      <td>37</td>\n",
       "      <td>24</td>\n",
       "      <td>2041</td>\n",
       "      <td>92</td>\n",
       "    </tr>\n",
       "    <tr>\n",
       "      <th>TMZ</th>\n",
       "      <td>92</td>\n",
       "      <td>75</td>\n",
       "      <td>26</td>\n",
       "      <td>0</td>\n",
       "      <td>3</td>\n",
       "      <td>2</td>\n",
       "      <td>46</td>\n",
       "      <td>8</td>\n",
       "    </tr>\n",
       "    <tr>\n",
       "      <th>TechCrunch</th>\n",
       "      <td>178</td>\n",
       "      <td>307</td>\n",
       "      <td>94</td>\n",
       "      <td>11</td>\n",
       "      <td>17</td>\n",
       "      <td>1</td>\n",
       "      <td>112</td>\n",
       "      <td>9</td>\n",
       "    </tr>\n",
       "    <tr>\n",
       "      <th>The Hill</th>\n",
       "      <td>1088</td>\n",
       "      <td>1556</td>\n",
       "      <td>810</td>\n",
       "      <td>38</td>\n",
       "      <td>29</td>\n",
       "      <td>20</td>\n",
       "      <td>735</td>\n",
       "      <td>34</td>\n",
       "    </tr>\n",
       "    <tr>\n",
       "      <th>The New York Times</th>\n",
       "      <td>2263</td>\n",
       "      <td>1417</td>\n",
       "      <td>1229</td>\n",
       "      <td>95</td>\n",
       "      <td>44</td>\n",
       "      <td>48</td>\n",
       "      <td>1331</td>\n",
       "      <td>153</td>\n",
       "    </tr>\n",
       "    <tr>\n",
       "      <th>The Verge</th>\n",
       "      <td>190</td>\n",
       "      <td>315</td>\n",
       "      <td>76</td>\n",
       "      <td>9</td>\n",
       "      <td>38</td>\n",
       "      <td>1</td>\n",
       "      <td>134</td>\n",
       "      <td>9</td>\n",
       "    </tr>\n",
       "    <tr>\n",
       "      <th>Vice</th>\n",
       "      <td>357</td>\n",
       "      <td>405</td>\n",
       "      <td>200</td>\n",
       "      <td>14</td>\n",
       "      <td>11</td>\n",
       "      <td>11</td>\n",
       "      <td>269</td>\n",
       "      <td>41</td>\n",
       "    </tr>\n",
       "    <tr>\n",
       "      <th>Vice News</th>\n",
       "      <td>74</td>\n",
       "      <td>115</td>\n",
       "      <td>109</td>\n",
       "      <td>3</td>\n",
       "      <td>3</td>\n",
       "      <td>2</td>\n",
       "      <td>73</td>\n",
       "      <td>11</td>\n",
       "    </tr>\n",
       "    <tr>\n",
       "      <th>Vox</th>\n",
       "      <td>305</td>\n",
       "      <td>494</td>\n",
       "      <td>193</td>\n",
       "      <td>20</td>\n",
       "      <td>21</td>\n",
       "      <td>9</td>\n",
       "      <td>343</td>\n",
       "      <td>34</td>\n",
       "    </tr>\n",
       "    <tr>\n",
       "      <th>Washington Post</th>\n",
       "      <td>1</td>\n",
       "      <td>6</td>\n",
       "      <td>1</td>\n",
       "      <td>0</td>\n",
       "      <td>0</td>\n",
       "      <td>0</td>\n",
       "      <td>0</td>\n",
       "      <td>0</td>\n",
       "    </tr>\n",
       "    <tr>\n",
       "      <th>Wired</th>\n",
       "      <td>29</td>\n",
       "      <td>40</td>\n",
       "      <td>17</td>\n",
       "      <td>2</td>\n",
       "      <td>7</td>\n",
       "      <td>0</td>\n",
       "      <td>19</td>\n",
       "      <td>0</td>\n",
       "    </tr>\n",
       "  </tbody>\n",
       "</table>\n",
       "</div>"
      ],
      "text/plain": [
       "                    PERSON   ORG   GPE  LOC  PRODUCT  EVENT  DATE  TIME\n",
       "publication                                                            \n",
       "Axios                   52   145    51    7       13      3    82     9\n",
       "Business Insider       184   358   177   13       23      4   184    18\n",
       "Buzzfeed News           97   139    97    2       10      1    58     6\n",
       "CNBC                   610  1187   563   52       43      7   876    30\n",
       "CNN                    702   960   433   37       22      6   499    49\n",
       "Economist               92    76    34    2        7      1    52     1\n",
       "Fox News                56    52    53    6        1      0    45     2\n",
       "Gizmodo                 63   108    46   20        6      0    33     3\n",
       "Hyperallergic          160    95    54    5        1      9    88     3\n",
       "Mashable               365   537   104   10       58     10   150    32\n",
       "New Republic            94    26    11    0        1      2    57     2\n",
       "People                 630   292    90   10       16      4   365    38\n",
       "Politico               235   271   173   19        4      3   156     6\n",
       "Refinery 29            299   242    98   10       12      8   214    71\n",
       "Reuters               1679  2452  1700  136       37     24  2041    92\n",
       "TMZ                     92    75    26    0        3      2    46     8\n",
       "TechCrunch             178   307    94   11       17      1   112     9\n",
       "The Hill              1088  1556   810   38       29     20   735    34\n",
       "The New York Times    2263  1417  1229   95       44     48  1331   153\n",
       "The Verge              190   315    76    9       38      1   134     9\n",
       "Vice                   357   405   200   14       11     11   269    41\n",
       "Vice News               74   115   109    3        3      2    73    11\n",
       "Vox                    305   494   193   20       21      9   343    34\n",
       "Washington Post          1     6     1    0        0      0     0     0\n",
       "Wired                   29    40    17    2        7      0    19     0"
      ]
     },
     "execution_count": 91,
     "metadata": {},
     "output_type": "execute_result"
    }
   ],
   "source": [
    "ner_train.groupby('publication')[ners_small].sum()"
   ]
  },
  {
   "cell_type": "markdown",
   "metadata": {},
   "source": [
    "The output make sense on first glance. Mashable shows a high amount of PRODUCT mentions (likely reviews), and news organizations, such as The New York Times and Reuters, show a high amount of PEOPLE and DATES. "
   ]
  },
  {
   "cell_type": "markdown",
   "metadata": {},
   "source": [
    "We can see that a small sample of 1,000 articles is rich with entities. \n",
    "\n",
    "Overall, the articles we've looked at raise a number of questions:\n",
    "\n",
    "1. Should we spend time on this data to prepare for building our model, or use for testing purposes after our model is built using the `ner` and `ner dataset`?\n",
    "2. How can we speed up performance to process large amounts of unstructured data so that we have a robust pipleline to handle multiple use cases?\n",
    "3. What's the best way to leverage Spacy (or Huggingface) to identify entities within the Technology and Healthcare space?\n",
    "4. How can we customize existing enterprise-ready NLP tools like Huggingface or Spacy to meet the project goals? "
   ]
  }
 ],
 "metadata": {
  "kernelspec": {
   "display_name": "Python 3.9.13 ('mle-week04')",
   "language": "python",
   "name": "python3"
  },
  "language_info": {
   "codemirror_mode": {
    "name": "ipython",
    "version": 3
   },
   "file_extension": ".py",
   "mimetype": "text/x-python",
   "name": "python",
   "nbconvert_exporter": "python",
   "pygments_lexer": "ipython3",
   "version": "3.9.13"
  },
  "orig_nbformat": 4,
  "vscode": {
   "interpreter": {
    "hash": "f3a68452d880a521aeaaecf4758779aa2841daa5f66dd02a7fbc5ea85c6eda89"
   }
  }
 },
 "nbformat": 4,
 "nbformat_minor": 2
}
